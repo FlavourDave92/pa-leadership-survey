{
 "cells": [
  {
   "cell_type": "code",
   "execution_count": 1,
   "metadata": {},
   "outputs": [],
   "source": [
    "import pandas as pd\n",
    "import numpy as np\n",
    "\n",
    "pd.options.plotting.backend = \"plotly\"\n",
    "import plotly\n",
    "import plotly.graph_objects as go\n",
    "from plotly.subplots import make_subplots\n",
    "\n",
    "\n",
    "\n",
    "import plotly.io as pio\n",
    "import plotly.express as px\n",
    "\n",
    "pio.templates.default = \"simple_white\""
   ]
  },
  {
   "cell_type": "code",
   "execution_count": 6,
   "metadata": {},
   "outputs": [],
   "source": [
    "data_usa_raw = pd.read_csv(\"../data/raw/usa/all_apps_wide_2023-11-14_USA.csv\")\n",
    "data_deu_1_raw = pd.read_csv(\"../data/raw/deutsch/all_apps_wide_2023-11-14_DEU.csv\")\n",
    "data_deu_2_raw = pd.read_csv(\n",
    "    \"../data/raw/deutsch runde 2/all_apps_wide_2023-11-16_DEU.csv\"\n",
    ")"
   ]
  },
  {
   "cell_type": "code",
   "execution_count": 7,
   "metadata": {},
   "outputs": [],
   "source": [
    "relevant_columns = [\n",
    "    \"survey.1.player.positive_szenarios\",\n",
    "    \"survey.1.player.treatment_pa\",\n",
    "    \"survey.1.player.PRS1T1\",\n",
    "    \"survey.1.player.PRS1T2\",\n",
    "    \"survey.1.player.PRS2T1\",\n",
    "    \"survey.1.player.PRS2T2\",\n",
    "    \"survey.1.player.PRS3T1\",\n",
    "    \"survey.1.player.PRS3T2\",\n",
    "    \"survey.1.player.PRS4T1\",\n",
    "    \"survey.1.player.PRS4T2\",\n",
    "    \"survey.1.player.FRS1T1\",\n",
    "    \"survey.1.player.FRS1T2\",\n",
    "    \"survey.1.player.FRS2T1\",\n",
    "    \"survey.1.player.FRS2T2\",\n",
    "    \"survey.1.player.FRS3T1\",\n",
    "    \"survey.1.player.FRS3T2\",\n",
    "    \"survey.1.player.FRS4T1\",\n",
    "    \"survey.1.player.FRS4T2\",\n",
    "    \"survey.1.player.ARS1T1\",\n",
    "    \"survey.1.player.ARS1T2\",\n",
    "    \"survey.1.player.ARS2T1\",\n",
    "    \"survey.1.player.ARS2T2\",\n",
    "    \"survey.1.player.ARS3T1\",\n",
    "    \"survey.1.player.ARS3T2\",\n",
    "    \"survey.1.player.ARS4T1\",\n",
    "    \"survey.1.player.ARS4T2\",\n",
    "    \"survey.1.player.ETHS1T1\",\n",
    "    \"survey.1.player.ETHS1T2\",\n",
    "    \"survey.1.player.ETHS2T1\",\n",
    "    \"survey.1.player.ETHS2T2\",\n",
    "    \"survey.1.player.ETHS3T1\",\n",
    "    \"survey.1.player.ETHS3T2\",\n",
    "    \"survey.1.player.ETHS4T1\",\n",
    "    \"survey.1.player.ETHS4T2\",\n",
    "    \"survey.1.player.PROS1T1\",\n",
    "    \"survey.1.player.PROS1T2\",\n",
    "    \"survey.1.player.PROS2T1\",\n",
    "    \"survey.1.player.PROS2T2\",\n",
    "    \"survey.1.player.PROS3T1\",\n",
    "    \"survey.1.player.PROS3T2\",\n",
    "    \"survey.1.player.PROS4T1\",\n",
    "    \"survey.1.player.PROS4T2\",\n",
    "    \"origin\"\n",
    "]"
   ]
  },
  {
   "cell_type": "code",
   "execution_count": 8,
   "metadata": {},
   "outputs": [],
   "source": [
    "data_all = (\n",
    "    pd.concat(\n",
    "        [\n",
    "            data_usa_raw.assign(origin=\"USA\"),\n",
    "            data_deu_1_raw.assign(origin=\"DEU\"),\n",
    "            data_deu_2_raw.assign(origin=\"DEU\"),\n",
    "        ],\n",
    "        axis=0,\n",
    "    )\n",
    "    .loc[lambda df_: df_[\"participant._current_page_name\"] == \"End\"]\n",
    "    .loc[:, relevant_columns]\n",
    "    .rename(\n",
    "        columns=dict(\n",
    "            zip(\n",
    "                relevant_columns,\n",
    "                [x.replace(\"survey.1.player.\", \"\") for x in relevant_columns],\n",
    "            )\n",
    "        )\n",
    "    )\n",
    ")\n",
    "\n",
    "data_usa = data_all.loc[data_all.origin == \"USA\"]\n",
    "data_deu = data_all.loc[data_all.origin == \"DEU\"]"
   ]
  },
  {
   "cell_type": "markdown",
   "metadata": {},
   "source": [
    "Scale explanation:\n",
    "- FRS1T1 -->  feel responsible senario 1, team lead 1 (familiar solution)\n",
    "- ARS1T1 -->  act responsible senario 1, team lead 1 (familiar solution)\n",
    "- FRS1T2 -->  feel responsible senario 1, team lead 2 (new solution)\n",
    "- ARS1T2 -->  act responsible senario 1, team lead 2 (new solution)"
   ]
  },
  {
   "cell_type": "code",
   "execution_count": 9,
   "metadata": {},
   "outputs": [],
   "source": [
    "scenario_dict_outcome = {\n",
    "    \"1\": {\"positive\": \"1_and_4\", \"negative\": \"2_and_3\"},\n",
    "    \"2\": {\"positive\": \"2_and_3\", \"negative\": \"1_and_4\"},\n",
    "    \"3\": {\"positive\": \"2_and_3\", \"negative\": \"1_and_4\"},\n",
    "    \"4\": {\"positive\": \"1_and_4\", \"negative\": \"2_and_3\"},\n",
    "}\n",
    "\n",
    "scenario_dict_pa = {\n",
    "    \"1\": {\"yes\": \"1_and_4\", \"no\": \"2_and_3\"},\n",
    "    \"2\": {\"yes\": \"2_and_3\", \"no\": \"1_and_4\"},\n",
    "    \"3\": {\"yes\": \"2_and_3\", \"no\": \"1_and_4\"},\n",
    "    \"4\": {\"yes\": \"1_and_4\", \"no\": \"2_and_3\"},\n",
    "}\n",
    "\n",
    "\n",
    "def get_mean_scales(data, scale, scenario_nr, solution_type, outcome, pa):\n",
    "    scale_string = \"\"\n",
    "    if scale == \"feel\":\n",
    "        scale_string += \"FR\"\n",
    "    elif scale == \"act\":\n",
    "        scale_string += \"AR\"\n",
    "    elif scale == \"risk\":\n",
    "        scale_string += \"PR\"\n",
    "\n",
    "    scale_string += f\"S{scenario_nr}\"\n",
    "\n",
    "    if solution_type == \"familiar\":\n",
    "        scale_string += \"T1\"\n",
    "    else:\n",
    "        scale_string += \"T2\"\n",
    "\n",
    "    outcome_filter = scenario_dict_outcome[str(scenario_nr)][outcome]\n",
    "    pa_filter = scenario_dict_pa[str(scenario_nr)][pa]\n",
    "\n",
    "    return data.loc[\n",
    "        (data.positive_szenarios == outcome_filter)\n",
    "        & (data.treatment_pa == pa_filter),\n",
    "        scale_string,\n",
    "    ].mean()"
   ]
  },
  {
   "cell_type": "markdown",
   "metadata": {},
   "source": [
    "## Plot Fig 1 from Nordbye"
   ]
  },
  {
   "cell_type": "code",
   "execution_count": 10,
   "metadata": {},
   "outputs": [],
   "source": [
    "x_axis_values_list = [\n",
    "    [\"Familiar solution\", \"New solution\"],\n",
    "    [\"Follow advise\", \"Not follow advise\"],\n",
    "    [\"Hold on\", \"Change decision\"],\n",
    "    [\"Wait and see\", \"Take action\"],\n",
    "]\n",
    "\n",
    "d3_colors = px.colors.qualitative.D3\n",
    "colors_dict = {\n",
    "    \"feel responsible + positive outcome + PA yes\": d3_colors[0],\n",
    "    \"feel responsible + positive outcome + PA no\": d3_colors[1],\n",
    "    \"feel responsible + negative outcome + PA yes\": d3_colors[2],\n",
    "    \"feel responsible + negative outcome + PA no\": d3_colors[3],\n",
    "    \"act responsible + positive outcome + PA yes\": d3_colors[4],\n",
    "    \"act responsible + positive outcome + PA no\": d3_colors[5],\n",
    "    \"act responsible + negative outcome + PA yes\": d3_colors[6],\n",
    "    \"act responsible + negative outcome + PA no\": d3_colors[7],\n",
    "}\n",
    "\n",
    "\n",
    "def create_line_subplot(data, output_file_name, show_fig, fig_title):\n",
    "    fig = make_subplots(rows=2, cols=2)\n",
    "\n",
    "    for scenario, x_axis_values in zip(range(1, 5), x_axis_values_list):\n",
    "        for responsibility_scale in [\"feel\", \"act\"]:\n",
    "            for outcome in [\"positive\", \"negative\"]:\n",
    "                for pa_available in [\"yes\", \"no\"]:\n",
    "                    fig.add_trace(\n",
    "                        go.Scatter(\n",
    "                            x=x_axis_values,\n",
    "                            y=[\n",
    "                                get_mean_scales(\n",
    "                                    data=data,\n",
    "                                    scale=responsibility_scale,\n",
    "                                    scenario_nr=scenario,\n",
    "                                    solution_type=\"familiar\",\n",
    "                                    outcome=outcome,\n",
    "                                    pa=pa_available,\n",
    "                                ),\n",
    "                                get_mean_scales(\n",
    "                                    data=data,\n",
    "                                    scale=responsibility_scale,\n",
    "                                    scenario_nr=scenario,\n",
    "                                    solution_type=\"new\",\n",
    "                                    outcome=outcome,\n",
    "                                    pa=pa_available,\n",
    "                                ),\n",
    "                            ],\n",
    "                            mode=\"lines+markers\",\n",
    "                            name=f\"{responsibility_scale} responsible + {outcome} outcome + PA {pa_available}\",\n",
    "                            legendgroup=f\"{responsibility_scale} responsible + {outcome} outcome + PA {pa_available}\",\n",
    "                            marker_color=colors_dict[\n",
    "                                f\"{responsibility_scale} responsible + {outcome} outcome + PA {pa_available}\"\n",
    "                            ],\n",
    "                            showlegend=True if scenario == 1 else False,\n",
    "                        ),\n",
    "                        row=1 if scenario in [1, 2] else 2,\n",
    "                        col=1 if scenario in [1, 3] else 2,\n",
    "                    )\n",
    "    fig.update_yaxes(range=[1, 7], dtick=1)\n",
    "    fig.update_layout(width=900 + 200, height=600 + 200, title=fig_title)\n",
    "    fig.write_html(f\"{output_file_name}.html\")\n",
    "    if show_fig:\n",
    "        fig.show()"
   ]
  },
  {
   "cell_type": "code",
   "execution_count": 11,
   "metadata": {},
   "outputs": [
    {
     "data": {
      "application/vnd.plotly.v1+json": {
       "config": {
        "plotlyServerURL": "https://plot.ly"
       },
       "data": [
        {
         "legendgroup": "feel responsible + positive outcome + PA yes",
         "marker": {
          "color": "#1F77B4"
         },
         "mode": "lines+markers",
         "name": "feel responsible + positive outcome + PA yes",
         "showlegend": true,
         "type": "scatter",
         "x": [
          "Familiar solution",
          "New solution"
         ],
         "xaxis": "x",
         "y": [
          4.9361702127659575,
          6.25531914893617
         ],
         "yaxis": "y"
        },
        {
         "legendgroup": "feel responsible + positive outcome + PA no",
         "marker": {
          "color": "#FF7F0E"
         },
         "mode": "lines+markers",
         "name": "feel responsible + positive outcome + PA no",
         "showlegend": true,
         "type": "scatter",
         "x": [
          "Familiar solution",
          "New solution"
         ],
         "xaxis": "x",
         "y": [
          5.177777777777778,
          6.2
         ],
         "yaxis": "y"
        },
        {
         "legendgroup": "feel responsible + negative outcome + PA yes",
         "marker": {
          "color": "#2CA02C"
         },
         "mode": "lines+markers",
         "name": "feel responsible + negative outcome + PA yes",
         "showlegend": true,
         "type": "scatter",
         "x": [
          "Familiar solution",
          "New solution"
         ],
         "xaxis": "x",
         "y": [
          4.394736842105263,
          6.052631578947368
         ],
         "yaxis": "y"
        },
        {
         "legendgroup": "feel responsible + negative outcome + PA no",
         "marker": {
          "color": "#D62728"
         },
         "mode": "lines+markers",
         "name": "feel responsible + negative outcome + PA no",
         "showlegend": true,
         "type": "scatter",
         "x": [
          "Familiar solution",
          "New solution"
         ],
         "xaxis": "x",
         "y": [
          4.475,
          5.8
         ],
         "yaxis": "y"
        },
        {
         "legendgroup": "act responsible + positive outcome + PA yes",
         "marker": {
          "color": "#9467BD"
         },
         "mode": "lines+markers",
         "name": "act responsible + positive outcome + PA yes",
         "showlegend": true,
         "type": "scatter",
         "x": [
          "Familiar solution",
          "New solution"
         ],
         "xaxis": "x",
         "y": [
          6.085106382978723,
          5.148936170212766
         ],
         "yaxis": "y"
        },
        {
         "legendgroup": "act responsible + positive outcome + PA no",
         "marker": {
          "color": "#8C564B"
         },
         "mode": "lines+markers",
         "name": "act responsible + positive outcome + PA no",
         "showlegend": true,
         "type": "scatter",
         "x": [
          "Familiar solution",
          "New solution"
         ],
         "xaxis": "x",
         "y": [
          5.711111111111111,
          5.288888888888889
         ],
         "yaxis": "y"
        },
        {
         "legendgroup": "act responsible + negative outcome + PA yes",
         "marker": {
          "color": "#E377C2"
         },
         "mode": "lines+markers",
         "name": "act responsible + negative outcome + PA yes",
         "showlegend": true,
         "type": "scatter",
         "x": [
          "Familiar solution",
          "New solution"
         ],
         "xaxis": "x",
         "y": [
          5.368421052631579,
          4.7631578947368425
         ],
         "yaxis": "y"
        },
        {
         "legendgroup": "act responsible + negative outcome + PA no",
         "marker": {
          "color": "#7F7F7F"
         },
         "mode": "lines+markers",
         "name": "act responsible + negative outcome + PA no",
         "showlegend": true,
         "type": "scatter",
         "x": [
          "Familiar solution",
          "New solution"
         ],
         "xaxis": "x",
         "y": [
          5.55,
          4.775
         ],
         "yaxis": "y"
        },
        {
         "legendgroup": "feel responsible + positive outcome + PA yes",
         "marker": {
          "color": "#1F77B4"
         },
         "mode": "lines+markers",
         "name": "feel responsible + positive outcome + PA yes",
         "showlegend": false,
         "type": "scatter",
         "x": [
          "Follow advise",
          "Not follow advise"
         ],
         "xaxis": "x2",
         "y": [
          4.475,
          6.45
         ],
         "yaxis": "y2"
        },
        {
         "legendgroup": "feel responsible + positive outcome + PA no",
         "marker": {
          "color": "#FF7F0E"
         },
         "mode": "lines+markers",
         "name": "feel responsible + positive outcome + PA no",
         "showlegend": false,
         "type": "scatter",
         "x": [
          "Follow advise",
          "Not follow advise"
         ],
         "xaxis": "x2",
         "y": [
          4.657894736842105,
          6.2105263157894735
         ],
         "yaxis": "y2"
        },
        {
         "legendgroup": "feel responsible + negative outcome + PA yes",
         "marker": {
          "color": "#2CA02C"
         },
         "mode": "lines+markers",
         "name": "feel responsible + negative outcome + PA yes",
         "showlegend": false,
         "type": "scatter",
         "x": [
          "Follow advise",
          "Not follow advise"
         ],
         "xaxis": "x2",
         "y": [
          3.2888888888888888,
          5.644444444444445
         ],
         "yaxis": "y2"
        },
        {
         "legendgroup": "feel responsible + negative outcome + PA no",
         "marker": {
          "color": "#D62728"
         },
         "mode": "lines+markers",
         "name": "feel responsible + negative outcome + PA no",
         "showlegend": false,
         "type": "scatter",
         "x": [
          "Follow advise",
          "Not follow advise"
         ],
         "xaxis": "x2",
         "y": [
          3.021276595744681,
          6.212765957446808
         ],
         "yaxis": "y2"
        },
        {
         "legendgroup": "act responsible + positive outcome + PA yes",
         "marker": {
          "color": "#9467BD"
         },
         "mode": "lines+markers",
         "name": "act responsible + positive outcome + PA yes",
         "showlegend": false,
         "type": "scatter",
         "x": [
          "Follow advise",
          "Not follow advise"
         ],
         "xaxis": "x2",
         "y": [
          5.95,
          4.55
         ],
         "yaxis": "y2"
        },
        {
         "legendgroup": "act responsible + positive outcome + PA no",
         "marker": {
          "color": "#8C564B"
         },
         "mode": "lines+markers",
         "name": "act responsible + positive outcome + PA no",
         "showlegend": false,
         "type": "scatter",
         "x": [
          "Follow advise",
          "Not follow advise"
         ],
         "xaxis": "x2",
         "y": [
          5.921052631578948,
          4.342105263157895
         ],
         "yaxis": "y2"
        },
        {
         "legendgroup": "act responsible + negative outcome + PA yes",
         "marker": {
          "color": "#E377C2"
         },
         "mode": "lines+markers",
         "name": "act responsible + negative outcome + PA yes",
         "showlegend": false,
         "type": "scatter",
         "x": [
          "Follow advise",
          "Not follow advise"
         ],
         "xaxis": "x2",
         "y": [
          5.2,
          3.6666666666666665
         ],
         "yaxis": "y2"
        },
        {
         "legendgroup": "act responsible + negative outcome + PA no",
         "marker": {
          "color": "#7F7F7F"
         },
         "mode": "lines+markers",
         "name": "act responsible + negative outcome + PA no",
         "showlegend": false,
         "type": "scatter",
         "x": [
          "Follow advise",
          "Not follow advise"
         ],
         "xaxis": "x2",
         "y": [
          4.9787234042553195,
          3.382978723404255
         ],
         "yaxis": "y2"
        },
        {
         "legendgroup": "feel responsible + positive outcome + PA yes",
         "marker": {
          "color": "#1F77B4"
         },
         "mode": "lines+markers",
         "name": "feel responsible + positive outcome + PA yes",
         "showlegend": false,
         "type": "scatter",
         "x": [
          "Hold on",
          "Change decision"
         ],
         "xaxis": "x3",
         "y": [
          6.075,
          6.225
         ],
         "yaxis": "y3"
        },
        {
         "legendgroup": "feel responsible + positive outcome + PA no",
         "marker": {
          "color": "#FF7F0E"
         },
         "mode": "lines+markers",
         "name": "feel responsible + positive outcome + PA no",
         "showlegend": false,
         "type": "scatter",
         "x": [
          "Hold on",
          "Change decision"
         ],
         "xaxis": "x3",
         "y": [
          5.394736842105263,
          6.2368421052631575
         ],
         "yaxis": "y3"
        },
        {
         "legendgroup": "feel responsible + negative outcome + PA yes",
         "marker": {
          "color": "#2CA02C"
         },
         "mode": "lines+markers",
         "name": "feel responsible + negative outcome + PA yes",
         "showlegend": false,
         "type": "scatter",
         "x": [
          "Hold on",
          "Change decision"
         ],
         "xaxis": "x3",
         "y": [
          4.466666666666667,
          5.866666666666666
         ],
         "yaxis": "y3"
        },
        {
         "legendgroup": "feel responsible + negative outcome + PA no",
         "marker": {
          "color": "#D62728"
         },
         "mode": "lines+markers",
         "name": "feel responsible + negative outcome + PA no",
         "showlegend": false,
         "type": "scatter",
         "x": [
          "Hold on",
          "Change decision"
         ],
         "xaxis": "x3",
         "y": [
          5.042553191489362,
          5.8936170212765955
         ],
         "yaxis": "y3"
        },
        {
         "legendgroup": "act responsible + positive outcome + PA yes",
         "marker": {
          "color": "#9467BD"
         },
         "mode": "lines+markers",
         "name": "act responsible + positive outcome + PA yes",
         "showlegend": false,
         "type": "scatter",
         "x": [
          "Hold on",
          "Change decision"
         ],
         "xaxis": "x3",
         "y": [
          5.75,
          5.175
         ],
         "yaxis": "y3"
        },
        {
         "legendgroup": "act responsible + positive outcome + PA no",
         "marker": {
          "color": "#8C564B"
         },
         "mode": "lines+markers",
         "name": "act responsible + positive outcome + PA no",
         "showlegend": false,
         "type": "scatter",
         "x": [
          "Hold on",
          "Change decision"
         ],
         "xaxis": "x3",
         "y": [
          5.7105263157894735,
          5.026315789473684
         ],
         "yaxis": "y3"
        },
        {
         "legendgroup": "act responsible + negative outcome + PA yes",
         "marker": {
          "color": "#E377C2"
         },
         "mode": "lines+markers",
         "name": "act responsible + negative outcome + PA yes",
         "showlegend": false,
         "type": "scatter",
         "x": [
          "Hold on",
          "Change decision"
         ],
         "xaxis": "x3",
         "y": [
          5.222222222222222,
          4.511111111111111
         ],
         "yaxis": "y3"
        },
        {
         "legendgroup": "act responsible + negative outcome + PA no",
         "marker": {
          "color": "#7F7F7F"
         },
         "mode": "lines+markers",
         "name": "act responsible + negative outcome + PA no",
         "showlegend": false,
         "type": "scatter",
         "x": [
          "Hold on",
          "Change decision"
         ],
         "xaxis": "x3",
         "y": [
          5.085106382978723,
          4.808510638297872
         ],
         "yaxis": "y3"
        },
        {
         "legendgroup": "feel responsible + positive outcome + PA yes",
         "marker": {
          "color": "#1F77B4"
         },
         "mode": "lines+markers",
         "name": "feel responsible + positive outcome + PA yes",
         "showlegend": false,
         "type": "scatter",
         "x": [
          "Wait and see",
          "Take action"
         ],
         "xaxis": "x4",
         "y": [
          5,
          5.723404255319149
         ],
         "yaxis": "y4"
        },
        {
         "legendgroup": "feel responsible + positive outcome + PA no",
         "marker": {
          "color": "#FF7F0E"
         },
         "mode": "lines+markers",
         "name": "feel responsible + positive outcome + PA no",
         "showlegend": false,
         "type": "scatter",
         "x": [
          "Wait and see",
          "Take action"
         ],
         "xaxis": "x4",
         "y": [
          5.6,
          5.6
         ],
         "yaxis": "y4"
        },
        {
         "legendgroup": "feel responsible + negative outcome + PA yes",
         "marker": {
          "color": "#2CA02C"
         },
         "mode": "lines+markers",
         "name": "feel responsible + negative outcome + PA yes",
         "showlegend": false,
         "type": "scatter",
         "x": [
          "Wait and see",
          "Take action"
         ],
         "xaxis": "x4",
         "y": [
          5.5,
          5.078947368421052
         ],
         "yaxis": "y4"
        },
        {
         "legendgroup": "feel responsible + negative outcome + PA no",
         "marker": {
          "color": "#D62728"
         },
         "mode": "lines+markers",
         "name": "feel responsible + negative outcome + PA no",
         "showlegend": false,
         "type": "scatter",
         "x": [
          "Wait and see",
          "Take action"
         ],
         "xaxis": "x4",
         "y": [
          5.4,
          5.725
         ],
         "yaxis": "y4"
        },
        {
         "legendgroup": "act responsible + positive outcome + PA yes",
         "marker": {
          "color": "#9467BD"
         },
         "mode": "lines+markers",
         "name": "act responsible + positive outcome + PA yes",
         "showlegend": false,
         "type": "scatter",
         "x": [
          "Wait and see",
          "Take action"
         ],
         "xaxis": "x4",
         "y": [
          4.48936170212766,
          5.191489361702128
         ],
         "yaxis": "y4"
        },
        {
         "legendgroup": "act responsible + positive outcome + PA no",
         "marker": {
          "color": "#8C564B"
         },
         "mode": "lines+markers",
         "name": "act responsible + positive outcome + PA no",
         "showlegend": false,
         "type": "scatter",
         "x": [
          "Wait and see",
          "Take action"
         ],
         "xaxis": "x4",
         "y": [
          4.377777777777778,
          4.866666666666666
         ],
         "yaxis": "y4"
        },
        {
         "legendgroup": "act responsible + negative outcome + PA yes",
         "marker": {
          "color": "#E377C2"
         },
         "mode": "lines+markers",
         "name": "act responsible + negative outcome + PA yes",
         "showlegend": false,
         "type": "scatter",
         "x": [
          "Wait and see",
          "Take action"
         ],
         "xaxis": "x4",
         "y": [
          4,
          4.7894736842105265
         ],
         "yaxis": "y4"
        },
        {
         "legendgroup": "act responsible + negative outcome + PA no",
         "marker": {
          "color": "#7F7F7F"
         },
         "mode": "lines+markers",
         "name": "act responsible + negative outcome + PA no",
         "showlegend": false,
         "type": "scatter",
         "x": [
          "Wait and see",
          "Take action"
         ],
         "xaxis": "x4",
         "y": [
          4.1,
          4.775
         ],
         "yaxis": "y4"
        }
       ],
       "layout": {
        "height": 800,
        "template": {
         "data": {
          "bar": [
           {
            "error_x": {
             "color": "rgb(36,36,36)"
            },
            "error_y": {
             "color": "rgb(36,36,36)"
            },
            "marker": {
             "line": {
              "color": "white",
              "width": 0.5
             },
             "pattern": {
              "fillmode": "overlay",
              "size": 10,
              "solidity": 0.2
             }
            },
            "type": "bar"
           }
          ],
          "barpolar": [
           {
            "marker": {
             "line": {
              "color": "white",
              "width": 0.5
             },
             "pattern": {
              "fillmode": "overlay",
              "size": 10,
              "solidity": 0.2
             }
            },
            "type": "barpolar"
           }
          ],
          "carpet": [
           {
            "aaxis": {
             "endlinecolor": "rgb(36,36,36)",
             "gridcolor": "white",
             "linecolor": "white",
             "minorgridcolor": "white",
             "startlinecolor": "rgb(36,36,36)"
            },
            "baxis": {
             "endlinecolor": "rgb(36,36,36)",
             "gridcolor": "white",
             "linecolor": "white",
             "minorgridcolor": "white",
             "startlinecolor": "rgb(36,36,36)"
            },
            "type": "carpet"
           }
          ],
          "choropleth": [
           {
            "colorbar": {
             "outlinewidth": 1,
             "tickcolor": "rgb(36,36,36)",
             "ticks": "outside"
            },
            "type": "choropleth"
           }
          ],
          "contour": [
           {
            "colorbar": {
             "outlinewidth": 1,
             "tickcolor": "rgb(36,36,36)",
             "ticks": "outside"
            },
            "colorscale": [
             [
              0,
              "#440154"
             ],
             [
              0.1111111111111111,
              "#482878"
             ],
             [
              0.2222222222222222,
              "#3e4989"
             ],
             [
              0.3333333333333333,
              "#31688e"
             ],
             [
              0.4444444444444444,
              "#26828e"
             ],
             [
              0.5555555555555556,
              "#1f9e89"
             ],
             [
              0.6666666666666666,
              "#35b779"
             ],
             [
              0.7777777777777778,
              "#6ece58"
             ],
             [
              0.8888888888888888,
              "#b5de2b"
             ],
             [
              1,
              "#fde725"
             ]
            ],
            "type": "contour"
           }
          ],
          "contourcarpet": [
           {
            "colorbar": {
             "outlinewidth": 1,
             "tickcolor": "rgb(36,36,36)",
             "ticks": "outside"
            },
            "type": "contourcarpet"
           }
          ],
          "heatmap": [
           {
            "colorbar": {
             "outlinewidth": 1,
             "tickcolor": "rgb(36,36,36)",
             "ticks": "outside"
            },
            "colorscale": [
             [
              0,
              "#440154"
             ],
             [
              0.1111111111111111,
              "#482878"
             ],
             [
              0.2222222222222222,
              "#3e4989"
             ],
             [
              0.3333333333333333,
              "#31688e"
             ],
             [
              0.4444444444444444,
              "#26828e"
             ],
             [
              0.5555555555555556,
              "#1f9e89"
             ],
             [
              0.6666666666666666,
              "#35b779"
             ],
             [
              0.7777777777777778,
              "#6ece58"
             ],
             [
              0.8888888888888888,
              "#b5de2b"
             ],
             [
              1,
              "#fde725"
             ]
            ],
            "type": "heatmap"
           }
          ],
          "heatmapgl": [
           {
            "colorbar": {
             "outlinewidth": 1,
             "tickcolor": "rgb(36,36,36)",
             "ticks": "outside"
            },
            "colorscale": [
             [
              0,
              "#440154"
             ],
             [
              0.1111111111111111,
              "#482878"
             ],
             [
              0.2222222222222222,
              "#3e4989"
             ],
             [
              0.3333333333333333,
              "#31688e"
             ],
             [
              0.4444444444444444,
              "#26828e"
             ],
             [
              0.5555555555555556,
              "#1f9e89"
             ],
             [
              0.6666666666666666,
              "#35b779"
             ],
             [
              0.7777777777777778,
              "#6ece58"
             ],
             [
              0.8888888888888888,
              "#b5de2b"
             ],
             [
              1,
              "#fde725"
             ]
            ],
            "type": "heatmapgl"
           }
          ],
          "histogram": [
           {
            "marker": {
             "line": {
              "color": "white",
              "width": 0.6
             }
            },
            "type": "histogram"
           }
          ],
          "histogram2d": [
           {
            "colorbar": {
             "outlinewidth": 1,
             "tickcolor": "rgb(36,36,36)",
             "ticks": "outside"
            },
            "colorscale": [
             [
              0,
              "#440154"
             ],
             [
              0.1111111111111111,
              "#482878"
             ],
             [
              0.2222222222222222,
              "#3e4989"
             ],
             [
              0.3333333333333333,
              "#31688e"
             ],
             [
              0.4444444444444444,
              "#26828e"
             ],
             [
              0.5555555555555556,
              "#1f9e89"
             ],
             [
              0.6666666666666666,
              "#35b779"
             ],
             [
              0.7777777777777778,
              "#6ece58"
             ],
             [
              0.8888888888888888,
              "#b5de2b"
             ],
             [
              1,
              "#fde725"
             ]
            ],
            "type": "histogram2d"
           }
          ],
          "histogram2dcontour": [
           {
            "colorbar": {
             "outlinewidth": 1,
             "tickcolor": "rgb(36,36,36)",
             "ticks": "outside"
            },
            "colorscale": [
             [
              0,
              "#440154"
             ],
             [
              0.1111111111111111,
              "#482878"
             ],
             [
              0.2222222222222222,
              "#3e4989"
             ],
             [
              0.3333333333333333,
              "#31688e"
             ],
             [
              0.4444444444444444,
              "#26828e"
             ],
             [
              0.5555555555555556,
              "#1f9e89"
             ],
             [
              0.6666666666666666,
              "#35b779"
             ],
             [
              0.7777777777777778,
              "#6ece58"
             ],
             [
              0.8888888888888888,
              "#b5de2b"
             ],
             [
              1,
              "#fde725"
             ]
            ],
            "type": "histogram2dcontour"
           }
          ],
          "mesh3d": [
           {
            "colorbar": {
             "outlinewidth": 1,
             "tickcolor": "rgb(36,36,36)",
             "ticks": "outside"
            },
            "type": "mesh3d"
           }
          ],
          "parcoords": [
           {
            "line": {
             "colorbar": {
              "outlinewidth": 1,
              "tickcolor": "rgb(36,36,36)",
              "ticks": "outside"
             }
            },
            "type": "parcoords"
           }
          ],
          "pie": [
           {
            "automargin": true,
            "type": "pie"
           }
          ],
          "scatter": [
           {
            "fillpattern": {
             "fillmode": "overlay",
             "size": 10,
             "solidity": 0.2
            },
            "type": "scatter"
           }
          ],
          "scatter3d": [
           {
            "line": {
             "colorbar": {
              "outlinewidth": 1,
              "tickcolor": "rgb(36,36,36)",
              "ticks": "outside"
             }
            },
            "marker": {
             "colorbar": {
              "outlinewidth": 1,
              "tickcolor": "rgb(36,36,36)",
              "ticks": "outside"
             }
            },
            "type": "scatter3d"
           }
          ],
          "scattercarpet": [
           {
            "marker": {
             "colorbar": {
              "outlinewidth": 1,
              "tickcolor": "rgb(36,36,36)",
              "ticks": "outside"
             }
            },
            "type": "scattercarpet"
           }
          ],
          "scattergeo": [
           {
            "marker": {
             "colorbar": {
              "outlinewidth": 1,
              "tickcolor": "rgb(36,36,36)",
              "ticks": "outside"
             }
            },
            "type": "scattergeo"
           }
          ],
          "scattergl": [
           {
            "marker": {
             "colorbar": {
              "outlinewidth": 1,
              "tickcolor": "rgb(36,36,36)",
              "ticks": "outside"
             }
            },
            "type": "scattergl"
           }
          ],
          "scattermapbox": [
           {
            "marker": {
             "colorbar": {
              "outlinewidth": 1,
              "tickcolor": "rgb(36,36,36)",
              "ticks": "outside"
             }
            },
            "type": "scattermapbox"
           }
          ],
          "scatterpolar": [
           {
            "marker": {
             "colorbar": {
              "outlinewidth": 1,
              "tickcolor": "rgb(36,36,36)",
              "ticks": "outside"
             }
            },
            "type": "scatterpolar"
           }
          ],
          "scatterpolargl": [
           {
            "marker": {
             "colorbar": {
              "outlinewidth": 1,
              "tickcolor": "rgb(36,36,36)",
              "ticks": "outside"
             }
            },
            "type": "scatterpolargl"
           }
          ],
          "scatterternary": [
           {
            "marker": {
             "colorbar": {
              "outlinewidth": 1,
              "tickcolor": "rgb(36,36,36)",
              "ticks": "outside"
             }
            },
            "type": "scatterternary"
           }
          ],
          "surface": [
           {
            "colorbar": {
             "outlinewidth": 1,
             "tickcolor": "rgb(36,36,36)",
             "ticks": "outside"
            },
            "colorscale": [
             [
              0,
              "#440154"
             ],
             [
              0.1111111111111111,
              "#482878"
             ],
             [
              0.2222222222222222,
              "#3e4989"
             ],
             [
              0.3333333333333333,
              "#31688e"
             ],
             [
              0.4444444444444444,
              "#26828e"
             ],
             [
              0.5555555555555556,
              "#1f9e89"
             ],
             [
              0.6666666666666666,
              "#35b779"
             ],
             [
              0.7777777777777778,
              "#6ece58"
             ],
             [
              0.8888888888888888,
              "#b5de2b"
             ],
             [
              1,
              "#fde725"
             ]
            ],
            "type": "surface"
           }
          ],
          "table": [
           {
            "cells": {
             "fill": {
              "color": "rgb(237,237,237)"
             },
             "line": {
              "color": "white"
             }
            },
            "header": {
             "fill": {
              "color": "rgb(217,217,217)"
             },
             "line": {
              "color": "white"
             }
            },
            "type": "table"
           }
          ]
         },
         "layout": {
          "annotationdefaults": {
           "arrowhead": 0,
           "arrowwidth": 1
          },
          "autotypenumbers": "strict",
          "coloraxis": {
           "colorbar": {
            "outlinewidth": 1,
            "tickcolor": "rgb(36,36,36)",
            "ticks": "outside"
           }
          },
          "colorscale": {
           "diverging": [
            [
             0,
             "rgb(103,0,31)"
            ],
            [
             0.1,
             "rgb(178,24,43)"
            ],
            [
             0.2,
             "rgb(214,96,77)"
            ],
            [
             0.3,
             "rgb(244,165,130)"
            ],
            [
             0.4,
             "rgb(253,219,199)"
            ],
            [
             0.5,
             "rgb(247,247,247)"
            ],
            [
             0.6,
             "rgb(209,229,240)"
            ],
            [
             0.7,
             "rgb(146,197,222)"
            ],
            [
             0.8,
             "rgb(67,147,195)"
            ],
            [
             0.9,
             "rgb(33,102,172)"
            ],
            [
             1,
             "rgb(5,48,97)"
            ]
           ],
           "sequential": [
            [
             0,
             "#440154"
            ],
            [
             0.1111111111111111,
             "#482878"
            ],
            [
             0.2222222222222222,
             "#3e4989"
            ],
            [
             0.3333333333333333,
             "#31688e"
            ],
            [
             0.4444444444444444,
             "#26828e"
            ],
            [
             0.5555555555555556,
             "#1f9e89"
            ],
            [
             0.6666666666666666,
             "#35b779"
            ],
            [
             0.7777777777777778,
             "#6ece58"
            ],
            [
             0.8888888888888888,
             "#b5de2b"
            ],
            [
             1,
             "#fde725"
            ]
           ],
           "sequentialminus": [
            [
             0,
             "#440154"
            ],
            [
             0.1111111111111111,
             "#482878"
            ],
            [
             0.2222222222222222,
             "#3e4989"
            ],
            [
             0.3333333333333333,
             "#31688e"
            ],
            [
             0.4444444444444444,
             "#26828e"
            ],
            [
             0.5555555555555556,
             "#1f9e89"
            ],
            [
             0.6666666666666666,
             "#35b779"
            ],
            [
             0.7777777777777778,
             "#6ece58"
            ],
            [
             0.8888888888888888,
             "#b5de2b"
            ],
            [
             1,
             "#fde725"
            ]
           ]
          },
          "colorway": [
           "#1F77B4",
           "#FF7F0E",
           "#2CA02C",
           "#D62728",
           "#9467BD",
           "#8C564B",
           "#E377C2",
           "#7F7F7F",
           "#BCBD22",
           "#17BECF"
          ],
          "font": {
           "color": "rgb(36,36,36)"
          },
          "geo": {
           "bgcolor": "white",
           "lakecolor": "white",
           "landcolor": "white",
           "showlakes": true,
           "showland": true,
           "subunitcolor": "white"
          },
          "hoverlabel": {
           "align": "left"
          },
          "hovermode": "closest",
          "mapbox": {
           "style": "light"
          },
          "paper_bgcolor": "white",
          "plot_bgcolor": "white",
          "polar": {
           "angularaxis": {
            "gridcolor": "rgb(232,232,232)",
            "linecolor": "rgb(36,36,36)",
            "showgrid": false,
            "showline": true,
            "ticks": "outside"
           },
           "bgcolor": "white",
           "radialaxis": {
            "gridcolor": "rgb(232,232,232)",
            "linecolor": "rgb(36,36,36)",
            "showgrid": false,
            "showline": true,
            "ticks": "outside"
           }
          },
          "scene": {
           "xaxis": {
            "backgroundcolor": "white",
            "gridcolor": "rgb(232,232,232)",
            "gridwidth": 2,
            "linecolor": "rgb(36,36,36)",
            "showbackground": true,
            "showgrid": false,
            "showline": true,
            "ticks": "outside",
            "zeroline": false,
            "zerolinecolor": "rgb(36,36,36)"
           },
           "yaxis": {
            "backgroundcolor": "white",
            "gridcolor": "rgb(232,232,232)",
            "gridwidth": 2,
            "linecolor": "rgb(36,36,36)",
            "showbackground": true,
            "showgrid": false,
            "showline": true,
            "ticks": "outside",
            "zeroline": false,
            "zerolinecolor": "rgb(36,36,36)"
           },
           "zaxis": {
            "backgroundcolor": "white",
            "gridcolor": "rgb(232,232,232)",
            "gridwidth": 2,
            "linecolor": "rgb(36,36,36)",
            "showbackground": true,
            "showgrid": false,
            "showline": true,
            "ticks": "outside",
            "zeroline": false,
            "zerolinecolor": "rgb(36,36,36)"
           }
          },
          "shapedefaults": {
           "fillcolor": "black",
           "line": {
            "width": 0
           },
           "opacity": 0.3
          },
          "ternary": {
           "aaxis": {
            "gridcolor": "rgb(232,232,232)",
            "linecolor": "rgb(36,36,36)",
            "showgrid": false,
            "showline": true,
            "ticks": "outside"
           },
           "baxis": {
            "gridcolor": "rgb(232,232,232)",
            "linecolor": "rgb(36,36,36)",
            "showgrid": false,
            "showline": true,
            "ticks": "outside"
           },
           "bgcolor": "white",
           "caxis": {
            "gridcolor": "rgb(232,232,232)",
            "linecolor": "rgb(36,36,36)",
            "showgrid": false,
            "showline": true,
            "ticks": "outside"
           }
          },
          "title": {
           "x": 0.05
          },
          "xaxis": {
           "automargin": true,
           "gridcolor": "rgb(232,232,232)",
           "linecolor": "rgb(36,36,36)",
           "showgrid": false,
           "showline": true,
           "ticks": "outside",
           "title": {
            "standoff": 15
           },
           "zeroline": false,
           "zerolinecolor": "rgb(36,36,36)"
          },
          "yaxis": {
           "automargin": true,
           "gridcolor": "rgb(232,232,232)",
           "linecolor": "rgb(36,36,36)",
           "showgrid": false,
           "showline": true,
           "ticks": "outside",
           "title": {
            "standoff": 15
           },
           "zeroline": false,
           "zerolinecolor": "rgb(36,36,36)"
          }
         }
        },
        "title": {
         "text": "All"
        },
        "width": 1100,
        "xaxis": {
         "anchor": "y",
         "domain": [
          0,
          0.45
         ]
        },
        "xaxis2": {
         "anchor": "y2",
         "domain": [
          0.55,
          1
         ]
        },
        "xaxis3": {
         "anchor": "y3",
         "domain": [
          0,
          0.45
         ]
        },
        "xaxis4": {
         "anchor": "y4",
         "domain": [
          0.55,
          1
         ]
        },
        "yaxis": {
         "anchor": "x",
         "domain": [
          0.575,
          1
         ],
         "dtick": 1,
         "range": [
          1,
          7
         ]
        },
        "yaxis2": {
         "anchor": "x2",
         "domain": [
          0.575,
          1
         ],
         "dtick": 1,
         "range": [
          1,
          7
         ]
        },
        "yaxis3": {
         "anchor": "x3",
         "domain": [
          0,
          0.425
         ],
         "dtick": 1,
         "range": [
          1,
          7
         ]
        },
        "yaxis4": {
         "anchor": "x4",
         "domain": [
          0,
          0.425
         ],
         "dtick": 1,
         "range": [
          1,
          7
         ]
        }
       }
      }
     },
     "metadata": {},
     "output_type": "display_data"
    }
   ],
   "source": [
    "create_line_subplot(data=data_all, output_file_name=\"scenarios_all\", show_fig=True, fig_title=\"All\")"
   ]
  },
  {
   "cell_type": "code",
   "execution_count": 12,
   "metadata": {},
   "outputs": [
    {
     "data": {
      "application/vnd.plotly.v1+json": {
       "config": {
        "plotlyServerURL": "https://plot.ly"
       },
       "data": [
        {
         "legendgroup": "feel responsible + positive outcome + PA yes",
         "marker": {
          "color": "#1F77B4"
         },
         "mode": "lines+markers",
         "name": "feel responsible + positive outcome + PA yes",
         "showlegend": true,
         "type": "scatter",
         "x": [
          "Familiar solution",
          "New solution"
         ],
         "xaxis": "x",
         "y": [
          4.4,
          5.9
         ],
         "yaxis": "y"
        },
        {
         "legendgroup": "feel responsible + positive outcome + PA no",
         "marker": {
          "color": "#FF7F0E"
         },
         "mode": "lines+markers",
         "name": "feel responsible + positive outcome + PA no",
         "showlegend": true,
         "type": "scatter",
         "x": [
          "Familiar solution",
          "New solution"
         ],
         "xaxis": "x",
         "y": [
          5.055555555555555,
          6.277777777777778
         ],
         "yaxis": "y"
        },
        {
         "legendgroup": "feel responsible + negative outcome + PA yes",
         "marker": {
          "color": "#2CA02C"
         },
         "mode": "lines+markers",
         "name": "feel responsible + negative outcome + PA yes",
         "showlegend": true,
         "type": "scatter",
         "x": [
          "Familiar solution",
          "New solution"
         ],
         "xaxis": "x",
         "y": [
          4.0588235294117645,
          6.0588235294117645
         ],
         "yaxis": "y"
        },
        {
         "legendgroup": "feel responsible + negative outcome + PA no",
         "marker": {
          "color": "#D62728"
         },
         "mode": "lines+markers",
         "name": "feel responsible + negative outcome + PA no",
         "showlegend": true,
         "type": "scatter",
         "x": [
          "Familiar solution",
          "New solution"
         ],
         "xaxis": "x",
         "y": [
          4.333333333333333,
          5.6
         ],
         "yaxis": "y"
        },
        {
         "legendgroup": "act responsible + positive outcome + PA yes",
         "marker": {
          "color": "#9467BD"
         },
         "mode": "lines+markers",
         "name": "act responsible + positive outcome + PA yes",
         "showlegend": true,
         "type": "scatter",
         "x": [
          "Familiar solution",
          "New solution"
         ],
         "xaxis": "x",
         "y": [
          6.1,
          4.9
         ],
         "yaxis": "y"
        },
        {
         "legendgroup": "act responsible + positive outcome + PA no",
         "marker": {
          "color": "#8C564B"
         },
         "mode": "lines+markers",
         "name": "act responsible + positive outcome + PA no",
         "showlegend": true,
         "type": "scatter",
         "x": [
          "Familiar solution",
          "New solution"
         ],
         "xaxis": "x",
         "y": [
          5.444444444444445,
          5.444444444444445
         ],
         "yaxis": "y"
        },
        {
         "legendgroup": "act responsible + negative outcome + PA yes",
         "marker": {
          "color": "#E377C2"
         },
         "mode": "lines+markers",
         "name": "act responsible + negative outcome + PA yes",
         "showlegend": true,
         "type": "scatter",
         "x": [
          "Familiar solution",
          "New solution"
         ],
         "xaxis": "x",
         "y": [
          5.0588235294117645,
          5.0588235294117645
         ],
         "yaxis": "y"
        },
        {
         "legendgroup": "act responsible + negative outcome + PA no",
         "marker": {
          "color": "#7F7F7F"
         },
         "mode": "lines+markers",
         "name": "act responsible + negative outcome + PA no",
         "showlegend": true,
         "type": "scatter",
         "x": [
          "Familiar solution",
          "New solution"
         ],
         "xaxis": "x",
         "y": [
          5.533333333333333,
          4.8
         ],
         "yaxis": "y"
        },
        {
         "legendgroup": "feel responsible + positive outcome + PA yes",
         "marker": {
          "color": "#1F77B4"
         },
         "mode": "lines+markers",
         "name": "feel responsible + positive outcome + PA yes",
         "showlegend": false,
         "type": "scatter",
         "x": [
          "Follow advise",
          "Not follow advise"
         ],
         "xaxis": "x2",
         "y": [
          4.2,
          6.4
         ],
         "yaxis": "y2"
        },
        {
         "legendgroup": "feel responsible + positive outcome + PA no",
         "marker": {
          "color": "#FF7F0E"
         },
         "mode": "lines+markers",
         "name": "feel responsible + positive outcome + PA no",
         "showlegend": false,
         "type": "scatter",
         "x": [
          "Follow advise",
          "Not follow advise"
         ],
         "xaxis": "x2",
         "y": [
          4.588235294117647,
          5.882352941176471
         ],
         "yaxis": "y2"
        },
        {
         "legendgroup": "feel responsible + negative outcome + PA yes",
         "marker": {
          "color": "#2CA02C"
         },
         "mode": "lines+markers",
         "name": "feel responsible + negative outcome + PA yes",
         "showlegend": false,
         "type": "scatter",
         "x": [
          "Follow advise",
          "Not follow advise"
         ],
         "xaxis": "x2",
         "y": [
          3.2777777777777777,
          5.888888888888889
         ],
         "yaxis": "y2"
        },
        {
         "legendgroup": "feel responsible + negative outcome + PA no",
         "marker": {
          "color": "#D62728"
         },
         "mode": "lines+markers",
         "name": "feel responsible + negative outcome + PA no",
         "showlegend": false,
         "type": "scatter",
         "x": [
          "Follow advise",
          "Not follow advise"
         ],
         "xaxis": "x2",
         "y": [
          2.8,
          5.95
         ],
         "yaxis": "y2"
        },
        {
         "legendgroup": "act responsible + positive outcome + PA yes",
         "marker": {
          "color": "#9467BD"
         },
         "mode": "lines+markers",
         "name": "act responsible + positive outcome + PA yes",
         "showlegend": false,
         "type": "scatter",
         "x": [
          "Follow advise",
          "Not follow advise"
         ],
         "xaxis": "x2",
         "y": [
          5.533333333333333,
          4.666666666666667
         ],
         "yaxis": "y2"
        },
        {
         "legendgroup": "act responsible + positive outcome + PA no",
         "marker": {
          "color": "#8C564B"
         },
         "mode": "lines+markers",
         "name": "act responsible + positive outcome + PA no",
         "showlegend": false,
         "type": "scatter",
         "x": [
          "Follow advise",
          "Not follow advise"
         ],
         "xaxis": "x2",
         "y": [
          5.588235294117647,
          3.9411764705882355
         ],
         "yaxis": "y2"
        },
        {
         "legendgroup": "act responsible + negative outcome + PA yes",
         "marker": {
          "color": "#E377C2"
         },
         "mode": "lines+markers",
         "name": "act responsible + negative outcome + PA yes",
         "showlegend": false,
         "type": "scatter",
         "x": [
          "Follow advise",
          "Not follow advise"
         ],
         "xaxis": "x2",
         "y": [
          5.444444444444445,
          4.111111111111111
         ],
         "yaxis": "y2"
        },
        {
         "legendgroup": "act responsible + negative outcome + PA no",
         "marker": {
          "color": "#7F7F7F"
         },
         "mode": "lines+markers",
         "name": "act responsible + negative outcome + PA no",
         "showlegend": false,
         "type": "scatter",
         "x": [
          "Follow advise",
          "Not follow advise"
         ],
         "xaxis": "x2",
         "y": [
          4.4,
          3.5
         ],
         "yaxis": "y2"
        },
        {
         "legendgroup": "feel responsible + positive outcome + PA yes",
         "marker": {
          "color": "#1F77B4"
         },
         "mode": "lines+markers",
         "name": "feel responsible + positive outcome + PA yes",
         "showlegend": false,
         "type": "scatter",
         "x": [
          "Hold on",
          "Change decision"
         ],
         "xaxis": "x3",
         "y": [
          6.266666666666667,
          6.333333333333333
         ],
         "yaxis": "y3"
        },
        {
         "legendgroup": "feel responsible + positive outcome + PA no",
         "marker": {
          "color": "#FF7F0E"
         },
         "mode": "lines+markers",
         "name": "feel responsible + positive outcome + PA no",
         "showlegend": false,
         "type": "scatter",
         "x": [
          "Hold on",
          "Change decision"
         ],
         "xaxis": "x3",
         "y": [
          5.352941176470588,
          5.882352941176471
         ],
         "yaxis": "y3"
        },
        {
         "legendgroup": "feel responsible + negative outcome + PA yes",
         "marker": {
          "color": "#2CA02C"
         },
         "mode": "lines+markers",
         "name": "feel responsible + negative outcome + PA yes",
         "showlegend": false,
         "type": "scatter",
         "x": [
          "Hold on",
          "Change decision"
         ],
         "xaxis": "x3",
         "y": [
          4.388888888888889,
          6
         ],
         "yaxis": "y3"
        },
        {
         "legendgroup": "feel responsible + negative outcome + PA no",
         "marker": {
          "color": "#D62728"
         },
         "mode": "lines+markers",
         "name": "feel responsible + negative outcome + PA no",
         "showlegend": false,
         "type": "scatter",
         "x": [
          "Hold on",
          "Change decision"
         ],
         "xaxis": "x3",
         "y": [
          4.5,
          5.8
         ],
         "yaxis": "y3"
        },
        {
         "legendgroup": "act responsible + positive outcome + PA yes",
         "marker": {
          "color": "#9467BD"
         },
         "mode": "lines+markers",
         "name": "act responsible + positive outcome + PA yes",
         "showlegend": false,
         "type": "scatter",
         "x": [
          "Hold on",
          "Change decision"
         ],
         "xaxis": "x3",
         "y": [
          5.666666666666667,
          5.133333333333334
         ],
         "yaxis": "y3"
        },
        {
         "legendgroup": "act responsible + positive outcome + PA no",
         "marker": {
          "color": "#8C564B"
         },
         "mode": "lines+markers",
         "name": "act responsible + positive outcome + PA no",
         "showlegend": false,
         "type": "scatter",
         "x": [
          "Hold on",
          "Change decision"
         ],
         "xaxis": "x3",
         "y": [
          5.529411764705882,
          4.764705882352941
         ],
         "yaxis": "y3"
        },
        {
         "legendgroup": "act responsible + negative outcome + PA yes",
         "marker": {
          "color": "#E377C2"
         },
         "mode": "lines+markers",
         "name": "act responsible + negative outcome + PA yes",
         "showlegend": false,
         "type": "scatter",
         "x": [
          "Hold on",
          "Change decision"
         ],
         "xaxis": "x3",
         "y": [
          5.388888888888889,
          4.444444444444445
         ],
         "yaxis": "y3"
        },
        {
         "legendgroup": "act responsible + negative outcome + PA no",
         "marker": {
          "color": "#7F7F7F"
         },
         "mode": "lines+markers",
         "name": "act responsible + negative outcome + PA no",
         "showlegend": false,
         "type": "scatter",
         "x": [
          "Hold on",
          "Change decision"
         ],
         "xaxis": "x3",
         "y": [
          4.85,
          4.6
         ],
         "yaxis": "y3"
        },
        {
         "legendgroup": "feel responsible + positive outcome + PA yes",
         "marker": {
          "color": "#1F77B4"
         },
         "mode": "lines+markers",
         "name": "feel responsible + positive outcome + PA yes",
         "showlegend": false,
         "type": "scatter",
         "x": [
          "Wait and see",
          "Take action"
         ],
         "xaxis": "x4",
         "y": [
          4.15,
          5.6
         ],
         "yaxis": "y4"
        },
        {
         "legendgroup": "feel responsible + positive outcome + PA no",
         "marker": {
          "color": "#FF7F0E"
         },
         "mode": "lines+markers",
         "name": "feel responsible + positive outcome + PA no",
         "showlegend": false,
         "type": "scatter",
         "x": [
          "Wait and see",
          "Take action"
         ],
         "xaxis": "x4",
         "y": [
          5.833333333333333,
          6.055555555555555
         ],
         "yaxis": "y4"
        },
        {
         "legendgroup": "feel responsible + negative outcome + PA yes",
         "marker": {
          "color": "#2CA02C"
         },
         "mode": "lines+markers",
         "name": "feel responsible + negative outcome + PA yes",
         "showlegend": false,
         "type": "scatter",
         "x": [
          "Wait and see",
          "Take action"
         ],
         "xaxis": "x4",
         "y": [
          5.352941176470588,
          4.882352941176471
         ],
         "yaxis": "y4"
        },
        {
         "legendgroup": "feel responsible + negative outcome + PA no",
         "marker": {
          "color": "#D62728"
         },
         "mode": "lines+markers",
         "name": "feel responsible + negative outcome + PA no",
         "showlegend": false,
         "type": "scatter",
         "x": [
          "Wait and see",
          "Take action"
         ],
         "xaxis": "x4",
         "y": [
          5.2,
          5.666666666666667
         ],
         "yaxis": "y4"
        },
        {
         "legendgroup": "act responsible + positive outcome + PA yes",
         "marker": {
          "color": "#9467BD"
         },
         "mode": "lines+markers",
         "name": "act responsible + positive outcome + PA yes",
         "showlegend": false,
         "type": "scatter",
         "x": [
          "Wait and see",
          "Take action"
         ],
         "xaxis": "x4",
         "y": [
          4,
          5.25
         ],
         "yaxis": "y4"
        },
        {
         "legendgroup": "act responsible + positive outcome + PA no",
         "marker": {
          "color": "#8C564B"
         },
         "mode": "lines+markers",
         "name": "act responsible + positive outcome + PA no",
         "showlegend": false,
         "type": "scatter",
         "x": [
          "Wait and see",
          "Take action"
         ],
         "xaxis": "x4",
         "y": [
          4.111111111111111,
          5.055555555555555
         ],
         "yaxis": "y4"
        },
        {
         "legendgroup": "act responsible + negative outcome + PA yes",
         "marker": {
          "color": "#E377C2"
         },
         "mode": "lines+markers",
         "name": "act responsible + negative outcome + PA yes",
         "showlegend": false,
         "type": "scatter",
         "x": [
          "Wait and see",
          "Take action"
         ],
         "xaxis": "x4",
         "y": [
          3.4705882352941178,
          5.176470588235294
         ],
         "yaxis": "y4"
        },
        {
         "legendgroup": "act responsible + negative outcome + PA no",
         "marker": {
          "color": "#7F7F7F"
         },
         "mode": "lines+markers",
         "name": "act responsible + negative outcome + PA no",
         "showlegend": false,
         "type": "scatter",
         "x": [
          "Wait and see",
          "Take action"
         ],
         "xaxis": "x4",
         "y": [
          3.7333333333333334,
          5.266666666666667
         ],
         "yaxis": "y4"
        }
       ],
       "layout": {
        "height": 800,
        "template": {
         "data": {
          "bar": [
           {
            "error_x": {
             "color": "rgb(36,36,36)"
            },
            "error_y": {
             "color": "rgb(36,36,36)"
            },
            "marker": {
             "line": {
              "color": "white",
              "width": 0.5
             },
             "pattern": {
              "fillmode": "overlay",
              "size": 10,
              "solidity": 0.2
             }
            },
            "type": "bar"
           }
          ],
          "barpolar": [
           {
            "marker": {
             "line": {
              "color": "white",
              "width": 0.5
             },
             "pattern": {
              "fillmode": "overlay",
              "size": 10,
              "solidity": 0.2
             }
            },
            "type": "barpolar"
           }
          ],
          "carpet": [
           {
            "aaxis": {
             "endlinecolor": "rgb(36,36,36)",
             "gridcolor": "white",
             "linecolor": "white",
             "minorgridcolor": "white",
             "startlinecolor": "rgb(36,36,36)"
            },
            "baxis": {
             "endlinecolor": "rgb(36,36,36)",
             "gridcolor": "white",
             "linecolor": "white",
             "minorgridcolor": "white",
             "startlinecolor": "rgb(36,36,36)"
            },
            "type": "carpet"
           }
          ],
          "choropleth": [
           {
            "colorbar": {
             "outlinewidth": 1,
             "tickcolor": "rgb(36,36,36)",
             "ticks": "outside"
            },
            "type": "choropleth"
           }
          ],
          "contour": [
           {
            "colorbar": {
             "outlinewidth": 1,
             "tickcolor": "rgb(36,36,36)",
             "ticks": "outside"
            },
            "colorscale": [
             [
              0,
              "#440154"
             ],
             [
              0.1111111111111111,
              "#482878"
             ],
             [
              0.2222222222222222,
              "#3e4989"
             ],
             [
              0.3333333333333333,
              "#31688e"
             ],
             [
              0.4444444444444444,
              "#26828e"
             ],
             [
              0.5555555555555556,
              "#1f9e89"
             ],
             [
              0.6666666666666666,
              "#35b779"
             ],
             [
              0.7777777777777778,
              "#6ece58"
             ],
             [
              0.8888888888888888,
              "#b5de2b"
             ],
             [
              1,
              "#fde725"
             ]
            ],
            "type": "contour"
           }
          ],
          "contourcarpet": [
           {
            "colorbar": {
             "outlinewidth": 1,
             "tickcolor": "rgb(36,36,36)",
             "ticks": "outside"
            },
            "type": "contourcarpet"
           }
          ],
          "heatmap": [
           {
            "colorbar": {
             "outlinewidth": 1,
             "tickcolor": "rgb(36,36,36)",
             "ticks": "outside"
            },
            "colorscale": [
             [
              0,
              "#440154"
             ],
             [
              0.1111111111111111,
              "#482878"
             ],
             [
              0.2222222222222222,
              "#3e4989"
             ],
             [
              0.3333333333333333,
              "#31688e"
             ],
             [
              0.4444444444444444,
              "#26828e"
             ],
             [
              0.5555555555555556,
              "#1f9e89"
             ],
             [
              0.6666666666666666,
              "#35b779"
             ],
             [
              0.7777777777777778,
              "#6ece58"
             ],
             [
              0.8888888888888888,
              "#b5de2b"
             ],
             [
              1,
              "#fde725"
             ]
            ],
            "type": "heatmap"
           }
          ],
          "heatmapgl": [
           {
            "colorbar": {
             "outlinewidth": 1,
             "tickcolor": "rgb(36,36,36)",
             "ticks": "outside"
            },
            "colorscale": [
             [
              0,
              "#440154"
             ],
             [
              0.1111111111111111,
              "#482878"
             ],
             [
              0.2222222222222222,
              "#3e4989"
             ],
             [
              0.3333333333333333,
              "#31688e"
             ],
             [
              0.4444444444444444,
              "#26828e"
             ],
             [
              0.5555555555555556,
              "#1f9e89"
             ],
             [
              0.6666666666666666,
              "#35b779"
             ],
             [
              0.7777777777777778,
              "#6ece58"
             ],
             [
              0.8888888888888888,
              "#b5de2b"
             ],
             [
              1,
              "#fde725"
             ]
            ],
            "type": "heatmapgl"
           }
          ],
          "histogram": [
           {
            "marker": {
             "line": {
              "color": "white",
              "width": 0.6
             }
            },
            "type": "histogram"
           }
          ],
          "histogram2d": [
           {
            "colorbar": {
             "outlinewidth": 1,
             "tickcolor": "rgb(36,36,36)",
             "ticks": "outside"
            },
            "colorscale": [
             [
              0,
              "#440154"
             ],
             [
              0.1111111111111111,
              "#482878"
             ],
             [
              0.2222222222222222,
              "#3e4989"
             ],
             [
              0.3333333333333333,
              "#31688e"
             ],
             [
              0.4444444444444444,
              "#26828e"
             ],
             [
              0.5555555555555556,
              "#1f9e89"
             ],
             [
              0.6666666666666666,
              "#35b779"
             ],
             [
              0.7777777777777778,
              "#6ece58"
             ],
             [
              0.8888888888888888,
              "#b5de2b"
             ],
             [
              1,
              "#fde725"
             ]
            ],
            "type": "histogram2d"
           }
          ],
          "histogram2dcontour": [
           {
            "colorbar": {
             "outlinewidth": 1,
             "tickcolor": "rgb(36,36,36)",
             "ticks": "outside"
            },
            "colorscale": [
             [
              0,
              "#440154"
             ],
             [
              0.1111111111111111,
              "#482878"
             ],
             [
              0.2222222222222222,
              "#3e4989"
             ],
             [
              0.3333333333333333,
              "#31688e"
             ],
             [
              0.4444444444444444,
              "#26828e"
             ],
             [
              0.5555555555555556,
              "#1f9e89"
             ],
             [
              0.6666666666666666,
              "#35b779"
             ],
             [
              0.7777777777777778,
              "#6ece58"
             ],
             [
              0.8888888888888888,
              "#b5de2b"
             ],
             [
              1,
              "#fde725"
             ]
            ],
            "type": "histogram2dcontour"
           }
          ],
          "mesh3d": [
           {
            "colorbar": {
             "outlinewidth": 1,
             "tickcolor": "rgb(36,36,36)",
             "ticks": "outside"
            },
            "type": "mesh3d"
           }
          ],
          "parcoords": [
           {
            "line": {
             "colorbar": {
              "outlinewidth": 1,
              "tickcolor": "rgb(36,36,36)",
              "ticks": "outside"
             }
            },
            "type": "parcoords"
           }
          ],
          "pie": [
           {
            "automargin": true,
            "type": "pie"
           }
          ],
          "scatter": [
           {
            "fillpattern": {
             "fillmode": "overlay",
             "size": 10,
             "solidity": 0.2
            },
            "type": "scatter"
           }
          ],
          "scatter3d": [
           {
            "line": {
             "colorbar": {
              "outlinewidth": 1,
              "tickcolor": "rgb(36,36,36)",
              "ticks": "outside"
             }
            },
            "marker": {
             "colorbar": {
              "outlinewidth": 1,
              "tickcolor": "rgb(36,36,36)",
              "ticks": "outside"
             }
            },
            "type": "scatter3d"
           }
          ],
          "scattercarpet": [
           {
            "marker": {
             "colorbar": {
              "outlinewidth": 1,
              "tickcolor": "rgb(36,36,36)",
              "ticks": "outside"
             }
            },
            "type": "scattercarpet"
           }
          ],
          "scattergeo": [
           {
            "marker": {
             "colorbar": {
              "outlinewidth": 1,
              "tickcolor": "rgb(36,36,36)",
              "ticks": "outside"
             }
            },
            "type": "scattergeo"
           }
          ],
          "scattergl": [
           {
            "marker": {
             "colorbar": {
              "outlinewidth": 1,
              "tickcolor": "rgb(36,36,36)",
              "ticks": "outside"
             }
            },
            "type": "scattergl"
           }
          ],
          "scattermapbox": [
           {
            "marker": {
             "colorbar": {
              "outlinewidth": 1,
              "tickcolor": "rgb(36,36,36)",
              "ticks": "outside"
             }
            },
            "type": "scattermapbox"
           }
          ],
          "scatterpolar": [
           {
            "marker": {
             "colorbar": {
              "outlinewidth": 1,
              "tickcolor": "rgb(36,36,36)",
              "ticks": "outside"
             }
            },
            "type": "scatterpolar"
           }
          ],
          "scatterpolargl": [
           {
            "marker": {
             "colorbar": {
              "outlinewidth": 1,
              "tickcolor": "rgb(36,36,36)",
              "ticks": "outside"
             }
            },
            "type": "scatterpolargl"
           }
          ],
          "scatterternary": [
           {
            "marker": {
             "colorbar": {
              "outlinewidth": 1,
              "tickcolor": "rgb(36,36,36)",
              "ticks": "outside"
             }
            },
            "type": "scatterternary"
           }
          ],
          "surface": [
           {
            "colorbar": {
             "outlinewidth": 1,
             "tickcolor": "rgb(36,36,36)",
             "ticks": "outside"
            },
            "colorscale": [
             [
              0,
              "#440154"
             ],
             [
              0.1111111111111111,
              "#482878"
             ],
             [
              0.2222222222222222,
              "#3e4989"
             ],
             [
              0.3333333333333333,
              "#31688e"
             ],
             [
              0.4444444444444444,
              "#26828e"
             ],
             [
              0.5555555555555556,
              "#1f9e89"
             ],
             [
              0.6666666666666666,
              "#35b779"
             ],
             [
              0.7777777777777778,
              "#6ece58"
             ],
             [
              0.8888888888888888,
              "#b5de2b"
             ],
             [
              1,
              "#fde725"
             ]
            ],
            "type": "surface"
           }
          ],
          "table": [
           {
            "cells": {
             "fill": {
              "color": "rgb(237,237,237)"
             },
             "line": {
              "color": "white"
             }
            },
            "header": {
             "fill": {
              "color": "rgb(217,217,217)"
             },
             "line": {
              "color": "white"
             }
            },
            "type": "table"
           }
          ]
         },
         "layout": {
          "annotationdefaults": {
           "arrowhead": 0,
           "arrowwidth": 1
          },
          "autotypenumbers": "strict",
          "coloraxis": {
           "colorbar": {
            "outlinewidth": 1,
            "tickcolor": "rgb(36,36,36)",
            "ticks": "outside"
           }
          },
          "colorscale": {
           "diverging": [
            [
             0,
             "rgb(103,0,31)"
            ],
            [
             0.1,
             "rgb(178,24,43)"
            ],
            [
             0.2,
             "rgb(214,96,77)"
            ],
            [
             0.3,
             "rgb(244,165,130)"
            ],
            [
             0.4,
             "rgb(253,219,199)"
            ],
            [
             0.5,
             "rgb(247,247,247)"
            ],
            [
             0.6,
             "rgb(209,229,240)"
            ],
            [
             0.7,
             "rgb(146,197,222)"
            ],
            [
             0.8,
             "rgb(67,147,195)"
            ],
            [
             0.9,
             "rgb(33,102,172)"
            ],
            [
             1,
             "rgb(5,48,97)"
            ]
           ],
           "sequential": [
            [
             0,
             "#440154"
            ],
            [
             0.1111111111111111,
             "#482878"
            ],
            [
             0.2222222222222222,
             "#3e4989"
            ],
            [
             0.3333333333333333,
             "#31688e"
            ],
            [
             0.4444444444444444,
             "#26828e"
            ],
            [
             0.5555555555555556,
             "#1f9e89"
            ],
            [
             0.6666666666666666,
             "#35b779"
            ],
            [
             0.7777777777777778,
             "#6ece58"
            ],
            [
             0.8888888888888888,
             "#b5de2b"
            ],
            [
             1,
             "#fde725"
            ]
           ],
           "sequentialminus": [
            [
             0,
             "#440154"
            ],
            [
             0.1111111111111111,
             "#482878"
            ],
            [
             0.2222222222222222,
             "#3e4989"
            ],
            [
             0.3333333333333333,
             "#31688e"
            ],
            [
             0.4444444444444444,
             "#26828e"
            ],
            [
             0.5555555555555556,
             "#1f9e89"
            ],
            [
             0.6666666666666666,
             "#35b779"
            ],
            [
             0.7777777777777778,
             "#6ece58"
            ],
            [
             0.8888888888888888,
             "#b5de2b"
            ],
            [
             1,
             "#fde725"
            ]
           ]
          },
          "colorway": [
           "#1F77B4",
           "#FF7F0E",
           "#2CA02C",
           "#D62728",
           "#9467BD",
           "#8C564B",
           "#E377C2",
           "#7F7F7F",
           "#BCBD22",
           "#17BECF"
          ],
          "font": {
           "color": "rgb(36,36,36)"
          },
          "geo": {
           "bgcolor": "white",
           "lakecolor": "white",
           "landcolor": "white",
           "showlakes": true,
           "showland": true,
           "subunitcolor": "white"
          },
          "hoverlabel": {
           "align": "left"
          },
          "hovermode": "closest",
          "mapbox": {
           "style": "light"
          },
          "paper_bgcolor": "white",
          "plot_bgcolor": "white",
          "polar": {
           "angularaxis": {
            "gridcolor": "rgb(232,232,232)",
            "linecolor": "rgb(36,36,36)",
            "showgrid": false,
            "showline": true,
            "ticks": "outside"
           },
           "bgcolor": "white",
           "radialaxis": {
            "gridcolor": "rgb(232,232,232)",
            "linecolor": "rgb(36,36,36)",
            "showgrid": false,
            "showline": true,
            "ticks": "outside"
           }
          },
          "scene": {
           "xaxis": {
            "backgroundcolor": "white",
            "gridcolor": "rgb(232,232,232)",
            "gridwidth": 2,
            "linecolor": "rgb(36,36,36)",
            "showbackground": true,
            "showgrid": false,
            "showline": true,
            "ticks": "outside",
            "zeroline": false,
            "zerolinecolor": "rgb(36,36,36)"
           },
           "yaxis": {
            "backgroundcolor": "white",
            "gridcolor": "rgb(232,232,232)",
            "gridwidth": 2,
            "linecolor": "rgb(36,36,36)",
            "showbackground": true,
            "showgrid": false,
            "showline": true,
            "ticks": "outside",
            "zeroline": false,
            "zerolinecolor": "rgb(36,36,36)"
           },
           "zaxis": {
            "backgroundcolor": "white",
            "gridcolor": "rgb(232,232,232)",
            "gridwidth": 2,
            "linecolor": "rgb(36,36,36)",
            "showbackground": true,
            "showgrid": false,
            "showline": true,
            "ticks": "outside",
            "zeroline": false,
            "zerolinecolor": "rgb(36,36,36)"
           }
          },
          "shapedefaults": {
           "fillcolor": "black",
           "line": {
            "width": 0
           },
           "opacity": 0.3
          },
          "ternary": {
           "aaxis": {
            "gridcolor": "rgb(232,232,232)",
            "linecolor": "rgb(36,36,36)",
            "showgrid": false,
            "showline": true,
            "ticks": "outside"
           },
           "baxis": {
            "gridcolor": "rgb(232,232,232)",
            "linecolor": "rgb(36,36,36)",
            "showgrid": false,
            "showline": true,
            "ticks": "outside"
           },
           "bgcolor": "white",
           "caxis": {
            "gridcolor": "rgb(232,232,232)",
            "linecolor": "rgb(36,36,36)",
            "showgrid": false,
            "showline": true,
            "ticks": "outside"
           }
          },
          "title": {
           "x": 0.05
          },
          "xaxis": {
           "automargin": true,
           "gridcolor": "rgb(232,232,232)",
           "linecolor": "rgb(36,36,36)",
           "showgrid": false,
           "showline": true,
           "ticks": "outside",
           "title": {
            "standoff": 15
           },
           "zeroline": false,
           "zerolinecolor": "rgb(36,36,36)"
          },
          "yaxis": {
           "automargin": true,
           "gridcolor": "rgb(232,232,232)",
           "linecolor": "rgb(36,36,36)",
           "showgrid": false,
           "showline": true,
           "ticks": "outside",
           "title": {
            "standoff": 15
           },
           "zeroline": false,
           "zerolinecolor": "rgb(36,36,36)"
          }
         }
        },
        "title": {
         "text": "DEU"
        },
        "width": 1100,
        "xaxis": {
         "anchor": "y",
         "domain": [
          0,
          0.45
         ]
        },
        "xaxis2": {
         "anchor": "y2",
         "domain": [
          0.55,
          1
         ]
        },
        "xaxis3": {
         "anchor": "y3",
         "domain": [
          0,
          0.45
         ]
        },
        "xaxis4": {
         "anchor": "y4",
         "domain": [
          0.55,
          1
         ]
        },
        "yaxis": {
         "anchor": "x",
         "domain": [
          0.575,
          1
         ],
         "dtick": 1,
         "range": [
          1,
          7
         ]
        },
        "yaxis2": {
         "anchor": "x2",
         "domain": [
          0.575,
          1
         ],
         "dtick": 1,
         "range": [
          1,
          7
         ]
        },
        "yaxis3": {
         "anchor": "x3",
         "domain": [
          0,
          0.425
         ],
         "dtick": 1,
         "range": [
          1,
          7
         ]
        },
        "yaxis4": {
         "anchor": "x4",
         "domain": [
          0,
          0.425
         ],
         "dtick": 1,
         "range": [
          1,
          7
         ]
        }
       }
      }
     },
     "metadata": {},
     "output_type": "display_data"
    }
   ],
   "source": [
    "create_line_subplot(\n",
    "    data=data_deu, output_file_name=\"scenarios_deu\", show_fig=True, fig_title=\"DEU\"\n",
    ")"
   ]
  },
  {
   "cell_type": "code",
   "execution_count": 13,
   "metadata": {},
   "outputs": [
    {
     "data": {
      "application/vnd.plotly.v1+json": {
       "config": {
        "plotlyServerURL": "https://plot.ly"
       },
       "data": [
        {
         "legendgroup": "feel responsible + positive outcome + PA yes",
         "marker": {
          "color": "#1F77B4"
         },
         "mode": "lines+markers",
         "name": "feel responsible + positive outcome + PA yes",
         "showlegend": true,
         "type": "scatter",
         "x": [
          "Familiar solution",
          "New solution"
         ],
         "xaxis": "x",
         "y": [
          5.333333333333333,
          6.518518518518518
         ],
         "yaxis": "y"
        },
        {
         "legendgroup": "feel responsible + positive outcome + PA no",
         "marker": {
          "color": "#FF7F0E"
         },
         "mode": "lines+markers",
         "name": "feel responsible + positive outcome + PA no",
         "showlegend": true,
         "type": "scatter",
         "x": [
          "Familiar solution",
          "New solution"
         ],
         "xaxis": "x",
         "y": [
          5.2592592592592595,
          6.148148148148148
         ],
         "yaxis": "y"
        },
        {
         "legendgroup": "feel responsible + negative outcome + PA yes",
         "marker": {
          "color": "#2CA02C"
         },
         "mode": "lines+markers",
         "name": "feel responsible + negative outcome + PA yes",
         "showlegend": true,
         "type": "scatter",
         "x": [
          "Familiar solution",
          "New solution"
         ],
         "xaxis": "x",
         "y": [
          4.666666666666667,
          6.0476190476190474
         ],
         "yaxis": "y"
        },
        {
         "legendgroup": "feel responsible + negative outcome + PA no",
         "marker": {
          "color": "#D62728"
         },
         "mode": "lines+markers",
         "name": "feel responsible + negative outcome + PA no",
         "showlegend": true,
         "type": "scatter",
         "x": [
          "Familiar solution",
          "New solution"
         ],
         "xaxis": "x",
         "y": [
          4.56,
          5.92
         ],
         "yaxis": "y"
        },
        {
         "legendgroup": "act responsible + positive outcome + PA yes",
         "marker": {
          "color": "#9467BD"
         },
         "mode": "lines+markers",
         "name": "act responsible + positive outcome + PA yes",
         "showlegend": true,
         "type": "scatter",
         "x": [
          "Familiar solution",
          "New solution"
         ],
         "xaxis": "x",
         "y": [
          6.074074074074074,
          5.333333333333333
         ],
         "yaxis": "y"
        },
        {
         "legendgroup": "act responsible + positive outcome + PA no",
         "marker": {
          "color": "#8C564B"
         },
         "mode": "lines+markers",
         "name": "act responsible + positive outcome + PA no",
         "showlegend": true,
         "type": "scatter",
         "x": [
          "Familiar solution",
          "New solution"
         ],
         "xaxis": "x",
         "y": [
          5.888888888888889,
          5.185185185185185
         ],
         "yaxis": "y"
        },
        {
         "legendgroup": "act responsible + negative outcome + PA yes",
         "marker": {
          "color": "#E377C2"
         },
         "mode": "lines+markers",
         "name": "act responsible + negative outcome + PA yes",
         "showlegend": true,
         "type": "scatter",
         "x": [
          "Familiar solution",
          "New solution"
         ],
         "xaxis": "x",
         "y": [
          5.619047619047619,
          4.523809523809524
         ],
         "yaxis": "y"
        },
        {
         "legendgroup": "act responsible + negative outcome + PA no",
         "marker": {
          "color": "#7F7F7F"
         },
         "mode": "lines+markers",
         "name": "act responsible + negative outcome + PA no",
         "showlegend": true,
         "type": "scatter",
         "x": [
          "Familiar solution",
          "New solution"
         ],
         "xaxis": "x",
         "y": [
          5.56,
          4.76
         ],
         "yaxis": "y"
        },
        {
         "legendgroup": "feel responsible + positive outcome + PA yes",
         "marker": {
          "color": "#1F77B4"
         },
         "mode": "lines+markers",
         "name": "feel responsible + positive outcome + PA yes",
         "showlegend": false,
         "type": "scatter",
         "x": [
          "Follow advise",
          "Not follow advise"
         ],
         "xaxis": "x2",
         "y": [
          4.64,
          6.48
         ],
         "yaxis": "y2"
        },
        {
         "legendgroup": "feel responsible + positive outcome + PA no",
         "marker": {
          "color": "#FF7F0E"
         },
         "mode": "lines+markers",
         "name": "feel responsible + positive outcome + PA no",
         "showlegend": false,
         "type": "scatter",
         "x": [
          "Follow advise",
          "Not follow advise"
         ],
         "xaxis": "x2",
         "y": [
          4.714285714285714,
          6.476190476190476
         ],
         "yaxis": "y2"
        },
        {
         "legendgroup": "feel responsible + negative outcome + PA yes",
         "marker": {
          "color": "#2CA02C"
         },
         "mode": "lines+markers",
         "name": "feel responsible + negative outcome + PA yes",
         "showlegend": false,
         "type": "scatter",
         "x": [
          "Follow advise",
          "Not follow advise"
         ],
         "xaxis": "x2",
         "y": [
          3.2962962962962963,
          5.481481481481482
         ],
         "yaxis": "y2"
        },
        {
         "legendgroup": "feel responsible + negative outcome + PA no",
         "marker": {
          "color": "#D62728"
         },
         "mode": "lines+markers",
         "name": "feel responsible + negative outcome + PA no",
         "showlegend": false,
         "type": "scatter",
         "x": [
          "Follow advise",
          "Not follow advise"
         ],
         "xaxis": "x2",
         "y": [
          3.185185185185185,
          6.407407407407407
         ],
         "yaxis": "y2"
        },
        {
         "legendgroup": "act responsible + positive outcome + PA yes",
         "marker": {
          "color": "#9467BD"
         },
         "mode": "lines+markers",
         "name": "act responsible + positive outcome + PA yes",
         "showlegend": false,
         "type": "scatter",
         "x": [
          "Follow advise",
          "Not follow advise"
         ],
         "xaxis": "x2",
         "y": [
          6.2,
          4.48
         ],
         "yaxis": "y2"
        },
        {
         "legendgroup": "act responsible + positive outcome + PA no",
         "marker": {
          "color": "#8C564B"
         },
         "mode": "lines+markers",
         "name": "act responsible + positive outcome + PA no",
         "showlegend": false,
         "type": "scatter",
         "x": [
          "Follow advise",
          "Not follow advise"
         ],
         "xaxis": "x2",
         "y": [
          6.190476190476191,
          4.666666666666667
         ],
         "yaxis": "y2"
        },
        {
         "legendgroup": "act responsible + negative outcome + PA yes",
         "marker": {
          "color": "#E377C2"
         },
         "mode": "lines+markers",
         "name": "act responsible + negative outcome + PA yes",
         "showlegend": false,
         "type": "scatter",
         "x": [
          "Follow advise",
          "Not follow advise"
         ],
         "xaxis": "x2",
         "y": [
          5.037037037037037,
          3.3703703703703702
         ],
         "yaxis": "y2"
        },
        {
         "legendgroup": "act responsible + negative outcome + PA no",
         "marker": {
          "color": "#7F7F7F"
         },
         "mode": "lines+markers",
         "name": "act responsible + negative outcome + PA no",
         "showlegend": false,
         "type": "scatter",
         "x": [
          "Follow advise",
          "Not follow advise"
         ],
         "xaxis": "x2",
         "y": [
          5.407407407407407,
          3.2962962962962963
         ],
         "yaxis": "y2"
        },
        {
         "legendgroup": "feel responsible + positive outcome + PA yes",
         "marker": {
          "color": "#1F77B4"
         },
         "mode": "lines+markers",
         "name": "feel responsible + positive outcome + PA yes",
         "showlegend": false,
         "type": "scatter",
         "x": [
          "Hold on",
          "Change decision"
         ],
         "xaxis": "x3",
         "y": [
          5.96,
          6.16
         ],
         "yaxis": "y3"
        },
        {
         "legendgroup": "feel responsible + positive outcome + PA no",
         "marker": {
          "color": "#FF7F0E"
         },
         "mode": "lines+markers",
         "name": "feel responsible + positive outcome + PA no",
         "showlegend": false,
         "type": "scatter",
         "x": [
          "Hold on",
          "Change decision"
         ],
         "xaxis": "x3",
         "y": [
          5.428571428571429,
          6.523809523809524
         ],
         "yaxis": "y3"
        },
        {
         "legendgroup": "feel responsible + negative outcome + PA yes",
         "marker": {
          "color": "#2CA02C"
         },
         "mode": "lines+markers",
         "name": "feel responsible + negative outcome + PA yes",
         "showlegend": false,
         "type": "scatter",
         "x": [
          "Hold on",
          "Change decision"
         ],
         "xaxis": "x3",
         "y": [
          4.518518518518518,
          5.777777777777778
         ],
         "yaxis": "y3"
        },
        {
         "legendgroup": "feel responsible + negative outcome + PA no",
         "marker": {
          "color": "#D62728"
         },
         "mode": "lines+markers",
         "name": "feel responsible + negative outcome + PA no",
         "showlegend": false,
         "type": "scatter",
         "x": [
          "Hold on",
          "Change decision"
         ],
         "xaxis": "x3",
         "y": [
          5.444444444444445,
          5.962962962962963
         ],
         "yaxis": "y3"
        },
        {
         "legendgroup": "act responsible + positive outcome + PA yes",
         "marker": {
          "color": "#9467BD"
         },
         "mode": "lines+markers",
         "name": "act responsible + positive outcome + PA yes",
         "showlegend": false,
         "type": "scatter",
         "x": [
          "Hold on",
          "Change decision"
         ],
         "xaxis": "x3",
         "y": [
          5.8,
          5.2
         ],
         "yaxis": "y3"
        },
        {
         "legendgroup": "act responsible + positive outcome + PA no",
         "marker": {
          "color": "#8C564B"
         },
         "mode": "lines+markers",
         "name": "act responsible + positive outcome + PA no",
         "showlegend": false,
         "type": "scatter",
         "x": [
          "Hold on",
          "Change decision"
         ],
         "xaxis": "x3",
         "y": [
          5.857142857142857,
          5.238095238095238
         ],
         "yaxis": "y3"
        },
        {
         "legendgroup": "act responsible + negative outcome + PA yes",
         "marker": {
          "color": "#E377C2"
         },
         "mode": "lines+markers",
         "name": "act responsible + negative outcome + PA yes",
         "showlegend": false,
         "type": "scatter",
         "x": [
          "Hold on",
          "Change decision"
         ],
         "xaxis": "x3",
         "y": [
          5.111111111111111,
          4.555555555555555
         ],
         "yaxis": "y3"
        },
        {
         "legendgroup": "act responsible + negative outcome + PA no",
         "marker": {
          "color": "#7F7F7F"
         },
         "mode": "lines+markers",
         "name": "act responsible + negative outcome + PA no",
         "showlegend": false,
         "type": "scatter",
         "x": [
          "Hold on",
          "Change decision"
         ],
         "xaxis": "x3",
         "y": [
          5.2592592592592595,
          4.962962962962963
         ],
         "yaxis": "y3"
        },
        {
         "legendgroup": "feel responsible + positive outcome + PA yes",
         "marker": {
          "color": "#1F77B4"
         },
         "mode": "lines+markers",
         "name": "feel responsible + positive outcome + PA yes",
         "showlegend": false,
         "type": "scatter",
         "x": [
          "Wait and see",
          "Take action"
         ],
         "xaxis": "x4",
         "y": [
          5.62962962962963,
          5.814814814814815
         ],
         "yaxis": "y4"
        },
        {
         "legendgroup": "feel responsible + positive outcome + PA no",
         "marker": {
          "color": "#FF7F0E"
         },
         "mode": "lines+markers",
         "name": "feel responsible + positive outcome + PA no",
         "showlegend": false,
         "type": "scatter",
         "x": [
          "Wait and see",
          "Take action"
         ],
         "xaxis": "x4",
         "y": [
          5.444444444444445,
          5.296296296296297
         ],
         "yaxis": "y4"
        },
        {
         "legendgroup": "feel responsible + negative outcome + PA yes",
         "marker": {
          "color": "#2CA02C"
         },
         "mode": "lines+markers",
         "name": "feel responsible + negative outcome + PA yes",
         "showlegend": false,
         "type": "scatter",
         "x": [
          "Wait and see",
          "Take action"
         ],
         "xaxis": "x4",
         "y": [
          5.619047619047619,
          5.238095238095238
         ],
         "yaxis": "y4"
        },
        {
         "legendgroup": "feel responsible + negative outcome + PA no",
         "marker": {
          "color": "#D62728"
         },
         "mode": "lines+markers",
         "name": "feel responsible + negative outcome + PA no",
         "showlegend": false,
         "type": "scatter",
         "x": [
          "Wait and see",
          "Take action"
         ],
         "xaxis": "x4",
         "y": [
          5.52,
          5.76
         ],
         "yaxis": "y4"
        },
        {
         "legendgroup": "act responsible + positive outcome + PA yes",
         "marker": {
          "color": "#9467BD"
         },
         "mode": "lines+markers",
         "name": "act responsible + positive outcome + PA yes",
         "showlegend": false,
         "type": "scatter",
         "x": [
          "Wait and see",
          "Take action"
         ],
         "xaxis": "x4",
         "y": [
          4.851851851851852,
          5.148148148148148
         ],
         "yaxis": "y4"
        },
        {
         "legendgroup": "act responsible + positive outcome + PA no",
         "marker": {
          "color": "#8C564B"
         },
         "mode": "lines+markers",
         "name": "act responsible + positive outcome + PA no",
         "showlegend": false,
         "type": "scatter",
         "x": [
          "Wait and see",
          "Take action"
         ],
         "xaxis": "x4",
         "y": [
          4.555555555555555,
          4.7407407407407405
         ],
         "yaxis": "y4"
        },
        {
         "legendgroup": "act responsible + negative outcome + PA yes",
         "marker": {
          "color": "#E377C2"
         },
         "mode": "lines+markers",
         "name": "act responsible + negative outcome + PA yes",
         "showlegend": false,
         "type": "scatter",
         "x": [
          "Wait and see",
          "Take action"
         ],
         "xaxis": "x4",
         "y": [
          4.428571428571429,
          4.476190476190476
         ],
         "yaxis": "y4"
        },
        {
         "legendgroup": "act responsible + negative outcome + PA no",
         "marker": {
          "color": "#7F7F7F"
         },
         "mode": "lines+markers",
         "name": "act responsible + negative outcome + PA no",
         "showlegend": false,
         "type": "scatter",
         "x": [
          "Wait and see",
          "Take action"
         ],
         "xaxis": "x4",
         "y": [
          4.32,
          4.48
         ],
         "yaxis": "y4"
        }
       ],
       "layout": {
        "height": 800,
        "template": {
         "data": {
          "bar": [
           {
            "error_x": {
             "color": "rgb(36,36,36)"
            },
            "error_y": {
             "color": "rgb(36,36,36)"
            },
            "marker": {
             "line": {
              "color": "white",
              "width": 0.5
             },
             "pattern": {
              "fillmode": "overlay",
              "size": 10,
              "solidity": 0.2
             }
            },
            "type": "bar"
           }
          ],
          "barpolar": [
           {
            "marker": {
             "line": {
              "color": "white",
              "width": 0.5
             },
             "pattern": {
              "fillmode": "overlay",
              "size": 10,
              "solidity": 0.2
             }
            },
            "type": "barpolar"
           }
          ],
          "carpet": [
           {
            "aaxis": {
             "endlinecolor": "rgb(36,36,36)",
             "gridcolor": "white",
             "linecolor": "white",
             "minorgridcolor": "white",
             "startlinecolor": "rgb(36,36,36)"
            },
            "baxis": {
             "endlinecolor": "rgb(36,36,36)",
             "gridcolor": "white",
             "linecolor": "white",
             "minorgridcolor": "white",
             "startlinecolor": "rgb(36,36,36)"
            },
            "type": "carpet"
           }
          ],
          "choropleth": [
           {
            "colorbar": {
             "outlinewidth": 1,
             "tickcolor": "rgb(36,36,36)",
             "ticks": "outside"
            },
            "type": "choropleth"
           }
          ],
          "contour": [
           {
            "colorbar": {
             "outlinewidth": 1,
             "tickcolor": "rgb(36,36,36)",
             "ticks": "outside"
            },
            "colorscale": [
             [
              0,
              "#440154"
             ],
             [
              0.1111111111111111,
              "#482878"
             ],
             [
              0.2222222222222222,
              "#3e4989"
             ],
             [
              0.3333333333333333,
              "#31688e"
             ],
             [
              0.4444444444444444,
              "#26828e"
             ],
             [
              0.5555555555555556,
              "#1f9e89"
             ],
             [
              0.6666666666666666,
              "#35b779"
             ],
             [
              0.7777777777777778,
              "#6ece58"
             ],
             [
              0.8888888888888888,
              "#b5de2b"
             ],
             [
              1,
              "#fde725"
             ]
            ],
            "type": "contour"
           }
          ],
          "contourcarpet": [
           {
            "colorbar": {
             "outlinewidth": 1,
             "tickcolor": "rgb(36,36,36)",
             "ticks": "outside"
            },
            "type": "contourcarpet"
           }
          ],
          "heatmap": [
           {
            "colorbar": {
             "outlinewidth": 1,
             "tickcolor": "rgb(36,36,36)",
             "ticks": "outside"
            },
            "colorscale": [
             [
              0,
              "#440154"
             ],
             [
              0.1111111111111111,
              "#482878"
             ],
             [
              0.2222222222222222,
              "#3e4989"
             ],
             [
              0.3333333333333333,
              "#31688e"
             ],
             [
              0.4444444444444444,
              "#26828e"
             ],
             [
              0.5555555555555556,
              "#1f9e89"
             ],
             [
              0.6666666666666666,
              "#35b779"
             ],
             [
              0.7777777777777778,
              "#6ece58"
             ],
             [
              0.8888888888888888,
              "#b5de2b"
             ],
             [
              1,
              "#fde725"
             ]
            ],
            "type": "heatmap"
           }
          ],
          "heatmapgl": [
           {
            "colorbar": {
             "outlinewidth": 1,
             "tickcolor": "rgb(36,36,36)",
             "ticks": "outside"
            },
            "colorscale": [
             [
              0,
              "#440154"
             ],
             [
              0.1111111111111111,
              "#482878"
             ],
             [
              0.2222222222222222,
              "#3e4989"
             ],
             [
              0.3333333333333333,
              "#31688e"
             ],
             [
              0.4444444444444444,
              "#26828e"
             ],
             [
              0.5555555555555556,
              "#1f9e89"
             ],
             [
              0.6666666666666666,
              "#35b779"
             ],
             [
              0.7777777777777778,
              "#6ece58"
             ],
             [
              0.8888888888888888,
              "#b5de2b"
             ],
             [
              1,
              "#fde725"
             ]
            ],
            "type": "heatmapgl"
           }
          ],
          "histogram": [
           {
            "marker": {
             "line": {
              "color": "white",
              "width": 0.6
             }
            },
            "type": "histogram"
           }
          ],
          "histogram2d": [
           {
            "colorbar": {
             "outlinewidth": 1,
             "tickcolor": "rgb(36,36,36)",
             "ticks": "outside"
            },
            "colorscale": [
             [
              0,
              "#440154"
             ],
             [
              0.1111111111111111,
              "#482878"
             ],
             [
              0.2222222222222222,
              "#3e4989"
             ],
             [
              0.3333333333333333,
              "#31688e"
             ],
             [
              0.4444444444444444,
              "#26828e"
             ],
             [
              0.5555555555555556,
              "#1f9e89"
             ],
             [
              0.6666666666666666,
              "#35b779"
             ],
             [
              0.7777777777777778,
              "#6ece58"
             ],
             [
              0.8888888888888888,
              "#b5de2b"
             ],
             [
              1,
              "#fde725"
             ]
            ],
            "type": "histogram2d"
           }
          ],
          "histogram2dcontour": [
           {
            "colorbar": {
             "outlinewidth": 1,
             "tickcolor": "rgb(36,36,36)",
             "ticks": "outside"
            },
            "colorscale": [
             [
              0,
              "#440154"
             ],
             [
              0.1111111111111111,
              "#482878"
             ],
             [
              0.2222222222222222,
              "#3e4989"
             ],
             [
              0.3333333333333333,
              "#31688e"
             ],
             [
              0.4444444444444444,
              "#26828e"
             ],
             [
              0.5555555555555556,
              "#1f9e89"
             ],
             [
              0.6666666666666666,
              "#35b779"
             ],
             [
              0.7777777777777778,
              "#6ece58"
             ],
             [
              0.8888888888888888,
              "#b5de2b"
             ],
             [
              1,
              "#fde725"
             ]
            ],
            "type": "histogram2dcontour"
           }
          ],
          "mesh3d": [
           {
            "colorbar": {
             "outlinewidth": 1,
             "tickcolor": "rgb(36,36,36)",
             "ticks": "outside"
            },
            "type": "mesh3d"
           }
          ],
          "parcoords": [
           {
            "line": {
             "colorbar": {
              "outlinewidth": 1,
              "tickcolor": "rgb(36,36,36)",
              "ticks": "outside"
             }
            },
            "type": "parcoords"
           }
          ],
          "pie": [
           {
            "automargin": true,
            "type": "pie"
           }
          ],
          "scatter": [
           {
            "fillpattern": {
             "fillmode": "overlay",
             "size": 10,
             "solidity": 0.2
            },
            "type": "scatter"
           }
          ],
          "scatter3d": [
           {
            "line": {
             "colorbar": {
              "outlinewidth": 1,
              "tickcolor": "rgb(36,36,36)",
              "ticks": "outside"
             }
            },
            "marker": {
             "colorbar": {
              "outlinewidth": 1,
              "tickcolor": "rgb(36,36,36)",
              "ticks": "outside"
             }
            },
            "type": "scatter3d"
           }
          ],
          "scattercarpet": [
           {
            "marker": {
             "colorbar": {
              "outlinewidth": 1,
              "tickcolor": "rgb(36,36,36)",
              "ticks": "outside"
             }
            },
            "type": "scattercarpet"
           }
          ],
          "scattergeo": [
           {
            "marker": {
             "colorbar": {
              "outlinewidth": 1,
              "tickcolor": "rgb(36,36,36)",
              "ticks": "outside"
             }
            },
            "type": "scattergeo"
           }
          ],
          "scattergl": [
           {
            "marker": {
             "colorbar": {
              "outlinewidth": 1,
              "tickcolor": "rgb(36,36,36)",
              "ticks": "outside"
             }
            },
            "type": "scattergl"
           }
          ],
          "scattermapbox": [
           {
            "marker": {
             "colorbar": {
              "outlinewidth": 1,
              "tickcolor": "rgb(36,36,36)",
              "ticks": "outside"
             }
            },
            "type": "scattermapbox"
           }
          ],
          "scatterpolar": [
           {
            "marker": {
             "colorbar": {
              "outlinewidth": 1,
              "tickcolor": "rgb(36,36,36)",
              "ticks": "outside"
             }
            },
            "type": "scatterpolar"
           }
          ],
          "scatterpolargl": [
           {
            "marker": {
             "colorbar": {
              "outlinewidth": 1,
              "tickcolor": "rgb(36,36,36)",
              "ticks": "outside"
             }
            },
            "type": "scatterpolargl"
           }
          ],
          "scatterternary": [
           {
            "marker": {
             "colorbar": {
              "outlinewidth": 1,
              "tickcolor": "rgb(36,36,36)",
              "ticks": "outside"
             }
            },
            "type": "scatterternary"
           }
          ],
          "surface": [
           {
            "colorbar": {
             "outlinewidth": 1,
             "tickcolor": "rgb(36,36,36)",
             "ticks": "outside"
            },
            "colorscale": [
             [
              0,
              "#440154"
             ],
             [
              0.1111111111111111,
              "#482878"
             ],
             [
              0.2222222222222222,
              "#3e4989"
             ],
             [
              0.3333333333333333,
              "#31688e"
             ],
             [
              0.4444444444444444,
              "#26828e"
             ],
             [
              0.5555555555555556,
              "#1f9e89"
             ],
             [
              0.6666666666666666,
              "#35b779"
             ],
             [
              0.7777777777777778,
              "#6ece58"
             ],
             [
              0.8888888888888888,
              "#b5de2b"
             ],
             [
              1,
              "#fde725"
             ]
            ],
            "type": "surface"
           }
          ],
          "table": [
           {
            "cells": {
             "fill": {
              "color": "rgb(237,237,237)"
             },
             "line": {
              "color": "white"
             }
            },
            "header": {
             "fill": {
              "color": "rgb(217,217,217)"
             },
             "line": {
              "color": "white"
             }
            },
            "type": "table"
           }
          ]
         },
         "layout": {
          "annotationdefaults": {
           "arrowhead": 0,
           "arrowwidth": 1
          },
          "autotypenumbers": "strict",
          "coloraxis": {
           "colorbar": {
            "outlinewidth": 1,
            "tickcolor": "rgb(36,36,36)",
            "ticks": "outside"
           }
          },
          "colorscale": {
           "diverging": [
            [
             0,
             "rgb(103,0,31)"
            ],
            [
             0.1,
             "rgb(178,24,43)"
            ],
            [
             0.2,
             "rgb(214,96,77)"
            ],
            [
             0.3,
             "rgb(244,165,130)"
            ],
            [
             0.4,
             "rgb(253,219,199)"
            ],
            [
             0.5,
             "rgb(247,247,247)"
            ],
            [
             0.6,
             "rgb(209,229,240)"
            ],
            [
             0.7,
             "rgb(146,197,222)"
            ],
            [
             0.8,
             "rgb(67,147,195)"
            ],
            [
             0.9,
             "rgb(33,102,172)"
            ],
            [
             1,
             "rgb(5,48,97)"
            ]
           ],
           "sequential": [
            [
             0,
             "#440154"
            ],
            [
             0.1111111111111111,
             "#482878"
            ],
            [
             0.2222222222222222,
             "#3e4989"
            ],
            [
             0.3333333333333333,
             "#31688e"
            ],
            [
             0.4444444444444444,
             "#26828e"
            ],
            [
             0.5555555555555556,
             "#1f9e89"
            ],
            [
             0.6666666666666666,
             "#35b779"
            ],
            [
             0.7777777777777778,
             "#6ece58"
            ],
            [
             0.8888888888888888,
             "#b5de2b"
            ],
            [
             1,
             "#fde725"
            ]
           ],
           "sequentialminus": [
            [
             0,
             "#440154"
            ],
            [
             0.1111111111111111,
             "#482878"
            ],
            [
             0.2222222222222222,
             "#3e4989"
            ],
            [
             0.3333333333333333,
             "#31688e"
            ],
            [
             0.4444444444444444,
             "#26828e"
            ],
            [
             0.5555555555555556,
             "#1f9e89"
            ],
            [
             0.6666666666666666,
             "#35b779"
            ],
            [
             0.7777777777777778,
             "#6ece58"
            ],
            [
             0.8888888888888888,
             "#b5de2b"
            ],
            [
             1,
             "#fde725"
            ]
           ]
          },
          "colorway": [
           "#1F77B4",
           "#FF7F0E",
           "#2CA02C",
           "#D62728",
           "#9467BD",
           "#8C564B",
           "#E377C2",
           "#7F7F7F",
           "#BCBD22",
           "#17BECF"
          ],
          "font": {
           "color": "rgb(36,36,36)"
          },
          "geo": {
           "bgcolor": "white",
           "lakecolor": "white",
           "landcolor": "white",
           "showlakes": true,
           "showland": true,
           "subunitcolor": "white"
          },
          "hoverlabel": {
           "align": "left"
          },
          "hovermode": "closest",
          "mapbox": {
           "style": "light"
          },
          "paper_bgcolor": "white",
          "plot_bgcolor": "white",
          "polar": {
           "angularaxis": {
            "gridcolor": "rgb(232,232,232)",
            "linecolor": "rgb(36,36,36)",
            "showgrid": false,
            "showline": true,
            "ticks": "outside"
           },
           "bgcolor": "white",
           "radialaxis": {
            "gridcolor": "rgb(232,232,232)",
            "linecolor": "rgb(36,36,36)",
            "showgrid": false,
            "showline": true,
            "ticks": "outside"
           }
          },
          "scene": {
           "xaxis": {
            "backgroundcolor": "white",
            "gridcolor": "rgb(232,232,232)",
            "gridwidth": 2,
            "linecolor": "rgb(36,36,36)",
            "showbackground": true,
            "showgrid": false,
            "showline": true,
            "ticks": "outside",
            "zeroline": false,
            "zerolinecolor": "rgb(36,36,36)"
           },
           "yaxis": {
            "backgroundcolor": "white",
            "gridcolor": "rgb(232,232,232)",
            "gridwidth": 2,
            "linecolor": "rgb(36,36,36)",
            "showbackground": true,
            "showgrid": false,
            "showline": true,
            "ticks": "outside",
            "zeroline": false,
            "zerolinecolor": "rgb(36,36,36)"
           },
           "zaxis": {
            "backgroundcolor": "white",
            "gridcolor": "rgb(232,232,232)",
            "gridwidth": 2,
            "linecolor": "rgb(36,36,36)",
            "showbackground": true,
            "showgrid": false,
            "showline": true,
            "ticks": "outside",
            "zeroline": false,
            "zerolinecolor": "rgb(36,36,36)"
           }
          },
          "shapedefaults": {
           "fillcolor": "black",
           "line": {
            "width": 0
           },
           "opacity": 0.3
          },
          "ternary": {
           "aaxis": {
            "gridcolor": "rgb(232,232,232)",
            "linecolor": "rgb(36,36,36)",
            "showgrid": false,
            "showline": true,
            "ticks": "outside"
           },
           "baxis": {
            "gridcolor": "rgb(232,232,232)",
            "linecolor": "rgb(36,36,36)",
            "showgrid": false,
            "showline": true,
            "ticks": "outside"
           },
           "bgcolor": "white",
           "caxis": {
            "gridcolor": "rgb(232,232,232)",
            "linecolor": "rgb(36,36,36)",
            "showgrid": false,
            "showline": true,
            "ticks": "outside"
           }
          },
          "title": {
           "x": 0.05
          },
          "xaxis": {
           "automargin": true,
           "gridcolor": "rgb(232,232,232)",
           "linecolor": "rgb(36,36,36)",
           "showgrid": false,
           "showline": true,
           "ticks": "outside",
           "title": {
            "standoff": 15
           },
           "zeroline": false,
           "zerolinecolor": "rgb(36,36,36)"
          },
          "yaxis": {
           "automargin": true,
           "gridcolor": "rgb(232,232,232)",
           "linecolor": "rgb(36,36,36)",
           "showgrid": false,
           "showline": true,
           "ticks": "outside",
           "title": {
            "standoff": 15
           },
           "zeroline": false,
           "zerolinecolor": "rgb(36,36,36)"
          }
         }
        },
        "title": {
         "text": "USA"
        },
        "width": 1100,
        "xaxis": {
         "anchor": "y",
         "domain": [
          0,
          0.45
         ]
        },
        "xaxis2": {
         "anchor": "y2",
         "domain": [
          0.55,
          1
         ]
        },
        "xaxis3": {
         "anchor": "y3",
         "domain": [
          0,
          0.45
         ]
        },
        "xaxis4": {
         "anchor": "y4",
         "domain": [
          0.55,
          1
         ]
        },
        "yaxis": {
         "anchor": "x",
         "domain": [
          0.575,
          1
         ],
         "dtick": 1,
         "range": [
          1,
          7
         ]
        },
        "yaxis2": {
         "anchor": "x2",
         "domain": [
          0.575,
          1
         ],
         "dtick": 1,
         "range": [
          1,
          7
         ]
        },
        "yaxis3": {
         "anchor": "x3",
         "domain": [
          0,
          0.425
         ],
         "dtick": 1,
         "range": [
          1,
          7
         ]
        },
        "yaxis4": {
         "anchor": "x4",
         "domain": [
          0,
          0.425
         ],
         "dtick": 1,
         "range": [
          1,
          7
         ]
        }
       }
      }
     },
     "metadata": {},
     "output_type": "display_data"
    }
   ],
   "source": [
    "create_line_subplot(\n",
    "    data=data_usa, output_file_name=\"scenarios_usa\", show_fig=True, fig_title=\"USA\"\n",
    ")"
   ]
  },
  {
   "cell_type": "markdown",
   "metadata": {},
   "source": [
    "## who is perceied to feel / act more responsible?"
   ]
  },
  {
   "cell_type": "code",
   "execution_count": 14,
   "metadata": {},
   "outputs": [
    {
     "data": {
      "text/html": [
       "<div>\n",
       "<style scoped>\n",
       "    .dataframe tbody tr th:only-of-type {\n",
       "        vertical-align: middle;\n",
       "    }\n",
       "\n",
       "    .dataframe tbody tr th {\n",
       "        vertical-align: top;\n",
       "    }\n",
       "\n",
       "    .dataframe thead th {\n",
       "        text-align: right;\n",
       "    }\n",
       "</style>\n",
       "<table border=\"1\" class=\"dataframe\">\n",
       "  <thead>\n",
       "    <tr style=\"text-align: right;\">\n",
       "      <th></th>\n",
       "      <th>t1_feel</th>\n",
       "      <th>t2_feel</th>\n",
       "      <th>t1_act</th>\n",
       "      <th>t2_act</th>\n",
       "    </tr>\n",
       "  </thead>\n",
       "  <tbody>\n",
       "    <tr>\n",
       "      <th>count</th>\n",
       "      <td>680.000000</td>\n",
       "      <td>680.000000</td>\n",
       "      <td>680.000000</td>\n",
       "      <td>680.000000</td>\n",
       "    </tr>\n",
       "    <tr>\n",
       "      <th>mean</th>\n",
       "      <td>4.786765</td>\n",
       "      <td>5.948529</td>\n",
       "      <td>5.213235</td>\n",
       "      <td>4.685294</td>\n",
       "    </tr>\n",
       "    <tr>\n",
       "      <th>std</th>\n",
       "      <td>1.887124</td>\n",
       "      <td>1.290727</td>\n",
       "      <td>1.566438</td>\n",
       "      <td>1.632085</td>\n",
       "    </tr>\n",
       "    <tr>\n",
       "      <th>min</th>\n",
       "      <td>1.000000</td>\n",
       "      <td>1.000000</td>\n",
       "      <td>1.000000</td>\n",
       "      <td>1.000000</td>\n",
       "    </tr>\n",
       "    <tr>\n",
       "      <th>25%</th>\n",
       "      <td>3.000000</td>\n",
       "      <td>5.000000</td>\n",
       "      <td>4.000000</td>\n",
       "      <td>4.000000</td>\n",
       "    </tr>\n",
       "    <tr>\n",
       "      <th>50%</th>\n",
       "      <td>5.000000</td>\n",
       "      <td>6.000000</td>\n",
       "      <td>6.000000</td>\n",
       "      <td>5.000000</td>\n",
       "    </tr>\n",
       "    <tr>\n",
       "      <th>75%</th>\n",
       "      <td>6.000000</td>\n",
       "      <td>7.000000</td>\n",
       "      <td>6.000000</td>\n",
       "      <td>6.000000</td>\n",
       "    </tr>\n",
       "    <tr>\n",
       "      <th>max</th>\n",
       "      <td>7.000000</td>\n",
       "      <td>7.000000</td>\n",
       "      <td>7.000000</td>\n",
       "      <td>7.000000</td>\n",
       "    </tr>\n",
       "  </tbody>\n",
       "</table>\n",
       "</div>"
      ],
      "text/plain": [
       "          t1_feel     t2_feel      t1_act      t2_act\n",
       "count  680.000000  680.000000  680.000000  680.000000\n",
       "mean     4.786765    5.948529    5.213235    4.685294\n",
       "std      1.887124    1.290727    1.566438    1.632085\n",
       "min      1.000000    1.000000    1.000000    1.000000\n",
       "25%      3.000000    5.000000    4.000000    4.000000\n",
       "50%      5.000000    6.000000    6.000000    5.000000\n",
       "75%      6.000000    7.000000    6.000000    6.000000\n",
       "max      7.000000    7.000000    7.000000    7.000000"
      ]
     },
     "execution_count": 14,
     "metadata": {},
     "output_type": "execute_result"
    }
   ],
   "source": [
    "# who is perceied to feel more responsible?\n",
    "t1_columns_feel = [f\"FRS{x}T1\" for x in range(1, 5)]\n",
    "t2_columns_feel = [f\"FRS{x}T2\" for x in range(1, 5)]\n",
    "\n",
    "# who is perceied to act more responsible?\n",
    "t1_columns_act = [f\"ARS{x}T1\" for x in range(1, 5)]\n",
    "t2_columns_act = [f\"ARS{x}T2\" for x in range(1, 5)]\n",
    "\n",
    "pd.DataFrame(\n",
    "    {\n",
    "        \"t1_feel\": data_all[t1_columns_feel].to_numpy().reshape(-1),\n",
    "        \"t2_feel\": data_all[t2_columns_feel].to_numpy().reshape(-1),\n",
    "        \"t1_act\": data_all[t1_columns_act].to_numpy().reshape(-1),\n",
    "        \"t2_act\": data_all[t2_columns_act].to_numpy().reshape(-1),\n",
    "    }\n",
    ").describe()"
   ]
  },
  {
   "cell_type": "markdown",
   "metadata": {},
   "source": [
    "--> t2 (B) will feel more responsible and acted less responsible"
   ]
  },
  {
   "cell_type": "markdown",
   "metadata": {},
   "source": [
    "## Regression"
   ]
  },
  {
   "cell_type": "code",
   "execution_count": 15,
   "metadata": {},
   "outputs": [],
   "source": [
    "import statsmodels.api as sm\n",
    "import statsmodels.formula.api as smf"
   ]
  },
  {
   "cell_type": "code",
   "execution_count": 16,
   "metadata": {},
   "outputs": [
    {
     "data": {
      "text/plain": [
       "{'1': {'yes': '1_and_4', 'no': '2_and_3'},\n",
       " '2': {'yes': '2_and_3', 'no': '1_and_4'},\n",
       " '3': {'yes': '2_and_3', 'no': '1_and_4'},\n",
       " '4': {'yes': '1_and_4', 'no': '2_and_3'}}"
      ]
     },
     "execution_count": 16,
     "metadata": {},
     "output_type": "execute_result"
    }
   ],
   "source": [
    "scenario_dict_pa\n",
    "# scenario_dict_outcome"
   ]
  },
  {
   "cell_type": "code",
   "execution_count": 17,
   "metadata": {},
   "outputs": [],
   "source": [
    "def get_regression_df(szenario_nr, dependent_variable):\n",
    "    t1_df = (\n",
    "        data_all[\n",
    "            [\n",
    "                \"positive_szenarios\",\n",
    "                \"treatment_pa\",\n",
    "                f\"{dependent_variable}S{szenario_nr}T1\",\n",
    "            ]\n",
    "        ]\n",
    "        .assign(\n",
    "            outcome_positive=data_all.positive_szenarios.replace(\n",
    "                scenario_dict_outcome[str(szenario_nr)][\"positive\"], 1\n",
    "            ).replace(scenario_dict_outcome[str(szenario_nr)][\"negative\"], 0),\n",
    "            pa_available=data_all.treatment_pa.replace(\n",
    "                scenario_dict_pa[str(szenario_nr)][\"yes\"], 1\n",
    "            ).replace(scenario_dict_pa[str(szenario_nr)][\"no\"], 0),\n",
    "            participant=range(data_all.shape[0]),\n",
    "            active_teamlead=1,\n",
    "            origin_usa=data_all.origin == \"USA\",\n",
    "        )\n",
    "        .rename(columns={f\"{dependent_variable}S{szenario_nr}T1\": dependent_variable})\n",
    "        .astype({\"origin_usa\": \"int\"})\n",
    "    )\n",
    "\n",
    "    t2_df = (\n",
    "        data_all[\n",
    "            [\n",
    "                \"positive_szenarios\",\n",
    "                \"treatment_pa\",\n",
    "                f\"{dependent_variable}S{szenario_nr}T2\",\n",
    "            ]\n",
    "        ]\n",
    "        .assign(\n",
    "            outcome_positive=data_all.positive_szenarios.replace(\n",
    "                scenario_dict_outcome[str(szenario_nr)][\"positive\"], 1\n",
    "            ).replace(scenario_dict_outcome[str(szenario_nr)][\"negative\"], 0),\n",
    "            pa_available=data_all.treatment_pa.replace(\n",
    "                scenario_dict_pa[str(szenario_nr)][\"yes\"], 1\n",
    "            ).replace(scenario_dict_pa[str(szenario_nr)][\"no\"], 0),\n",
    "            participant=range(data_all.shape[0]),\n",
    "            active_teamlead=0,\n",
    "            origin_usa=data_all.origin == \"USA\",\n",
    "        )\n",
    "        .rename(columns={f\"{dependent_variable}S{szenario_nr}T2\": dependent_variable})\n",
    "        .astype({\"origin_usa\": \"int\"})\n",
    "    )\n",
    "\n",
    "    return pd.concat([t1_df, t2_df], axis=0).loc[\n",
    "        :,\n",
    "        [\n",
    "            dependent_variable,\n",
    "            \"outcome_positive\",\n",
    "            \"pa_available\",\n",
    "            \"active_teamlead\",\n",
    "            \"participant\",\n",
    "            \"origin_usa\",\n",
    "        ],\n",
    "    ]"
   ]
  },
  {
   "cell_type": "code",
   "execution_count": 18,
   "metadata": {},
   "outputs": [
    {
     "name": "stdout",
     "output_type": "stream",
     "text": [
      "scenario=3, dependent_variable='FR'\n",
      "=================================================================================================================\n",
      "                                                    coef    std err          t      P>|t|      [0.025      0.975]\n",
      "-----------------------------------------------------------------------------------------------------------------\n",
      "Intercept                                         1.7598      0.064     27.541      0.000       1.634       1.885\n",
      "outcome_positive                                  0.0790      0.080      0.988      0.324      -0.078       0.236\n",
      "pa_available                                      0.0127      0.076      0.167      0.868      -0.138       0.163\n",
      "outcome_positive:pa_available                    -0.0185      0.113     -0.164      0.870      -0.241       0.204\n",
      "active_teamlead                                  -0.2302      0.076     -3.044      0.003      -0.379      -0.081\n",
      "outcome_positive:active_teamlead                  0.0470      0.113      0.416      0.678      -0.175       0.270\n",
      "pa_available:active_teamlead                     -0.1602      0.108     -1.482      0.139      -0.373       0.053\n",
      "outcome_positive:pa_available:active_teamlead     0.3185      0.160      1.995      0.047       0.004       0.633\n",
      "1 | participant                                  -0.0002      0.000     -0.598      0.550      -0.001       0.001\n",
      "=================================================================================================================\n",
      "--------------------\n",
      "scenario=4, dependent_variable='FR'\n",
      "=================================================================================================================\n",
      "                                                    coef    std err          t      P>|t|      [0.025      0.975]\n",
      "-----------------------------------------------------------------------------------------------------------------\n",
      "Intercept                                         1.7413      0.079     21.922      0.000       1.585       1.898\n",
      "outcome_positive                                 -0.0643      0.095     -0.680      0.497      -0.250       0.122\n",
      "pa_available                                     -0.1850      0.099     -1.877      0.061      -0.379       0.009\n",
      "outcome_positive:pa_available                     0.2054      0.134      1.533      0.126      -0.058       0.469\n",
      "active_teamlead                                  -0.1081      0.097     -1.111      0.267      -0.300       0.083\n",
      "outcome_positive:active_teamlead                  0.1263      0.134      0.945      0.345      -0.137       0.389\n",
      "pa_available:active_teamlead                      0.2215      0.139      1.589      0.113      -0.053       0.496\n",
      "outcome_positive:pa_available:active_teamlead    -0.4263      0.189     -2.250      0.025      -0.799      -0.054\n",
      "1 | participant                                  -0.0003      0.000     -0.589      0.556      -0.001       0.001\n",
      "=================================================================================================================\n",
      "--------------------\n"
     ]
    }
   ],
   "source": [
    "# NEXT: CONTROLL FOR ALGORITHMIC AVERSION!!\n",
    "\n",
    "for scenario in range(1, 5):\n",
    "    for dependent_variable in [\"AR\", \"FR\"]:\n",
    "        regression_df = get_regression_df(scenario, dependent_variable)\n",
    "\n",
    "        mod = smf.ols(\n",
    "            formula=f\"np.log({dependent_variable}) ~ outcome_positive * pa_available * active_teamlead + 1|participant\",\n",
    "            data=regression_df,\n",
    "        )\n",
    "        res = mod.fit()\n",
    "        # reg_table = res.summary().tables[1]\n",
    "        if (\n",
    "            min(\n",
    "                res.pvalues[\"pa_available\"],\n",
    "                res.pvalues[\"outcome_positive:pa_available\"],\n",
    "                res.pvalues[\"outcome_positive:pa_available:active_teamlead\"],\n",
    "            )\n",
    "            < 0.05\n",
    "        ):\n",
    "            print(f\"{scenario=}, {dependent_variable=}\")\n",
    "            print(res.summary().tables[1])\n",
    "            print(20 * \"-\")"
   ]
  },
  {
   "cell_type": "code",
   "execution_count": 19,
   "metadata": {},
   "outputs": [],
   "source": [
    "for scenario in range(1, 5):\n",
    "    for dependent_variable in [\"PR\"]:\n",
    "        regression_df = get_regression_df(scenario, dependent_variable)\n",
    "\n",
    "        mod = smf.ols(\n",
    "            formula=f\"np.log({dependent_variable}) ~  pa_available * active_teamlead + 1|participant\",\n",
    "            data=regression_df,\n",
    "        )\n",
    "        res = mod.fit()\n",
    "        # reg_table = res.summary().tables[1]\n",
    "        if (\n",
    "            min(\n",
    "                res.pvalues[\"pa_available\"],\n",
    "                res.pvalues[\"pa_available:active_teamlead\"],\n",
    "            )\n",
    "            < 0.05\n",
    "        ):\n",
    "            print(f\"{scenario=}, {dependent_variable=}\")\n",
    "            print(res.summary().tables[1])\n",
    "            print(20 * \"-\")"
   ]
  },
  {
   "cell_type": "code",
   "execution_count": 20,
   "metadata": {},
   "outputs": [
    {
     "ename": "NameError",
     "evalue": "name 'reg_table' is not defined",
     "output_type": "error",
     "traceback": [
      "\u001b[0;31m---------------------------------------------------------------------------\u001b[0m",
      "\u001b[0;31mNameError\u001b[0m                                 Traceback (most recent call last)",
      "\u001b[1;32m/Users/david/Documents/CodeProjects/pa-leadership-survey/analysis/notebooks/analysis.ipynb Cell 25\u001b[0m line \u001b[0;36m1\n\u001b[0;32m----> <a href='vscode-notebook-cell:/Users/david/Documents/CodeProjects/pa-leadership-survey/analysis/notebooks/analysis.ipynb#Y102sZmlsZQ%3D%3D?line=0'>1</a>\u001b[0m summary_df \u001b[39m=\u001b[39m pd\u001b[39m.\u001b[39mDataFrame(reg_table\u001b[39m.\u001b[39mdata, columns\u001b[39m=\u001b[39mreg_table\u001b[39m.\u001b[39mheader)\n",
      "\u001b[0;31mNameError\u001b[0m: name 'reg_table' is not defined"
     ]
    }
   ],
   "source": [
    "summary_df = pd.DataFrame(reg_table.data, columns=reg_table.header)"
   ]
  },
  {
   "cell_type": "code",
   "execution_count": null,
   "metadata": {},
   "outputs": [],
   "source": []
  },
  {
   "cell_type": "code",
   "execution_count": null,
   "metadata": {},
   "outputs": [],
   "source": []
  },
  {
   "cell_type": "code",
   "execution_count": null,
   "metadata": {},
   "outputs": [],
   "source": []
  },
  {
   "cell_type": "markdown",
   "metadata": {},
   "source": [
    "## Vignette 1 -- Choosing a familiar or new solution"
   ]
  },
  {
   "cell_type": "code",
   "execution_count": null,
   "metadata": {},
   "outputs": [],
   "source": [
    "## what is perceived more risky?\n",
    "\n",
    "get_mean_scales(\n",
    "    data=data_all,\n",
    "    responsibility_scale=\"risk\",\n",
    "    scenario_nr=1,\n",
    "    solution_type=\"familiar\",\n",
    "    outcome=outcome,\n",
    "    pa=pa_available,\n",
    ")"
   ]
  }
 ],
 "metadata": {
  "kernelspec": {
   "display_name": "pa-leadership-survey-1DBoniK8",
   "language": "python",
   "name": "python3"
  },
  "language_info": {
   "codemirror_mode": {
    "name": "ipython",
    "version": 3
   },
   "file_extension": ".py",
   "mimetype": "text/x-python",
   "name": "python",
   "nbconvert_exporter": "python",
   "pygments_lexer": "ipython3",
   "version": "3.11.6"
  }
 },
 "nbformat": 4,
 "nbformat_minor": 2
}
