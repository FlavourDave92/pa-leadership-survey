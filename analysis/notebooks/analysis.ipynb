{
 "cells": [
  {
   "cell_type": "code",
   "execution_count": 53,
   "metadata": {},
   "outputs": [],
   "source": [
    "import pandas as pd\n",
    "\n",
    "pd.options.plotting.backend = \"plotly\"\n",
    "import plotly\n",
    "import plotly.graph_objects as go\n",
    "\n",
    "\n",
    "import plotly.io as pio\n",
    "import plotly.express as px\n",
    "\n",
    "pio.templates.default = \"simple_white\""
   ]
  },
  {
   "cell_type": "code",
   "execution_count": 2,
   "metadata": {},
   "outputs": [],
   "source": [
    "time_taken = pd.Series([1174.0,\n",
    "573.0,\n",
    "358.0,\n",
    "983.0,\n",
    "455.0,\n",
    "242.0,\n",
    "255.0,\n",
    "389.0,\n",
    "323.0,\n",
    "465.0,\n",
    "436.0,\n",
    "1094.0,\n",
    "283.0,\n",
    "947.0,\n",
    "291.0,\n",
    "719.0,\n",
    "364.0,\n",
    "343.0,\n",
    "185.0,\n",
    "271.0,\n",
    "685.0,\n",
    "342.0,\n",
    "1752.0,\n",
    "215.0,\n",
    "2324.0,\n",
    "747.0,\n",
    "571.0,\n",
    "477.0,\n",
    "654.0,\n",
    "288.0,\n",
    "419.0,\n",
    "235.0,\n",
    "347.0,\n",
    "785.0,\n",
    "678.0,\n",
    "716.0,\n",
    "474.0,\n",
    "334.0,\n",
    "891.0,\n",
    "268.0,\n",
    "271.0,\n",
    "652.0,\n",
    "344.0,\n",
    "170.0,\n",
    "249.0,\n",
    "225.0,\n",
    "349.0,\n",
    "231.0,\n",
    "376.0,\n",
    "486.0,\n",
    "875.0,\n",
    "298.0,\n",
    "269.0,\n",
    "801.0,\n",
    "295.0,\n",
    "635.0,\n",
    "370.0,\n",
    "145.0,\n",
    "698.0,\n",
    "409.0,\n",
    "678.0,\n",
    "282.0,\n",
    "305.0,\n",
    "372.0,\n",
    "465.0,\n",
    "639.0,\n",
    "202.0,\n",
    "285.0,\n",
    "627.0,\n",
    "364.0,\n",
    "792.0,\n",
    "616.0,\n",
    "398.0,\n",
    "473.0,\n",
    "647.0,\n",
    "332.0,\n",
    "1656.0,\n",
    "202.0,\n",
    "279.0,\n",
    "835.0,\n",
    "678.0,\n",
    "157.0,\n",
    "216.0,\n",
    "693.0,\n",
    "261.0,\n",
    "241.0,\n",
    "275.0,\n",
    "542.0,\n",
    "456.0,\n",
    "383.0,\n",
    "446.0,\n",
    "377.0,\n",
    "332.0,\n",
    "399.0,\n",
    "309.0,\n",
    "585.0,\n",
    "670.0,\n",
    "420.0]\n",
    ")"
   ]
  },
  {
   "cell_type": "code",
   "execution_count": 3,
   "metadata": {},
   "outputs": [
    {
     "data": {
      "application/vnd.plotly.v1+json": {
       "config": {
        "plotlyServerURL": "https://plot.ly"
       },
       "data": [
        {
         "alignmentgroup": "True",
         "bingroup": "x",
         "hovertemplate": "variable=0<br>value=%{x}<br>count=%{y}<extra></extra>",
         "legendgroup": "0",
         "marker": {
          "color": "#1F77B4",
          "pattern": {
           "shape": ""
          }
         },
         "name": "0",
         "offsetgroup": "0",
         "orientation": "v",
         "showlegend": true,
         "type": "histogram",
         "x": [
          1174,
          573,
          358,
          983,
          455,
          242,
          255,
          389,
          323,
          465,
          436,
          1094,
          283,
          947,
          291,
          719,
          364,
          343,
          185,
          271,
          685,
          342,
          1752,
          215,
          2324,
          747,
          571,
          477,
          654,
          288,
          419,
          235,
          347,
          785,
          678,
          716,
          474,
          334,
          891,
          268,
          271,
          652,
          344,
          170,
          249,
          225,
          349,
          231,
          376,
          486,
          875,
          298,
          269,
          801,
          295,
          635,
          370,
          145,
          698,
          409,
          678,
          282,
          305,
          372,
          465,
          639,
          202,
          285,
          627,
          364,
          792,
          616,
          398,
          473,
          647,
          332,
          1656,
          202,
          279,
          835,
          678,
          157,
          216,
          693,
          261,
          241,
          275,
          542,
          456,
          383,
          446,
          377,
          332,
          399,
          309,
          585,
          670,
          420
         ],
         "xaxis": "x",
         "yaxis": "y"
        }
       ],
       "layout": {
        "barmode": "relative",
        "legend": {
         "title": {
          "text": "variable"
         },
         "tracegroupgap": 0
        },
        "margin": {
         "t": 60
        },
        "template": {
         "data": {
          "bar": [
           {
            "error_x": {
             "color": "rgb(36,36,36)"
            },
            "error_y": {
             "color": "rgb(36,36,36)"
            },
            "marker": {
             "line": {
              "color": "white",
              "width": 0.5
             },
             "pattern": {
              "fillmode": "overlay",
              "size": 10,
              "solidity": 0.2
             }
            },
            "type": "bar"
           }
          ],
          "barpolar": [
           {
            "marker": {
             "line": {
              "color": "white",
              "width": 0.5
             },
             "pattern": {
              "fillmode": "overlay",
              "size": 10,
              "solidity": 0.2
             }
            },
            "type": "barpolar"
           }
          ],
          "carpet": [
           {
            "aaxis": {
             "endlinecolor": "rgb(36,36,36)",
             "gridcolor": "white",
             "linecolor": "white",
             "minorgridcolor": "white",
             "startlinecolor": "rgb(36,36,36)"
            },
            "baxis": {
             "endlinecolor": "rgb(36,36,36)",
             "gridcolor": "white",
             "linecolor": "white",
             "minorgridcolor": "white",
             "startlinecolor": "rgb(36,36,36)"
            },
            "type": "carpet"
           }
          ],
          "choropleth": [
           {
            "colorbar": {
             "outlinewidth": 1,
             "tickcolor": "rgb(36,36,36)",
             "ticks": "outside"
            },
            "type": "choropleth"
           }
          ],
          "contour": [
           {
            "colorbar": {
             "outlinewidth": 1,
             "tickcolor": "rgb(36,36,36)",
             "ticks": "outside"
            },
            "colorscale": [
             [
              0,
              "#440154"
             ],
             [
              0.1111111111111111,
              "#482878"
             ],
             [
              0.2222222222222222,
              "#3e4989"
             ],
             [
              0.3333333333333333,
              "#31688e"
             ],
             [
              0.4444444444444444,
              "#26828e"
             ],
             [
              0.5555555555555556,
              "#1f9e89"
             ],
             [
              0.6666666666666666,
              "#35b779"
             ],
             [
              0.7777777777777778,
              "#6ece58"
             ],
             [
              0.8888888888888888,
              "#b5de2b"
             ],
             [
              1,
              "#fde725"
             ]
            ],
            "type": "contour"
           }
          ],
          "contourcarpet": [
           {
            "colorbar": {
             "outlinewidth": 1,
             "tickcolor": "rgb(36,36,36)",
             "ticks": "outside"
            },
            "type": "contourcarpet"
           }
          ],
          "heatmap": [
           {
            "colorbar": {
             "outlinewidth": 1,
             "tickcolor": "rgb(36,36,36)",
             "ticks": "outside"
            },
            "colorscale": [
             [
              0,
              "#440154"
             ],
             [
              0.1111111111111111,
              "#482878"
             ],
             [
              0.2222222222222222,
              "#3e4989"
             ],
             [
              0.3333333333333333,
              "#31688e"
             ],
             [
              0.4444444444444444,
              "#26828e"
             ],
             [
              0.5555555555555556,
              "#1f9e89"
             ],
             [
              0.6666666666666666,
              "#35b779"
             ],
             [
              0.7777777777777778,
              "#6ece58"
             ],
             [
              0.8888888888888888,
              "#b5de2b"
             ],
             [
              1,
              "#fde725"
             ]
            ],
            "type": "heatmap"
           }
          ],
          "heatmapgl": [
           {
            "colorbar": {
             "outlinewidth": 1,
             "tickcolor": "rgb(36,36,36)",
             "ticks": "outside"
            },
            "colorscale": [
             [
              0,
              "#440154"
             ],
             [
              0.1111111111111111,
              "#482878"
             ],
             [
              0.2222222222222222,
              "#3e4989"
             ],
             [
              0.3333333333333333,
              "#31688e"
             ],
             [
              0.4444444444444444,
              "#26828e"
             ],
             [
              0.5555555555555556,
              "#1f9e89"
             ],
             [
              0.6666666666666666,
              "#35b779"
             ],
             [
              0.7777777777777778,
              "#6ece58"
             ],
             [
              0.8888888888888888,
              "#b5de2b"
             ],
             [
              1,
              "#fde725"
             ]
            ],
            "type": "heatmapgl"
           }
          ],
          "histogram": [
           {
            "marker": {
             "line": {
              "color": "white",
              "width": 0.6
             }
            },
            "type": "histogram"
           }
          ],
          "histogram2d": [
           {
            "colorbar": {
             "outlinewidth": 1,
             "tickcolor": "rgb(36,36,36)",
             "ticks": "outside"
            },
            "colorscale": [
             [
              0,
              "#440154"
             ],
             [
              0.1111111111111111,
              "#482878"
             ],
             [
              0.2222222222222222,
              "#3e4989"
             ],
             [
              0.3333333333333333,
              "#31688e"
             ],
             [
              0.4444444444444444,
              "#26828e"
             ],
             [
              0.5555555555555556,
              "#1f9e89"
             ],
             [
              0.6666666666666666,
              "#35b779"
             ],
             [
              0.7777777777777778,
              "#6ece58"
             ],
             [
              0.8888888888888888,
              "#b5de2b"
             ],
             [
              1,
              "#fde725"
             ]
            ],
            "type": "histogram2d"
           }
          ],
          "histogram2dcontour": [
           {
            "colorbar": {
             "outlinewidth": 1,
             "tickcolor": "rgb(36,36,36)",
             "ticks": "outside"
            },
            "colorscale": [
             [
              0,
              "#440154"
             ],
             [
              0.1111111111111111,
              "#482878"
             ],
             [
              0.2222222222222222,
              "#3e4989"
             ],
             [
              0.3333333333333333,
              "#31688e"
             ],
             [
              0.4444444444444444,
              "#26828e"
             ],
             [
              0.5555555555555556,
              "#1f9e89"
             ],
             [
              0.6666666666666666,
              "#35b779"
             ],
             [
              0.7777777777777778,
              "#6ece58"
             ],
             [
              0.8888888888888888,
              "#b5de2b"
             ],
             [
              1,
              "#fde725"
             ]
            ],
            "type": "histogram2dcontour"
           }
          ],
          "mesh3d": [
           {
            "colorbar": {
             "outlinewidth": 1,
             "tickcolor": "rgb(36,36,36)",
             "ticks": "outside"
            },
            "type": "mesh3d"
           }
          ],
          "parcoords": [
           {
            "line": {
             "colorbar": {
              "outlinewidth": 1,
              "tickcolor": "rgb(36,36,36)",
              "ticks": "outside"
             }
            },
            "type": "parcoords"
           }
          ],
          "pie": [
           {
            "automargin": true,
            "type": "pie"
           }
          ],
          "scatter": [
           {
            "fillpattern": {
             "fillmode": "overlay",
             "size": 10,
             "solidity": 0.2
            },
            "type": "scatter"
           }
          ],
          "scatter3d": [
           {
            "line": {
             "colorbar": {
              "outlinewidth": 1,
              "tickcolor": "rgb(36,36,36)",
              "ticks": "outside"
             }
            },
            "marker": {
             "colorbar": {
              "outlinewidth": 1,
              "tickcolor": "rgb(36,36,36)",
              "ticks": "outside"
             }
            },
            "type": "scatter3d"
           }
          ],
          "scattercarpet": [
           {
            "marker": {
             "colorbar": {
              "outlinewidth": 1,
              "tickcolor": "rgb(36,36,36)",
              "ticks": "outside"
             }
            },
            "type": "scattercarpet"
           }
          ],
          "scattergeo": [
           {
            "marker": {
             "colorbar": {
              "outlinewidth": 1,
              "tickcolor": "rgb(36,36,36)",
              "ticks": "outside"
             }
            },
            "type": "scattergeo"
           }
          ],
          "scattergl": [
           {
            "marker": {
             "colorbar": {
              "outlinewidth": 1,
              "tickcolor": "rgb(36,36,36)",
              "ticks": "outside"
             }
            },
            "type": "scattergl"
           }
          ],
          "scattermapbox": [
           {
            "marker": {
             "colorbar": {
              "outlinewidth": 1,
              "tickcolor": "rgb(36,36,36)",
              "ticks": "outside"
             }
            },
            "type": "scattermapbox"
           }
          ],
          "scatterpolar": [
           {
            "marker": {
             "colorbar": {
              "outlinewidth": 1,
              "tickcolor": "rgb(36,36,36)",
              "ticks": "outside"
             }
            },
            "type": "scatterpolar"
           }
          ],
          "scatterpolargl": [
           {
            "marker": {
             "colorbar": {
              "outlinewidth": 1,
              "tickcolor": "rgb(36,36,36)",
              "ticks": "outside"
             }
            },
            "type": "scatterpolargl"
           }
          ],
          "scatterternary": [
           {
            "marker": {
             "colorbar": {
              "outlinewidth": 1,
              "tickcolor": "rgb(36,36,36)",
              "ticks": "outside"
             }
            },
            "type": "scatterternary"
           }
          ],
          "surface": [
           {
            "colorbar": {
             "outlinewidth": 1,
             "tickcolor": "rgb(36,36,36)",
             "ticks": "outside"
            },
            "colorscale": [
             [
              0,
              "#440154"
             ],
             [
              0.1111111111111111,
              "#482878"
             ],
             [
              0.2222222222222222,
              "#3e4989"
             ],
             [
              0.3333333333333333,
              "#31688e"
             ],
             [
              0.4444444444444444,
              "#26828e"
             ],
             [
              0.5555555555555556,
              "#1f9e89"
             ],
             [
              0.6666666666666666,
              "#35b779"
             ],
             [
              0.7777777777777778,
              "#6ece58"
             ],
             [
              0.8888888888888888,
              "#b5de2b"
             ],
             [
              1,
              "#fde725"
             ]
            ],
            "type": "surface"
           }
          ],
          "table": [
           {
            "cells": {
             "fill": {
              "color": "rgb(237,237,237)"
             },
             "line": {
              "color": "white"
             }
            },
            "header": {
             "fill": {
              "color": "rgb(217,217,217)"
             },
             "line": {
              "color": "white"
             }
            },
            "type": "table"
           }
          ]
         },
         "layout": {
          "annotationdefaults": {
           "arrowhead": 0,
           "arrowwidth": 1
          },
          "autotypenumbers": "strict",
          "coloraxis": {
           "colorbar": {
            "outlinewidth": 1,
            "tickcolor": "rgb(36,36,36)",
            "ticks": "outside"
           }
          },
          "colorscale": {
           "diverging": [
            [
             0,
             "rgb(103,0,31)"
            ],
            [
             0.1,
             "rgb(178,24,43)"
            ],
            [
             0.2,
             "rgb(214,96,77)"
            ],
            [
             0.3,
             "rgb(244,165,130)"
            ],
            [
             0.4,
             "rgb(253,219,199)"
            ],
            [
             0.5,
             "rgb(247,247,247)"
            ],
            [
             0.6,
             "rgb(209,229,240)"
            ],
            [
             0.7,
             "rgb(146,197,222)"
            ],
            [
             0.8,
             "rgb(67,147,195)"
            ],
            [
             0.9,
             "rgb(33,102,172)"
            ],
            [
             1,
             "rgb(5,48,97)"
            ]
           ],
           "sequential": [
            [
             0,
             "#440154"
            ],
            [
             0.1111111111111111,
             "#482878"
            ],
            [
             0.2222222222222222,
             "#3e4989"
            ],
            [
             0.3333333333333333,
             "#31688e"
            ],
            [
             0.4444444444444444,
             "#26828e"
            ],
            [
             0.5555555555555556,
             "#1f9e89"
            ],
            [
             0.6666666666666666,
             "#35b779"
            ],
            [
             0.7777777777777778,
             "#6ece58"
            ],
            [
             0.8888888888888888,
             "#b5de2b"
            ],
            [
             1,
             "#fde725"
            ]
           ],
           "sequentialminus": [
            [
             0,
             "#440154"
            ],
            [
             0.1111111111111111,
             "#482878"
            ],
            [
             0.2222222222222222,
             "#3e4989"
            ],
            [
             0.3333333333333333,
             "#31688e"
            ],
            [
             0.4444444444444444,
             "#26828e"
            ],
            [
             0.5555555555555556,
             "#1f9e89"
            ],
            [
             0.6666666666666666,
             "#35b779"
            ],
            [
             0.7777777777777778,
             "#6ece58"
            ],
            [
             0.8888888888888888,
             "#b5de2b"
            ],
            [
             1,
             "#fde725"
            ]
           ]
          },
          "colorway": [
           "#1F77B4",
           "#FF7F0E",
           "#2CA02C",
           "#D62728",
           "#9467BD",
           "#8C564B",
           "#E377C2",
           "#7F7F7F",
           "#BCBD22",
           "#17BECF"
          ],
          "font": {
           "color": "rgb(36,36,36)"
          },
          "geo": {
           "bgcolor": "white",
           "lakecolor": "white",
           "landcolor": "white",
           "showlakes": true,
           "showland": true,
           "subunitcolor": "white"
          },
          "hoverlabel": {
           "align": "left"
          },
          "hovermode": "closest",
          "mapbox": {
           "style": "light"
          },
          "paper_bgcolor": "white",
          "plot_bgcolor": "white",
          "polar": {
           "angularaxis": {
            "gridcolor": "rgb(232,232,232)",
            "linecolor": "rgb(36,36,36)",
            "showgrid": false,
            "showline": true,
            "ticks": "outside"
           },
           "bgcolor": "white",
           "radialaxis": {
            "gridcolor": "rgb(232,232,232)",
            "linecolor": "rgb(36,36,36)",
            "showgrid": false,
            "showline": true,
            "ticks": "outside"
           }
          },
          "scene": {
           "xaxis": {
            "backgroundcolor": "white",
            "gridcolor": "rgb(232,232,232)",
            "gridwidth": 2,
            "linecolor": "rgb(36,36,36)",
            "showbackground": true,
            "showgrid": false,
            "showline": true,
            "ticks": "outside",
            "zeroline": false,
            "zerolinecolor": "rgb(36,36,36)"
           },
           "yaxis": {
            "backgroundcolor": "white",
            "gridcolor": "rgb(232,232,232)",
            "gridwidth": 2,
            "linecolor": "rgb(36,36,36)",
            "showbackground": true,
            "showgrid": false,
            "showline": true,
            "ticks": "outside",
            "zeroline": false,
            "zerolinecolor": "rgb(36,36,36)"
           },
           "zaxis": {
            "backgroundcolor": "white",
            "gridcolor": "rgb(232,232,232)",
            "gridwidth": 2,
            "linecolor": "rgb(36,36,36)",
            "showbackground": true,
            "showgrid": false,
            "showline": true,
            "ticks": "outside",
            "zeroline": false,
            "zerolinecolor": "rgb(36,36,36)"
           }
          },
          "shapedefaults": {
           "fillcolor": "black",
           "line": {
            "width": 0
           },
           "opacity": 0.3
          },
          "ternary": {
           "aaxis": {
            "gridcolor": "rgb(232,232,232)",
            "linecolor": "rgb(36,36,36)",
            "showgrid": false,
            "showline": true,
            "ticks": "outside"
           },
           "baxis": {
            "gridcolor": "rgb(232,232,232)",
            "linecolor": "rgb(36,36,36)",
            "showgrid": false,
            "showline": true,
            "ticks": "outside"
           },
           "bgcolor": "white",
           "caxis": {
            "gridcolor": "rgb(232,232,232)",
            "linecolor": "rgb(36,36,36)",
            "showgrid": false,
            "showline": true,
            "ticks": "outside"
           }
          },
          "title": {
           "x": 0.05
          },
          "xaxis": {
           "automargin": true,
           "gridcolor": "rgb(232,232,232)",
           "linecolor": "rgb(36,36,36)",
           "showgrid": false,
           "showline": true,
           "ticks": "outside",
           "title": {
            "standoff": 15
           },
           "zeroline": false,
           "zerolinecolor": "rgb(36,36,36)"
          },
          "yaxis": {
           "automargin": true,
           "gridcolor": "rgb(232,232,232)",
           "linecolor": "rgb(36,36,36)",
           "showgrid": false,
           "showline": true,
           "ticks": "outside",
           "title": {
            "standoff": 15
           },
           "zeroline": false,
           "zerolinecolor": "rgb(36,36,36)"
          }
         }
        },
        "xaxis": {
         "anchor": "y",
         "domain": [
          0,
          1
         ],
         "title": {
          "text": "value"
         }
        },
        "yaxis": {
         "anchor": "x",
         "domain": [
          0,
          1
         ],
         "title": {
          "text": "count"
         }
        }
       }
      }
     },
     "metadata": {},
     "output_type": "display_data"
    }
   ],
   "source": [
    "time_taken.plot.hist()"
   ]
  },
  {
   "cell_type": "code",
   "execution_count": 4,
   "metadata": {},
   "outputs": [
    {
     "data": {
      "text/plain": [
       "Series([], dtype: float64)"
      ]
     },
     "execution_count": 4,
     "metadata": {},
     "output_type": "execute_result"
    }
   ],
   "source": [
    "mean_std_series = pd.Series(\n",
    "    [(x - time_taken.mean()) / time_taken.std() for x in time_taken.to_list()]\n",
    ")\n",
    "mean_std_series.loc[\n",
    "    mean_std_series < mean_std_series.mean() - 3 * mean_std_series.std()\n",
    "]"
   ]
  },
  {
   "cell_type": "code",
   "execution_count": 5,
   "metadata": {},
   "outputs": [
    {
     "data": {
      "application/vnd.plotly.v1+json": {
       "config": {
        "plotlyServerURL": "https://plot.ly"
       },
       "data": [
        {
         "alignmentgroup": "True",
         "bingroup": "x",
         "hovertemplate": "variable=0<br>value=%{x}<br>count=%{y}<extra></extra>",
         "legendgroup": "0",
         "marker": {
          "color": "#1F77B4",
          "pattern": {
           "shape": ""
          }
         },
         "name": "0",
         "offsetgroup": "0",
         "orientation": "v",
         "showlegend": true,
         "type": "histogram",
         "x": [
          1.9772357091535533,
          0.2037067994521083,
          -0.43075029802844195,
          1.413601729531297,
          -0.14450686335117044,
          -0.7730620343435295,
          -0.734699512170287,
          -0.3392704374614789,
          -0.5340340115717873,
          -0.1149972309102146,
          -0.2005751649889865,
          1.7411586496259068,
          -0.6520725413356107,
          1.3073670527438561,
          -0.6284648353828459,
          0.6345474330900633,
          -0.4130445185638684,
          -0.47501474668987564,
          -0.9412669392569777,
          -0.6874841002647576,
          0.5342146827908135,
          -0.47796570993397125,
          3.6828924642407994,
          -0.8527380419341102,
          5.370843439863473,
          0.7171744039247396,
          0.19780487296391713,
          -0.07958567198106761,
          0.44273482222385047,
          -0.6373177251151327,
          -0.2507415401386114,
          -0.7937187770521985,
          -0.46321089371349333,
          0.8293110072003718,
          0.5135579400821445,
          0.6256945433577766,
          -0.08843856171335436,
          -0.5015734158867359,
          1.1421131110745035,
          -0.6963369899970443,
          -0.6874841002647576,
          0.4368328957356593,
          -0.4720637834457801,
          -0.9855313879184114,
          -0.7524052916348604,
          -0.8232284094931543,
          -0.4573089672253022,
          -0.8055226300285809,
          -0.37763295963472143,
          -0.053027002784207376,
          1.0948976991689743,
          -0.6078080926741769,
          -0.6933860267529488,
          0.8765264191059011,
          -0.6166609824064636,
          0.3866665205860344,
          -0.39533873909929496,
          -1.059305469020801,
          0.5725772049640561,
          -0.2802511725795672,
          0.5135579400821445,
          -0.6550235045797062,
          -0.5871513499655078,
          -0.38943681261110374,
          -0.1149972309102146,
          0.3984703735624167,
          -0.8911005641073528,
          -0.6461706148474194,
          0.3630588146332697,
          -0.4130445185638684,
          0.8499677499090409,
          0.33059821894821834,
          -0.3127117682646186,
          -0.09138952495744995,
          0.4220780795151814,
          -0.5074753423749271,
          3.399599992807624,
          -0.8911005641073528,
          -0.663876394311993,
          0.9768591694051509,
          0.5135579400821445,
          -1.023893910091654,
          -0.8497870786900146,
          0.5578223887435781,
          -0.7169937327057134,
          -0.7760129975876251,
          -0.6756802472883753,
          0.11222693888514525,
          -0.14155590010707483,
          -0.35697621692605236,
          -0.17106553254803067,
          -0.3746819963906259,
          -0.5074753423749271,
          -0.30976080502052306,
          -0.5753474969891255,
          0.23911835838125528,
          0.48995023412937977,
          -0.2477905768945158
         ],
         "xaxis": "x",
         "yaxis": "y"
        }
       ],
       "layout": {
        "barmode": "relative",
        "legend": {
         "title": {
          "text": "variable"
         },
         "tracegroupgap": 0
        },
        "margin": {
         "t": 60
        },
        "template": {
         "data": {
          "bar": [
           {
            "error_x": {
             "color": "rgb(36,36,36)"
            },
            "error_y": {
             "color": "rgb(36,36,36)"
            },
            "marker": {
             "line": {
              "color": "white",
              "width": 0.5
             },
             "pattern": {
              "fillmode": "overlay",
              "size": 10,
              "solidity": 0.2
             }
            },
            "type": "bar"
           }
          ],
          "barpolar": [
           {
            "marker": {
             "line": {
              "color": "white",
              "width": 0.5
             },
             "pattern": {
              "fillmode": "overlay",
              "size": 10,
              "solidity": 0.2
             }
            },
            "type": "barpolar"
           }
          ],
          "carpet": [
           {
            "aaxis": {
             "endlinecolor": "rgb(36,36,36)",
             "gridcolor": "white",
             "linecolor": "white",
             "minorgridcolor": "white",
             "startlinecolor": "rgb(36,36,36)"
            },
            "baxis": {
             "endlinecolor": "rgb(36,36,36)",
             "gridcolor": "white",
             "linecolor": "white",
             "minorgridcolor": "white",
             "startlinecolor": "rgb(36,36,36)"
            },
            "type": "carpet"
           }
          ],
          "choropleth": [
           {
            "colorbar": {
             "outlinewidth": 1,
             "tickcolor": "rgb(36,36,36)",
             "ticks": "outside"
            },
            "type": "choropleth"
           }
          ],
          "contour": [
           {
            "colorbar": {
             "outlinewidth": 1,
             "tickcolor": "rgb(36,36,36)",
             "ticks": "outside"
            },
            "colorscale": [
             [
              0,
              "#440154"
             ],
             [
              0.1111111111111111,
              "#482878"
             ],
             [
              0.2222222222222222,
              "#3e4989"
             ],
             [
              0.3333333333333333,
              "#31688e"
             ],
             [
              0.4444444444444444,
              "#26828e"
             ],
             [
              0.5555555555555556,
              "#1f9e89"
             ],
             [
              0.6666666666666666,
              "#35b779"
             ],
             [
              0.7777777777777778,
              "#6ece58"
             ],
             [
              0.8888888888888888,
              "#b5de2b"
             ],
             [
              1,
              "#fde725"
             ]
            ],
            "type": "contour"
           }
          ],
          "contourcarpet": [
           {
            "colorbar": {
             "outlinewidth": 1,
             "tickcolor": "rgb(36,36,36)",
             "ticks": "outside"
            },
            "type": "contourcarpet"
           }
          ],
          "heatmap": [
           {
            "colorbar": {
             "outlinewidth": 1,
             "tickcolor": "rgb(36,36,36)",
             "ticks": "outside"
            },
            "colorscale": [
             [
              0,
              "#440154"
             ],
             [
              0.1111111111111111,
              "#482878"
             ],
             [
              0.2222222222222222,
              "#3e4989"
             ],
             [
              0.3333333333333333,
              "#31688e"
             ],
             [
              0.4444444444444444,
              "#26828e"
             ],
             [
              0.5555555555555556,
              "#1f9e89"
             ],
             [
              0.6666666666666666,
              "#35b779"
             ],
             [
              0.7777777777777778,
              "#6ece58"
             ],
             [
              0.8888888888888888,
              "#b5de2b"
             ],
             [
              1,
              "#fde725"
             ]
            ],
            "type": "heatmap"
           }
          ],
          "heatmapgl": [
           {
            "colorbar": {
             "outlinewidth": 1,
             "tickcolor": "rgb(36,36,36)",
             "ticks": "outside"
            },
            "colorscale": [
             [
              0,
              "#440154"
             ],
             [
              0.1111111111111111,
              "#482878"
             ],
             [
              0.2222222222222222,
              "#3e4989"
             ],
             [
              0.3333333333333333,
              "#31688e"
             ],
             [
              0.4444444444444444,
              "#26828e"
             ],
             [
              0.5555555555555556,
              "#1f9e89"
             ],
             [
              0.6666666666666666,
              "#35b779"
             ],
             [
              0.7777777777777778,
              "#6ece58"
             ],
             [
              0.8888888888888888,
              "#b5de2b"
             ],
             [
              1,
              "#fde725"
             ]
            ],
            "type": "heatmapgl"
           }
          ],
          "histogram": [
           {
            "marker": {
             "line": {
              "color": "white",
              "width": 0.6
             }
            },
            "type": "histogram"
           }
          ],
          "histogram2d": [
           {
            "colorbar": {
             "outlinewidth": 1,
             "tickcolor": "rgb(36,36,36)",
             "ticks": "outside"
            },
            "colorscale": [
             [
              0,
              "#440154"
             ],
             [
              0.1111111111111111,
              "#482878"
             ],
             [
              0.2222222222222222,
              "#3e4989"
             ],
             [
              0.3333333333333333,
              "#31688e"
             ],
             [
              0.4444444444444444,
              "#26828e"
             ],
             [
              0.5555555555555556,
              "#1f9e89"
             ],
             [
              0.6666666666666666,
              "#35b779"
             ],
             [
              0.7777777777777778,
              "#6ece58"
             ],
             [
              0.8888888888888888,
              "#b5de2b"
             ],
             [
              1,
              "#fde725"
             ]
            ],
            "type": "histogram2d"
           }
          ],
          "histogram2dcontour": [
           {
            "colorbar": {
             "outlinewidth": 1,
             "tickcolor": "rgb(36,36,36)",
             "ticks": "outside"
            },
            "colorscale": [
             [
              0,
              "#440154"
             ],
             [
              0.1111111111111111,
              "#482878"
             ],
             [
              0.2222222222222222,
              "#3e4989"
             ],
             [
              0.3333333333333333,
              "#31688e"
             ],
             [
              0.4444444444444444,
              "#26828e"
             ],
             [
              0.5555555555555556,
              "#1f9e89"
             ],
             [
              0.6666666666666666,
              "#35b779"
             ],
             [
              0.7777777777777778,
              "#6ece58"
             ],
             [
              0.8888888888888888,
              "#b5de2b"
             ],
             [
              1,
              "#fde725"
             ]
            ],
            "type": "histogram2dcontour"
           }
          ],
          "mesh3d": [
           {
            "colorbar": {
             "outlinewidth": 1,
             "tickcolor": "rgb(36,36,36)",
             "ticks": "outside"
            },
            "type": "mesh3d"
           }
          ],
          "parcoords": [
           {
            "line": {
             "colorbar": {
              "outlinewidth": 1,
              "tickcolor": "rgb(36,36,36)",
              "ticks": "outside"
             }
            },
            "type": "parcoords"
           }
          ],
          "pie": [
           {
            "automargin": true,
            "type": "pie"
           }
          ],
          "scatter": [
           {
            "fillpattern": {
             "fillmode": "overlay",
             "size": 10,
             "solidity": 0.2
            },
            "type": "scatter"
           }
          ],
          "scatter3d": [
           {
            "line": {
             "colorbar": {
              "outlinewidth": 1,
              "tickcolor": "rgb(36,36,36)",
              "ticks": "outside"
             }
            },
            "marker": {
             "colorbar": {
              "outlinewidth": 1,
              "tickcolor": "rgb(36,36,36)",
              "ticks": "outside"
             }
            },
            "type": "scatter3d"
           }
          ],
          "scattercarpet": [
           {
            "marker": {
             "colorbar": {
              "outlinewidth": 1,
              "tickcolor": "rgb(36,36,36)",
              "ticks": "outside"
             }
            },
            "type": "scattercarpet"
           }
          ],
          "scattergeo": [
           {
            "marker": {
             "colorbar": {
              "outlinewidth": 1,
              "tickcolor": "rgb(36,36,36)",
              "ticks": "outside"
             }
            },
            "type": "scattergeo"
           }
          ],
          "scattergl": [
           {
            "marker": {
             "colorbar": {
              "outlinewidth": 1,
              "tickcolor": "rgb(36,36,36)",
              "ticks": "outside"
             }
            },
            "type": "scattergl"
           }
          ],
          "scattermapbox": [
           {
            "marker": {
             "colorbar": {
              "outlinewidth": 1,
              "tickcolor": "rgb(36,36,36)",
              "ticks": "outside"
             }
            },
            "type": "scattermapbox"
           }
          ],
          "scatterpolar": [
           {
            "marker": {
             "colorbar": {
              "outlinewidth": 1,
              "tickcolor": "rgb(36,36,36)",
              "ticks": "outside"
             }
            },
            "type": "scatterpolar"
           }
          ],
          "scatterpolargl": [
           {
            "marker": {
             "colorbar": {
              "outlinewidth": 1,
              "tickcolor": "rgb(36,36,36)",
              "ticks": "outside"
             }
            },
            "type": "scatterpolargl"
           }
          ],
          "scatterternary": [
           {
            "marker": {
             "colorbar": {
              "outlinewidth": 1,
              "tickcolor": "rgb(36,36,36)",
              "ticks": "outside"
             }
            },
            "type": "scatterternary"
           }
          ],
          "surface": [
           {
            "colorbar": {
             "outlinewidth": 1,
             "tickcolor": "rgb(36,36,36)",
             "ticks": "outside"
            },
            "colorscale": [
             [
              0,
              "#440154"
             ],
             [
              0.1111111111111111,
              "#482878"
             ],
             [
              0.2222222222222222,
              "#3e4989"
             ],
             [
              0.3333333333333333,
              "#31688e"
             ],
             [
              0.4444444444444444,
              "#26828e"
             ],
             [
              0.5555555555555556,
              "#1f9e89"
             ],
             [
              0.6666666666666666,
              "#35b779"
             ],
             [
              0.7777777777777778,
              "#6ece58"
             ],
             [
              0.8888888888888888,
              "#b5de2b"
             ],
             [
              1,
              "#fde725"
             ]
            ],
            "type": "surface"
           }
          ],
          "table": [
           {
            "cells": {
             "fill": {
              "color": "rgb(237,237,237)"
             },
             "line": {
              "color": "white"
             }
            },
            "header": {
             "fill": {
              "color": "rgb(217,217,217)"
             },
             "line": {
              "color": "white"
             }
            },
            "type": "table"
           }
          ]
         },
         "layout": {
          "annotationdefaults": {
           "arrowhead": 0,
           "arrowwidth": 1
          },
          "autotypenumbers": "strict",
          "coloraxis": {
           "colorbar": {
            "outlinewidth": 1,
            "tickcolor": "rgb(36,36,36)",
            "ticks": "outside"
           }
          },
          "colorscale": {
           "diverging": [
            [
             0,
             "rgb(103,0,31)"
            ],
            [
             0.1,
             "rgb(178,24,43)"
            ],
            [
             0.2,
             "rgb(214,96,77)"
            ],
            [
             0.3,
             "rgb(244,165,130)"
            ],
            [
             0.4,
             "rgb(253,219,199)"
            ],
            [
             0.5,
             "rgb(247,247,247)"
            ],
            [
             0.6,
             "rgb(209,229,240)"
            ],
            [
             0.7,
             "rgb(146,197,222)"
            ],
            [
             0.8,
             "rgb(67,147,195)"
            ],
            [
             0.9,
             "rgb(33,102,172)"
            ],
            [
             1,
             "rgb(5,48,97)"
            ]
           ],
           "sequential": [
            [
             0,
             "#440154"
            ],
            [
             0.1111111111111111,
             "#482878"
            ],
            [
             0.2222222222222222,
             "#3e4989"
            ],
            [
             0.3333333333333333,
             "#31688e"
            ],
            [
             0.4444444444444444,
             "#26828e"
            ],
            [
             0.5555555555555556,
             "#1f9e89"
            ],
            [
             0.6666666666666666,
             "#35b779"
            ],
            [
             0.7777777777777778,
             "#6ece58"
            ],
            [
             0.8888888888888888,
             "#b5de2b"
            ],
            [
             1,
             "#fde725"
            ]
           ],
           "sequentialminus": [
            [
             0,
             "#440154"
            ],
            [
             0.1111111111111111,
             "#482878"
            ],
            [
             0.2222222222222222,
             "#3e4989"
            ],
            [
             0.3333333333333333,
             "#31688e"
            ],
            [
             0.4444444444444444,
             "#26828e"
            ],
            [
             0.5555555555555556,
             "#1f9e89"
            ],
            [
             0.6666666666666666,
             "#35b779"
            ],
            [
             0.7777777777777778,
             "#6ece58"
            ],
            [
             0.8888888888888888,
             "#b5de2b"
            ],
            [
             1,
             "#fde725"
            ]
           ]
          },
          "colorway": [
           "#1F77B4",
           "#FF7F0E",
           "#2CA02C",
           "#D62728",
           "#9467BD",
           "#8C564B",
           "#E377C2",
           "#7F7F7F",
           "#BCBD22",
           "#17BECF"
          ],
          "font": {
           "color": "rgb(36,36,36)"
          },
          "geo": {
           "bgcolor": "white",
           "lakecolor": "white",
           "landcolor": "white",
           "showlakes": true,
           "showland": true,
           "subunitcolor": "white"
          },
          "hoverlabel": {
           "align": "left"
          },
          "hovermode": "closest",
          "mapbox": {
           "style": "light"
          },
          "paper_bgcolor": "white",
          "plot_bgcolor": "white",
          "polar": {
           "angularaxis": {
            "gridcolor": "rgb(232,232,232)",
            "linecolor": "rgb(36,36,36)",
            "showgrid": false,
            "showline": true,
            "ticks": "outside"
           },
           "bgcolor": "white",
           "radialaxis": {
            "gridcolor": "rgb(232,232,232)",
            "linecolor": "rgb(36,36,36)",
            "showgrid": false,
            "showline": true,
            "ticks": "outside"
           }
          },
          "scene": {
           "xaxis": {
            "backgroundcolor": "white",
            "gridcolor": "rgb(232,232,232)",
            "gridwidth": 2,
            "linecolor": "rgb(36,36,36)",
            "showbackground": true,
            "showgrid": false,
            "showline": true,
            "ticks": "outside",
            "zeroline": false,
            "zerolinecolor": "rgb(36,36,36)"
           },
           "yaxis": {
            "backgroundcolor": "white",
            "gridcolor": "rgb(232,232,232)",
            "gridwidth": 2,
            "linecolor": "rgb(36,36,36)",
            "showbackground": true,
            "showgrid": false,
            "showline": true,
            "ticks": "outside",
            "zeroline": false,
            "zerolinecolor": "rgb(36,36,36)"
           },
           "zaxis": {
            "backgroundcolor": "white",
            "gridcolor": "rgb(232,232,232)",
            "gridwidth": 2,
            "linecolor": "rgb(36,36,36)",
            "showbackground": true,
            "showgrid": false,
            "showline": true,
            "ticks": "outside",
            "zeroline": false,
            "zerolinecolor": "rgb(36,36,36)"
           }
          },
          "shapedefaults": {
           "fillcolor": "black",
           "line": {
            "width": 0
           },
           "opacity": 0.3
          },
          "ternary": {
           "aaxis": {
            "gridcolor": "rgb(232,232,232)",
            "linecolor": "rgb(36,36,36)",
            "showgrid": false,
            "showline": true,
            "ticks": "outside"
           },
           "baxis": {
            "gridcolor": "rgb(232,232,232)",
            "linecolor": "rgb(36,36,36)",
            "showgrid": false,
            "showline": true,
            "ticks": "outside"
           },
           "bgcolor": "white",
           "caxis": {
            "gridcolor": "rgb(232,232,232)",
            "linecolor": "rgb(36,36,36)",
            "showgrid": false,
            "showline": true,
            "ticks": "outside"
           }
          },
          "title": {
           "x": 0.05
          },
          "xaxis": {
           "automargin": true,
           "gridcolor": "rgb(232,232,232)",
           "linecolor": "rgb(36,36,36)",
           "showgrid": false,
           "showline": true,
           "ticks": "outside",
           "title": {
            "standoff": 15
           },
           "zeroline": false,
           "zerolinecolor": "rgb(36,36,36)"
          },
          "yaxis": {
           "automargin": true,
           "gridcolor": "rgb(232,232,232)",
           "linecolor": "rgb(36,36,36)",
           "showgrid": false,
           "showline": true,
           "ticks": "outside",
           "title": {
            "standoff": 15
           },
           "zeroline": false,
           "zerolinecolor": "rgb(36,36,36)"
          }
         }
        },
        "xaxis": {
         "anchor": "y",
         "domain": [
          0,
          1
         ],
         "title": {
          "text": "value"
         }
        },
        "yaxis": {
         "anchor": "x",
         "domain": [
          0,
          1
         ],
         "title": {
          "text": "count"
         }
        }
       }
      }
     },
     "metadata": {},
     "output_type": "display_data"
    }
   ],
   "source": [
    "mean_std_series.hist()"
   ]
  },
  {
   "cell_type": "code",
   "execution_count": 12,
   "metadata": {},
   "outputs": [],
   "source": [
    "data_usa = pd.read_csv(\"../data/raw/usa/all_apps_wide_2023-11-14_USA.csv\")\n",
    "data_deu_1 = pd.read_csv(\"../data/raw/deutsch/all_apps_wide_2023-11-14_DEU.csv\")\n",
    "data_deu_2 = pd.read_csv(\n",
    "    \"../data/raw/deutsch runde 2/all_apps_wide_2023-11-15_DEU.csv\"\n",
    ")"
   ]
  },
  {
   "cell_type": "code",
   "execution_count": 35,
   "metadata": {},
   "outputs": [],
   "source": [
    "relevant_columns = [\n",
    "    \"survey.1.player.positive_szenarios\",\n",
    "    \"survey.1.player.treatment_pa\",\n",
    "    \"survey.1.player.PRS1T1\",\n",
    "    \"survey.1.player.PRS1T2\",\n",
    "    \"survey.1.player.PRS2T1\",\n",
    "    \"survey.1.player.PRS2T2\",\n",
    "    \"survey.1.player.PRS3T1\",\n",
    "    \"survey.1.player.PRS3T2\",\n",
    "    \"survey.1.player.PRS4T1\",\n",
    "    \"survey.1.player.PRS4T2\",\n",
    "    \"survey.1.player.FRS1T1\",\n",
    "    \"survey.1.player.FRS1T2\",\n",
    "    \"survey.1.player.FRS2T1\",\n",
    "    \"survey.1.player.FRS2T2\",\n",
    "    \"survey.1.player.FRS3T1\",\n",
    "    \"survey.1.player.FRS3T2\",\n",
    "    \"survey.1.player.FRS4T1\",\n",
    "    \"survey.1.player.FRS4T2\",\n",
    "    \"survey.1.player.ARS1T1\",\n",
    "    \"survey.1.player.ARS1T2\",\n",
    "    \"survey.1.player.ARS2T1\",\n",
    "    \"survey.1.player.ARS2T2\",\n",
    "    \"survey.1.player.ARS3T1\",\n",
    "    \"survey.1.player.ARS3T2\",\n",
    "    \"survey.1.player.ARS4T1\",\n",
    "    \"survey.1.player.ARS4T2\",\n",
    "    \"survey.1.player.ETHS1T1\",\n",
    "    \"survey.1.player.ETHS1T2\",\n",
    "    \"survey.1.player.ETHS2T1\",\n",
    "    \"survey.1.player.ETHS2T2\",\n",
    "    \"survey.1.player.ETHS3T1\",\n",
    "    \"survey.1.player.ETHS3T2\",\n",
    "    \"survey.1.player.ETHS4T1\",\n",
    "    \"survey.1.player.ETHS4T2\",\n",
    "    \"survey.1.player.PROS1T1\",\n",
    "    \"survey.1.player.PROS1T2\",\n",
    "    \"survey.1.player.PROS2T1\",\n",
    "    \"survey.1.player.PROS2T2\",\n",
    "    \"survey.1.player.PROS3T1\",\n",
    "    \"survey.1.player.PROS3T2\",\n",
    "    \"survey.1.player.PROS4T1\",\n",
    "    \"survey.1.player.PROS4T2\",\n",
    "    \"origin\"\n",
    "]"
   ]
  },
  {
   "cell_type": "code",
   "execution_count": 39,
   "metadata": {},
   "outputs": [],
   "source": [
    "data_all = (\n",
    "    pd.concat(\n",
    "    [\n",
    "        data_usa.assign(origin=\"USA\"),\n",
    "        data_deu_1.assign(origin=\"DEU\"),\n",
    "        data_deu_2.assign(origin=\"DEU\"),\n",
    "    ],\n",
    "    axis=0,\n",
    "    )\n",
    "    .loc[lambda df_: df_[\"participant._current_page_name\"] == \"End\"]\n",
    "    .loc[:, relevant_columns]\n",
    "    .rename(columns=dict(zip(relevant_columns, [x.replace(\"survey.1.player.\",\"\") for x in relevant_columns])))\n",
    ")"
   ]
  },
  {
   "cell_type": "code",
   "execution_count": null,
   "metadata": {},
   "outputs": [],
   "source": [
    "# FRS1T1 feel responsible senario 1, team lead 1 (familiar solution)\n",
    "# ARS1T1 act responsible senario 1, team lead 1 (familiar solution)\n",
    "\n",
    "# FRS1T1 feel responsible senario 1, team lead 1 (new solution)\n",
    "# ARS1T1 act responsible senario 1, team lead 1 (new solution)"
   ]
  },
  {
   "cell_type": "code",
   "execution_count": 55,
   "metadata": {},
   "outputs": [
    {
     "data": {
      "text/plain": [
       "positive_szenarios  treatment_pa\n",
       "1_and_4             1_and_4         6.255319\n",
       "                    2_and_3         6.200000\n",
       "2_and_3             1_and_4         6.052632\n",
       "                    2_and_3         5.800000\n",
       "Name: FRS1T2, dtype: float64"
      ]
     },
     "execution_count": 55,
     "metadata": {},
     "output_type": "execute_result"
    }
   ],
   "source": [
    "data_all.groupby([\"positive_szenarios\", \"treatment_pa\"])[\"FRS1T2\"].mean()"
   ]
  },
  {
   "cell_type": "code",
   "execution_count": 57,
   "metadata": {},
   "outputs": [
    {
     "data": {
      "text/html": [
       "<div>\n",
       "<style scoped>\n",
       "    .dataframe tbody tr th:only-of-type {\n",
       "        vertical-align: middle;\n",
       "    }\n",
       "\n",
       "    .dataframe tbody tr th {\n",
       "        vertical-align: top;\n",
       "    }\n",
       "\n",
       "    .dataframe thead th {\n",
       "        text-align: right;\n",
       "    }\n",
       "</style>\n",
       "<table border=\"1\" class=\"dataframe\">\n",
       "  <thead>\n",
       "    <tr style=\"text-align: right;\">\n",
       "      <th></th>\n",
       "      <th>outcome</th>\n",
       "      <th>pa</th>\n",
       "      <th>FRS1T1</th>\n",
       "    </tr>\n",
       "  </thead>\n",
       "  <tbody>\n",
       "    <tr>\n",
       "      <th>0</th>\n",
       "      <td>positive</td>\n",
       "      <td>yes</td>\n",
       "      <td>4.936170</td>\n",
       "    </tr>\n",
       "    <tr>\n",
       "      <th>1</th>\n",
       "      <td>positive</td>\n",
       "      <td>no</td>\n",
       "      <td>5.177778</td>\n",
       "    </tr>\n",
       "    <tr>\n",
       "      <th>2</th>\n",
       "      <td>negative</td>\n",
       "      <td>yes</td>\n",
       "      <td>4.394737</td>\n",
       "    </tr>\n",
       "    <tr>\n",
       "      <th>3</th>\n",
       "      <td>negative</td>\n",
       "      <td>no</td>\n",
       "      <td>4.475000</td>\n",
       "    </tr>\n",
       "  </tbody>\n",
       "</table>\n",
       "</div>"
      ],
      "text/plain": [
       "    outcome   pa    FRS1T1\n",
       "0  positive  yes  4.936170\n",
       "1  positive   no  5.177778\n",
       "2  negative  yes  4.394737\n",
       "3  negative   no  4.475000"
      ]
     },
     "execution_count": 57,
     "metadata": {},
     "output_type": "execute_result"
    }
   ],
   "source": [
    "FRS1T1_df"
   ]
  },
  {
   "cell_type": "code",
   "execution_count": 67,
   "metadata": {},
   "outputs": [],
   "source": [
    "scenario_dict_outcome = {\n",
    "    \"1\": {\"positive\": \"1_and_4\", \"negative\": \"2_and_3\"},\n",
    "    \"2\": {\"positive\": \"2_and_3\", \"negative\": \"1_and_4\"},\n",
    "    \"3\": {\"positive\": \"2_and_3\", \"negative\": \"1_and_4\"},\n",
    "    \"4\": {\"positive\": \"1_and_4\", \"negative\": \"2_and_3\"},\n",
    "}\n",
    "\n",
    "scenario_dict_pa = {\n",
    "    \"1\": {\"yes\": \"1_and_4\", \"no\": \"2_and_3\"},\n",
    "    \"2\": {\"yes\": \"2_and_3\", \"no\": \"1_and_4\"},\n",
    "    \"3\": {\"yes\": \"2_and_3\", \"no\": \"1_and_4\"},\n",
    "    \"4\": {\"yes\": \"1_and_4\", \"no\": \"2_and_3\"},\n",
    "}\n",
    "\n",
    "\n",
    "def get_mean_scales(responsibility_scale, scenario_nr, solution_type, outcome, pa):\n",
    "    scale_string = \"\"\n",
    "    if responsibility_scale == \"feel\":\n",
    "        scale_string += \"FR\"\n",
    "    else:\n",
    "        scale_string += \"AR\"\n",
    "\n",
    "    scale_string += f\"S{scenario_nr}\"\n",
    "\n",
    "    if solution_type == \"familiar\":\n",
    "        scale_string += \"T1\"\n",
    "    else:\n",
    "        scale_string += \"T2\"\n",
    "\n",
    "    outcome_filter = scenario_dict_outcome[str(scenario_nr)][outcome]\n",
    "    pa_filter = scenario_dict_pa[str(scenario_nr)][pa]\n",
    "\n",
    "    return data_all.loc[\n",
    "        (data_all.positive_szenarios == outcome_filter)\n",
    "        & (data_all.treatment_pa == pa_filter),\n",
    "        scale_string,\n",
    "    ].mean()"
   ]
  },
  {
   "cell_type": "code",
   "execution_count": 59,
   "metadata": {},
   "outputs": [
    {
     "data": {
      "text/html": [
       "<div>\n",
       "<style scoped>\n",
       "    .dataframe tbody tr th:only-of-type {\n",
       "        vertical-align: middle;\n",
       "    }\n",
       "\n",
       "    .dataframe tbody tr th {\n",
       "        vertical-align: top;\n",
       "    }\n",
       "\n",
       "    .dataframe thead th {\n",
       "        text-align: right;\n",
       "    }\n",
       "</style>\n",
       "<table border=\"1\" class=\"dataframe\">\n",
       "  <thead>\n",
       "    <tr style=\"text-align: right;\">\n",
       "      <th></th>\n",
       "      <th>positive_szenarios</th>\n",
       "      <th>treatment_pa</th>\n",
       "      <th>PRS1T1</th>\n",
       "      <th>PRS1T2</th>\n",
       "      <th>PRS2T1</th>\n",
       "      <th>PRS2T2</th>\n",
       "      <th>PRS3T1</th>\n",
       "      <th>PRS3T2</th>\n",
       "      <th>PRS4T1</th>\n",
       "      <th>PRS4T2</th>\n",
       "      <th>...</th>\n",
       "      <th>ETHS4T2</th>\n",
       "      <th>PROS1T1</th>\n",
       "      <th>PROS1T2</th>\n",
       "      <th>PROS2T1</th>\n",
       "      <th>PROS2T2</th>\n",
       "      <th>PROS3T1</th>\n",
       "      <th>PROS3T2</th>\n",
       "      <th>PROS4T1</th>\n",
       "      <th>PROS4T2</th>\n",
       "      <th>origin</th>\n",
       "    </tr>\n",
       "  </thead>\n",
       "  <tbody>\n",
       "    <tr>\n",
       "      <th>0</th>\n",
       "      <td>1_and_4</td>\n",
       "      <td>1_and_4</td>\n",
       "      <td>1.0</td>\n",
       "      <td>6.0</td>\n",
       "      <td>2.0</td>\n",
       "      <td>6.0</td>\n",
       "      <td>3.0</td>\n",
       "      <td>3.0</td>\n",
       "      <td>5.0</td>\n",
       "      <td>4.0</td>\n",
       "      <td>...</td>\n",
       "      <td>5.0</td>\n",
       "      <td>7.0</td>\n",
       "      <td>6.0</td>\n",
       "      <td>7.0</td>\n",
       "      <td>3.0</td>\n",
       "      <td>5.0</td>\n",
       "      <td>3.0</td>\n",
       "      <td>3.0</td>\n",
       "      <td>5.0</td>\n",
       "      <td>USA</td>\n",
       "    </tr>\n",
       "    <tr>\n",
       "      <th>1</th>\n",
       "      <td>2_and_3</td>\n",
       "      <td>1_and_4</td>\n",
       "      <td>1.0</td>\n",
       "      <td>6.0</td>\n",
       "      <td>1.0</td>\n",
       "      <td>6.0</td>\n",
       "      <td>1.0</td>\n",
       "      <td>6.0</td>\n",
       "      <td>2.0</td>\n",
       "      <td>6.0</td>\n",
       "      <td>...</td>\n",
       "      <td>3.0</td>\n",
       "      <td>5.0</td>\n",
       "      <td>4.0</td>\n",
       "      <td>7.0</td>\n",
       "      <td>7.0</td>\n",
       "      <td>6.0</td>\n",
       "      <td>6.0</td>\n",
       "      <td>6.0</td>\n",
       "      <td>3.0</td>\n",
       "      <td>USA</td>\n",
       "    </tr>\n",
       "    <tr>\n",
       "      <th>2</th>\n",
       "      <td>1_and_4</td>\n",
       "      <td>2_and_3</td>\n",
       "      <td>1.0</td>\n",
       "      <td>7.0</td>\n",
       "      <td>4.0</td>\n",
       "      <td>6.0</td>\n",
       "      <td>1.0</td>\n",
       "      <td>7.0</td>\n",
       "      <td>7.0</td>\n",
       "      <td>1.0</td>\n",
       "      <td>...</td>\n",
       "      <td>7.0</td>\n",
       "      <td>6.0</td>\n",
       "      <td>6.0</td>\n",
       "      <td>5.0</td>\n",
       "      <td>6.0</td>\n",
       "      <td>6.0</td>\n",
       "      <td>4.0</td>\n",
       "      <td>1.0</td>\n",
       "      <td>7.0</td>\n",
       "      <td>USA</td>\n",
       "    </tr>\n",
       "    <tr>\n",
       "      <th>4</th>\n",
       "      <td>1_and_4</td>\n",
       "      <td>1_and_4</td>\n",
       "      <td>5.0</td>\n",
       "      <td>4.0</td>\n",
       "      <td>2.0</td>\n",
       "      <td>7.0</td>\n",
       "      <td>2.0</td>\n",
       "      <td>7.0</td>\n",
       "      <td>4.0</td>\n",
       "      <td>5.0</td>\n",
       "      <td>...</td>\n",
       "      <td>6.0</td>\n",
       "      <td>7.0</td>\n",
       "      <td>7.0</td>\n",
       "      <td>2.0</td>\n",
       "      <td>3.0</td>\n",
       "      <td>2.0</td>\n",
       "      <td>2.0</td>\n",
       "      <td>6.0</td>\n",
       "      <td>6.0</td>\n",
       "      <td>USA</td>\n",
       "    </tr>\n",
       "    <tr>\n",
       "      <th>5</th>\n",
       "      <td>2_and_3</td>\n",
       "      <td>1_and_4</td>\n",
       "      <td>3.0</td>\n",
       "      <td>4.0</td>\n",
       "      <td>1.0</td>\n",
       "      <td>7.0</td>\n",
       "      <td>4.0</td>\n",
       "      <td>4.0</td>\n",
       "      <td>6.0</td>\n",
       "      <td>1.0</td>\n",
       "      <td>...</td>\n",
       "      <td>7.0</td>\n",
       "      <td>5.0</td>\n",
       "      <td>4.0</td>\n",
       "      <td>7.0</td>\n",
       "      <td>3.0</td>\n",
       "      <td>6.0</td>\n",
       "      <td>5.0</td>\n",
       "      <td>3.0</td>\n",
       "      <td>7.0</td>\n",
       "      <td>USA</td>\n",
       "    </tr>\n",
       "  </tbody>\n",
       "</table>\n",
       "<p>5 rows × 43 columns</p>\n",
       "</div>"
      ],
      "text/plain": [
       "  positive_szenarios treatment_pa  PRS1T1  PRS1T2  PRS2T1  PRS2T2  PRS3T1  \\\n",
       "0            1_and_4      1_and_4     1.0     6.0     2.0     6.0     3.0   \n",
       "1            2_and_3      1_and_4     1.0     6.0     1.0     6.0     1.0   \n",
       "2            1_and_4      2_and_3     1.0     7.0     4.0     6.0     1.0   \n",
       "4            1_and_4      1_and_4     5.0     4.0     2.0     7.0     2.0   \n",
       "5            2_and_3      1_and_4     3.0     4.0     1.0     7.0     4.0   \n",
       "\n",
       "   PRS3T2  PRS4T1  PRS4T2  ...  ETHS4T2  PROS1T1  PROS1T2  PROS2T1  PROS2T2  \\\n",
       "0     3.0     5.0     4.0  ...      5.0      7.0      6.0      7.0      3.0   \n",
       "1     6.0     2.0     6.0  ...      3.0      5.0      4.0      7.0      7.0   \n",
       "2     7.0     7.0     1.0  ...      7.0      6.0      6.0      5.0      6.0   \n",
       "4     7.0     4.0     5.0  ...      6.0      7.0      7.0      2.0      3.0   \n",
       "5     4.0     6.0     1.0  ...      7.0      5.0      4.0      7.0      3.0   \n",
       "\n",
       "   PROS3T1  PROS3T2  PROS4T1  PROS4T2  origin  \n",
       "0      5.0      3.0      3.0      5.0     USA  \n",
       "1      6.0      6.0      6.0      3.0     USA  \n",
       "2      6.0      4.0      1.0      7.0     USA  \n",
       "4      2.0      2.0      6.0      6.0     USA  \n",
       "5      6.0      5.0      3.0      7.0     USA  \n",
       "\n",
       "[5 rows x 43 columns]"
      ]
     },
     "execution_count": 59,
     "metadata": {},
     "output_type": "execute_result"
    }
   ],
   "source": [
    "data_all.head()"
   ]
  },
  {
   "cell_type": "code",
   "execution_count": 63,
   "metadata": {},
   "outputs": [
    {
     "data": {
      "text/plain": [
       "4.9361702127659575"
      ]
     },
     "execution_count": 63,
     "metadata": {},
     "output_type": "execute_result"
    }
   ],
   "source": [
    "# Feel Responsible + Scenario 1 + Familiar solution + positive outcome + PA\n",
    "\n",
    "data_all.loc[\n",
    "    (data_all.positive_szenarios == \"1_and_4\") & (data_all.treatment_pa == \"1_and_4\"), \"FRS1T1\"\n",
    "].mean()"
   ]
  },
  {
   "cell_type": "code",
   "execution_count": 108,
   "metadata": {},
   "outputs": [
    {
     "name": "stdout",
     "output_type": "stream",
     "text": [
      "['#0d0887', '#46039f', '#7201a8', '#9c179e', '#bd3786', '#d8576b', '#ed7953', '#fb9f3a', '#fdca26', '#f0f921']\n"
     ]
    }
   ],
   "source": [
    "import plotly.express as px\n",
    "\n",
    "print(px.colors.sequential.Plasma)"
   ]
  },
  {
   "cell_type": "code",
   "execution_count": 116,
   "metadata": {},
   "outputs": [
    {
     "name": "stdout",
     "output_type": "stream",
     "text": [
      "['#1F77B4', '#FF7F0E', '#2CA02C', '#D62728', '#9467BD', '#8C564B', '#E377C2', '#7F7F7F', '#BCBD22', '#17BECF']\n"
     ]
    }
   ],
   "source": [
    "print(px.colors.qualitative.D3)"
   ]
  },
  {
   "cell_type": "code",
   "execution_count": null,
   "metadata": {},
   "outputs": [],
   "source": [
    "\"#1F77B4\"\n",
    "\"#FF7F0E\"\n",
    "\"#2CA02C\"\n",
    "\"#D62728\"\n",
    "\"#9467BD\"\n",
    "\"#8C564B\"\n",
    "\"#E377C2\"\n",
    "\"#7F7F7F\""
   ]
  },
  {
   "cell_type": "code",
   "execution_count": 119,
   "metadata": {},
   "outputs": [
    {
     "data": {
      "application/vnd.plotly.v1+json": {
       "config": {
        "plotlyServerURL": "https://plot.ly"
       },
       "data": [
        {
         "legendgroup": "feel responsible + positive outcome + PA yes",
         "marker": {
          "color": "#1F77B4"
         },
         "mode": "lines+markers",
         "name": "feel responsible + positive outcome + PA yes",
         "showlegend": true,
         "type": "scatter",
         "x": [
          "Familiar solution",
          "New solution"
         ],
         "xaxis": "x",
         "y": [
          4.9361702127659575,
          6.25531914893617
         ],
         "yaxis": "y"
        },
        {
         "legendgroup": "feel responsible + positive outcome + PA no",
         "marker": {
          "color": "#FF7F0E"
         },
         "mode": "lines+markers",
         "name": "feel responsible + positive outcome + PA no",
         "showlegend": true,
         "type": "scatter",
         "x": [
          "Familiar solution",
          "New solution"
         ],
         "xaxis": "x",
         "y": [
          5.177777777777778,
          6.2
         ],
         "yaxis": "y"
        },
        {
         "legendgroup": "feel responsible + negative outcome + PA yes",
         "marker": {
          "color": "#2CA02C"
         },
         "mode": "lines+markers",
         "name": "feel responsible + negative outcome + PA yes",
         "showlegend": true,
         "type": "scatter",
         "x": [
          "Familiar solution",
          "New solution"
         ],
         "xaxis": "x",
         "y": [
          4.394736842105263,
          6.052631578947368
         ],
         "yaxis": "y"
        },
        {
         "legendgroup": "feel responsible + negative outcome + PA no",
         "marker": {
          "color": "#D62728"
         },
         "mode": "lines+markers",
         "name": "feel responsible + negative outcome + PA no",
         "showlegend": true,
         "type": "scatter",
         "x": [
          "Familiar solution",
          "New solution"
         ],
         "xaxis": "x",
         "y": [
          4.475,
          5.8
         ],
         "yaxis": "y"
        },
        {
         "legendgroup": "act responsible + positive outcome + PA yes",
         "marker": {
          "color": "#9467BD"
         },
         "mode": "lines+markers",
         "name": "act responsible + positive outcome + PA yes",
         "showlegend": true,
         "type": "scatter",
         "x": [
          "Familiar solution",
          "New solution"
         ],
         "xaxis": "x",
         "y": [
          6.085106382978723,
          5.148936170212766
         ],
         "yaxis": "y"
        },
        {
         "legendgroup": "act responsible + positive outcome + PA no",
         "marker": {
          "color": "#8C564B"
         },
         "mode": "lines+markers",
         "name": "act responsible + positive outcome + PA no",
         "showlegend": true,
         "type": "scatter",
         "x": [
          "Familiar solution",
          "New solution"
         ],
         "xaxis": "x",
         "y": [
          5.711111111111111,
          5.288888888888889
         ],
         "yaxis": "y"
        },
        {
         "legendgroup": "act responsible + negative outcome + PA yes",
         "marker": {
          "color": "#E377C2"
         },
         "mode": "lines+markers",
         "name": "act responsible + negative outcome + PA yes",
         "showlegend": true,
         "type": "scatter",
         "x": [
          "Familiar solution",
          "New solution"
         ],
         "xaxis": "x",
         "y": [
          5.368421052631579,
          4.7631578947368425
         ],
         "yaxis": "y"
        },
        {
         "legendgroup": "act responsible + negative outcome + PA no",
         "marker": {
          "color": "#7F7F7F"
         },
         "mode": "lines+markers",
         "name": "act responsible + negative outcome + PA no",
         "showlegend": true,
         "type": "scatter",
         "x": [
          "Familiar solution",
          "New solution"
         ],
         "xaxis": "x",
         "y": [
          5.55,
          4.775
         ],
         "yaxis": "y"
        },
        {
         "legendgroup": "feel responsible + positive outcome + PA yes",
         "marker": {
          "color": "#1F77B4"
         },
         "mode": "lines+markers",
         "name": "feel responsible + positive outcome + PA yes",
         "showlegend": false,
         "type": "scatter",
         "x": [
          "Follow advise",
          "Not follow advise"
         ],
         "xaxis": "x2",
         "y": [
          4.475,
          6.45
         ],
         "yaxis": "y2"
        },
        {
         "legendgroup": "feel responsible + positive outcome + PA no",
         "marker": {
          "color": "#FF7F0E"
         },
         "mode": "lines+markers",
         "name": "feel responsible + positive outcome + PA no",
         "showlegend": false,
         "type": "scatter",
         "x": [
          "Follow advise",
          "Not follow advise"
         ],
         "xaxis": "x2",
         "y": [
          4.657894736842105,
          6.2105263157894735
         ],
         "yaxis": "y2"
        },
        {
         "legendgroup": "feel responsible + negative outcome + PA yes",
         "marker": {
          "color": "#2CA02C"
         },
         "mode": "lines+markers",
         "name": "feel responsible + negative outcome + PA yes",
         "showlegend": false,
         "type": "scatter",
         "x": [
          "Follow advise",
          "Not follow advise"
         ],
         "xaxis": "x2",
         "y": [
          3.2888888888888888,
          5.644444444444445
         ],
         "yaxis": "y2"
        },
        {
         "legendgroup": "feel responsible + negative outcome + PA no",
         "marker": {
          "color": "#D62728"
         },
         "mode": "lines+markers",
         "name": "feel responsible + negative outcome + PA no",
         "showlegend": false,
         "type": "scatter",
         "x": [
          "Follow advise",
          "Not follow advise"
         ],
         "xaxis": "x2",
         "y": [
          3.021276595744681,
          6.212765957446808
         ],
         "yaxis": "y2"
        },
        {
         "legendgroup": "act responsible + positive outcome + PA yes",
         "marker": {
          "color": "#9467BD"
         },
         "mode": "lines+markers",
         "name": "act responsible + positive outcome + PA yes",
         "showlegend": false,
         "type": "scatter",
         "x": [
          "Follow advise",
          "Not follow advise"
         ],
         "xaxis": "x2",
         "y": [
          5.95,
          4.55
         ],
         "yaxis": "y2"
        },
        {
         "legendgroup": "act responsible + positive outcome + PA no",
         "marker": {
          "color": "#8C564B"
         },
         "mode": "lines+markers",
         "name": "act responsible + positive outcome + PA no",
         "showlegend": false,
         "type": "scatter",
         "x": [
          "Follow advise",
          "Not follow advise"
         ],
         "xaxis": "x2",
         "y": [
          5.921052631578948,
          4.342105263157895
         ],
         "yaxis": "y2"
        },
        {
         "legendgroup": "act responsible + negative outcome + PA yes",
         "marker": {
          "color": "#E377C2"
         },
         "mode": "lines+markers",
         "name": "act responsible + negative outcome + PA yes",
         "showlegend": false,
         "type": "scatter",
         "x": [
          "Follow advise",
          "Not follow advise"
         ],
         "xaxis": "x2",
         "y": [
          5.2,
          3.6666666666666665
         ],
         "yaxis": "y2"
        },
        {
         "legendgroup": "act responsible + negative outcome + PA no",
         "marker": {
          "color": "#7F7F7F"
         },
         "mode": "lines+markers",
         "name": "act responsible + negative outcome + PA no",
         "showlegend": false,
         "type": "scatter",
         "x": [
          "Follow advise",
          "Not follow advise"
         ],
         "xaxis": "x2",
         "y": [
          4.9787234042553195,
          3.382978723404255
         ],
         "yaxis": "y2"
        },
        {
         "legendgroup": "feel responsible + positive outcome + PA yes",
         "marker": {
          "color": "#1F77B4"
         },
         "mode": "lines+markers",
         "name": "feel responsible + positive outcome + PA yes",
         "showlegend": false,
         "type": "scatter",
         "x": [
          "Hold on",
          "Change decision"
         ],
         "xaxis": "x3",
         "y": [
          6.075,
          6.225
         ],
         "yaxis": "y3"
        },
        {
         "legendgroup": "feel responsible + positive outcome + PA no",
         "marker": {
          "color": "#FF7F0E"
         },
         "mode": "lines+markers",
         "name": "feel responsible + positive outcome + PA no",
         "showlegend": false,
         "type": "scatter",
         "x": [
          "Hold on",
          "Change decision"
         ],
         "xaxis": "x3",
         "y": [
          5.394736842105263,
          6.2368421052631575
         ],
         "yaxis": "y3"
        },
        {
         "legendgroup": "feel responsible + negative outcome + PA yes",
         "marker": {
          "color": "#2CA02C"
         },
         "mode": "lines+markers",
         "name": "feel responsible + negative outcome + PA yes",
         "showlegend": false,
         "type": "scatter",
         "x": [
          "Hold on",
          "Change decision"
         ],
         "xaxis": "x3",
         "y": [
          4.466666666666667,
          5.866666666666666
         ],
         "yaxis": "y3"
        },
        {
         "legendgroup": "feel responsible + negative outcome + PA no",
         "marker": {
          "color": "#D62728"
         },
         "mode": "lines+markers",
         "name": "feel responsible + negative outcome + PA no",
         "showlegend": false,
         "type": "scatter",
         "x": [
          "Hold on",
          "Change decision"
         ],
         "xaxis": "x3",
         "y": [
          5.042553191489362,
          5.8936170212765955
         ],
         "yaxis": "y3"
        },
        {
         "legendgroup": "act responsible + positive outcome + PA yes",
         "marker": {
          "color": "#9467BD"
         },
         "mode": "lines+markers",
         "name": "act responsible + positive outcome + PA yes",
         "showlegend": false,
         "type": "scatter",
         "x": [
          "Hold on",
          "Change decision"
         ],
         "xaxis": "x3",
         "y": [
          5.75,
          5.175
         ],
         "yaxis": "y3"
        },
        {
         "legendgroup": "act responsible + positive outcome + PA no",
         "marker": {
          "color": "#8C564B"
         },
         "mode": "lines+markers",
         "name": "act responsible + positive outcome + PA no",
         "showlegend": false,
         "type": "scatter",
         "x": [
          "Hold on",
          "Change decision"
         ],
         "xaxis": "x3",
         "y": [
          5.7105263157894735,
          5.026315789473684
         ],
         "yaxis": "y3"
        },
        {
         "legendgroup": "act responsible + negative outcome + PA yes",
         "marker": {
          "color": "#E377C2"
         },
         "mode": "lines+markers",
         "name": "act responsible + negative outcome + PA yes",
         "showlegend": false,
         "type": "scatter",
         "x": [
          "Hold on",
          "Change decision"
         ],
         "xaxis": "x3",
         "y": [
          5.222222222222222,
          4.511111111111111
         ],
         "yaxis": "y3"
        },
        {
         "legendgroup": "act responsible + negative outcome + PA no",
         "marker": {
          "color": "#7F7F7F"
         },
         "mode": "lines+markers",
         "name": "act responsible + negative outcome + PA no",
         "showlegend": false,
         "type": "scatter",
         "x": [
          "Hold on",
          "Change decision"
         ],
         "xaxis": "x3",
         "y": [
          5.085106382978723,
          4.808510638297872
         ],
         "yaxis": "y3"
        },
        {
         "legendgroup": "feel responsible + positive outcome + PA yes",
         "marker": {
          "color": "#1F77B4"
         },
         "mode": "lines+markers",
         "name": "feel responsible + positive outcome + PA yes",
         "showlegend": false,
         "type": "scatter",
         "x": [
          "Wait and see",
          "Take action"
         ],
         "xaxis": "x4",
         "y": [
          5,
          5.723404255319149
         ],
         "yaxis": "y4"
        },
        {
         "legendgroup": "feel responsible + positive outcome + PA no",
         "marker": {
          "color": "#FF7F0E"
         },
         "mode": "lines+markers",
         "name": "feel responsible + positive outcome + PA no",
         "showlegend": false,
         "type": "scatter",
         "x": [
          "Wait and see",
          "Take action"
         ],
         "xaxis": "x4",
         "y": [
          5.6,
          5.6
         ],
         "yaxis": "y4"
        },
        {
         "legendgroup": "feel responsible + negative outcome + PA yes",
         "marker": {
          "color": "#2CA02C"
         },
         "mode": "lines+markers",
         "name": "feel responsible + negative outcome + PA yes",
         "showlegend": false,
         "type": "scatter",
         "x": [
          "Wait and see",
          "Take action"
         ],
         "xaxis": "x4",
         "y": [
          5.5,
          5.078947368421052
         ],
         "yaxis": "y4"
        },
        {
         "legendgroup": "feel responsible + negative outcome + PA no",
         "marker": {
          "color": "#D62728"
         },
         "mode": "lines+markers",
         "name": "feel responsible + negative outcome + PA no",
         "showlegend": false,
         "type": "scatter",
         "x": [
          "Wait and see",
          "Take action"
         ],
         "xaxis": "x4",
         "y": [
          5.4,
          5.725
         ],
         "yaxis": "y4"
        },
        {
         "legendgroup": "act responsible + positive outcome + PA yes",
         "marker": {
          "color": "#9467BD"
         },
         "mode": "lines+markers",
         "name": "act responsible + positive outcome + PA yes",
         "showlegend": false,
         "type": "scatter",
         "x": [
          "Wait and see",
          "Take action"
         ],
         "xaxis": "x4",
         "y": [
          4.48936170212766,
          5.191489361702128
         ],
         "yaxis": "y4"
        },
        {
         "legendgroup": "act responsible + positive outcome + PA no",
         "marker": {
          "color": "#8C564B"
         },
         "mode": "lines+markers",
         "name": "act responsible + positive outcome + PA no",
         "showlegend": false,
         "type": "scatter",
         "x": [
          "Wait and see",
          "Take action"
         ],
         "xaxis": "x4",
         "y": [
          4.377777777777778,
          4.866666666666666
         ],
         "yaxis": "y4"
        },
        {
         "legendgroup": "act responsible + negative outcome + PA yes",
         "marker": {
          "color": "#E377C2"
         },
         "mode": "lines+markers",
         "name": "act responsible + negative outcome + PA yes",
         "showlegend": false,
         "type": "scatter",
         "x": [
          "Wait and see",
          "Take action"
         ],
         "xaxis": "x4",
         "y": [
          4,
          4.7894736842105265
         ],
         "yaxis": "y4"
        },
        {
         "legendgroup": "act responsible + negative outcome + PA no",
         "marker": {
          "color": "#7F7F7F"
         },
         "mode": "lines+markers",
         "name": "act responsible + negative outcome + PA no",
         "showlegend": false,
         "type": "scatter",
         "x": [
          "Wait and see",
          "Take action"
         ],
         "xaxis": "x4",
         "y": [
          4.1,
          4.775
         ],
         "yaxis": "y4"
        }
       ],
       "layout": {
        "height": 800,
        "template": {
         "data": {
          "bar": [
           {
            "error_x": {
             "color": "rgb(36,36,36)"
            },
            "error_y": {
             "color": "rgb(36,36,36)"
            },
            "marker": {
             "line": {
              "color": "white",
              "width": 0.5
             },
             "pattern": {
              "fillmode": "overlay",
              "size": 10,
              "solidity": 0.2
             }
            },
            "type": "bar"
           }
          ],
          "barpolar": [
           {
            "marker": {
             "line": {
              "color": "white",
              "width": 0.5
             },
             "pattern": {
              "fillmode": "overlay",
              "size": 10,
              "solidity": 0.2
             }
            },
            "type": "barpolar"
           }
          ],
          "carpet": [
           {
            "aaxis": {
             "endlinecolor": "rgb(36,36,36)",
             "gridcolor": "white",
             "linecolor": "white",
             "minorgridcolor": "white",
             "startlinecolor": "rgb(36,36,36)"
            },
            "baxis": {
             "endlinecolor": "rgb(36,36,36)",
             "gridcolor": "white",
             "linecolor": "white",
             "minorgridcolor": "white",
             "startlinecolor": "rgb(36,36,36)"
            },
            "type": "carpet"
           }
          ],
          "choropleth": [
           {
            "colorbar": {
             "outlinewidth": 1,
             "tickcolor": "rgb(36,36,36)",
             "ticks": "outside"
            },
            "type": "choropleth"
           }
          ],
          "contour": [
           {
            "colorbar": {
             "outlinewidth": 1,
             "tickcolor": "rgb(36,36,36)",
             "ticks": "outside"
            },
            "colorscale": [
             [
              0,
              "#440154"
             ],
             [
              0.1111111111111111,
              "#482878"
             ],
             [
              0.2222222222222222,
              "#3e4989"
             ],
             [
              0.3333333333333333,
              "#31688e"
             ],
             [
              0.4444444444444444,
              "#26828e"
             ],
             [
              0.5555555555555556,
              "#1f9e89"
             ],
             [
              0.6666666666666666,
              "#35b779"
             ],
             [
              0.7777777777777778,
              "#6ece58"
             ],
             [
              0.8888888888888888,
              "#b5de2b"
             ],
             [
              1,
              "#fde725"
             ]
            ],
            "type": "contour"
           }
          ],
          "contourcarpet": [
           {
            "colorbar": {
             "outlinewidth": 1,
             "tickcolor": "rgb(36,36,36)",
             "ticks": "outside"
            },
            "type": "contourcarpet"
           }
          ],
          "heatmap": [
           {
            "colorbar": {
             "outlinewidth": 1,
             "tickcolor": "rgb(36,36,36)",
             "ticks": "outside"
            },
            "colorscale": [
             [
              0,
              "#440154"
             ],
             [
              0.1111111111111111,
              "#482878"
             ],
             [
              0.2222222222222222,
              "#3e4989"
             ],
             [
              0.3333333333333333,
              "#31688e"
             ],
             [
              0.4444444444444444,
              "#26828e"
             ],
             [
              0.5555555555555556,
              "#1f9e89"
             ],
             [
              0.6666666666666666,
              "#35b779"
             ],
             [
              0.7777777777777778,
              "#6ece58"
             ],
             [
              0.8888888888888888,
              "#b5de2b"
             ],
             [
              1,
              "#fde725"
             ]
            ],
            "type": "heatmap"
           }
          ],
          "heatmapgl": [
           {
            "colorbar": {
             "outlinewidth": 1,
             "tickcolor": "rgb(36,36,36)",
             "ticks": "outside"
            },
            "colorscale": [
             [
              0,
              "#440154"
             ],
             [
              0.1111111111111111,
              "#482878"
             ],
             [
              0.2222222222222222,
              "#3e4989"
             ],
             [
              0.3333333333333333,
              "#31688e"
             ],
             [
              0.4444444444444444,
              "#26828e"
             ],
             [
              0.5555555555555556,
              "#1f9e89"
             ],
             [
              0.6666666666666666,
              "#35b779"
             ],
             [
              0.7777777777777778,
              "#6ece58"
             ],
             [
              0.8888888888888888,
              "#b5de2b"
             ],
             [
              1,
              "#fde725"
             ]
            ],
            "type": "heatmapgl"
           }
          ],
          "histogram": [
           {
            "marker": {
             "line": {
              "color": "white",
              "width": 0.6
             }
            },
            "type": "histogram"
           }
          ],
          "histogram2d": [
           {
            "colorbar": {
             "outlinewidth": 1,
             "tickcolor": "rgb(36,36,36)",
             "ticks": "outside"
            },
            "colorscale": [
             [
              0,
              "#440154"
             ],
             [
              0.1111111111111111,
              "#482878"
             ],
             [
              0.2222222222222222,
              "#3e4989"
             ],
             [
              0.3333333333333333,
              "#31688e"
             ],
             [
              0.4444444444444444,
              "#26828e"
             ],
             [
              0.5555555555555556,
              "#1f9e89"
             ],
             [
              0.6666666666666666,
              "#35b779"
             ],
             [
              0.7777777777777778,
              "#6ece58"
             ],
             [
              0.8888888888888888,
              "#b5de2b"
             ],
             [
              1,
              "#fde725"
             ]
            ],
            "type": "histogram2d"
           }
          ],
          "histogram2dcontour": [
           {
            "colorbar": {
             "outlinewidth": 1,
             "tickcolor": "rgb(36,36,36)",
             "ticks": "outside"
            },
            "colorscale": [
             [
              0,
              "#440154"
             ],
             [
              0.1111111111111111,
              "#482878"
             ],
             [
              0.2222222222222222,
              "#3e4989"
             ],
             [
              0.3333333333333333,
              "#31688e"
             ],
             [
              0.4444444444444444,
              "#26828e"
             ],
             [
              0.5555555555555556,
              "#1f9e89"
             ],
             [
              0.6666666666666666,
              "#35b779"
             ],
             [
              0.7777777777777778,
              "#6ece58"
             ],
             [
              0.8888888888888888,
              "#b5de2b"
             ],
             [
              1,
              "#fde725"
             ]
            ],
            "type": "histogram2dcontour"
           }
          ],
          "mesh3d": [
           {
            "colorbar": {
             "outlinewidth": 1,
             "tickcolor": "rgb(36,36,36)",
             "ticks": "outside"
            },
            "type": "mesh3d"
           }
          ],
          "parcoords": [
           {
            "line": {
             "colorbar": {
              "outlinewidth": 1,
              "tickcolor": "rgb(36,36,36)",
              "ticks": "outside"
             }
            },
            "type": "parcoords"
           }
          ],
          "pie": [
           {
            "automargin": true,
            "type": "pie"
           }
          ],
          "scatter": [
           {
            "fillpattern": {
             "fillmode": "overlay",
             "size": 10,
             "solidity": 0.2
            },
            "type": "scatter"
           }
          ],
          "scatter3d": [
           {
            "line": {
             "colorbar": {
              "outlinewidth": 1,
              "tickcolor": "rgb(36,36,36)",
              "ticks": "outside"
             }
            },
            "marker": {
             "colorbar": {
              "outlinewidth": 1,
              "tickcolor": "rgb(36,36,36)",
              "ticks": "outside"
             }
            },
            "type": "scatter3d"
           }
          ],
          "scattercarpet": [
           {
            "marker": {
             "colorbar": {
              "outlinewidth": 1,
              "tickcolor": "rgb(36,36,36)",
              "ticks": "outside"
             }
            },
            "type": "scattercarpet"
           }
          ],
          "scattergeo": [
           {
            "marker": {
             "colorbar": {
              "outlinewidth": 1,
              "tickcolor": "rgb(36,36,36)",
              "ticks": "outside"
             }
            },
            "type": "scattergeo"
           }
          ],
          "scattergl": [
           {
            "marker": {
             "colorbar": {
              "outlinewidth": 1,
              "tickcolor": "rgb(36,36,36)",
              "ticks": "outside"
             }
            },
            "type": "scattergl"
           }
          ],
          "scattermapbox": [
           {
            "marker": {
             "colorbar": {
              "outlinewidth": 1,
              "tickcolor": "rgb(36,36,36)",
              "ticks": "outside"
             }
            },
            "type": "scattermapbox"
           }
          ],
          "scatterpolar": [
           {
            "marker": {
             "colorbar": {
              "outlinewidth": 1,
              "tickcolor": "rgb(36,36,36)",
              "ticks": "outside"
             }
            },
            "type": "scatterpolar"
           }
          ],
          "scatterpolargl": [
           {
            "marker": {
             "colorbar": {
              "outlinewidth": 1,
              "tickcolor": "rgb(36,36,36)",
              "ticks": "outside"
             }
            },
            "type": "scatterpolargl"
           }
          ],
          "scatterternary": [
           {
            "marker": {
             "colorbar": {
              "outlinewidth": 1,
              "tickcolor": "rgb(36,36,36)",
              "ticks": "outside"
             }
            },
            "type": "scatterternary"
           }
          ],
          "surface": [
           {
            "colorbar": {
             "outlinewidth": 1,
             "tickcolor": "rgb(36,36,36)",
             "ticks": "outside"
            },
            "colorscale": [
             [
              0,
              "#440154"
             ],
             [
              0.1111111111111111,
              "#482878"
             ],
             [
              0.2222222222222222,
              "#3e4989"
             ],
             [
              0.3333333333333333,
              "#31688e"
             ],
             [
              0.4444444444444444,
              "#26828e"
             ],
             [
              0.5555555555555556,
              "#1f9e89"
             ],
             [
              0.6666666666666666,
              "#35b779"
             ],
             [
              0.7777777777777778,
              "#6ece58"
             ],
             [
              0.8888888888888888,
              "#b5de2b"
             ],
             [
              1,
              "#fde725"
             ]
            ],
            "type": "surface"
           }
          ],
          "table": [
           {
            "cells": {
             "fill": {
              "color": "rgb(237,237,237)"
             },
             "line": {
              "color": "white"
             }
            },
            "header": {
             "fill": {
              "color": "rgb(217,217,217)"
             },
             "line": {
              "color": "white"
             }
            },
            "type": "table"
           }
          ]
         },
         "layout": {
          "annotationdefaults": {
           "arrowhead": 0,
           "arrowwidth": 1
          },
          "autotypenumbers": "strict",
          "coloraxis": {
           "colorbar": {
            "outlinewidth": 1,
            "tickcolor": "rgb(36,36,36)",
            "ticks": "outside"
           }
          },
          "colorscale": {
           "diverging": [
            [
             0,
             "rgb(103,0,31)"
            ],
            [
             0.1,
             "rgb(178,24,43)"
            ],
            [
             0.2,
             "rgb(214,96,77)"
            ],
            [
             0.3,
             "rgb(244,165,130)"
            ],
            [
             0.4,
             "rgb(253,219,199)"
            ],
            [
             0.5,
             "rgb(247,247,247)"
            ],
            [
             0.6,
             "rgb(209,229,240)"
            ],
            [
             0.7,
             "rgb(146,197,222)"
            ],
            [
             0.8,
             "rgb(67,147,195)"
            ],
            [
             0.9,
             "rgb(33,102,172)"
            ],
            [
             1,
             "rgb(5,48,97)"
            ]
           ],
           "sequential": [
            [
             0,
             "#440154"
            ],
            [
             0.1111111111111111,
             "#482878"
            ],
            [
             0.2222222222222222,
             "#3e4989"
            ],
            [
             0.3333333333333333,
             "#31688e"
            ],
            [
             0.4444444444444444,
             "#26828e"
            ],
            [
             0.5555555555555556,
             "#1f9e89"
            ],
            [
             0.6666666666666666,
             "#35b779"
            ],
            [
             0.7777777777777778,
             "#6ece58"
            ],
            [
             0.8888888888888888,
             "#b5de2b"
            ],
            [
             1,
             "#fde725"
            ]
           ],
           "sequentialminus": [
            [
             0,
             "#440154"
            ],
            [
             0.1111111111111111,
             "#482878"
            ],
            [
             0.2222222222222222,
             "#3e4989"
            ],
            [
             0.3333333333333333,
             "#31688e"
            ],
            [
             0.4444444444444444,
             "#26828e"
            ],
            [
             0.5555555555555556,
             "#1f9e89"
            ],
            [
             0.6666666666666666,
             "#35b779"
            ],
            [
             0.7777777777777778,
             "#6ece58"
            ],
            [
             0.8888888888888888,
             "#b5de2b"
            ],
            [
             1,
             "#fde725"
            ]
           ]
          },
          "colorway": [
           "#1F77B4",
           "#FF7F0E",
           "#2CA02C",
           "#D62728",
           "#9467BD",
           "#8C564B",
           "#E377C2",
           "#7F7F7F",
           "#BCBD22",
           "#17BECF"
          ],
          "font": {
           "color": "rgb(36,36,36)"
          },
          "geo": {
           "bgcolor": "white",
           "lakecolor": "white",
           "landcolor": "white",
           "showlakes": true,
           "showland": true,
           "subunitcolor": "white"
          },
          "hoverlabel": {
           "align": "left"
          },
          "hovermode": "closest",
          "mapbox": {
           "style": "light"
          },
          "paper_bgcolor": "white",
          "plot_bgcolor": "white",
          "polar": {
           "angularaxis": {
            "gridcolor": "rgb(232,232,232)",
            "linecolor": "rgb(36,36,36)",
            "showgrid": false,
            "showline": true,
            "ticks": "outside"
           },
           "bgcolor": "white",
           "radialaxis": {
            "gridcolor": "rgb(232,232,232)",
            "linecolor": "rgb(36,36,36)",
            "showgrid": false,
            "showline": true,
            "ticks": "outside"
           }
          },
          "scene": {
           "xaxis": {
            "backgroundcolor": "white",
            "gridcolor": "rgb(232,232,232)",
            "gridwidth": 2,
            "linecolor": "rgb(36,36,36)",
            "showbackground": true,
            "showgrid": false,
            "showline": true,
            "ticks": "outside",
            "zeroline": false,
            "zerolinecolor": "rgb(36,36,36)"
           },
           "yaxis": {
            "backgroundcolor": "white",
            "gridcolor": "rgb(232,232,232)",
            "gridwidth": 2,
            "linecolor": "rgb(36,36,36)",
            "showbackground": true,
            "showgrid": false,
            "showline": true,
            "ticks": "outside",
            "zeroline": false,
            "zerolinecolor": "rgb(36,36,36)"
           },
           "zaxis": {
            "backgroundcolor": "white",
            "gridcolor": "rgb(232,232,232)",
            "gridwidth": 2,
            "linecolor": "rgb(36,36,36)",
            "showbackground": true,
            "showgrid": false,
            "showline": true,
            "ticks": "outside",
            "zeroline": false,
            "zerolinecolor": "rgb(36,36,36)"
           }
          },
          "shapedefaults": {
           "fillcolor": "black",
           "line": {
            "width": 0
           },
           "opacity": 0.3
          },
          "ternary": {
           "aaxis": {
            "gridcolor": "rgb(232,232,232)",
            "linecolor": "rgb(36,36,36)",
            "showgrid": false,
            "showline": true,
            "ticks": "outside"
           },
           "baxis": {
            "gridcolor": "rgb(232,232,232)",
            "linecolor": "rgb(36,36,36)",
            "showgrid": false,
            "showline": true,
            "ticks": "outside"
           },
           "bgcolor": "white",
           "caxis": {
            "gridcolor": "rgb(232,232,232)",
            "linecolor": "rgb(36,36,36)",
            "showgrid": false,
            "showline": true,
            "ticks": "outside"
           }
          },
          "title": {
           "x": 0.05
          },
          "xaxis": {
           "automargin": true,
           "gridcolor": "rgb(232,232,232)",
           "linecolor": "rgb(36,36,36)",
           "showgrid": false,
           "showline": true,
           "ticks": "outside",
           "title": {
            "standoff": 15
           },
           "zeroline": false,
           "zerolinecolor": "rgb(36,36,36)"
          },
          "yaxis": {
           "automargin": true,
           "gridcolor": "rgb(232,232,232)",
           "linecolor": "rgb(36,36,36)",
           "showgrid": false,
           "showline": true,
           "ticks": "outside",
           "title": {
            "standoff": 15
           },
           "zeroline": false,
           "zerolinecolor": "rgb(36,36,36)"
          }
         }
        },
        "title": {
         "text": "Scenarios"
        },
        "width": 1100,
        "xaxis": {
         "anchor": "y",
         "domain": [
          0,
          0.45
         ]
        },
        "xaxis2": {
         "anchor": "y2",
         "domain": [
          0.55,
          1
         ]
        },
        "xaxis3": {
         "anchor": "y3",
         "domain": [
          0,
          0.45
         ]
        },
        "xaxis4": {
         "anchor": "y4",
         "domain": [
          0.55,
          1
         ]
        },
        "yaxis": {
         "anchor": "x",
         "domain": [
          0.575,
          1
         ],
         "dtick": 1,
         "range": [
          1,
          7
         ]
        },
        "yaxis2": {
         "anchor": "x2",
         "domain": [
          0.575,
          1
         ],
         "dtick": 1,
         "range": [
          1,
          7
         ]
        },
        "yaxis3": {
         "anchor": "x3",
         "domain": [
          0,
          0.425
         ],
         "dtick": 1,
         "range": [
          1,
          7
         ]
        },
        "yaxis4": {
         "anchor": "x4",
         "domain": [
          0,
          0.425
         ],
         "dtick": 1,
         "range": [
          1,
          7
         ]
        }
       }
      }
     },
     "metadata": {},
     "output_type": "display_data"
    }
   ],
   "source": [
    "x_axis_values_list = [\n",
    "    [\"Familiar solution\", \"New solution\"],\n",
    "    [\"Follow advise\", \"Not follow advise\"],\n",
    "    [\"Hold on\", \"Change decision\"],\n",
    "    [\"Wait and see\", \"Take action\"],\n",
    "]\n",
    "\n",
    "colors_dict = {\n",
    "    \"feel responsible + positive outcome + PA yes\": \"#1F77B4\",\n",
    "    \"feel responsible + positive outcome + PA no\": \"#FF7F0E\",\n",
    "    \"feel responsible + negative outcome + PA yes\": \"#2CA02C\",\n",
    "    \"feel responsible + negative outcome + PA no\": \"#D62728\",\n",
    "    \"act responsible + positive outcome + PA yes\": \"#9467BD\",\n",
    "    \"act responsible + positive outcome + PA no\": \"#8C564B\",\n",
    "    \"act responsible + negative outcome + PA yes\": \"#E377C2\",\n",
    "    \"act responsible + negative outcome + PA no\": \"#7F7F7F\",\n",
    "}\n",
    "\n",
    "from plotly.subplots import make_subplots\n",
    "\n",
    "\n",
    "fig = make_subplots(rows=2, cols=2)\n",
    "\n",
    "# Create traces\n",
    "for scenario, x_axis_values in zip(range(1, 5), x_axis_values_list):\n",
    "    for responsibility_scale in [\"feel\", \"act\"]:\n",
    "        for outcome in [\"positive\", \"negative\"]:\n",
    "            for pa_available in [\"yes\", \"no\"]:\n",
    "                fig.add_trace(\n",
    "                    go.Scatter(\n",
    "                        x=x_axis_values,\n",
    "                        y=[\n",
    "                            get_mean_scales(\n",
    "                                responsibility_scale=responsibility_scale,\n",
    "                                scenario_nr=scenario,\n",
    "                                solution_type=\"familiar\",\n",
    "                                outcome=outcome,\n",
    "                                pa=pa_available,\n",
    "                            ),\n",
    "                            get_mean_scales(\n",
    "                                responsibility_scale=responsibility_scale,\n",
    "                                scenario_nr=scenario,\n",
    "                                solution_type=\"new\",\n",
    "                                outcome=outcome,\n",
    "                                pa=pa_available,\n",
    "                            ),\n",
    "                        ],\n",
    "                        mode=\"lines+markers\",\n",
    "                        name=f\"{responsibility_scale} responsible + {outcome} outcome + PA {pa_available}\",\n",
    "                        legendgroup=f\"{responsibility_scale} responsible + {outcome} outcome + PA {pa_available}\",\n",
    "                        marker_color=colors_dict[\n",
    "                            f\"{responsibility_scale} responsible + {outcome} outcome + PA {pa_available}\"\n",
    "                        ],\n",
    "                        showlegend=True if scenario == 1 else False,\n",
    "                    ),\n",
    "                    row=1 if scenario in [1, 2] else 2,\n",
    "                    col=1 if scenario in [1, 3] else 2,\n",
    "                )\n",
    "# fig.update_xaxes(range=[1, 7], dtick=1)\n",
    "fig.update_yaxes(range=[1, 7], dtick=1)\n",
    "fig.update_layout(width=900 + 200, height=600 + 200, title=f\"Scenarios\")\n",
    "fig.show()\n",
    "fig.write_html(f\"scenarios_all.html\")"
   ]
  }
 ],
 "metadata": {
  "kernelspec": {
   "display_name": "pa-leadership-survey-1DBoniK8",
   "language": "python",
   "name": "python3"
  },
  "language_info": {
   "codemirror_mode": {
    "name": "ipython",
    "version": 3
   },
   "file_extension": ".py",
   "mimetype": "text/x-python",
   "name": "python",
   "nbconvert_exporter": "python",
   "pygments_lexer": "ipython3",
   "version": "3.11.6"
  }
 },
 "nbformat": 4,
 "nbformat_minor": 2
}
