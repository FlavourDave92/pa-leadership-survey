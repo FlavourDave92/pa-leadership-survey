{
 "cells": [
  {
   "cell_type": "code",
   "execution_count": 159,
   "metadata": {},
   "outputs": [],
   "source": [
    "import pandas as pd\n",
    "import numpy as np\n",
    "\n",
    "pd.options.plotting.backend = \"plotly\"\n",
    "import plotly\n",
    "import plotly.graph_objects as go\n",
    "from plotly.subplots import make_subplots\n",
    "\n",
    "\n",
    "\n",
    "import plotly.io as pio\n",
    "import plotly.express as px\n",
    "\n",
    "pio.templates.default = \"simple_white\""
   ]
  },
  {
   "cell_type": "code",
   "execution_count": 160,
   "metadata": {},
   "outputs": [],
   "source": [
    "control_columns = [\n",
    "    \"Participant id\",\n",
    "    \"Number of subordinates\",\n",
    "    \"Age\",\n",
    "    \"Sex\",\n",
    "]\n",
    "\n",
    "data_usa_raw = pd.read_csv(\"../data/raw/usa/all_apps_wide_2023-11-14_USA.csv\").merge(\n",
    "    pd.read_csv(\"../data/raw/usa/prolific_demographics.csv\")[control_columns],\n",
    "    left_on=\"participant.label\",\n",
    "    right_on=\"Participant id\",\n",
    "    how=\"left\",\n",
    ")\n",
    "data_deu_1_raw = pd.read_csv(\n",
    "    \"../data/raw/deutsch/all_apps_wide_2023-11-14_DEU.csv\"\n",
    ").merge(\n",
    "    pd.read_csv(\"../data/raw/deutsch/prolific_demographics.csv\")[control_columns],\n",
    "    left_on=\"participant.label\",\n",
    "    right_on=\"Participant id\",\n",
    "    how=\"left\",\n",
    ")\n",
    "\n",
    "\n",
    "data_deu_2_raw = (\n",
    "    pd.read_csv(\"../data/raw/deutsch runde 2/all_apps_wide_2023-11-16_DEU.csv\")\n",
    "    .merge(\n",
    "        pd.read_csv(\"../data/raw/deutsch runde 2/prolific_demographics.csv\")[\n",
    "            control_columns\n",
    "        ],\n",
    "        left_on=\"participant.label\",\n",
    "        right_on=\"Participant id\",\n",
    "        how=\"left\",\n",
    "    )\n",
    ")"
   ]
  },
  {
   "cell_type": "code",
   "execution_count": 161,
   "metadata": {},
   "outputs": [],
   "source": [
    "# page times\n",
    "\n",
    "page_times_usa_raw = pd.read_csv(\"../data/raw/usa/PageTimes-2023-11-14_USA.csv\")\n",
    "page_times_deu_1_raw = pd.read_csv(\"../data/raw/deutsch/PageTimes-2023-11-14_DEU.csv\")\n",
    "\n",
    "\n",
    "page_times_deu_2_raw = pd.read_csv(\n",
    "    \"../data/raw/deutsch runde 2/PageTimes-2023-11-16_DEU.csv\"\n",
    ")"
   ]
  },
  {
   "cell_type": "code",
   "execution_count": 162,
   "metadata": {},
   "outputs": [],
   "source": [
    "merged_times = pd.concat(\n",
    "    [page_times_usa_raw, page_times_deu_1_raw, page_times_deu_2_raw], axis=0\n",
    ")\n",
    "\n",
    "time_delta = (\n",
    "    (\n",
    "        merged_times.groupby(\"participant_code\")[\"epoch_time_completed\"].max()\n",
    "        - merged_times.groupby(\"participant_code\")[\"epoch_time_completed\"].min()\n",
    "    )\n",
    "    .to_frame()\n",
    "    .reset_index()\n",
    ")"
   ]
  },
  {
   "cell_type": "code",
   "execution_count": 217,
   "metadata": {},
   "outputs": [],
   "source": [
    "relevant_columns = [\n",
    "    \"survey.1.player.positive_szenarios\",\n",
    "    \"survey.1.player.treatment_pa\",\n",
    "    \"survey.1.player.PRS1T1\",\n",
    "    \"survey.1.player.PRS1T2\",\n",
    "    \"survey.1.player.PRS2T1\",\n",
    "    \"survey.1.player.PRS2T2\",\n",
    "    \"survey.1.player.PRS3T1\",\n",
    "    \"survey.1.player.PRS3T2\",\n",
    "    \"survey.1.player.PRS4T1\",\n",
    "    \"survey.1.player.PRS4T2\",\n",
    "    \"survey.1.player.FRS1T1\",\n",
    "    \"survey.1.player.FRS1T2\",\n",
    "    \"survey.1.player.FRS2T1\",\n",
    "    \"survey.1.player.FRS2T2\",\n",
    "    \"survey.1.player.FRS3T1\",\n",
    "    \"survey.1.player.FRS3T2\",\n",
    "    \"survey.1.player.FRS4T1\",\n",
    "    \"survey.1.player.FRS4T2\",\n",
    "    \"survey.1.player.ARS1T1\",\n",
    "    \"survey.1.player.ARS1T2\",\n",
    "    \"survey.1.player.ARS2T1\",\n",
    "    \"survey.1.player.ARS2T2\",\n",
    "    \"survey.1.player.ARS3T1\",\n",
    "    \"survey.1.player.ARS3T2\",\n",
    "    \"survey.1.player.ARS4T1\",\n",
    "    \"survey.1.player.ARS4T2\",\n",
    "    \"survey.1.player.ETHS1T1\",\n",
    "    \"survey.1.player.ETHS1T2\",\n",
    "    \"survey.1.player.ETHS2T1\",\n",
    "    \"survey.1.player.ETHS2T2\",\n",
    "    \"survey.1.player.ETHS3T1\",\n",
    "    \"survey.1.player.ETHS3T2\",\n",
    "    \"survey.1.player.ETHS4T1\",\n",
    "    \"survey.1.player.ETHS4T2\",\n",
    "    \"survey.1.player.PROS1T1\",\n",
    "    \"survey.1.player.PROS1T2\",\n",
    "    \"survey.1.player.PROS2T1\",\n",
    "    \"survey.1.player.PROS2T2\",\n",
    "    \"survey.1.player.PROS3T1\",\n",
    "    \"survey.1.player.PROS3T2\",\n",
    "    \"survey.1.player.PROS4T1\",\n",
    "    \"survey.1.player.PROS4T2\",\n",
    "    \"survey.1.player.algo_aversion\",\n",
    "    \"survey.1.player.risk_propensity\",\n",
    "    \"origin\",\n",
    "    \"overall_time\",\n",
    "    \"Number of subordinates\",\n",
    "    \"Age\",\n",
    "    \"Sex\",\n",
    "    \"participant.label\",\n",
    "]"
   ]
  },
  {
   "cell_type": "code",
   "execution_count": 218,
   "metadata": {},
   "outputs": [],
   "source": [
    "data_all = (\n",
    "    pd.concat(\n",
    "        [\n",
    "            data_usa_raw.assign(origin=\"USA\"),\n",
    "            data_deu_1_raw.assign(origin=\"DEU\"),\n",
    "            data_deu_2_raw.assign(origin=\"DEU\"),\n",
    "        ],\n",
    "        axis=0,\n",
    "    )\n",
    "    .merge(time_delta, left_on=\"participant.code\", right_on=\"participant_code\")\n",
    "    .rename(columns={\"epoch_time_completed\": \"overall_time\"})\n",
    "    .loc[lambda df_: df_[\"participant._current_page_name\"] == \"End\"]\n",
    "    .loc[:, relevant_columns]\n",
    "    .rename(\n",
    "        columns=dict(\n",
    "            zip(\n",
    "                relevant_columns,\n",
    "                [x.replace(\"survey.1.player.\", \"\") for x in relevant_columns],\n",
    "            )\n",
    "        )\n",
    "    )\n",
    "    .rename(\n",
    "        columns={\n",
    "            \"Number of subordinates\": \"number_of_subordinates\",\n",
    "            \"Age\": \"age\",\n",
    "            \"Sex\": \"sex\",\n",
    "        }\n",
    "    )\n",
    "    .assign(\n",
    "        sex=lambda df_: df_.sex.replace(\"Female\", 1).replace(\"Male\", 0),\n",
    "        number_of_subordinates=lambda df_: df_.number_of_subordinates.replace(\n",
    "            {\"2-3\": 0, \"4-6\": 1, \"7-10\": 2, \">10\": 3}\n",
    "        ),\n",
    "        # TODO NEXT Check how to replace here by dict values  !!\n",
    "    )\n",
    ")\n",
    "MIN_TIME = data_all.overall_time.quantile(0.25)  # 5 min also worked ok\n",
    "MAX_TIME = data_all.overall_time.quantile(0.75)  # 15 also min worked ok\n",
    "data_all = (\n",
    "    data_all\n",
    "    .loc[\n",
    "    data_all.overall_time.between(left=MIN_TIME, right=MAX_TIME, inclusive=\"both\")]\n",
    "    .loc[\n",
    "    data_all.age != \"DATA_EXPIRED\"\n",
    "].astype({\"sex\": \"int\", \"age\": \"int\", \"number_of_subordinates\": \"int\"})\n",
    ")\n",
    "data_usa = data_all.loc[data_all.origin == \"USA\"]\n",
    "data_deu = data_all.loc[data_all.origin == \"DEU\"]"
   ]
  },
  {
   "cell_type": "markdown",
   "metadata": {},
   "source": [
    "Scale explanation:\n",
    "- FRS1T1 -->  feel responsible senario 1, team lead 1 (familiar solution)\n",
    "- ARS1T1 -->  act responsible senario 1, team lead 1 (familiar solution)\n",
    "- FRS1T2 -->  feel responsible senario 1, team lead 2 (new solution)\n",
    "- ARS1T2 -->  act responsible senario 1, team lead 2 (new solution)"
   ]
  },
  {
   "cell_type": "code",
   "execution_count": 219,
   "metadata": {},
   "outputs": [],
   "source": [
    "scenario_dict_outcome = {\n",
    "    \"1\": {\"positive\": \"1_and_4\", \"negative\": \"2_and_3\"},\n",
    "    \"2\": {\"positive\": \"2_and_3\", \"negative\": \"1_and_4\"},\n",
    "    \"3\": {\"positive\": \"2_and_3\", \"negative\": \"1_and_4\"},\n",
    "    \"4\": {\"positive\": \"1_and_4\", \"negative\": \"2_and_3\"},\n",
    "}\n",
    "\n",
    "scenario_dict_pa = {\n",
    "    \"1\": {\"yes\": \"1_and_4\", \"no\": \"2_and_3\"},\n",
    "    \"2\": {\"yes\": \"2_and_3\", \"no\": \"1_and_4\"},\n",
    "    \"3\": {\"yes\": \"2_and_3\", \"no\": \"1_and_4\"},\n",
    "    \"4\": {\"yes\": \"1_and_4\", \"no\": \"2_and_3\"},\n",
    "}\n",
    "\n",
    "\n",
    "def get_mean_scales(data, scale, scenario_nr, solution_type, outcome, pa):\n",
    "    scale_string = \"\"\n",
    "    if scale == \"feel\":\n",
    "        scale_string += \"FR\"\n",
    "    elif scale == \"act\":\n",
    "        scale_string += \"AR\"\n",
    "    elif scale == \"risk\":\n",
    "        scale_string += \"PR\"\n",
    "\n",
    "    scale_string += f\"S{scenario_nr}\"\n",
    "\n",
    "    if solution_type == \"familiar\":\n",
    "        scale_string += \"T1\"\n",
    "    else:\n",
    "        scale_string += \"T2\"\n",
    "\n",
    "    outcome_filter = scenario_dict_outcome[str(scenario_nr)][outcome]\n",
    "    pa_filter = scenario_dict_pa[str(scenario_nr)][pa]\n",
    "\n",
    "    return data.loc[\n",
    "        (data.positive_szenarios == outcome_filter)\n",
    "        & (data.treatment_pa == pa_filter),\n",
    "        scale_string,\n",
    "    ].mean()"
   ]
  },
  {
   "cell_type": "markdown",
   "metadata": {},
   "source": [
    "## Plot Fig 1 from Nordbye"
   ]
  },
  {
   "cell_type": "code",
   "execution_count": 220,
   "metadata": {},
   "outputs": [],
   "source": [
    "x_axis_values_list = [\n",
    "    [\"Familiar solution\", \"New solution\"],\n",
    "    [\"Follow advise\", \"Not follow advise\"],\n",
    "    [\"Hold on\", \"Change decision\"],\n",
    "    [\"Wait and see\", \"Take action\"],\n",
    "]\n",
    "\n",
    "d3_colors = px.colors.qualitative.D3\n",
    "colors_dict = {\n",
    "    \"feel responsible + positive outcome + PA yes\": d3_colors[0],\n",
    "    \"feel responsible + positive outcome + PA no\": d3_colors[1],\n",
    "    \"feel responsible + negative outcome + PA yes\": d3_colors[2],\n",
    "    \"feel responsible + negative outcome + PA no\": d3_colors[3],\n",
    "    \"act responsible + positive outcome + PA yes\": d3_colors[4],\n",
    "    \"act responsible + positive outcome + PA no\": d3_colors[5],\n",
    "    \"act responsible + negative outcome + PA yes\": d3_colors[6],\n",
    "    \"act responsible + negative outcome + PA no\": d3_colors[7],\n",
    "}\n",
    "\n",
    "\n",
    "def create_line_subplot(data, output_file_name, show_fig, fig_title):\n",
    "    fig = make_subplots(rows=2, cols=2)\n",
    "\n",
    "    for scenario, x_axis_values in zip(range(1, 5), x_axis_values_list):\n",
    "        for responsibility_scale in [\"feel\", \"act\"]:\n",
    "            for outcome in [\"positive\", \"negative\"]:\n",
    "                for pa_available in [\"yes\", \"no\"]:\n",
    "                    fig.add_trace(\n",
    "                        go.Scatter(\n",
    "                            x=x_axis_values,\n",
    "                            y=[\n",
    "                                get_mean_scales(\n",
    "                                    data=data,\n",
    "                                    scale=responsibility_scale,\n",
    "                                    scenario_nr=scenario,\n",
    "                                    solution_type=\"familiar\",\n",
    "                                    outcome=outcome,\n",
    "                                    pa=pa_available,\n",
    "                                ),\n",
    "                                get_mean_scales(\n",
    "                                    data=data,\n",
    "                                    scale=responsibility_scale,\n",
    "                                    scenario_nr=scenario,\n",
    "                                    solution_type=\"new\",\n",
    "                                    outcome=outcome,\n",
    "                                    pa=pa_available,\n",
    "                                ),\n",
    "                            ],\n",
    "                            mode=\"lines+markers\",\n",
    "                            name=f\"{responsibility_scale} responsible + {outcome} outcome + PA {pa_available}\",\n",
    "                            legendgroup=f\"{responsibility_scale} responsible + {outcome} outcome + PA {pa_available}\",\n",
    "                            marker_color=colors_dict[\n",
    "                                f\"{responsibility_scale} responsible + {outcome} outcome + PA {pa_available}\"\n",
    "                            ],\n",
    "                            showlegend=True if scenario == 1 else False,\n",
    "                        ),\n",
    "                        row=1 if scenario in [1, 2] else 2,\n",
    "                        col=1 if scenario in [1, 3] else 2,\n",
    "                    )\n",
    "    fig.update_yaxes(range=[1, 7], dtick=1)\n",
    "    fig.update_layout(width=900 + 200, height=600 + 200, title=fig_title)\n",
    "    fig.write_html(f\"{output_file_name}.html\")\n",
    "    if show_fig:\n",
    "        fig.show()"
   ]
  },
  {
   "cell_type": "code",
   "execution_count": 221,
   "metadata": {},
   "outputs": [
    {
     "data": {
      "application/vnd.plotly.v1+json": {
       "config": {
        "plotlyServerURL": "https://plot.ly"
       },
       "data": [
        {
         "legendgroup": "feel responsible + positive outcome + PA yes",
         "marker": {
          "color": "#1F77B4"
         },
         "mode": "lines+markers",
         "name": "feel responsible + positive outcome + PA yes",
         "showlegend": true,
         "type": "scatter",
         "x": [
          "Familiar solution",
          "New solution"
         ],
         "xaxis": "x",
         "y": [
          5.04,
          6.4
         ],
         "yaxis": "y"
        },
        {
         "legendgroup": "feel responsible + positive outcome + PA no",
         "marker": {
          "color": "#FF7F0E"
         },
         "mode": "lines+markers",
         "name": "feel responsible + positive outcome + PA no",
         "showlegend": true,
         "type": "scatter",
         "x": [
          "Familiar solution",
          "New solution"
         ],
         "xaxis": "x",
         "y": [
          5.473684210526316,
          6.315789473684211
         ],
         "yaxis": "y"
        },
        {
         "legendgroup": "feel responsible + negative outcome + PA yes",
         "marker": {
          "color": "#2CA02C"
         },
         "mode": "lines+markers",
         "name": "feel responsible + negative outcome + PA yes",
         "showlegend": true,
         "type": "scatter",
         "x": [
          "Familiar solution",
          "New solution"
         ],
         "xaxis": "x",
         "y": [
          4.346153846153846,
          5.961538461538462
         ],
         "yaxis": "y"
        },
        {
         "legendgroup": "feel responsible + negative outcome + PA no",
         "marker": {
          "color": "#D62728"
         },
         "mode": "lines+markers",
         "name": "feel responsible + negative outcome + PA no",
         "showlegend": true,
         "type": "scatter",
         "x": [
          "Familiar solution",
          "New solution"
         ],
         "xaxis": "x",
         "y": [
          4.05,
          5.95
         ],
         "yaxis": "y"
        },
        {
         "legendgroup": "act responsible + positive outcome + PA yes",
         "marker": {
          "color": "#9467BD"
         },
         "mode": "lines+markers",
         "name": "act responsible + positive outcome + PA yes",
         "showlegend": true,
         "type": "scatter",
         "x": [
          "Familiar solution",
          "New solution"
         ],
         "xaxis": "x",
         "y": [
          6.2,
          4.96
         ],
         "yaxis": "y"
        },
        {
         "legendgroup": "act responsible + positive outcome + PA no",
         "marker": {
          "color": "#8C564B"
         },
         "mode": "lines+markers",
         "name": "act responsible + positive outcome + PA no",
         "showlegend": true,
         "type": "scatter",
         "x": [
          "Familiar solution",
          "New solution"
         ],
         "xaxis": "x",
         "y": [
          5.894736842105263,
          5.2105263157894735
         ],
         "yaxis": "y"
        },
        {
         "legendgroup": "act responsible + negative outcome + PA yes",
         "marker": {
          "color": "#E377C2"
         },
         "mode": "lines+markers",
         "name": "act responsible + negative outcome + PA yes",
         "showlegend": true,
         "type": "scatter",
         "x": [
          "Familiar solution",
          "New solution"
         ],
         "xaxis": "x",
         "y": [
          5.346153846153846,
          4.730769230769231
         ],
         "yaxis": "y"
        },
        {
         "legendgroup": "act responsible + negative outcome + PA no",
         "marker": {
          "color": "#7F7F7F"
         },
         "mode": "lines+markers",
         "name": "act responsible + negative outcome + PA no",
         "showlegend": true,
         "type": "scatter",
         "x": [
          "Familiar solution",
          "New solution"
         ],
         "xaxis": "x",
         "y": [
          5.35,
          4.5
         ],
         "yaxis": "y"
        },
        {
         "legendgroup": "feel responsible + positive outcome + PA yes",
         "marker": {
          "color": "#1F77B4"
         },
         "mode": "lines+markers",
         "name": "feel responsible + positive outcome + PA yes",
         "showlegend": false,
         "type": "scatter",
         "x": [
          "Follow advise",
          "Not follow advise"
         ],
         "xaxis": "x2",
         "y": [
          4.35,
          6.35
         ],
         "yaxis": "y2"
        },
        {
         "legendgroup": "feel responsible + positive outcome + PA no",
         "marker": {
          "color": "#FF7F0E"
         },
         "mode": "lines+markers",
         "name": "feel responsible + positive outcome + PA no",
         "showlegend": false,
         "type": "scatter",
         "x": [
          "Follow advise",
          "Not follow advise"
         ],
         "xaxis": "x2",
         "y": [
          4.8076923076923075,
          6.230769230769231
         ],
         "yaxis": "y2"
        },
        {
         "legendgroup": "feel responsible + negative outcome + PA yes",
         "marker": {
          "color": "#2CA02C"
         },
         "mode": "lines+markers",
         "name": "feel responsible + negative outcome + PA yes",
         "showlegend": false,
         "type": "scatter",
         "x": [
          "Follow advise",
          "Not follow advise"
         ],
         "xaxis": "x2",
         "y": [
          2.8947368421052633,
          5.526315789473684
         ],
         "yaxis": "y2"
        },
        {
         "legendgroup": "feel responsible + negative outcome + PA no",
         "marker": {
          "color": "#D62728"
         },
         "mode": "lines+markers",
         "name": "feel responsible + negative outcome + PA no",
         "showlegend": false,
         "type": "scatter",
         "x": [
          "Follow advise",
          "Not follow advise"
         ],
         "xaxis": "x2",
         "y": [
          3.04,
          6.36
         ],
         "yaxis": "y2"
        },
        {
         "legendgroup": "act responsible + positive outcome + PA yes",
         "marker": {
          "color": "#9467BD"
         },
         "mode": "lines+markers",
         "name": "act responsible + positive outcome + PA yes",
         "showlegend": false,
         "type": "scatter",
         "x": [
          "Follow advise",
          "Not follow advise"
         ],
         "xaxis": "x2",
         "y": [
          5.85,
          4.75
         ],
         "yaxis": "y2"
        },
        {
         "legendgroup": "act responsible + positive outcome + PA no",
         "marker": {
          "color": "#8C564B"
         },
         "mode": "lines+markers",
         "name": "act responsible + positive outcome + PA no",
         "showlegend": false,
         "type": "scatter",
         "x": [
          "Follow advise",
          "Not follow advise"
         ],
         "xaxis": "x2",
         "y": [
          5.923076923076923,
          4.3076923076923075
         ],
         "yaxis": "y2"
        },
        {
         "legendgroup": "act responsible + negative outcome + PA yes",
         "marker": {
          "color": "#E377C2"
         },
         "mode": "lines+markers",
         "name": "act responsible + negative outcome + PA yes",
         "showlegend": false,
         "type": "scatter",
         "x": [
          "Follow advise",
          "Not follow advise"
         ],
         "xaxis": "x2",
         "y": [
          5.2631578947368425,
          3.473684210526316
         ],
         "yaxis": "y2"
        },
        {
         "legendgroup": "act responsible + negative outcome + PA no",
         "marker": {
          "color": "#7F7F7F"
         },
         "mode": "lines+markers",
         "name": "act responsible + negative outcome + PA no",
         "showlegend": false,
         "type": "scatter",
         "x": [
          "Follow advise",
          "Not follow advise"
         ],
         "xaxis": "x2",
         "y": [
          5.12,
          3.68
         ],
         "yaxis": "y2"
        },
        {
         "legendgroup": "feel responsible + positive outcome + PA yes",
         "marker": {
          "color": "#1F77B4"
         },
         "mode": "lines+markers",
         "name": "feel responsible + positive outcome + PA yes",
         "showlegend": false,
         "type": "scatter",
         "x": [
          "Hold on",
          "Change decision"
         ],
         "xaxis": "x3",
         "y": [
          5.7,
          6.1
         ],
         "yaxis": "y3"
        },
        {
         "legendgroup": "feel responsible + positive outcome + PA no",
         "marker": {
          "color": "#FF7F0E"
         },
         "mode": "lines+markers",
         "name": "feel responsible + positive outcome + PA no",
         "showlegend": false,
         "type": "scatter",
         "x": [
          "Hold on",
          "Change decision"
         ],
         "xaxis": "x3",
         "y": [
          5.423076923076923,
          6.230769230769231
         ],
         "yaxis": "y3"
        },
        {
         "legendgroup": "feel responsible + negative outcome + PA yes",
         "marker": {
          "color": "#2CA02C"
         },
         "mode": "lines+markers",
         "name": "feel responsible + negative outcome + PA yes",
         "showlegend": false,
         "type": "scatter",
         "x": [
          "Hold on",
          "Change decision"
         ],
         "xaxis": "x3",
         "y": [
          4.526315789473684,
          6
         ],
         "yaxis": "y3"
        },
        {
         "legendgroup": "feel responsible + negative outcome + PA no",
         "marker": {
          "color": "#D62728"
         },
         "mode": "lines+markers",
         "name": "feel responsible + negative outcome + PA no",
         "showlegend": false,
         "type": "scatter",
         "x": [
          "Hold on",
          "Change decision"
         ],
         "xaxis": "x3",
         "y": [
          5.08,
          6.08
         ],
         "yaxis": "y3"
        },
        {
         "legendgroup": "act responsible + positive outcome + PA yes",
         "marker": {
          "color": "#9467BD"
         },
         "mode": "lines+markers",
         "name": "act responsible + positive outcome + PA yes",
         "showlegend": false,
         "type": "scatter",
         "x": [
          "Hold on",
          "Change decision"
         ],
         "xaxis": "x3",
         "y": [
          5.5,
          5.2
         ],
         "yaxis": "y3"
        },
        {
         "legendgroup": "act responsible + positive outcome + PA no",
         "marker": {
          "color": "#8C564B"
         },
         "mode": "lines+markers",
         "name": "act responsible + positive outcome + PA no",
         "showlegend": false,
         "type": "scatter",
         "x": [
          "Hold on",
          "Change decision"
         ],
         "xaxis": "x3",
         "y": [
          5.653846153846154,
          5.076923076923077
         ],
         "yaxis": "y3"
        },
        {
         "legendgroup": "act responsible + negative outcome + PA yes",
         "marker": {
          "color": "#E377C2"
         },
         "mode": "lines+markers",
         "name": "act responsible + negative outcome + PA yes",
         "showlegend": false,
         "type": "scatter",
         "x": [
          "Hold on",
          "Change decision"
         ],
         "xaxis": "x3",
         "y": [
          5.2105263157894735,
          4.052631578947368
         ],
         "yaxis": "y3"
        },
        {
         "legendgroup": "act responsible + negative outcome + PA no",
         "marker": {
          "color": "#7F7F7F"
         },
         "mode": "lines+markers",
         "name": "act responsible + negative outcome + PA no",
         "showlegend": false,
         "type": "scatter",
         "x": [
          "Hold on",
          "Change decision"
         ],
         "xaxis": "x3",
         "y": [
          5.2,
          4.84
         ],
         "yaxis": "y3"
        },
        {
         "legendgroup": "feel responsible + positive outcome + PA yes",
         "marker": {
          "color": "#1F77B4"
         },
         "mode": "lines+markers",
         "name": "feel responsible + positive outcome + PA yes",
         "showlegend": false,
         "type": "scatter",
         "x": [
          "Wait and see",
          "Take action"
         ],
         "xaxis": "x4",
         "y": [
          4.48,
          6
         ],
         "yaxis": "y4"
        },
        {
         "legendgroup": "feel responsible + positive outcome + PA no",
         "marker": {
          "color": "#FF7F0E"
         },
         "mode": "lines+markers",
         "name": "feel responsible + positive outcome + PA no",
         "showlegend": false,
         "type": "scatter",
         "x": [
          "Wait and see",
          "Take action"
         ],
         "xaxis": "x4",
         "y": [
          5.684210526315789,
          5.368421052631579
         ],
         "yaxis": "y4"
        },
        {
         "legendgroup": "feel responsible + negative outcome + PA yes",
         "marker": {
          "color": "#2CA02C"
         },
         "mode": "lines+markers",
         "name": "feel responsible + negative outcome + PA yes",
         "showlegend": false,
         "type": "scatter",
         "x": [
          "Wait and see",
          "Take action"
         ],
         "xaxis": "x4",
         "y": [
          5.653846153846154,
          5.230769230769231
         ],
         "yaxis": "y4"
        },
        {
         "legendgroup": "feel responsible + negative outcome + PA no",
         "marker": {
          "color": "#D62728"
         },
         "mode": "lines+markers",
         "name": "feel responsible + negative outcome + PA no",
         "showlegend": false,
         "type": "scatter",
         "x": [
          "Wait and see",
          "Take action"
         ],
         "xaxis": "x4",
         "y": [
          4.75,
          5.55
         ],
         "yaxis": "y4"
        },
        {
         "legendgroup": "act responsible + positive outcome + PA yes",
         "marker": {
          "color": "#9467BD"
         },
         "mode": "lines+markers",
         "name": "act responsible + positive outcome + PA yes",
         "showlegend": false,
         "type": "scatter",
         "x": [
          "Wait and see",
          "Take action"
         ],
         "xaxis": "x4",
         "y": [
          3.84,
          5.64
         ],
         "yaxis": "y4"
        },
        {
         "legendgroup": "act responsible + positive outcome + PA no",
         "marker": {
          "color": "#8C564B"
         },
         "mode": "lines+markers",
         "name": "act responsible + positive outcome + PA no",
         "showlegend": false,
         "type": "scatter",
         "x": [
          "Wait and see",
          "Take action"
         ],
         "xaxis": "x4",
         "y": [
          4.2631578947368425,
          4.947368421052632
         ],
         "yaxis": "y4"
        },
        {
         "legendgroup": "act responsible + negative outcome + PA yes",
         "marker": {
          "color": "#E377C2"
         },
         "mode": "lines+markers",
         "name": "act responsible + negative outcome + PA yes",
         "showlegend": false,
         "type": "scatter",
         "x": [
          "Wait and see",
          "Take action"
         ],
         "xaxis": "x4",
         "y": [
          4.115384615384615,
          4.653846153846154
         ],
         "yaxis": "y4"
        },
        {
         "legendgroup": "act responsible + negative outcome + PA no",
         "marker": {
          "color": "#7F7F7F"
         },
         "mode": "lines+markers",
         "name": "act responsible + negative outcome + PA no",
         "showlegend": false,
         "type": "scatter",
         "x": [
          "Wait and see",
          "Take action"
         ],
         "xaxis": "x4",
         "y": [
          3.25,
          5.2
         ],
         "yaxis": "y4"
        }
       ],
       "layout": {
        "height": 800,
        "template": {
         "data": {
          "bar": [
           {
            "error_x": {
             "color": "rgb(36,36,36)"
            },
            "error_y": {
             "color": "rgb(36,36,36)"
            },
            "marker": {
             "line": {
              "color": "white",
              "width": 0.5
             },
             "pattern": {
              "fillmode": "overlay",
              "size": 10,
              "solidity": 0.2
             }
            },
            "type": "bar"
           }
          ],
          "barpolar": [
           {
            "marker": {
             "line": {
              "color": "white",
              "width": 0.5
             },
             "pattern": {
              "fillmode": "overlay",
              "size": 10,
              "solidity": 0.2
             }
            },
            "type": "barpolar"
           }
          ],
          "carpet": [
           {
            "aaxis": {
             "endlinecolor": "rgb(36,36,36)",
             "gridcolor": "white",
             "linecolor": "white",
             "minorgridcolor": "white",
             "startlinecolor": "rgb(36,36,36)"
            },
            "baxis": {
             "endlinecolor": "rgb(36,36,36)",
             "gridcolor": "white",
             "linecolor": "white",
             "minorgridcolor": "white",
             "startlinecolor": "rgb(36,36,36)"
            },
            "type": "carpet"
           }
          ],
          "choropleth": [
           {
            "colorbar": {
             "outlinewidth": 1,
             "tickcolor": "rgb(36,36,36)",
             "ticks": "outside"
            },
            "type": "choropleth"
           }
          ],
          "contour": [
           {
            "colorbar": {
             "outlinewidth": 1,
             "tickcolor": "rgb(36,36,36)",
             "ticks": "outside"
            },
            "colorscale": [
             [
              0,
              "#440154"
             ],
             [
              0.1111111111111111,
              "#482878"
             ],
             [
              0.2222222222222222,
              "#3e4989"
             ],
             [
              0.3333333333333333,
              "#31688e"
             ],
             [
              0.4444444444444444,
              "#26828e"
             ],
             [
              0.5555555555555556,
              "#1f9e89"
             ],
             [
              0.6666666666666666,
              "#35b779"
             ],
             [
              0.7777777777777778,
              "#6ece58"
             ],
             [
              0.8888888888888888,
              "#b5de2b"
             ],
             [
              1,
              "#fde725"
             ]
            ],
            "type": "contour"
           }
          ],
          "contourcarpet": [
           {
            "colorbar": {
             "outlinewidth": 1,
             "tickcolor": "rgb(36,36,36)",
             "ticks": "outside"
            },
            "type": "contourcarpet"
           }
          ],
          "heatmap": [
           {
            "colorbar": {
             "outlinewidth": 1,
             "tickcolor": "rgb(36,36,36)",
             "ticks": "outside"
            },
            "colorscale": [
             [
              0,
              "#440154"
             ],
             [
              0.1111111111111111,
              "#482878"
             ],
             [
              0.2222222222222222,
              "#3e4989"
             ],
             [
              0.3333333333333333,
              "#31688e"
             ],
             [
              0.4444444444444444,
              "#26828e"
             ],
             [
              0.5555555555555556,
              "#1f9e89"
             ],
             [
              0.6666666666666666,
              "#35b779"
             ],
             [
              0.7777777777777778,
              "#6ece58"
             ],
             [
              0.8888888888888888,
              "#b5de2b"
             ],
             [
              1,
              "#fde725"
             ]
            ],
            "type": "heatmap"
           }
          ],
          "heatmapgl": [
           {
            "colorbar": {
             "outlinewidth": 1,
             "tickcolor": "rgb(36,36,36)",
             "ticks": "outside"
            },
            "colorscale": [
             [
              0,
              "#440154"
             ],
             [
              0.1111111111111111,
              "#482878"
             ],
             [
              0.2222222222222222,
              "#3e4989"
             ],
             [
              0.3333333333333333,
              "#31688e"
             ],
             [
              0.4444444444444444,
              "#26828e"
             ],
             [
              0.5555555555555556,
              "#1f9e89"
             ],
             [
              0.6666666666666666,
              "#35b779"
             ],
             [
              0.7777777777777778,
              "#6ece58"
             ],
             [
              0.8888888888888888,
              "#b5de2b"
             ],
             [
              1,
              "#fde725"
             ]
            ],
            "type": "heatmapgl"
           }
          ],
          "histogram": [
           {
            "marker": {
             "line": {
              "color": "white",
              "width": 0.6
             }
            },
            "type": "histogram"
           }
          ],
          "histogram2d": [
           {
            "colorbar": {
             "outlinewidth": 1,
             "tickcolor": "rgb(36,36,36)",
             "ticks": "outside"
            },
            "colorscale": [
             [
              0,
              "#440154"
             ],
             [
              0.1111111111111111,
              "#482878"
             ],
             [
              0.2222222222222222,
              "#3e4989"
             ],
             [
              0.3333333333333333,
              "#31688e"
             ],
             [
              0.4444444444444444,
              "#26828e"
             ],
             [
              0.5555555555555556,
              "#1f9e89"
             ],
             [
              0.6666666666666666,
              "#35b779"
             ],
             [
              0.7777777777777778,
              "#6ece58"
             ],
             [
              0.8888888888888888,
              "#b5de2b"
             ],
             [
              1,
              "#fde725"
             ]
            ],
            "type": "histogram2d"
           }
          ],
          "histogram2dcontour": [
           {
            "colorbar": {
             "outlinewidth": 1,
             "tickcolor": "rgb(36,36,36)",
             "ticks": "outside"
            },
            "colorscale": [
             [
              0,
              "#440154"
             ],
             [
              0.1111111111111111,
              "#482878"
             ],
             [
              0.2222222222222222,
              "#3e4989"
             ],
             [
              0.3333333333333333,
              "#31688e"
             ],
             [
              0.4444444444444444,
              "#26828e"
             ],
             [
              0.5555555555555556,
              "#1f9e89"
             ],
             [
              0.6666666666666666,
              "#35b779"
             ],
             [
              0.7777777777777778,
              "#6ece58"
             ],
             [
              0.8888888888888888,
              "#b5de2b"
             ],
             [
              1,
              "#fde725"
             ]
            ],
            "type": "histogram2dcontour"
           }
          ],
          "mesh3d": [
           {
            "colorbar": {
             "outlinewidth": 1,
             "tickcolor": "rgb(36,36,36)",
             "ticks": "outside"
            },
            "type": "mesh3d"
           }
          ],
          "parcoords": [
           {
            "line": {
             "colorbar": {
              "outlinewidth": 1,
              "tickcolor": "rgb(36,36,36)",
              "ticks": "outside"
             }
            },
            "type": "parcoords"
           }
          ],
          "pie": [
           {
            "automargin": true,
            "type": "pie"
           }
          ],
          "scatter": [
           {
            "fillpattern": {
             "fillmode": "overlay",
             "size": 10,
             "solidity": 0.2
            },
            "type": "scatter"
           }
          ],
          "scatter3d": [
           {
            "line": {
             "colorbar": {
              "outlinewidth": 1,
              "tickcolor": "rgb(36,36,36)",
              "ticks": "outside"
             }
            },
            "marker": {
             "colorbar": {
              "outlinewidth": 1,
              "tickcolor": "rgb(36,36,36)",
              "ticks": "outside"
             }
            },
            "type": "scatter3d"
           }
          ],
          "scattercarpet": [
           {
            "marker": {
             "colorbar": {
              "outlinewidth": 1,
              "tickcolor": "rgb(36,36,36)",
              "ticks": "outside"
             }
            },
            "type": "scattercarpet"
           }
          ],
          "scattergeo": [
           {
            "marker": {
             "colorbar": {
              "outlinewidth": 1,
              "tickcolor": "rgb(36,36,36)",
              "ticks": "outside"
             }
            },
            "type": "scattergeo"
           }
          ],
          "scattergl": [
           {
            "marker": {
             "colorbar": {
              "outlinewidth": 1,
              "tickcolor": "rgb(36,36,36)",
              "ticks": "outside"
             }
            },
            "type": "scattergl"
           }
          ],
          "scattermapbox": [
           {
            "marker": {
             "colorbar": {
              "outlinewidth": 1,
              "tickcolor": "rgb(36,36,36)",
              "ticks": "outside"
             }
            },
            "type": "scattermapbox"
           }
          ],
          "scatterpolar": [
           {
            "marker": {
             "colorbar": {
              "outlinewidth": 1,
              "tickcolor": "rgb(36,36,36)",
              "ticks": "outside"
             }
            },
            "type": "scatterpolar"
           }
          ],
          "scatterpolargl": [
           {
            "marker": {
             "colorbar": {
              "outlinewidth": 1,
              "tickcolor": "rgb(36,36,36)",
              "ticks": "outside"
             }
            },
            "type": "scatterpolargl"
           }
          ],
          "scatterternary": [
           {
            "marker": {
             "colorbar": {
              "outlinewidth": 1,
              "tickcolor": "rgb(36,36,36)",
              "ticks": "outside"
             }
            },
            "type": "scatterternary"
           }
          ],
          "surface": [
           {
            "colorbar": {
             "outlinewidth": 1,
             "tickcolor": "rgb(36,36,36)",
             "ticks": "outside"
            },
            "colorscale": [
             [
              0,
              "#440154"
             ],
             [
              0.1111111111111111,
              "#482878"
             ],
             [
              0.2222222222222222,
              "#3e4989"
             ],
             [
              0.3333333333333333,
              "#31688e"
             ],
             [
              0.4444444444444444,
              "#26828e"
             ],
             [
              0.5555555555555556,
              "#1f9e89"
             ],
             [
              0.6666666666666666,
              "#35b779"
             ],
             [
              0.7777777777777778,
              "#6ece58"
             ],
             [
              0.8888888888888888,
              "#b5de2b"
             ],
             [
              1,
              "#fde725"
             ]
            ],
            "type": "surface"
           }
          ],
          "table": [
           {
            "cells": {
             "fill": {
              "color": "rgb(237,237,237)"
             },
             "line": {
              "color": "white"
             }
            },
            "header": {
             "fill": {
              "color": "rgb(217,217,217)"
             },
             "line": {
              "color": "white"
             }
            },
            "type": "table"
           }
          ]
         },
         "layout": {
          "annotationdefaults": {
           "arrowhead": 0,
           "arrowwidth": 1
          },
          "autotypenumbers": "strict",
          "coloraxis": {
           "colorbar": {
            "outlinewidth": 1,
            "tickcolor": "rgb(36,36,36)",
            "ticks": "outside"
           }
          },
          "colorscale": {
           "diverging": [
            [
             0,
             "rgb(103,0,31)"
            ],
            [
             0.1,
             "rgb(178,24,43)"
            ],
            [
             0.2,
             "rgb(214,96,77)"
            ],
            [
             0.3,
             "rgb(244,165,130)"
            ],
            [
             0.4,
             "rgb(253,219,199)"
            ],
            [
             0.5,
             "rgb(247,247,247)"
            ],
            [
             0.6,
             "rgb(209,229,240)"
            ],
            [
             0.7,
             "rgb(146,197,222)"
            ],
            [
             0.8,
             "rgb(67,147,195)"
            ],
            [
             0.9,
             "rgb(33,102,172)"
            ],
            [
             1,
             "rgb(5,48,97)"
            ]
           ],
           "sequential": [
            [
             0,
             "#440154"
            ],
            [
             0.1111111111111111,
             "#482878"
            ],
            [
             0.2222222222222222,
             "#3e4989"
            ],
            [
             0.3333333333333333,
             "#31688e"
            ],
            [
             0.4444444444444444,
             "#26828e"
            ],
            [
             0.5555555555555556,
             "#1f9e89"
            ],
            [
             0.6666666666666666,
             "#35b779"
            ],
            [
             0.7777777777777778,
             "#6ece58"
            ],
            [
             0.8888888888888888,
             "#b5de2b"
            ],
            [
             1,
             "#fde725"
            ]
           ],
           "sequentialminus": [
            [
             0,
             "#440154"
            ],
            [
             0.1111111111111111,
             "#482878"
            ],
            [
             0.2222222222222222,
             "#3e4989"
            ],
            [
             0.3333333333333333,
             "#31688e"
            ],
            [
             0.4444444444444444,
             "#26828e"
            ],
            [
             0.5555555555555556,
             "#1f9e89"
            ],
            [
             0.6666666666666666,
             "#35b779"
            ],
            [
             0.7777777777777778,
             "#6ece58"
            ],
            [
             0.8888888888888888,
             "#b5de2b"
            ],
            [
             1,
             "#fde725"
            ]
           ]
          },
          "colorway": [
           "#1F77B4",
           "#FF7F0E",
           "#2CA02C",
           "#D62728",
           "#9467BD",
           "#8C564B",
           "#E377C2",
           "#7F7F7F",
           "#BCBD22",
           "#17BECF"
          ],
          "font": {
           "color": "rgb(36,36,36)"
          },
          "geo": {
           "bgcolor": "white",
           "lakecolor": "white",
           "landcolor": "white",
           "showlakes": true,
           "showland": true,
           "subunitcolor": "white"
          },
          "hoverlabel": {
           "align": "left"
          },
          "hovermode": "closest",
          "mapbox": {
           "style": "light"
          },
          "paper_bgcolor": "white",
          "plot_bgcolor": "white",
          "polar": {
           "angularaxis": {
            "gridcolor": "rgb(232,232,232)",
            "linecolor": "rgb(36,36,36)",
            "showgrid": false,
            "showline": true,
            "ticks": "outside"
           },
           "bgcolor": "white",
           "radialaxis": {
            "gridcolor": "rgb(232,232,232)",
            "linecolor": "rgb(36,36,36)",
            "showgrid": false,
            "showline": true,
            "ticks": "outside"
           }
          },
          "scene": {
           "xaxis": {
            "backgroundcolor": "white",
            "gridcolor": "rgb(232,232,232)",
            "gridwidth": 2,
            "linecolor": "rgb(36,36,36)",
            "showbackground": true,
            "showgrid": false,
            "showline": true,
            "ticks": "outside",
            "zeroline": false,
            "zerolinecolor": "rgb(36,36,36)"
           },
           "yaxis": {
            "backgroundcolor": "white",
            "gridcolor": "rgb(232,232,232)",
            "gridwidth": 2,
            "linecolor": "rgb(36,36,36)",
            "showbackground": true,
            "showgrid": false,
            "showline": true,
            "ticks": "outside",
            "zeroline": false,
            "zerolinecolor": "rgb(36,36,36)"
           },
           "zaxis": {
            "backgroundcolor": "white",
            "gridcolor": "rgb(232,232,232)",
            "gridwidth": 2,
            "linecolor": "rgb(36,36,36)",
            "showbackground": true,
            "showgrid": false,
            "showline": true,
            "ticks": "outside",
            "zeroline": false,
            "zerolinecolor": "rgb(36,36,36)"
           }
          },
          "shapedefaults": {
           "fillcolor": "black",
           "line": {
            "width": 0
           },
           "opacity": 0.3
          },
          "ternary": {
           "aaxis": {
            "gridcolor": "rgb(232,232,232)",
            "linecolor": "rgb(36,36,36)",
            "showgrid": false,
            "showline": true,
            "ticks": "outside"
           },
           "baxis": {
            "gridcolor": "rgb(232,232,232)",
            "linecolor": "rgb(36,36,36)",
            "showgrid": false,
            "showline": true,
            "ticks": "outside"
           },
           "bgcolor": "white",
           "caxis": {
            "gridcolor": "rgb(232,232,232)",
            "linecolor": "rgb(36,36,36)",
            "showgrid": false,
            "showline": true,
            "ticks": "outside"
           }
          },
          "title": {
           "x": 0.05
          },
          "xaxis": {
           "automargin": true,
           "gridcolor": "rgb(232,232,232)",
           "linecolor": "rgb(36,36,36)",
           "showgrid": false,
           "showline": true,
           "ticks": "outside",
           "title": {
            "standoff": 15
           },
           "zeroline": false,
           "zerolinecolor": "rgb(36,36,36)"
          },
          "yaxis": {
           "automargin": true,
           "gridcolor": "rgb(232,232,232)",
           "linecolor": "rgb(36,36,36)",
           "showgrid": false,
           "showline": true,
           "ticks": "outside",
           "title": {
            "standoff": 15
           },
           "zeroline": false,
           "zerolinecolor": "rgb(36,36,36)"
          }
         }
        },
        "title": {
         "text": "All"
        },
        "width": 1100,
        "xaxis": {
         "anchor": "y",
         "domain": [
          0,
          0.45
         ]
        },
        "xaxis2": {
         "anchor": "y2",
         "domain": [
          0.55,
          1
         ]
        },
        "xaxis3": {
         "anchor": "y3",
         "domain": [
          0,
          0.45
         ]
        },
        "xaxis4": {
         "anchor": "y4",
         "domain": [
          0.55,
          1
         ]
        },
        "yaxis": {
         "anchor": "x",
         "domain": [
          0.575,
          1
         ],
         "dtick": 1,
         "range": [
          1,
          7
         ]
        },
        "yaxis2": {
         "anchor": "x2",
         "domain": [
          0.575,
          1
         ],
         "dtick": 1,
         "range": [
          1,
          7
         ]
        },
        "yaxis3": {
         "anchor": "x3",
         "domain": [
          0,
          0.425
         ],
         "dtick": 1,
         "range": [
          1,
          7
         ]
        },
        "yaxis4": {
         "anchor": "x4",
         "domain": [
          0,
          0.425
         ],
         "dtick": 1,
         "range": [
          1,
          7
         ]
        }
       }
      }
     },
     "metadata": {},
     "output_type": "display_data"
    }
   ],
   "source": [
    "create_line_subplot(data=data_all, output_file_name=\"scenarios_all\", show_fig=True, fig_title=\"All\")"
   ]
  },
  {
   "cell_type": "code",
   "execution_count": 222,
   "metadata": {},
   "outputs": [
    {
     "data": {
      "application/vnd.plotly.v1+json": {
       "config": {
        "plotlyServerURL": "https://plot.ly"
       },
       "data": [
        {
         "legendgroup": "feel responsible + positive outcome + PA yes",
         "marker": {
          "color": "#1F77B4"
         },
         "mode": "lines+markers",
         "name": "feel responsible + positive outcome + PA yes",
         "showlegend": true,
         "type": "scatter",
         "x": [
          "Familiar solution",
          "New solution"
         ],
         "xaxis": "x",
         "y": [
          4.428571428571429,
          6.214285714285714
         ],
         "yaxis": "y"
        },
        {
         "legendgroup": "feel responsible + positive outcome + PA no",
         "marker": {
          "color": "#FF7F0E"
         },
         "mode": "lines+markers",
         "name": "feel responsible + positive outcome + PA no",
         "showlegend": true,
         "type": "scatter",
         "x": [
          "Familiar solution",
          "New solution"
         ],
         "xaxis": "x",
         "y": [
          5.333333333333333,
          6.444444444444445
         ],
         "yaxis": "y"
        },
        {
         "legendgroup": "feel responsible + negative outcome + PA yes",
         "marker": {
          "color": "#2CA02C"
         },
         "mode": "lines+markers",
         "name": "feel responsible + negative outcome + PA yes",
         "showlegend": true,
         "type": "scatter",
         "x": [
          "Familiar solution",
          "New solution"
         ],
         "xaxis": "x",
         "y": [
          3.6363636363636362,
          6
         ],
         "yaxis": "y"
        },
        {
         "legendgroup": "feel responsible + negative outcome + PA no",
         "marker": {
          "color": "#D62728"
         },
         "mode": "lines+markers",
         "name": "feel responsible + negative outcome + PA no",
         "showlegend": true,
         "type": "scatter",
         "x": [
          "Familiar solution",
          "New solution"
         ],
         "xaxis": "x",
         "y": [
          4,
          6.375
         ],
         "yaxis": "y"
        },
        {
         "legendgroup": "act responsible + positive outcome + PA yes",
         "marker": {
          "color": "#9467BD"
         },
         "mode": "lines+markers",
         "name": "act responsible + positive outcome + PA yes",
         "showlegend": true,
         "type": "scatter",
         "x": [
          "Familiar solution",
          "New solution"
         ],
         "xaxis": "x",
         "y": [
          6.142857142857143,
          4.642857142857143
         ],
         "yaxis": "y"
        },
        {
         "legendgroup": "act responsible + positive outcome + PA no",
         "marker": {
          "color": "#8C564B"
         },
         "mode": "lines+markers",
         "name": "act responsible + positive outcome + PA no",
         "showlegend": true,
         "type": "scatter",
         "x": [
          "Familiar solution",
          "New solution"
         ],
         "xaxis": "x",
         "y": [
          5.888888888888889,
          5.333333333333333
         ],
         "yaxis": "y"
        },
        {
         "legendgroup": "act responsible + negative outcome + PA yes",
         "marker": {
          "color": "#E377C2"
         },
         "mode": "lines+markers",
         "name": "act responsible + negative outcome + PA yes",
         "showlegend": true,
         "type": "scatter",
         "x": [
          "Familiar solution",
          "New solution"
         ],
         "xaxis": "x",
         "y": [
          5.181818181818182,
          5
         ],
         "yaxis": "y"
        },
        {
         "legendgroup": "act responsible + negative outcome + PA no",
         "marker": {
          "color": "#7F7F7F"
         },
         "mode": "lines+markers",
         "name": "act responsible + negative outcome + PA no",
         "showlegend": true,
         "type": "scatter",
         "x": [
          "Familiar solution",
          "New solution"
         ],
         "xaxis": "x",
         "y": [
          6.125,
          4.625
         ],
         "yaxis": "y"
        },
        {
         "legendgroup": "feel responsible + positive outcome + PA yes",
         "marker": {
          "color": "#1F77B4"
         },
         "mode": "lines+markers",
         "name": "feel responsible + positive outcome + PA yes",
         "showlegend": false,
         "type": "scatter",
         "x": [
          "Follow advise",
          "Not follow advise"
         ],
         "xaxis": "x2",
         "y": [
          4.625,
          6.375
         ],
         "yaxis": "y2"
        },
        {
         "legendgroup": "feel responsible + positive outcome + PA no",
         "marker": {
          "color": "#FF7F0E"
         },
         "mode": "lines+markers",
         "name": "feel responsible + positive outcome + PA no",
         "showlegend": false,
         "type": "scatter",
         "x": [
          "Follow advise",
          "Not follow advise"
         ],
         "xaxis": "x2",
         "y": [
          4.545454545454546,
          6
         ],
         "yaxis": "y2"
        },
        {
         "legendgroup": "feel responsible + negative outcome + PA yes",
         "marker": {
          "color": "#2CA02C"
         },
         "mode": "lines+markers",
         "name": "feel responsible + negative outcome + PA yes",
         "showlegend": false,
         "type": "scatter",
         "x": [
          "Follow advise",
          "Not follow advise"
         ],
         "xaxis": "x2",
         "y": [
          2.7777777777777777,
          5.888888888888889
         ],
         "yaxis": "y2"
        },
        {
         "legendgroup": "feel responsible + negative outcome + PA no",
         "marker": {
          "color": "#D62728"
         },
         "mode": "lines+markers",
         "name": "feel responsible + negative outcome + PA no",
         "showlegend": false,
         "type": "scatter",
         "x": [
          "Follow advise",
          "Not follow advise"
         ],
         "xaxis": "x2",
         "y": [
          2.5714285714285716,
          6.071428571428571
         ],
         "yaxis": "y2"
        },
        {
         "legendgroup": "act responsible + positive outcome + PA yes",
         "marker": {
          "color": "#9467BD"
         },
         "mode": "lines+markers",
         "name": "act responsible + positive outcome + PA yes",
         "showlegend": false,
         "type": "scatter",
         "x": [
          "Follow advise",
          "Not follow advise"
         ],
         "xaxis": "x2",
         "y": [
          5.5,
          4.5
         ],
         "yaxis": "y2"
        },
        {
         "legendgroup": "act responsible + positive outcome + PA no",
         "marker": {
          "color": "#8C564B"
         },
         "mode": "lines+markers",
         "name": "act responsible + positive outcome + PA no",
         "showlegend": false,
         "type": "scatter",
         "x": [
          "Follow advise",
          "Not follow advise"
         ],
         "xaxis": "x2",
         "y": [
          5.545454545454546,
          3.727272727272727
         ],
         "yaxis": "y2"
        },
        {
         "legendgroup": "act responsible + negative outcome + PA yes",
         "marker": {
          "color": "#E377C2"
         },
         "mode": "lines+markers",
         "name": "act responsible + negative outcome + PA yes",
         "showlegend": false,
         "type": "scatter",
         "x": [
          "Follow advise",
          "Not follow advise"
         ],
         "xaxis": "x2",
         "y": [
          5.444444444444445,
          3.4444444444444446
         ],
         "yaxis": "y2"
        },
        {
         "legendgroup": "act responsible + negative outcome + PA no",
         "marker": {
          "color": "#7F7F7F"
         },
         "mode": "lines+markers",
         "name": "act responsible + negative outcome + PA no",
         "showlegend": false,
         "type": "scatter",
         "x": [
          "Follow advise",
          "Not follow advise"
         ],
         "xaxis": "x2",
         "y": [
          4.5,
          3.642857142857143
         ],
         "yaxis": "y2"
        },
        {
         "legendgroup": "feel responsible + positive outcome + PA yes",
         "marker": {
          "color": "#1F77B4"
         },
         "mode": "lines+markers",
         "name": "feel responsible + positive outcome + PA yes",
         "showlegend": false,
         "type": "scatter",
         "x": [
          "Hold on",
          "Change decision"
         ],
         "xaxis": "x3",
         "y": [
          6,
          6.375
         ],
         "yaxis": "y3"
        },
        {
         "legendgroup": "feel responsible + positive outcome + PA no",
         "marker": {
          "color": "#FF7F0E"
         },
         "mode": "lines+markers",
         "name": "feel responsible + positive outcome + PA no",
         "showlegend": false,
         "type": "scatter",
         "x": [
          "Hold on",
          "Change decision"
         ],
         "xaxis": "x3",
         "y": [
          5.181818181818182,
          5.909090909090909
         ],
         "yaxis": "y3"
        },
        {
         "legendgroup": "feel responsible + negative outcome + PA yes",
         "marker": {
          "color": "#2CA02C"
         },
         "mode": "lines+markers",
         "name": "feel responsible + negative outcome + PA yes",
         "showlegend": false,
         "type": "scatter",
         "x": [
          "Hold on",
          "Change decision"
         ],
         "xaxis": "x3",
         "y": [
          4.777777777777778,
          6.222222222222222
         ],
         "yaxis": "y3"
        },
        {
         "legendgroup": "feel responsible + negative outcome + PA no",
         "marker": {
          "color": "#D62728"
         },
         "mode": "lines+markers",
         "name": "feel responsible + negative outcome + PA no",
         "showlegend": false,
         "type": "scatter",
         "x": [
          "Hold on",
          "Change decision"
         ],
         "xaxis": "x3",
         "y": [
          4.642857142857143,
          5.857142857142857
         ],
         "yaxis": "y3"
        },
        {
         "legendgroup": "act responsible + positive outcome + PA yes",
         "marker": {
          "color": "#9467BD"
         },
         "mode": "lines+markers",
         "name": "act responsible + positive outcome + PA yes",
         "showlegend": false,
         "type": "scatter",
         "x": [
          "Hold on",
          "Change decision"
         ],
         "xaxis": "x3",
         "y": [
          5.5,
          5.25
         ],
         "yaxis": "y3"
        },
        {
         "legendgroup": "act responsible + positive outcome + PA no",
         "marker": {
          "color": "#8C564B"
         },
         "mode": "lines+markers",
         "name": "act responsible + positive outcome + PA no",
         "showlegend": false,
         "type": "scatter",
         "x": [
          "Hold on",
          "Change decision"
         ],
         "xaxis": "x3",
         "y": [
          5.454545454545454,
          4.818181818181818
         ],
         "yaxis": "y3"
        },
        {
         "legendgroup": "act responsible + negative outcome + PA yes",
         "marker": {
          "color": "#E377C2"
         },
         "mode": "lines+markers",
         "name": "act responsible + negative outcome + PA yes",
         "showlegend": false,
         "type": "scatter",
         "x": [
          "Hold on",
          "Change decision"
         ],
         "xaxis": "x3",
         "y": [
          5.222222222222222,
          3.888888888888889
         ],
         "yaxis": "y3"
        },
        {
         "legendgroup": "act responsible + negative outcome + PA no",
         "marker": {
          "color": "#7F7F7F"
         },
         "mode": "lines+markers",
         "name": "act responsible + negative outcome + PA no",
         "showlegend": false,
         "type": "scatter",
         "x": [
          "Hold on",
          "Change decision"
         ],
         "xaxis": "x3",
         "y": [
          5,
          4.285714285714286
         ],
         "yaxis": "y3"
        },
        {
         "legendgroup": "feel responsible + positive outcome + PA yes",
         "marker": {
          "color": "#1F77B4"
         },
         "mode": "lines+markers",
         "name": "feel responsible + positive outcome + PA yes",
         "showlegend": false,
         "type": "scatter",
         "x": [
          "Wait and see",
          "Take action"
         ],
         "xaxis": "x4",
         "y": [
          4,
          5.928571428571429
         ],
         "yaxis": "y4"
        },
        {
         "legendgroup": "feel responsible + positive outcome + PA no",
         "marker": {
          "color": "#FF7F0E"
         },
         "mode": "lines+markers",
         "name": "feel responsible + positive outcome + PA no",
         "showlegend": false,
         "type": "scatter",
         "x": [
          "Wait and see",
          "Take action"
         ],
         "xaxis": "x4",
         "y": [
          5.555555555555555,
          5.888888888888889
         ],
         "yaxis": "y4"
        },
        {
         "legendgroup": "feel responsible + negative outcome + PA yes",
         "marker": {
          "color": "#2CA02C"
         },
         "mode": "lines+markers",
         "name": "feel responsible + negative outcome + PA yes",
         "showlegend": false,
         "type": "scatter",
         "x": [
          "Wait and see",
          "Take action"
         ],
         "xaxis": "x4",
         "y": [
          5.636363636363637,
          4.909090909090909
         ],
         "yaxis": "y4"
        },
        {
         "legendgroup": "feel responsible + negative outcome + PA no",
         "marker": {
          "color": "#D62728"
         },
         "mode": "lines+markers",
         "name": "feel responsible + negative outcome + PA no",
         "showlegend": false,
         "type": "scatter",
         "x": [
          "Wait and see",
          "Take action"
         ],
         "xaxis": "x4",
         "y": [
          4.75,
          5.625
         ],
         "yaxis": "y4"
        },
        {
         "legendgroup": "act responsible + positive outcome + PA yes",
         "marker": {
          "color": "#9467BD"
         },
         "mode": "lines+markers",
         "name": "act responsible + positive outcome + PA yes",
         "showlegend": false,
         "type": "scatter",
         "x": [
          "Wait and see",
          "Take action"
         ],
         "xaxis": "x4",
         "y": [
          3.2142857142857144,
          5.928571428571429
         ],
         "yaxis": "y4"
        },
        {
         "legendgroup": "act responsible + positive outcome + PA no",
         "marker": {
          "color": "#8C564B"
         },
         "mode": "lines+markers",
         "name": "act responsible + positive outcome + PA no",
         "showlegend": false,
         "type": "scatter",
         "x": [
          "Wait and see",
          "Take action"
         ],
         "xaxis": "x4",
         "y": [
          3.7777777777777777,
          5.333333333333333
         ],
         "yaxis": "y4"
        },
        {
         "legendgroup": "act responsible + negative outcome + PA yes",
         "marker": {
          "color": "#E377C2"
         },
         "mode": "lines+markers",
         "name": "act responsible + negative outcome + PA yes",
         "showlegend": false,
         "type": "scatter",
         "x": [
          "Wait and see",
          "Take action"
         ],
         "xaxis": "x4",
         "y": [
          3.272727272727273,
          5.363636363636363
         ],
         "yaxis": "y4"
        },
        {
         "legendgroup": "act responsible + negative outcome + PA no",
         "marker": {
          "color": "#7F7F7F"
         },
         "mode": "lines+markers",
         "name": "act responsible + negative outcome + PA no",
         "showlegend": false,
         "type": "scatter",
         "x": [
          "Wait and see",
          "Take action"
         ],
         "xaxis": "x4",
         "y": [
          3,
          5.625
         ],
         "yaxis": "y4"
        }
       ],
       "layout": {
        "height": 800,
        "template": {
         "data": {
          "bar": [
           {
            "error_x": {
             "color": "rgb(36,36,36)"
            },
            "error_y": {
             "color": "rgb(36,36,36)"
            },
            "marker": {
             "line": {
              "color": "white",
              "width": 0.5
             },
             "pattern": {
              "fillmode": "overlay",
              "size": 10,
              "solidity": 0.2
             }
            },
            "type": "bar"
           }
          ],
          "barpolar": [
           {
            "marker": {
             "line": {
              "color": "white",
              "width": 0.5
             },
             "pattern": {
              "fillmode": "overlay",
              "size": 10,
              "solidity": 0.2
             }
            },
            "type": "barpolar"
           }
          ],
          "carpet": [
           {
            "aaxis": {
             "endlinecolor": "rgb(36,36,36)",
             "gridcolor": "white",
             "linecolor": "white",
             "minorgridcolor": "white",
             "startlinecolor": "rgb(36,36,36)"
            },
            "baxis": {
             "endlinecolor": "rgb(36,36,36)",
             "gridcolor": "white",
             "linecolor": "white",
             "minorgridcolor": "white",
             "startlinecolor": "rgb(36,36,36)"
            },
            "type": "carpet"
           }
          ],
          "choropleth": [
           {
            "colorbar": {
             "outlinewidth": 1,
             "tickcolor": "rgb(36,36,36)",
             "ticks": "outside"
            },
            "type": "choropleth"
           }
          ],
          "contour": [
           {
            "colorbar": {
             "outlinewidth": 1,
             "tickcolor": "rgb(36,36,36)",
             "ticks": "outside"
            },
            "colorscale": [
             [
              0,
              "#440154"
             ],
             [
              0.1111111111111111,
              "#482878"
             ],
             [
              0.2222222222222222,
              "#3e4989"
             ],
             [
              0.3333333333333333,
              "#31688e"
             ],
             [
              0.4444444444444444,
              "#26828e"
             ],
             [
              0.5555555555555556,
              "#1f9e89"
             ],
             [
              0.6666666666666666,
              "#35b779"
             ],
             [
              0.7777777777777778,
              "#6ece58"
             ],
             [
              0.8888888888888888,
              "#b5de2b"
             ],
             [
              1,
              "#fde725"
             ]
            ],
            "type": "contour"
           }
          ],
          "contourcarpet": [
           {
            "colorbar": {
             "outlinewidth": 1,
             "tickcolor": "rgb(36,36,36)",
             "ticks": "outside"
            },
            "type": "contourcarpet"
           }
          ],
          "heatmap": [
           {
            "colorbar": {
             "outlinewidth": 1,
             "tickcolor": "rgb(36,36,36)",
             "ticks": "outside"
            },
            "colorscale": [
             [
              0,
              "#440154"
             ],
             [
              0.1111111111111111,
              "#482878"
             ],
             [
              0.2222222222222222,
              "#3e4989"
             ],
             [
              0.3333333333333333,
              "#31688e"
             ],
             [
              0.4444444444444444,
              "#26828e"
             ],
             [
              0.5555555555555556,
              "#1f9e89"
             ],
             [
              0.6666666666666666,
              "#35b779"
             ],
             [
              0.7777777777777778,
              "#6ece58"
             ],
             [
              0.8888888888888888,
              "#b5de2b"
             ],
             [
              1,
              "#fde725"
             ]
            ],
            "type": "heatmap"
           }
          ],
          "heatmapgl": [
           {
            "colorbar": {
             "outlinewidth": 1,
             "tickcolor": "rgb(36,36,36)",
             "ticks": "outside"
            },
            "colorscale": [
             [
              0,
              "#440154"
             ],
             [
              0.1111111111111111,
              "#482878"
             ],
             [
              0.2222222222222222,
              "#3e4989"
             ],
             [
              0.3333333333333333,
              "#31688e"
             ],
             [
              0.4444444444444444,
              "#26828e"
             ],
             [
              0.5555555555555556,
              "#1f9e89"
             ],
             [
              0.6666666666666666,
              "#35b779"
             ],
             [
              0.7777777777777778,
              "#6ece58"
             ],
             [
              0.8888888888888888,
              "#b5de2b"
             ],
             [
              1,
              "#fde725"
             ]
            ],
            "type": "heatmapgl"
           }
          ],
          "histogram": [
           {
            "marker": {
             "line": {
              "color": "white",
              "width": 0.6
             }
            },
            "type": "histogram"
           }
          ],
          "histogram2d": [
           {
            "colorbar": {
             "outlinewidth": 1,
             "tickcolor": "rgb(36,36,36)",
             "ticks": "outside"
            },
            "colorscale": [
             [
              0,
              "#440154"
             ],
             [
              0.1111111111111111,
              "#482878"
             ],
             [
              0.2222222222222222,
              "#3e4989"
             ],
             [
              0.3333333333333333,
              "#31688e"
             ],
             [
              0.4444444444444444,
              "#26828e"
             ],
             [
              0.5555555555555556,
              "#1f9e89"
             ],
             [
              0.6666666666666666,
              "#35b779"
             ],
             [
              0.7777777777777778,
              "#6ece58"
             ],
             [
              0.8888888888888888,
              "#b5de2b"
             ],
             [
              1,
              "#fde725"
             ]
            ],
            "type": "histogram2d"
           }
          ],
          "histogram2dcontour": [
           {
            "colorbar": {
             "outlinewidth": 1,
             "tickcolor": "rgb(36,36,36)",
             "ticks": "outside"
            },
            "colorscale": [
             [
              0,
              "#440154"
             ],
             [
              0.1111111111111111,
              "#482878"
             ],
             [
              0.2222222222222222,
              "#3e4989"
             ],
             [
              0.3333333333333333,
              "#31688e"
             ],
             [
              0.4444444444444444,
              "#26828e"
             ],
             [
              0.5555555555555556,
              "#1f9e89"
             ],
             [
              0.6666666666666666,
              "#35b779"
             ],
             [
              0.7777777777777778,
              "#6ece58"
             ],
             [
              0.8888888888888888,
              "#b5de2b"
             ],
             [
              1,
              "#fde725"
             ]
            ],
            "type": "histogram2dcontour"
           }
          ],
          "mesh3d": [
           {
            "colorbar": {
             "outlinewidth": 1,
             "tickcolor": "rgb(36,36,36)",
             "ticks": "outside"
            },
            "type": "mesh3d"
           }
          ],
          "parcoords": [
           {
            "line": {
             "colorbar": {
              "outlinewidth": 1,
              "tickcolor": "rgb(36,36,36)",
              "ticks": "outside"
             }
            },
            "type": "parcoords"
           }
          ],
          "pie": [
           {
            "automargin": true,
            "type": "pie"
           }
          ],
          "scatter": [
           {
            "fillpattern": {
             "fillmode": "overlay",
             "size": 10,
             "solidity": 0.2
            },
            "type": "scatter"
           }
          ],
          "scatter3d": [
           {
            "line": {
             "colorbar": {
              "outlinewidth": 1,
              "tickcolor": "rgb(36,36,36)",
              "ticks": "outside"
             }
            },
            "marker": {
             "colorbar": {
              "outlinewidth": 1,
              "tickcolor": "rgb(36,36,36)",
              "ticks": "outside"
             }
            },
            "type": "scatter3d"
           }
          ],
          "scattercarpet": [
           {
            "marker": {
             "colorbar": {
              "outlinewidth": 1,
              "tickcolor": "rgb(36,36,36)",
              "ticks": "outside"
             }
            },
            "type": "scattercarpet"
           }
          ],
          "scattergeo": [
           {
            "marker": {
             "colorbar": {
              "outlinewidth": 1,
              "tickcolor": "rgb(36,36,36)",
              "ticks": "outside"
             }
            },
            "type": "scattergeo"
           }
          ],
          "scattergl": [
           {
            "marker": {
             "colorbar": {
              "outlinewidth": 1,
              "tickcolor": "rgb(36,36,36)",
              "ticks": "outside"
             }
            },
            "type": "scattergl"
           }
          ],
          "scattermapbox": [
           {
            "marker": {
             "colorbar": {
              "outlinewidth": 1,
              "tickcolor": "rgb(36,36,36)",
              "ticks": "outside"
             }
            },
            "type": "scattermapbox"
           }
          ],
          "scatterpolar": [
           {
            "marker": {
             "colorbar": {
              "outlinewidth": 1,
              "tickcolor": "rgb(36,36,36)",
              "ticks": "outside"
             }
            },
            "type": "scatterpolar"
           }
          ],
          "scatterpolargl": [
           {
            "marker": {
             "colorbar": {
              "outlinewidth": 1,
              "tickcolor": "rgb(36,36,36)",
              "ticks": "outside"
             }
            },
            "type": "scatterpolargl"
           }
          ],
          "scatterternary": [
           {
            "marker": {
             "colorbar": {
              "outlinewidth": 1,
              "tickcolor": "rgb(36,36,36)",
              "ticks": "outside"
             }
            },
            "type": "scatterternary"
           }
          ],
          "surface": [
           {
            "colorbar": {
             "outlinewidth": 1,
             "tickcolor": "rgb(36,36,36)",
             "ticks": "outside"
            },
            "colorscale": [
             [
              0,
              "#440154"
             ],
             [
              0.1111111111111111,
              "#482878"
             ],
             [
              0.2222222222222222,
              "#3e4989"
             ],
             [
              0.3333333333333333,
              "#31688e"
             ],
             [
              0.4444444444444444,
              "#26828e"
             ],
             [
              0.5555555555555556,
              "#1f9e89"
             ],
             [
              0.6666666666666666,
              "#35b779"
             ],
             [
              0.7777777777777778,
              "#6ece58"
             ],
             [
              0.8888888888888888,
              "#b5de2b"
             ],
             [
              1,
              "#fde725"
             ]
            ],
            "type": "surface"
           }
          ],
          "table": [
           {
            "cells": {
             "fill": {
              "color": "rgb(237,237,237)"
             },
             "line": {
              "color": "white"
             }
            },
            "header": {
             "fill": {
              "color": "rgb(217,217,217)"
             },
             "line": {
              "color": "white"
             }
            },
            "type": "table"
           }
          ]
         },
         "layout": {
          "annotationdefaults": {
           "arrowhead": 0,
           "arrowwidth": 1
          },
          "autotypenumbers": "strict",
          "coloraxis": {
           "colorbar": {
            "outlinewidth": 1,
            "tickcolor": "rgb(36,36,36)",
            "ticks": "outside"
           }
          },
          "colorscale": {
           "diverging": [
            [
             0,
             "rgb(103,0,31)"
            ],
            [
             0.1,
             "rgb(178,24,43)"
            ],
            [
             0.2,
             "rgb(214,96,77)"
            ],
            [
             0.3,
             "rgb(244,165,130)"
            ],
            [
             0.4,
             "rgb(253,219,199)"
            ],
            [
             0.5,
             "rgb(247,247,247)"
            ],
            [
             0.6,
             "rgb(209,229,240)"
            ],
            [
             0.7,
             "rgb(146,197,222)"
            ],
            [
             0.8,
             "rgb(67,147,195)"
            ],
            [
             0.9,
             "rgb(33,102,172)"
            ],
            [
             1,
             "rgb(5,48,97)"
            ]
           ],
           "sequential": [
            [
             0,
             "#440154"
            ],
            [
             0.1111111111111111,
             "#482878"
            ],
            [
             0.2222222222222222,
             "#3e4989"
            ],
            [
             0.3333333333333333,
             "#31688e"
            ],
            [
             0.4444444444444444,
             "#26828e"
            ],
            [
             0.5555555555555556,
             "#1f9e89"
            ],
            [
             0.6666666666666666,
             "#35b779"
            ],
            [
             0.7777777777777778,
             "#6ece58"
            ],
            [
             0.8888888888888888,
             "#b5de2b"
            ],
            [
             1,
             "#fde725"
            ]
           ],
           "sequentialminus": [
            [
             0,
             "#440154"
            ],
            [
             0.1111111111111111,
             "#482878"
            ],
            [
             0.2222222222222222,
             "#3e4989"
            ],
            [
             0.3333333333333333,
             "#31688e"
            ],
            [
             0.4444444444444444,
             "#26828e"
            ],
            [
             0.5555555555555556,
             "#1f9e89"
            ],
            [
             0.6666666666666666,
             "#35b779"
            ],
            [
             0.7777777777777778,
             "#6ece58"
            ],
            [
             0.8888888888888888,
             "#b5de2b"
            ],
            [
             1,
             "#fde725"
            ]
           ]
          },
          "colorway": [
           "#1F77B4",
           "#FF7F0E",
           "#2CA02C",
           "#D62728",
           "#9467BD",
           "#8C564B",
           "#E377C2",
           "#7F7F7F",
           "#BCBD22",
           "#17BECF"
          ],
          "font": {
           "color": "rgb(36,36,36)"
          },
          "geo": {
           "bgcolor": "white",
           "lakecolor": "white",
           "landcolor": "white",
           "showlakes": true,
           "showland": true,
           "subunitcolor": "white"
          },
          "hoverlabel": {
           "align": "left"
          },
          "hovermode": "closest",
          "mapbox": {
           "style": "light"
          },
          "paper_bgcolor": "white",
          "plot_bgcolor": "white",
          "polar": {
           "angularaxis": {
            "gridcolor": "rgb(232,232,232)",
            "linecolor": "rgb(36,36,36)",
            "showgrid": false,
            "showline": true,
            "ticks": "outside"
           },
           "bgcolor": "white",
           "radialaxis": {
            "gridcolor": "rgb(232,232,232)",
            "linecolor": "rgb(36,36,36)",
            "showgrid": false,
            "showline": true,
            "ticks": "outside"
           }
          },
          "scene": {
           "xaxis": {
            "backgroundcolor": "white",
            "gridcolor": "rgb(232,232,232)",
            "gridwidth": 2,
            "linecolor": "rgb(36,36,36)",
            "showbackground": true,
            "showgrid": false,
            "showline": true,
            "ticks": "outside",
            "zeroline": false,
            "zerolinecolor": "rgb(36,36,36)"
           },
           "yaxis": {
            "backgroundcolor": "white",
            "gridcolor": "rgb(232,232,232)",
            "gridwidth": 2,
            "linecolor": "rgb(36,36,36)",
            "showbackground": true,
            "showgrid": false,
            "showline": true,
            "ticks": "outside",
            "zeroline": false,
            "zerolinecolor": "rgb(36,36,36)"
           },
           "zaxis": {
            "backgroundcolor": "white",
            "gridcolor": "rgb(232,232,232)",
            "gridwidth": 2,
            "linecolor": "rgb(36,36,36)",
            "showbackground": true,
            "showgrid": false,
            "showline": true,
            "ticks": "outside",
            "zeroline": false,
            "zerolinecolor": "rgb(36,36,36)"
           }
          },
          "shapedefaults": {
           "fillcolor": "black",
           "line": {
            "width": 0
           },
           "opacity": 0.3
          },
          "ternary": {
           "aaxis": {
            "gridcolor": "rgb(232,232,232)",
            "linecolor": "rgb(36,36,36)",
            "showgrid": false,
            "showline": true,
            "ticks": "outside"
           },
           "baxis": {
            "gridcolor": "rgb(232,232,232)",
            "linecolor": "rgb(36,36,36)",
            "showgrid": false,
            "showline": true,
            "ticks": "outside"
           },
           "bgcolor": "white",
           "caxis": {
            "gridcolor": "rgb(232,232,232)",
            "linecolor": "rgb(36,36,36)",
            "showgrid": false,
            "showline": true,
            "ticks": "outside"
           }
          },
          "title": {
           "x": 0.05
          },
          "xaxis": {
           "automargin": true,
           "gridcolor": "rgb(232,232,232)",
           "linecolor": "rgb(36,36,36)",
           "showgrid": false,
           "showline": true,
           "ticks": "outside",
           "title": {
            "standoff": 15
           },
           "zeroline": false,
           "zerolinecolor": "rgb(36,36,36)"
          },
          "yaxis": {
           "automargin": true,
           "gridcolor": "rgb(232,232,232)",
           "linecolor": "rgb(36,36,36)",
           "showgrid": false,
           "showline": true,
           "ticks": "outside",
           "title": {
            "standoff": 15
           },
           "zeroline": false,
           "zerolinecolor": "rgb(36,36,36)"
          }
         }
        },
        "title": {
         "text": "DEU"
        },
        "width": 1100,
        "xaxis": {
         "anchor": "y",
         "domain": [
          0,
          0.45
         ]
        },
        "xaxis2": {
         "anchor": "y2",
         "domain": [
          0.55,
          1
         ]
        },
        "xaxis3": {
         "anchor": "y3",
         "domain": [
          0,
          0.45
         ]
        },
        "xaxis4": {
         "anchor": "y4",
         "domain": [
          0.55,
          1
         ]
        },
        "yaxis": {
         "anchor": "x",
         "domain": [
          0.575,
          1
         ],
         "dtick": 1,
         "range": [
          1,
          7
         ]
        },
        "yaxis2": {
         "anchor": "x2",
         "domain": [
          0.575,
          1
         ],
         "dtick": 1,
         "range": [
          1,
          7
         ]
        },
        "yaxis3": {
         "anchor": "x3",
         "domain": [
          0,
          0.425
         ],
         "dtick": 1,
         "range": [
          1,
          7
         ]
        },
        "yaxis4": {
         "anchor": "x4",
         "domain": [
          0,
          0.425
         ],
         "dtick": 1,
         "range": [
          1,
          7
         ]
        }
       }
      }
     },
     "metadata": {},
     "output_type": "display_data"
    }
   ],
   "source": [
    "create_line_subplot(\n",
    "    data=data_deu, output_file_name=\"scenarios_deu\", show_fig=True, fig_title=\"DEU\"\n",
    ")"
   ]
  },
  {
   "cell_type": "code",
   "execution_count": 223,
   "metadata": {},
   "outputs": [
    {
     "data": {
      "application/vnd.plotly.v1+json": {
       "config": {
        "plotlyServerURL": "https://plot.ly"
       },
       "data": [
        {
         "legendgroup": "feel responsible + positive outcome + PA yes",
         "marker": {
          "color": "#1F77B4"
         },
         "mode": "lines+markers",
         "name": "feel responsible + positive outcome + PA yes",
         "showlegend": true,
         "type": "scatter",
         "x": [
          "Familiar solution",
          "New solution"
         ],
         "xaxis": "x",
         "y": [
          5.818181818181818,
          6.636363636363637
         ],
         "yaxis": "y"
        },
        {
         "legendgroup": "feel responsible + positive outcome + PA no",
         "marker": {
          "color": "#FF7F0E"
         },
         "mode": "lines+markers",
         "name": "feel responsible + positive outcome + PA no",
         "showlegend": true,
         "type": "scatter",
         "x": [
          "Familiar solution",
          "New solution"
         ],
         "xaxis": "x",
         "y": [
          5.6,
          6.2
         ],
         "yaxis": "y"
        },
        {
         "legendgroup": "feel responsible + negative outcome + PA yes",
         "marker": {
          "color": "#2CA02C"
         },
         "mode": "lines+markers",
         "name": "feel responsible + negative outcome + PA yes",
         "showlegend": true,
         "type": "scatter",
         "x": [
          "Familiar solution",
          "New solution"
         ],
         "xaxis": "x",
         "y": [
          4.866666666666666,
          5.933333333333334
         ],
         "yaxis": "y"
        },
        {
         "legendgroup": "feel responsible + negative outcome + PA no",
         "marker": {
          "color": "#D62728"
         },
         "mode": "lines+markers",
         "name": "feel responsible + negative outcome + PA no",
         "showlegend": true,
         "type": "scatter",
         "x": [
          "Familiar solution",
          "New solution"
         ],
         "xaxis": "x",
         "y": [
          4.083333333333333,
          5.666666666666667
         ],
         "yaxis": "y"
        },
        {
         "legendgroup": "act responsible + positive outcome + PA yes",
         "marker": {
          "color": "#9467BD"
         },
         "mode": "lines+markers",
         "name": "act responsible + positive outcome + PA yes",
         "showlegend": true,
         "type": "scatter",
         "x": [
          "Familiar solution",
          "New solution"
         ],
         "xaxis": "x",
         "y": [
          6.2727272727272725,
          5.363636363636363
         ],
         "yaxis": "y"
        },
        {
         "legendgroup": "act responsible + positive outcome + PA no",
         "marker": {
          "color": "#8C564B"
         },
         "mode": "lines+markers",
         "name": "act responsible + positive outcome + PA no",
         "showlegend": true,
         "type": "scatter",
         "x": [
          "Familiar solution",
          "New solution"
         ],
         "xaxis": "x",
         "y": [
          5.9,
          5.1
         ],
         "yaxis": "y"
        },
        {
         "legendgroup": "act responsible + negative outcome + PA yes",
         "marker": {
          "color": "#E377C2"
         },
         "mode": "lines+markers",
         "name": "act responsible + negative outcome + PA yes",
         "showlegend": true,
         "type": "scatter",
         "x": [
          "Familiar solution",
          "New solution"
         ],
         "xaxis": "x",
         "y": [
          5.466666666666667,
          4.533333333333333
         ],
         "yaxis": "y"
        },
        {
         "legendgroup": "act responsible + negative outcome + PA no",
         "marker": {
          "color": "#7F7F7F"
         },
         "mode": "lines+markers",
         "name": "act responsible + negative outcome + PA no",
         "showlegend": true,
         "type": "scatter",
         "x": [
          "Familiar solution",
          "New solution"
         ],
         "xaxis": "x",
         "y": [
          4.833333333333333,
          4.416666666666667
         ],
         "yaxis": "y"
        },
        {
         "legendgroup": "feel responsible + positive outcome + PA yes",
         "marker": {
          "color": "#1F77B4"
         },
         "mode": "lines+markers",
         "name": "feel responsible + positive outcome + PA yes",
         "showlegend": false,
         "type": "scatter",
         "x": [
          "Follow advise",
          "Not follow advise"
         ],
         "xaxis": "x2",
         "y": [
          4.166666666666667,
          6.333333333333333
         ],
         "yaxis": "y2"
        },
        {
         "legendgroup": "feel responsible + positive outcome + PA no",
         "marker": {
          "color": "#FF7F0E"
         },
         "mode": "lines+markers",
         "name": "feel responsible + positive outcome + PA no",
         "showlegend": false,
         "type": "scatter",
         "x": [
          "Follow advise",
          "Not follow advise"
         ],
         "xaxis": "x2",
         "y": [
          5,
          6.4
         ],
         "yaxis": "y2"
        },
        {
         "legendgroup": "feel responsible + negative outcome + PA yes",
         "marker": {
          "color": "#2CA02C"
         },
         "mode": "lines+markers",
         "name": "feel responsible + negative outcome + PA yes",
         "showlegend": false,
         "type": "scatter",
         "x": [
          "Follow advise",
          "Not follow advise"
         ],
         "xaxis": "x2",
         "y": [
          3,
          5.2
         ],
         "yaxis": "y2"
        },
        {
         "legendgroup": "feel responsible + negative outcome + PA no",
         "marker": {
          "color": "#D62728"
         },
         "mode": "lines+markers",
         "name": "feel responsible + negative outcome + PA no",
         "showlegend": false,
         "type": "scatter",
         "x": [
          "Follow advise",
          "Not follow advise"
         ],
         "xaxis": "x2",
         "y": [
          3.6363636363636362,
          6.7272727272727275
         ],
         "yaxis": "y2"
        },
        {
         "legendgroup": "act responsible + positive outcome + PA yes",
         "marker": {
          "color": "#9467BD"
         },
         "mode": "lines+markers",
         "name": "act responsible + positive outcome + PA yes",
         "showlegend": false,
         "type": "scatter",
         "x": [
          "Follow advise",
          "Not follow advise"
         ],
         "xaxis": "x2",
         "y": [
          6.083333333333333,
          4.916666666666667
         ],
         "yaxis": "y2"
        },
        {
         "legendgroup": "act responsible + positive outcome + PA no",
         "marker": {
          "color": "#8C564B"
         },
         "mode": "lines+markers",
         "name": "act responsible + positive outcome + PA no",
         "showlegend": false,
         "type": "scatter",
         "x": [
          "Follow advise",
          "Not follow advise"
         ],
         "xaxis": "x2",
         "y": [
          6.2,
          4.733333333333333
         ],
         "yaxis": "y2"
        },
        {
         "legendgroup": "act responsible + negative outcome + PA yes",
         "marker": {
          "color": "#E377C2"
         },
         "mode": "lines+markers",
         "name": "act responsible + negative outcome + PA yes",
         "showlegend": false,
         "type": "scatter",
         "x": [
          "Follow advise",
          "Not follow advise"
         ],
         "xaxis": "x2",
         "y": [
          5.1,
          3.5
         ],
         "yaxis": "y2"
        },
        {
         "legendgroup": "act responsible + negative outcome + PA no",
         "marker": {
          "color": "#7F7F7F"
         },
         "mode": "lines+markers",
         "name": "act responsible + negative outcome + PA no",
         "showlegend": false,
         "type": "scatter",
         "x": [
          "Follow advise",
          "Not follow advise"
         ],
         "xaxis": "x2",
         "y": [
          5.909090909090909,
          3.727272727272727
         ],
         "yaxis": "y2"
        },
        {
         "legendgroup": "feel responsible + positive outcome + PA yes",
         "marker": {
          "color": "#1F77B4"
         },
         "mode": "lines+markers",
         "name": "feel responsible + positive outcome + PA yes",
         "showlegend": false,
         "type": "scatter",
         "x": [
          "Hold on",
          "Change decision"
         ],
         "xaxis": "x3",
         "y": [
          5.5,
          5.916666666666667
         ],
         "yaxis": "y3"
        },
        {
         "legendgroup": "feel responsible + positive outcome + PA no",
         "marker": {
          "color": "#FF7F0E"
         },
         "mode": "lines+markers",
         "name": "feel responsible + positive outcome + PA no",
         "showlegend": false,
         "type": "scatter",
         "x": [
          "Hold on",
          "Change decision"
         ],
         "xaxis": "x3",
         "y": [
          5.6,
          6.466666666666667
         ],
         "yaxis": "y3"
        },
        {
         "legendgroup": "feel responsible + negative outcome + PA yes",
         "marker": {
          "color": "#2CA02C"
         },
         "mode": "lines+markers",
         "name": "feel responsible + negative outcome + PA yes",
         "showlegend": false,
         "type": "scatter",
         "x": [
          "Hold on",
          "Change decision"
         ],
         "xaxis": "x3",
         "y": [
          4.3,
          5.8
         ],
         "yaxis": "y3"
        },
        {
         "legendgroup": "feel responsible + negative outcome + PA no",
         "marker": {
          "color": "#D62728"
         },
         "mode": "lines+markers",
         "name": "feel responsible + negative outcome + PA no",
         "showlegend": false,
         "type": "scatter",
         "x": [
          "Hold on",
          "Change decision"
         ],
         "xaxis": "x3",
         "y": [
          5.636363636363637,
          6.363636363636363
         ],
         "yaxis": "y3"
        },
        {
         "legendgroup": "act responsible + positive outcome + PA yes",
         "marker": {
          "color": "#9467BD"
         },
         "mode": "lines+markers",
         "name": "act responsible + positive outcome + PA yes",
         "showlegend": false,
         "type": "scatter",
         "x": [
          "Hold on",
          "Change decision"
         ],
         "xaxis": "x3",
         "y": [
          5.5,
          5.166666666666667
         ],
         "yaxis": "y3"
        },
        {
         "legendgroup": "act responsible + positive outcome + PA no",
         "marker": {
          "color": "#8C564B"
         },
         "mode": "lines+markers",
         "name": "act responsible + positive outcome + PA no",
         "showlegend": false,
         "type": "scatter",
         "x": [
          "Hold on",
          "Change decision"
         ],
         "xaxis": "x3",
         "y": [
          5.8,
          5.266666666666667
         ],
         "yaxis": "y3"
        },
        {
         "legendgroup": "act responsible + negative outcome + PA yes",
         "marker": {
          "color": "#E377C2"
         },
         "mode": "lines+markers",
         "name": "act responsible + negative outcome + PA yes",
         "showlegend": false,
         "type": "scatter",
         "x": [
          "Hold on",
          "Change decision"
         ],
         "xaxis": "x3",
         "y": [
          5.2,
          4.2
         ],
         "yaxis": "y3"
        },
        {
         "legendgroup": "act responsible + negative outcome + PA no",
         "marker": {
          "color": "#7F7F7F"
         },
         "mode": "lines+markers",
         "name": "act responsible + negative outcome + PA no",
         "showlegend": false,
         "type": "scatter",
         "x": [
          "Hold on",
          "Change decision"
         ],
         "xaxis": "x3",
         "y": [
          5.454545454545454,
          5.545454545454546
         ],
         "yaxis": "y3"
        },
        {
         "legendgroup": "feel responsible + positive outcome + PA yes",
         "marker": {
          "color": "#1F77B4"
         },
         "mode": "lines+markers",
         "name": "feel responsible + positive outcome + PA yes",
         "showlegend": false,
         "type": "scatter",
         "x": [
          "Wait and see",
          "Take action"
         ],
         "xaxis": "x4",
         "y": [
          5.090909090909091,
          6.090909090909091
         ],
         "yaxis": "y4"
        },
        {
         "legendgroup": "feel responsible + positive outcome + PA no",
         "marker": {
          "color": "#FF7F0E"
         },
         "mode": "lines+markers",
         "name": "feel responsible + positive outcome + PA no",
         "showlegend": false,
         "type": "scatter",
         "x": [
          "Wait and see",
          "Take action"
         ],
         "xaxis": "x4",
         "y": [
          5.8,
          4.9
         ],
         "yaxis": "y4"
        },
        {
         "legendgroup": "feel responsible + negative outcome + PA yes",
         "marker": {
          "color": "#2CA02C"
         },
         "mode": "lines+markers",
         "name": "feel responsible + negative outcome + PA yes",
         "showlegend": false,
         "type": "scatter",
         "x": [
          "Wait and see",
          "Take action"
         ],
         "xaxis": "x4",
         "y": [
          5.666666666666667,
          5.466666666666667
         ],
         "yaxis": "y4"
        },
        {
         "legendgroup": "feel responsible + negative outcome + PA no",
         "marker": {
          "color": "#D62728"
         },
         "mode": "lines+markers",
         "name": "feel responsible + negative outcome + PA no",
         "showlegend": false,
         "type": "scatter",
         "x": [
          "Wait and see",
          "Take action"
         ],
         "xaxis": "x4",
         "y": [
          4.75,
          5.5
         ],
         "yaxis": "y4"
        },
        {
         "legendgroup": "act responsible + positive outcome + PA yes",
         "marker": {
          "color": "#9467BD"
         },
         "mode": "lines+markers",
         "name": "act responsible + positive outcome + PA yes",
         "showlegend": false,
         "type": "scatter",
         "x": [
          "Wait and see",
          "Take action"
         ],
         "xaxis": "x4",
         "y": [
          4.636363636363637,
          5.2727272727272725
         ],
         "yaxis": "y4"
        },
        {
         "legendgroup": "act responsible + positive outcome + PA no",
         "marker": {
          "color": "#8C564B"
         },
         "mode": "lines+markers",
         "name": "act responsible + positive outcome + PA no",
         "showlegend": false,
         "type": "scatter",
         "x": [
          "Wait and see",
          "Take action"
         ],
         "xaxis": "x4",
         "y": [
          4.7,
          4.6
         ],
         "yaxis": "y4"
        },
        {
         "legendgroup": "act responsible + negative outcome + PA yes",
         "marker": {
          "color": "#E377C2"
         },
         "mode": "lines+markers",
         "name": "act responsible + negative outcome + PA yes",
         "showlegend": false,
         "type": "scatter",
         "x": [
          "Wait and see",
          "Take action"
         ],
         "xaxis": "x4",
         "y": [
          4.733333333333333,
          4.133333333333334
         ],
         "yaxis": "y4"
        },
        {
         "legendgroup": "act responsible + negative outcome + PA no",
         "marker": {
          "color": "#7F7F7F"
         },
         "mode": "lines+markers",
         "name": "act responsible + negative outcome + PA no",
         "showlegend": false,
         "type": "scatter",
         "x": [
          "Wait and see",
          "Take action"
         ],
         "xaxis": "x4",
         "y": [
          3.4166666666666665,
          4.916666666666667
         ],
         "yaxis": "y4"
        }
       ],
       "layout": {
        "height": 800,
        "template": {
         "data": {
          "bar": [
           {
            "error_x": {
             "color": "rgb(36,36,36)"
            },
            "error_y": {
             "color": "rgb(36,36,36)"
            },
            "marker": {
             "line": {
              "color": "white",
              "width": 0.5
             },
             "pattern": {
              "fillmode": "overlay",
              "size": 10,
              "solidity": 0.2
             }
            },
            "type": "bar"
           }
          ],
          "barpolar": [
           {
            "marker": {
             "line": {
              "color": "white",
              "width": 0.5
             },
             "pattern": {
              "fillmode": "overlay",
              "size": 10,
              "solidity": 0.2
             }
            },
            "type": "barpolar"
           }
          ],
          "carpet": [
           {
            "aaxis": {
             "endlinecolor": "rgb(36,36,36)",
             "gridcolor": "white",
             "linecolor": "white",
             "minorgridcolor": "white",
             "startlinecolor": "rgb(36,36,36)"
            },
            "baxis": {
             "endlinecolor": "rgb(36,36,36)",
             "gridcolor": "white",
             "linecolor": "white",
             "minorgridcolor": "white",
             "startlinecolor": "rgb(36,36,36)"
            },
            "type": "carpet"
           }
          ],
          "choropleth": [
           {
            "colorbar": {
             "outlinewidth": 1,
             "tickcolor": "rgb(36,36,36)",
             "ticks": "outside"
            },
            "type": "choropleth"
           }
          ],
          "contour": [
           {
            "colorbar": {
             "outlinewidth": 1,
             "tickcolor": "rgb(36,36,36)",
             "ticks": "outside"
            },
            "colorscale": [
             [
              0,
              "#440154"
             ],
             [
              0.1111111111111111,
              "#482878"
             ],
             [
              0.2222222222222222,
              "#3e4989"
             ],
             [
              0.3333333333333333,
              "#31688e"
             ],
             [
              0.4444444444444444,
              "#26828e"
             ],
             [
              0.5555555555555556,
              "#1f9e89"
             ],
             [
              0.6666666666666666,
              "#35b779"
             ],
             [
              0.7777777777777778,
              "#6ece58"
             ],
             [
              0.8888888888888888,
              "#b5de2b"
             ],
             [
              1,
              "#fde725"
             ]
            ],
            "type": "contour"
           }
          ],
          "contourcarpet": [
           {
            "colorbar": {
             "outlinewidth": 1,
             "tickcolor": "rgb(36,36,36)",
             "ticks": "outside"
            },
            "type": "contourcarpet"
           }
          ],
          "heatmap": [
           {
            "colorbar": {
             "outlinewidth": 1,
             "tickcolor": "rgb(36,36,36)",
             "ticks": "outside"
            },
            "colorscale": [
             [
              0,
              "#440154"
             ],
             [
              0.1111111111111111,
              "#482878"
             ],
             [
              0.2222222222222222,
              "#3e4989"
             ],
             [
              0.3333333333333333,
              "#31688e"
             ],
             [
              0.4444444444444444,
              "#26828e"
             ],
             [
              0.5555555555555556,
              "#1f9e89"
             ],
             [
              0.6666666666666666,
              "#35b779"
             ],
             [
              0.7777777777777778,
              "#6ece58"
             ],
             [
              0.8888888888888888,
              "#b5de2b"
             ],
             [
              1,
              "#fde725"
             ]
            ],
            "type": "heatmap"
           }
          ],
          "heatmapgl": [
           {
            "colorbar": {
             "outlinewidth": 1,
             "tickcolor": "rgb(36,36,36)",
             "ticks": "outside"
            },
            "colorscale": [
             [
              0,
              "#440154"
             ],
             [
              0.1111111111111111,
              "#482878"
             ],
             [
              0.2222222222222222,
              "#3e4989"
             ],
             [
              0.3333333333333333,
              "#31688e"
             ],
             [
              0.4444444444444444,
              "#26828e"
             ],
             [
              0.5555555555555556,
              "#1f9e89"
             ],
             [
              0.6666666666666666,
              "#35b779"
             ],
             [
              0.7777777777777778,
              "#6ece58"
             ],
             [
              0.8888888888888888,
              "#b5de2b"
             ],
             [
              1,
              "#fde725"
             ]
            ],
            "type": "heatmapgl"
           }
          ],
          "histogram": [
           {
            "marker": {
             "line": {
              "color": "white",
              "width": 0.6
             }
            },
            "type": "histogram"
           }
          ],
          "histogram2d": [
           {
            "colorbar": {
             "outlinewidth": 1,
             "tickcolor": "rgb(36,36,36)",
             "ticks": "outside"
            },
            "colorscale": [
             [
              0,
              "#440154"
             ],
             [
              0.1111111111111111,
              "#482878"
             ],
             [
              0.2222222222222222,
              "#3e4989"
             ],
             [
              0.3333333333333333,
              "#31688e"
             ],
             [
              0.4444444444444444,
              "#26828e"
             ],
             [
              0.5555555555555556,
              "#1f9e89"
             ],
             [
              0.6666666666666666,
              "#35b779"
             ],
             [
              0.7777777777777778,
              "#6ece58"
             ],
             [
              0.8888888888888888,
              "#b5de2b"
             ],
             [
              1,
              "#fde725"
             ]
            ],
            "type": "histogram2d"
           }
          ],
          "histogram2dcontour": [
           {
            "colorbar": {
             "outlinewidth": 1,
             "tickcolor": "rgb(36,36,36)",
             "ticks": "outside"
            },
            "colorscale": [
             [
              0,
              "#440154"
             ],
             [
              0.1111111111111111,
              "#482878"
             ],
             [
              0.2222222222222222,
              "#3e4989"
             ],
             [
              0.3333333333333333,
              "#31688e"
             ],
             [
              0.4444444444444444,
              "#26828e"
             ],
             [
              0.5555555555555556,
              "#1f9e89"
             ],
             [
              0.6666666666666666,
              "#35b779"
             ],
             [
              0.7777777777777778,
              "#6ece58"
             ],
             [
              0.8888888888888888,
              "#b5de2b"
             ],
             [
              1,
              "#fde725"
             ]
            ],
            "type": "histogram2dcontour"
           }
          ],
          "mesh3d": [
           {
            "colorbar": {
             "outlinewidth": 1,
             "tickcolor": "rgb(36,36,36)",
             "ticks": "outside"
            },
            "type": "mesh3d"
           }
          ],
          "parcoords": [
           {
            "line": {
             "colorbar": {
              "outlinewidth": 1,
              "tickcolor": "rgb(36,36,36)",
              "ticks": "outside"
             }
            },
            "type": "parcoords"
           }
          ],
          "pie": [
           {
            "automargin": true,
            "type": "pie"
           }
          ],
          "scatter": [
           {
            "fillpattern": {
             "fillmode": "overlay",
             "size": 10,
             "solidity": 0.2
            },
            "type": "scatter"
           }
          ],
          "scatter3d": [
           {
            "line": {
             "colorbar": {
              "outlinewidth": 1,
              "tickcolor": "rgb(36,36,36)",
              "ticks": "outside"
             }
            },
            "marker": {
             "colorbar": {
              "outlinewidth": 1,
              "tickcolor": "rgb(36,36,36)",
              "ticks": "outside"
             }
            },
            "type": "scatter3d"
           }
          ],
          "scattercarpet": [
           {
            "marker": {
             "colorbar": {
              "outlinewidth": 1,
              "tickcolor": "rgb(36,36,36)",
              "ticks": "outside"
             }
            },
            "type": "scattercarpet"
           }
          ],
          "scattergeo": [
           {
            "marker": {
             "colorbar": {
              "outlinewidth": 1,
              "tickcolor": "rgb(36,36,36)",
              "ticks": "outside"
             }
            },
            "type": "scattergeo"
           }
          ],
          "scattergl": [
           {
            "marker": {
             "colorbar": {
              "outlinewidth": 1,
              "tickcolor": "rgb(36,36,36)",
              "ticks": "outside"
             }
            },
            "type": "scattergl"
           }
          ],
          "scattermapbox": [
           {
            "marker": {
             "colorbar": {
              "outlinewidth": 1,
              "tickcolor": "rgb(36,36,36)",
              "ticks": "outside"
             }
            },
            "type": "scattermapbox"
           }
          ],
          "scatterpolar": [
           {
            "marker": {
             "colorbar": {
              "outlinewidth": 1,
              "tickcolor": "rgb(36,36,36)",
              "ticks": "outside"
             }
            },
            "type": "scatterpolar"
           }
          ],
          "scatterpolargl": [
           {
            "marker": {
             "colorbar": {
              "outlinewidth": 1,
              "tickcolor": "rgb(36,36,36)",
              "ticks": "outside"
             }
            },
            "type": "scatterpolargl"
           }
          ],
          "scatterternary": [
           {
            "marker": {
             "colorbar": {
              "outlinewidth": 1,
              "tickcolor": "rgb(36,36,36)",
              "ticks": "outside"
             }
            },
            "type": "scatterternary"
           }
          ],
          "surface": [
           {
            "colorbar": {
             "outlinewidth": 1,
             "tickcolor": "rgb(36,36,36)",
             "ticks": "outside"
            },
            "colorscale": [
             [
              0,
              "#440154"
             ],
             [
              0.1111111111111111,
              "#482878"
             ],
             [
              0.2222222222222222,
              "#3e4989"
             ],
             [
              0.3333333333333333,
              "#31688e"
             ],
             [
              0.4444444444444444,
              "#26828e"
             ],
             [
              0.5555555555555556,
              "#1f9e89"
             ],
             [
              0.6666666666666666,
              "#35b779"
             ],
             [
              0.7777777777777778,
              "#6ece58"
             ],
             [
              0.8888888888888888,
              "#b5de2b"
             ],
             [
              1,
              "#fde725"
             ]
            ],
            "type": "surface"
           }
          ],
          "table": [
           {
            "cells": {
             "fill": {
              "color": "rgb(237,237,237)"
             },
             "line": {
              "color": "white"
             }
            },
            "header": {
             "fill": {
              "color": "rgb(217,217,217)"
             },
             "line": {
              "color": "white"
             }
            },
            "type": "table"
           }
          ]
         },
         "layout": {
          "annotationdefaults": {
           "arrowhead": 0,
           "arrowwidth": 1
          },
          "autotypenumbers": "strict",
          "coloraxis": {
           "colorbar": {
            "outlinewidth": 1,
            "tickcolor": "rgb(36,36,36)",
            "ticks": "outside"
           }
          },
          "colorscale": {
           "diverging": [
            [
             0,
             "rgb(103,0,31)"
            ],
            [
             0.1,
             "rgb(178,24,43)"
            ],
            [
             0.2,
             "rgb(214,96,77)"
            ],
            [
             0.3,
             "rgb(244,165,130)"
            ],
            [
             0.4,
             "rgb(253,219,199)"
            ],
            [
             0.5,
             "rgb(247,247,247)"
            ],
            [
             0.6,
             "rgb(209,229,240)"
            ],
            [
             0.7,
             "rgb(146,197,222)"
            ],
            [
             0.8,
             "rgb(67,147,195)"
            ],
            [
             0.9,
             "rgb(33,102,172)"
            ],
            [
             1,
             "rgb(5,48,97)"
            ]
           ],
           "sequential": [
            [
             0,
             "#440154"
            ],
            [
             0.1111111111111111,
             "#482878"
            ],
            [
             0.2222222222222222,
             "#3e4989"
            ],
            [
             0.3333333333333333,
             "#31688e"
            ],
            [
             0.4444444444444444,
             "#26828e"
            ],
            [
             0.5555555555555556,
             "#1f9e89"
            ],
            [
             0.6666666666666666,
             "#35b779"
            ],
            [
             0.7777777777777778,
             "#6ece58"
            ],
            [
             0.8888888888888888,
             "#b5de2b"
            ],
            [
             1,
             "#fde725"
            ]
           ],
           "sequentialminus": [
            [
             0,
             "#440154"
            ],
            [
             0.1111111111111111,
             "#482878"
            ],
            [
             0.2222222222222222,
             "#3e4989"
            ],
            [
             0.3333333333333333,
             "#31688e"
            ],
            [
             0.4444444444444444,
             "#26828e"
            ],
            [
             0.5555555555555556,
             "#1f9e89"
            ],
            [
             0.6666666666666666,
             "#35b779"
            ],
            [
             0.7777777777777778,
             "#6ece58"
            ],
            [
             0.8888888888888888,
             "#b5de2b"
            ],
            [
             1,
             "#fde725"
            ]
           ]
          },
          "colorway": [
           "#1F77B4",
           "#FF7F0E",
           "#2CA02C",
           "#D62728",
           "#9467BD",
           "#8C564B",
           "#E377C2",
           "#7F7F7F",
           "#BCBD22",
           "#17BECF"
          ],
          "font": {
           "color": "rgb(36,36,36)"
          },
          "geo": {
           "bgcolor": "white",
           "lakecolor": "white",
           "landcolor": "white",
           "showlakes": true,
           "showland": true,
           "subunitcolor": "white"
          },
          "hoverlabel": {
           "align": "left"
          },
          "hovermode": "closest",
          "mapbox": {
           "style": "light"
          },
          "paper_bgcolor": "white",
          "plot_bgcolor": "white",
          "polar": {
           "angularaxis": {
            "gridcolor": "rgb(232,232,232)",
            "linecolor": "rgb(36,36,36)",
            "showgrid": false,
            "showline": true,
            "ticks": "outside"
           },
           "bgcolor": "white",
           "radialaxis": {
            "gridcolor": "rgb(232,232,232)",
            "linecolor": "rgb(36,36,36)",
            "showgrid": false,
            "showline": true,
            "ticks": "outside"
           }
          },
          "scene": {
           "xaxis": {
            "backgroundcolor": "white",
            "gridcolor": "rgb(232,232,232)",
            "gridwidth": 2,
            "linecolor": "rgb(36,36,36)",
            "showbackground": true,
            "showgrid": false,
            "showline": true,
            "ticks": "outside",
            "zeroline": false,
            "zerolinecolor": "rgb(36,36,36)"
           },
           "yaxis": {
            "backgroundcolor": "white",
            "gridcolor": "rgb(232,232,232)",
            "gridwidth": 2,
            "linecolor": "rgb(36,36,36)",
            "showbackground": true,
            "showgrid": false,
            "showline": true,
            "ticks": "outside",
            "zeroline": false,
            "zerolinecolor": "rgb(36,36,36)"
           },
           "zaxis": {
            "backgroundcolor": "white",
            "gridcolor": "rgb(232,232,232)",
            "gridwidth": 2,
            "linecolor": "rgb(36,36,36)",
            "showbackground": true,
            "showgrid": false,
            "showline": true,
            "ticks": "outside",
            "zeroline": false,
            "zerolinecolor": "rgb(36,36,36)"
           }
          },
          "shapedefaults": {
           "fillcolor": "black",
           "line": {
            "width": 0
           },
           "opacity": 0.3
          },
          "ternary": {
           "aaxis": {
            "gridcolor": "rgb(232,232,232)",
            "linecolor": "rgb(36,36,36)",
            "showgrid": false,
            "showline": true,
            "ticks": "outside"
           },
           "baxis": {
            "gridcolor": "rgb(232,232,232)",
            "linecolor": "rgb(36,36,36)",
            "showgrid": false,
            "showline": true,
            "ticks": "outside"
           },
           "bgcolor": "white",
           "caxis": {
            "gridcolor": "rgb(232,232,232)",
            "linecolor": "rgb(36,36,36)",
            "showgrid": false,
            "showline": true,
            "ticks": "outside"
           }
          },
          "title": {
           "x": 0.05
          },
          "xaxis": {
           "automargin": true,
           "gridcolor": "rgb(232,232,232)",
           "linecolor": "rgb(36,36,36)",
           "showgrid": false,
           "showline": true,
           "ticks": "outside",
           "title": {
            "standoff": 15
           },
           "zeroline": false,
           "zerolinecolor": "rgb(36,36,36)"
          },
          "yaxis": {
           "automargin": true,
           "gridcolor": "rgb(232,232,232)",
           "linecolor": "rgb(36,36,36)",
           "showgrid": false,
           "showline": true,
           "ticks": "outside",
           "title": {
            "standoff": 15
           },
           "zeroline": false,
           "zerolinecolor": "rgb(36,36,36)"
          }
         }
        },
        "title": {
         "text": "USA"
        },
        "width": 1100,
        "xaxis": {
         "anchor": "y",
         "domain": [
          0,
          0.45
         ]
        },
        "xaxis2": {
         "anchor": "y2",
         "domain": [
          0.55,
          1
         ]
        },
        "xaxis3": {
         "anchor": "y3",
         "domain": [
          0,
          0.45
         ]
        },
        "xaxis4": {
         "anchor": "y4",
         "domain": [
          0.55,
          1
         ]
        },
        "yaxis": {
         "anchor": "x",
         "domain": [
          0.575,
          1
         ],
         "dtick": 1,
         "range": [
          1,
          7
         ]
        },
        "yaxis2": {
         "anchor": "x2",
         "domain": [
          0.575,
          1
         ],
         "dtick": 1,
         "range": [
          1,
          7
         ]
        },
        "yaxis3": {
         "anchor": "x3",
         "domain": [
          0,
          0.425
         ],
         "dtick": 1,
         "range": [
          1,
          7
         ]
        },
        "yaxis4": {
         "anchor": "x4",
         "domain": [
          0,
          0.425
         ],
         "dtick": 1,
         "range": [
          1,
          7
         ]
        }
       }
      }
     },
     "metadata": {},
     "output_type": "display_data"
    }
   ],
   "source": [
    "create_line_subplot(\n",
    "    data=data_usa, output_file_name=\"scenarios_usa\", show_fig=True, fig_title=\"USA\"\n",
    ")"
   ]
  },
  {
   "cell_type": "markdown",
   "metadata": {},
   "source": [
    "## who is perceied to feel / act more responsible?"
   ]
  },
  {
   "cell_type": "code",
   "execution_count": 224,
   "metadata": {},
   "outputs": [
    {
     "data": {
      "text/html": [
       "<div>\n",
       "<style scoped>\n",
       "    .dataframe tbody tr th:only-of-type {\n",
       "        vertical-align: middle;\n",
       "    }\n",
       "\n",
       "    .dataframe tbody tr th {\n",
       "        vertical-align: top;\n",
       "    }\n",
       "\n",
       "    .dataframe thead th {\n",
       "        text-align: right;\n",
       "    }\n",
       "</style>\n",
       "<table border=\"1\" class=\"dataframe\">\n",
       "  <thead>\n",
       "    <tr style=\"text-align: right;\">\n",
       "      <th></th>\n",
       "      <th>t1_feel</th>\n",
       "      <th>t2_feel</th>\n",
       "      <th>t1_act</th>\n",
       "      <th>t2_act</th>\n",
       "    </tr>\n",
       "  </thead>\n",
       "  <tbody>\n",
       "    <tr>\n",
       "      <th>count</th>\n",
       "      <td>360.000000</td>\n",
       "      <td>360.000000</td>\n",
       "      <td>360.000000</td>\n",
       "      <td>360.000000</td>\n",
       "    </tr>\n",
       "    <tr>\n",
       "      <th>mean</th>\n",
       "      <td>4.713889</td>\n",
       "      <td>5.988889</td>\n",
       "      <td>5.130556</td>\n",
       "      <td>4.708333</td>\n",
       "    </tr>\n",
       "    <tr>\n",
       "      <th>std</th>\n",
       "      <td>1.814159</td>\n",
       "      <td>1.242196</td>\n",
       "      <td>1.587612</td>\n",
       "      <td>1.567759</td>\n",
       "    </tr>\n",
       "    <tr>\n",
       "      <th>min</th>\n",
       "      <td>1.000000</td>\n",
       "      <td>1.000000</td>\n",
       "      <td>1.000000</td>\n",
       "      <td>1.000000</td>\n",
       "    </tr>\n",
       "    <tr>\n",
       "      <th>25%</th>\n",
       "      <td>3.000000</td>\n",
       "      <td>5.000000</td>\n",
       "      <td>4.000000</td>\n",
       "      <td>4.000000</td>\n",
       "    </tr>\n",
       "    <tr>\n",
       "      <th>50%</th>\n",
       "      <td>5.000000</td>\n",
       "      <td>6.000000</td>\n",
       "      <td>6.000000</td>\n",
       "      <td>5.000000</td>\n",
       "    </tr>\n",
       "    <tr>\n",
       "      <th>75%</th>\n",
       "      <td>6.000000</td>\n",
       "      <td>7.000000</td>\n",
       "      <td>6.000000</td>\n",
       "      <td>6.000000</td>\n",
       "    </tr>\n",
       "    <tr>\n",
       "      <th>max</th>\n",
       "      <td>7.000000</td>\n",
       "      <td>7.000000</td>\n",
       "      <td>7.000000</td>\n",
       "      <td>7.000000</td>\n",
       "    </tr>\n",
       "  </tbody>\n",
       "</table>\n",
       "</div>"
      ],
      "text/plain": [
       "          t1_feel     t2_feel      t1_act      t2_act\n",
       "count  360.000000  360.000000  360.000000  360.000000\n",
       "mean     4.713889    5.988889    5.130556    4.708333\n",
       "std      1.814159    1.242196    1.587612    1.567759\n",
       "min      1.000000    1.000000    1.000000    1.000000\n",
       "25%      3.000000    5.000000    4.000000    4.000000\n",
       "50%      5.000000    6.000000    6.000000    5.000000\n",
       "75%      6.000000    7.000000    6.000000    6.000000\n",
       "max      7.000000    7.000000    7.000000    7.000000"
      ]
     },
     "execution_count": 224,
     "metadata": {},
     "output_type": "execute_result"
    }
   ],
   "source": [
    "# who is perceied to feel more responsible?\n",
    "t1_columns_feel = [f\"FRS{x}T1\" for x in range(1, 5)]\n",
    "t2_columns_feel = [f\"FRS{x}T2\" for x in range(1, 5)]\n",
    "\n",
    "# who is perceied to act more responsible?\n",
    "t1_columns_act = [f\"ARS{x}T1\" for x in range(1, 5)]\n",
    "t2_columns_act = [f\"ARS{x}T2\" for x in range(1, 5)]\n",
    "\n",
    "pd.DataFrame(\n",
    "    {\n",
    "        \"t1_feel\": data_all[t1_columns_feel].to_numpy().reshape(-1),\n",
    "        \"t2_feel\": data_all[t2_columns_feel].to_numpy().reshape(-1),\n",
    "        \"t1_act\": data_all[t1_columns_act].to_numpy().reshape(-1),\n",
    "        \"t2_act\": data_all[t2_columns_act].to_numpy().reshape(-1),\n",
    "    }\n",
    ").describe()"
   ]
  },
  {
   "cell_type": "markdown",
   "metadata": {},
   "source": [
    "--> t2 (B) will feel more responsible and acted less responsible"
   ]
  },
  {
   "cell_type": "markdown",
   "metadata": {},
   "source": [
    "## Regression"
   ]
  },
  {
   "cell_type": "code",
   "execution_count": 225,
   "metadata": {},
   "outputs": [],
   "source": [
    "import statsmodels.api as sm\n",
    "import statsmodels.formula.api as smf\n",
    "from stargazer.stargazer import Stargazer"
   ]
  },
  {
   "cell_type": "code",
   "execution_count": 226,
   "metadata": {},
   "outputs": [
    {
     "data": {
      "text/plain": [
       "Index(['positive_szenarios', 'treatment_pa', 'PRS1T1', 'PRS1T2', 'PRS2T1',\n",
       "       'PRS2T2', 'PRS3T1', 'PRS3T2', 'PRS4T1', 'PRS4T2', 'FRS1T1', 'FRS1T2',\n",
       "       'FRS2T1', 'FRS2T2', 'FRS3T1', 'FRS3T2', 'FRS4T1', 'FRS4T2', 'ARS1T1',\n",
       "       'ARS1T2', 'ARS2T1', 'ARS2T2', 'ARS3T1', 'ARS3T2', 'ARS4T1', 'ARS4T2',\n",
       "       'ETHS1T1', 'ETHS1T2', 'ETHS2T1', 'ETHS2T2', 'ETHS3T1', 'ETHS3T2',\n",
       "       'ETHS4T1', 'ETHS4T2', 'PROS1T1', 'PROS1T2', 'PROS2T1', 'PROS2T2',\n",
       "       'PROS3T1', 'PROS3T2', 'PROS4T1', 'PROS4T2', 'algo_aversion',\n",
       "       'risk_propensity', 'origin', 'overall_time', 'number_of_subordinates',\n",
       "       'age', 'sex', 'participant.label'],\n",
       "      dtype='object')"
      ]
     },
     "execution_count": 226,
     "metadata": {},
     "output_type": "execute_result"
    }
   ],
   "source": [
    "data_all.columns"
   ]
  },
  {
   "cell_type": "code",
   "execution_count": 230,
   "metadata": {},
   "outputs": [],
   "source": [
    "def get_regression_df(szenario_nr, dependent_variable):\n",
    "    t1_df = (\n",
    "        data_all[\n",
    "            [\n",
    "                \"positive_szenarios\",\n",
    "                \"treatment_pa\",\n",
    "                \"algo_aversion\",\n",
    "                \"number_of_subordinates\",\n",
    "                \"age\",\n",
    "                \"sex\",\n",
    "                f\"{dependent_variable}S{szenario_nr}T1\",\n",
    "            ]\n",
    "        ]\n",
    "        .assign(\n",
    "            outcome_positive=data_all.positive_szenarios.replace(\n",
    "                scenario_dict_outcome[str(szenario_nr)][\"positive\"], 1\n",
    "            ).replace(scenario_dict_outcome[str(szenario_nr)][\"negative\"], 0),\n",
    "            pa_available=data_all.treatment_pa.replace(\n",
    "                scenario_dict_pa[str(szenario_nr)][\"yes\"], 1\n",
    "            ).replace(scenario_dict_pa[str(szenario_nr)][\"no\"], 0),\n",
    "            participant=range(data_all.shape[0]),\n",
    "            active_teamlead=1,\n",
    "            origin_usa=data_all.origin == \"USA\",\n",
    "        )\n",
    "        .rename(columns={f\"{dependent_variable}S{szenario_nr}T1\": dependent_variable})\n",
    "        .astype({\"origin_usa\": \"int\"})\n",
    "    )\n",
    "\n",
    "    t2_df = (\n",
    "        data_all[\n",
    "            [\n",
    "                \"positive_szenarios\",\n",
    "                \"treatment_pa\",\n",
    "                \"algo_aversion\",\n",
    "                \"number_of_subordinates\",\n",
    "                \"age\",\n",
    "                \"sex\",\n",
    "                f\"{dependent_variable}S{szenario_nr}T2\",\n",
    "            ]\n",
    "        ]\n",
    "        .assign(\n",
    "            outcome_positive=data_all.positive_szenarios.replace(\n",
    "                scenario_dict_outcome[str(szenario_nr)][\"positive\"], 1\n",
    "            ).replace(scenario_dict_outcome[str(szenario_nr)][\"negative\"], 0),\n",
    "            pa_available=data_all.treatment_pa.replace(\n",
    "                scenario_dict_pa[str(szenario_nr)][\"yes\"], 1\n",
    "            ).replace(scenario_dict_pa[str(szenario_nr)][\"no\"], 0),\n",
    "            participant=range(data_all.shape[0]),\n",
    "            active_teamlead=0,\n",
    "            origin_usa=data_all.origin == \"USA\",\n",
    "        )\n",
    "        .rename(columns={f\"{dependent_variable}S{szenario_nr}T2\": dependent_variable})\n",
    "        .astype({\"origin_usa\": \"int\"})\n",
    "    )\n",
    "\n",
    "    return pd.concat([t1_df, t2_df], axis=0).loc[\n",
    "        :,\n",
    "        [\n",
    "            dependent_variable,\n",
    "            \"outcome_positive\",\n",
    "            \"pa_available\",\n",
    "            \"active_teamlead\",\n",
    "            \"participant\",\n",
    "            \"algo_aversion\",\n",
    "            \"origin_usa\",\n",
    "            \"number_of_subordinates\",\n",
    "            \"age\",\n",
    "            \"sex\",\n",
    "        ],\n",
    "    ]"
   ]
  },
  {
   "cell_type": "code",
   "execution_count": 259,
   "metadata": {},
   "outputs": [],
   "source": [
    "def get_PR_residuals():\n",
    "    dependent_variable = \"PR\"\n",
    "    regression_df_all = pd.DataFrame()\n",
    "    for scenario in range(1, 5):\n",
    "        regression_df = get_regression_df(scenario, dependent_variable)\n",
    "        regression_df = regression_df.assign(scenario=scenario)\n",
    "        regression_df_all = pd.concat([regression_df_all, regression_df])\n",
    "\n",
    "    mod = smf.ols(\n",
    "        formula=f\"{dependent_variable} ~ C(scenario) + pa_available * active_teamlead + algo_aversion + sex\",\n",
    "        data=regression_df_all,\n",
    "    )\n",
    "    res = mod.fit()\n",
    "    res.summary()  # .tables[1]\n",
    "    # if (\n",
    "    #     min(\n",
    "    #         res.pvalues[\"pa_available\"],\n",
    "    #         res.pvalues[\"pa_available:active_teamlead\"],\n",
    "    #     )\n",
    "    #     < 0.05\n",
    "    # ):\n",
    "    #     print(f\"{scenario=}, {dependent_variable=}\")\n",
    "    #     print(res.summary().tables[1])\n",
    "    #     print(20 * \"-\")\n",
    "\n",
    "    return list(res.resid)"
   ]
  },
  {
   "cell_type": "code",
   "execution_count": 302,
   "metadata": {},
   "outputs": [
    {
     "name": "stderr",
     "output_type": "stream",
     "text": [
      "/Users/david/Documents/CodeProjects/pa-leadership-survey/analysis/.venv/lib/python3.11/site-packages/statsmodels/base/model.py:607: ConvergenceWarning:\n",
      "\n",
      "Maximum Likelihood optimization failed to converge. Check mle_retvals\n",
      "\n",
      "/Users/david/Documents/CodeProjects/pa-leadership-survey/analysis/.venv/lib/python3.11/site-packages/statsmodels/regression/mixed_linear_model.py:2201: ConvergenceWarning:\n",
      "\n",
      "Retrying MixedLM optimization with lbfgs\n",
      "\n"
     ]
    },
    {
     "name": "stdout",
     "output_type": "stream",
     "text": [
      "AIC:\n"
     ]
    },
    {
     "name": "stderr",
     "output_type": "stream",
     "text": [
      "/Users/david/Documents/CodeProjects/pa-leadership-survey/analysis/.venv/lib/python3.11/site-packages/statsmodels/base/model.py:607: ConvergenceWarning:\n",
      "\n",
      "Maximum Likelihood optimization failed to converge. Check mle_retvals\n",
      "\n",
      "/Users/david/Documents/CodeProjects/pa-leadership-survey/analysis/.venv/lib/python3.11/site-packages/statsmodels/regression/mixed_linear_model.py:2201: ConvergenceWarning:\n",
      "\n",
      "Retrying MixedLM optimization with lbfgs\n",
      "\n",
      "/Users/david/Documents/CodeProjects/pa-leadership-survey/analysis/.venv/lib/python3.11/site-packages/statsmodels/base/model.py:607: ConvergenceWarning:\n",
      "\n",
      "Maximum Likelihood optimization failed to converge. Check mle_retvals\n",
      "\n",
      "/Users/david/Documents/CodeProjects/pa-leadership-survey/analysis/.venv/lib/python3.11/site-packages/statsmodels/regression/mixed_linear_model.py:2201: ConvergenceWarning:\n",
      "\n",
      "Retrying MixedLM optimization with cg\n",
      "\n",
      "/Users/david/Documents/CodeProjects/pa-leadership-survey/analysis/.venv/lib/python3.11/site-packages/statsmodels/base/model.py:607: ConvergenceWarning:\n",
      "\n",
      "Maximum Likelihood optimization failed to converge. Check mle_retvals\n",
      "\n",
      "/Users/david/Documents/CodeProjects/pa-leadership-survey/analysis/.venv/lib/python3.11/site-packages/statsmodels/regression/mixed_linear_model.py:2207: ConvergenceWarning:\n",
      "\n",
      "MixedLM optimization failed, trying a different optimizer may help.\n",
      "\n",
      "/Users/david/Documents/CodeProjects/pa-leadership-survey/analysis/.venv/lib/python3.11/site-packages/statsmodels/regression/mixed_linear_model.py:2219: ConvergenceWarning:\n",
      "\n",
      "Gradient optimization failed, |grad| = 26.860156\n",
      "\n"
     ]
    },
    {
     "name": "stdout",
     "output_type": "stream",
     "text": [
      "2526.6169646346953\n"
     ]
    },
    {
     "name": "stderr",
     "output_type": "stream",
     "text": [
      "/Users/david/Documents/CodeProjects/pa-leadership-survey/analysis/.venv/lib/python3.11/site-packages/statsmodels/base/model.py:607: ConvergenceWarning:\n",
      "\n",
      "Maximum Likelihood optimization failed to converge. Check mle_retvals\n",
      "\n",
      "/Users/david/Documents/CodeProjects/pa-leadership-survey/analysis/.venv/lib/python3.11/site-packages/statsmodels/regression/mixed_linear_model.py:2201: ConvergenceWarning:\n",
      "\n",
      "Retrying MixedLM optimization with lbfgs\n",
      "\n",
      "/Users/david/Documents/CodeProjects/pa-leadership-survey/analysis/.venv/lib/python3.11/site-packages/statsmodels/base/model.py:607: ConvergenceWarning:\n",
      "\n",
      "Maximum Likelihood optimization failed to converge. Check mle_retvals\n",
      "\n",
      "/Users/david/Documents/CodeProjects/pa-leadership-survey/analysis/.venv/lib/python3.11/site-packages/statsmodels/regression/mixed_linear_model.py:2201: ConvergenceWarning:\n",
      "\n",
      "Retrying MixedLM optimization with cg\n",
      "\n",
      "/Users/david/Documents/CodeProjects/pa-leadership-survey/analysis/.venv/lib/python3.11/site-packages/statsmodels/base/model.py:607: ConvergenceWarning:\n",
      "\n",
      "Maximum Likelihood optimization failed to converge. Check mle_retvals\n",
      "\n",
      "/Users/david/Documents/CodeProjects/pa-leadership-survey/analysis/.venv/lib/python3.11/site-packages/statsmodels/regression/mixed_linear_model.py:2207: ConvergenceWarning:\n",
      "\n",
      "MixedLM optimization failed, trying a different optimizer may help.\n",
      "\n",
      "/Users/david/Documents/CodeProjects/pa-leadership-survey/analysis/.venv/lib/python3.11/site-packages/statsmodels/regression/mixed_linear_model.py:2219: ConvergenceWarning:\n",
      "\n",
      "Gradient optimization failed, |grad| = 18.799420\n",
      "\n"
     ]
    },
    {
     "name": "stdout",
     "output_type": "stream",
     "text": [
      "AIC:\n"
     ]
    },
    {
     "name": "stderr",
     "output_type": "stream",
     "text": [
      "/Users/david/Documents/CodeProjects/pa-leadership-survey/analysis/.venv/lib/python3.11/site-packages/statsmodels/base/model.py:607: ConvergenceWarning:\n",
      "\n",
      "Maximum Likelihood optimization failed to converge. Check mle_retvals\n",
      "\n",
      "/Users/david/Documents/CodeProjects/pa-leadership-survey/analysis/.venv/lib/python3.11/site-packages/statsmodels/regression/mixed_linear_model.py:2201: ConvergenceWarning:\n",
      "\n",
      "Retrying MixedLM optimization with lbfgs\n",
      "\n",
      "/Users/david/Documents/CodeProjects/pa-leadership-survey/analysis/.venv/lib/python3.11/site-packages/statsmodels/base/model.py:607: ConvergenceWarning:\n",
      "\n",
      "Maximum Likelihood optimization failed to converge. Check mle_retvals\n",
      "\n",
      "/Users/david/Documents/CodeProjects/pa-leadership-survey/analysis/.venv/lib/python3.11/site-packages/statsmodels/regression/mixed_linear_model.py:2201: ConvergenceWarning:\n",
      "\n",
      "Retrying MixedLM optimization with cg\n",
      "\n"
     ]
    },
    {
     "name": "stdout",
     "output_type": "stream",
     "text": [
      "2602.138616357356\n"
     ]
    },
    {
     "name": "stderr",
     "output_type": "stream",
     "text": [
      "/Users/david/Documents/CodeProjects/pa-leadership-survey/analysis/.venv/lib/python3.11/site-packages/statsmodels/base/model.py:607: ConvergenceWarning:\n",
      "\n",
      "Maximum Likelihood optimization failed to converge. Check mle_retvals\n",
      "\n",
      "/Users/david/Documents/CodeProjects/pa-leadership-survey/analysis/.venv/lib/python3.11/site-packages/statsmodels/regression/mixed_linear_model.py:2207: ConvergenceWarning:\n",
      "\n",
      "MixedLM optimization failed, trying a different optimizer may help.\n",
      "\n",
      "/Users/david/Documents/CodeProjects/pa-leadership-survey/analysis/.venv/lib/python3.11/site-packages/statsmodels/regression/mixed_linear_model.py:2219: ConvergenceWarning:\n",
      "\n",
      "Gradient optimization failed, |grad| = 21.872546\n",
      "\n"
     ]
    }
   ],
   "source": [
    "regresion_results = []\n",
    "for dependent_variable in [\"AR\", \"FR\"]:\n",
    "    regression_df_all = pd.DataFrame()\n",
    "    for scenario in range(1, 5):\n",
    "        regression_df = get_regression_df(scenario, dependent_variable)\n",
    "        regression_df = regression_df.assign(scenario=scenario)\n",
    "        regression_df_all = pd.concat([regression_df_all, regression_df])\n",
    "\n",
    "    regression_df_all = regression_df_all.assign(residuals_PR=get_PR_residuals())\n",
    "\n",
    "    mod = smf.mixedlm(\n",
    "        formula=f\"{dependent_variable} ~ C(scenario) + outcome_positive * pa_available * active_teamlead + residuals_PR + algo_aversion + sex + origin_usa\",\n",
    "        groups=\"participant\",\n",
    "        data=regression_df_all,\n",
    "    )\n",
    "\n",
    "    regresion_results.append(mod.fit())\n",
    "    print(f\"AIC: {mod.fit(reml=False).aic}\")\n",
    "\n",
    "# if (\n",
    "#     min(\n",
    "#         res.pvalues[\"pa_available\"],\n",
    "#         res.pvalues[\"outcome_positive:pa_available\"],\n",
    "#         res.pvalues[\"outcome_positive:pa_available:active_teamlead\"],\n",
    "#     )\n",
    "#     < 0.05\n",
    "# ):\n",
    "#     print(f\"{scenario=}, {dependent_variable=}\")\n",
    "#     print(res.summary().tables[1])\n",
    "#     print(20 * \"-\")"
   ]
  },
  {
   "cell_type": "code",
   "execution_count": 306,
   "metadata": {},
   "outputs": [
    {
     "data": {
      "text/html": [
       "<table class=\"simpletable\">\n",
       "<tr>\n",
       "       <td>Model:</td>       <td>MixedLM</td> <td>Dependent Variable:</td>     <td>FR</td>    \n",
       "</tr>\n",
       "<tr>\n",
       "  <td>No. Observations:</td>   <td>720</td>         <td>Method:</td>          <td>REML</td>   \n",
       "</tr>\n",
       "<tr>\n",
       "     <td>No. Groups:</td>      <td>90</td>          <td>Scale:</td>          <td>1.9627</td>  \n",
       "</tr>\n",
       "<tr>\n",
       "  <td>Min. group size:</td>     <td>8</td>      <td>Log-Likelihood:</td>   <td>-1283.5014</td>\n",
       "</tr>\n",
       "<tr>\n",
       "  <td>Max. group size:</td>     <td>8</td>        <td>Converged:</td>          <td>No</td>    \n",
       "</tr>\n",
       "<tr>\n",
       "  <td>Mean group size:</td>    <td>8.0</td>            <td></td>                <td></td>     \n",
       "</tr>\n",
       "</table>\n",
       "<table class=\"simpletable\">\n",
       "<tr>\n",
       "                        <td></td>                         <th>Coef.</th> <th>Std.Err.</th>    <th>z</th>   <th>P>|z|</th> <th>[0.025</th> <th>0.975]</th>\n",
       "</tr>\n",
       "<tr>\n",
       "  <th>Intercept</th>                                      <td>5.559</td>   <td>0.346</td>  <td>16.046</td> <td>0.000</td>  <td>4.880</td>  <td>6.238</td>\n",
       "</tr>\n",
       "<tr>\n",
       "  <th>C(scenario)[T.2]</th>                              <td>-0.482</td>   <td>0.148</td>  <td>-3.249</td> <td>0.001</td> <td>-0.773</td> <td>-0.191</td>\n",
       "</tr>\n",
       "<tr>\n",
       "  <th>C(scenario)[T.3]</th>                               <td>0.196</td>   <td>0.148</td>   <td>1.319</td> <td>0.187</td> <td>-0.095</td>  <td>0.487</td>\n",
       "</tr>\n",
       "<tr>\n",
       "  <th>C(scenario)[T.4]</th>                              <td>-0.094</td>   <td>0.148</td>  <td>-0.640</td> <td>0.522</td> <td>-0.384</td>  <td>0.195</td>\n",
       "</tr>\n",
       "<tr>\n",
       "  <th>outcome_positive</th>                               <td>0.038</td>   <td>0.230</td>   <td>0.167</td> <td>0.867</td> <td>-0.412</td>  <td>0.489</td>\n",
       "</tr>\n",
       "<tr>\n",
       "  <th>pa_available</th>                                  <td>-0.392</td>   <td>0.230</td>  <td>-1.702</td> <td>0.089</td> <td>-0.844</td>  <td>0.060</td>\n",
       "</tr>\n",
       "<tr>\n",
       "  <th>outcome_positive:pa_available</th>                  <td>0.559</td>   <td>0.353</td>   <td>1.584</td> <td>0.113</td> <td>-0.133</td>  <td>1.250</td>\n",
       "</tr>\n",
       "<tr>\n",
       "  <th>active_teamlead</th>                               <td>-1.825</td>   <td>0.209</td>  <td>-8.735</td> <td>0.000</td> <td>-2.234</td> <td>-1.415</td>\n",
       "</tr>\n",
       "<tr>\n",
       "  <th>outcome_positive:active_teamlead</th>               <td>1.094</td>   <td>0.296</td>   <td>3.702</td> <td>0.000</td>  <td>0.515</td>  <td>1.673</td>\n",
       "</tr>\n",
       "<tr>\n",
       "  <th>pa_available:active_teamlead</th>                   <td>0.673</td>   <td>0.296</td>   <td>2.274</td> <td>0.023</td>  <td>0.093</td>  <td>1.253</td>\n",
       "</tr>\n",
       "<tr>\n",
       "  <th>outcome_positive:pa_available:active_teamlead</th> <td>-1.335</td>   <td>0.419</td>  <td>-3.184</td> <td>0.001</td> <td>-2.157</td> <td>-0.513</td>\n",
       "</tr>\n",
       "<tr>\n",
       "  <th>residuals_PR</th>                                   <td>0.159</td>   <td>0.035</td>   <td>4.540</td> <td>0.000</td>  <td>0.091</td>  <td>0.228</td>\n",
       "</tr>\n",
       "<tr>\n",
       "  <th>algo_aversion</th>                                  <td>0.072</td>   <td>0.059</td>   <td>1.227</td> <td>0.220</td> <td>-0.043</td>  <td>0.188</td>\n",
       "</tr>\n",
       "<tr>\n",
       "  <th>sex</th>                                            <td>0.354</td>   <td>0.162</td>   <td>2.192</td> <td>0.028</td>  <td>0.037</td>  <td>0.671</td>\n",
       "</tr>\n",
       "<tr>\n",
       "  <th>origin_usa</th>                                     <td>0.179</td>   <td>0.144</td>   <td>1.239</td> <td>0.215</td> <td>-0.104</td>  <td>0.461</td>\n",
       "</tr>\n",
       "<tr>\n",
       "  <th>participant Var</th>                                <td>0.199</td>   <td>0.045</td>     <td></td>      <td></td>       <td></td>       <td></td>   \n",
       "</tr>\n",
       "</table><br/>\n"
      ],
      "text/latex": [
       "\\begin{table}\n",
       "\\caption{Mixed Linear Model Regression Results}\n",
       "\\label{}\n",
       "\\begin{center}\n",
       "\\begin{tabular}{llll}\n",
       "\\hline\n",
       "Model:            & MixedLM & Dependent Variable: & FR          \\\\\n",
       "No. Observations: & 720     & Method:             & REML        \\\\\n",
       "No. Groups:       & 90      & Scale:              & 1.9627      \\\\\n",
       "Min. group size:  & 8       & Log-Likelihood:     & -1283.5014  \\\\\n",
       "Max. group size:  & 8       & Converged:          & No          \\\\\n",
       "Mean group size:  & 8.0     &                     &             \\\\\n",
       "\\hline\n",
       "\\end{tabular}\n",
       "\\end{center}\n",
       "\n",
       "\\begin{center}\n",
       "\\begin{tabular}{lrrrrrr}\n",
       "\\hline\n",
       "                                                 &  Coef. & Std.Err. &      z & P$> |$z$|$ & [0.025 & 0.975]  \\\\\n",
       "\\hline\n",
       "Intercept                                        &  5.559 &    0.346 & 16.046 &       0.000 &  4.880 &  6.238  \\\\\n",
       "C(scenario)[T.2]                                 & -0.482 &    0.148 & -3.249 &       0.001 & -0.773 & -0.191  \\\\\n",
       "C(scenario)[T.3]                                 &  0.196 &    0.148 &  1.319 &       0.187 & -0.095 &  0.487  \\\\\n",
       "C(scenario)[T.4]                                 & -0.094 &    0.148 & -0.640 &       0.522 & -0.384 &  0.195  \\\\\n",
       "outcome\\_positive                                &  0.038 &    0.230 &  0.167 &       0.867 & -0.412 &  0.489  \\\\\n",
       "pa\\_available                                    & -0.392 &    0.230 & -1.702 &       0.089 & -0.844 &  0.060  \\\\\n",
       "outcome\\_positive:pa\\_available                  &  0.559 &    0.353 &  1.584 &       0.113 & -0.133 &  1.250  \\\\\n",
       "active\\_teamlead                                 & -1.825 &    0.209 & -8.735 &       0.000 & -2.234 & -1.415  \\\\\n",
       "outcome\\_positive:active\\_teamlead               &  1.094 &    0.296 &  3.702 &       0.000 &  0.515 &  1.673  \\\\\n",
       "pa\\_available:active\\_teamlead                   &  0.673 &    0.296 &  2.274 &       0.023 &  0.093 &  1.253  \\\\\n",
       "outcome\\_positive:pa\\_available:active\\_teamlead & -1.335 &    0.419 & -3.184 &       0.001 & -2.157 & -0.513  \\\\\n",
       "residuals\\_PR                                    &  0.159 &    0.035 &  4.540 &       0.000 &  0.091 &  0.228  \\\\\n",
       "algo\\_aversion                                   &  0.072 &    0.059 &  1.227 &       0.220 & -0.043 &  0.188  \\\\\n",
       "sex                                              &  0.354 &    0.162 &  2.192 &       0.028 &  0.037 &  0.671  \\\\\n",
       "origin\\_usa                                      &  0.179 &    0.144 &  1.239 &       0.215 & -0.104 &  0.461  \\\\\n",
       "participant Var                                  &  0.199 &    0.045 &        &             &        &         \\\\\n",
       "\\hline\n",
       "\\end{tabular}\n",
       "\\end{center}\n",
       "\\end{table}\n",
       "\\bigskip\n"
      ],
      "text/plain": [
       "<class 'statsmodels.iolib.summary2.Summary'>\n",
       "\"\"\"\n",
       "                         Mixed Linear Model Regression Results\n",
       "========================================================================================\n",
       "Model:                        MixedLM           Dependent Variable:           FR        \n",
       "No. Observations:             720               Method:                       REML      \n",
       "No. Groups:                   90                Scale:                        1.9627    \n",
       "Min. group size:              8                 Log-Likelihood:               -1283.5014\n",
       "Max. group size:              8                 Converged:                    No        \n",
       "Mean group size:              8.0                                                       \n",
       "----------------------------------------------------------------------------------------\n",
       "                                              Coef.  Std.Err.   z    P>|z| [0.025 0.975]\n",
       "----------------------------------------------------------------------------------------\n",
       "Intercept                                      5.559    0.346 16.046 0.000  4.880  6.238\n",
       "C(scenario)[T.2]                              -0.482    0.148 -3.249 0.001 -0.773 -0.191\n",
       "C(scenario)[T.3]                               0.196    0.148  1.319 0.187 -0.095  0.487\n",
       "C(scenario)[T.4]                              -0.094    0.148 -0.640 0.522 -0.384  0.195\n",
       "outcome_positive                               0.038    0.230  0.167 0.867 -0.412  0.489\n",
       "pa_available                                  -0.392    0.230 -1.702 0.089 -0.844  0.060\n",
       "outcome_positive:pa_available                  0.559    0.353  1.584 0.113 -0.133  1.250\n",
       "active_teamlead                               -1.825    0.209 -8.735 0.000 -2.234 -1.415\n",
       "outcome_positive:active_teamlead               1.094    0.296  3.702 0.000  0.515  1.673\n",
       "pa_available:active_teamlead                   0.673    0.296  2.274 0.023  0.093  1.253\n",
       "outcome_positive:pa_available:active_teamlead -1.335    0.419 -3.184 0.001 -2.157 -0.513\n",
       "residuals_PR                                   0.159    0.035  4.540 0.000  0.091  0.228\n",
       "algo_aversion                                  0.072    0.059  1.227 0.220 -0.043  0.188\n",
       "sex                                            0.354    0.162  2.192 0.028  0.037  0.671\n",
       "origin_usa                                     0.179    0.144  1.239 0.215 -0.104  0.461\n",
       "participant Var                                0.199    0.045                           \n",
       "========================================================================================\n",
       "\n",
       "\"\"\""
      ]
     },
     "execution_count": 306,
     "metadata": {},
     "output_type": "execute_result"
    }
   ],
   "source": [
    "regresion_results[1].summary()"
   ]
  },
  {
   "cell_type": "code",
   "execution_count": 303,
   "metadata": {},
   "outputs": [],
   "source": [
    "# Zuerst kommen die Treatment variables (Intercept, PA, Outcome, dann die Interaktion PA*Outcome, dann die Kontrollvariablen wie algo aversion, dann die soziodemographischen Kontrollvariablen, participant-level FE bitte noch mal nachschauen, wie die korrekt zu reporten sind, meiner Meinung nicht als IVs im regression table. \n",
    "                                       \n",
    "covariates_order =[\n",
    "    \"Intercept\",\n",
    "    \"outcome_positive\",\n",
    "    \"pa_available\",\n",
    "    \"active_teamlead\",\n",
    "    \"outcome_positive:pa_available\",\n",
    "    \"pa_available:active_teamlead\",\n",
    "    \"outcome_positive:active_teamlead\",\n",
    "    \"outcome_positive:pa_available:active_teamlead\",\n",
    "    \"residuals_PR\",\n",
    "    \"algo_aversion\",\n",
    "    \"origin_usa\",\n",
    "    \"sex\",\n",
    "    \"C(scenario)[T.2]\",\n",
    "    \"C(scenario)[T.3]\",\n",
    "    \"C(scenario)[T.4]\",\n",
    "]"
   ]
  },
  {
   "cell_type": "code",
   "execution_count": 304,
   "metadata": {},
   "outputs": [],
   "source": [
    "stargazer = Stargazer(regresion_results)\n",
    "stargazer.covariate_order(covariates_order)\n",
    "\n",
    "with open(\"reg_tables_new.html\", \"w\") as outfile:\n",
    "    outfile.write(stargazer.render_html())"
   ]
  },
  {
   "cell_type": "code",
   "execution_count": null,
   "metadata": {},
   "outputs": [],
   "source": [
    "all_regression_df_feel_responsible = pd.DataFrame()\n",
    "for scenario in range(1, 5):\n",
    "    for dependent_variable in [\"FR\"]:\n",
    "        regression_df = get_regression_df(scenario, dependent_variable)\n",
    "        regression_df = regression_df.assign(vignette=scenario)\n",
    "        all_regression_df_feel_responsible = pd.concat(\n",
    "            [all_regression_df_feel_responsible, regression_df]\n",
    "        )"
   ]
  },
  {
   "cell_type": "code",
   "execution_count": null,
   "metadata": {},
   "outputs": [],
   "source": [
    "all_regression_df_act_responsible = pd.DataFrame()\n",
    "for scenario in range(1, 5):\n",
    "    for dependent_variable in [\"AR\"]:\n",
    "        regression_df = get_regression_df(scenario, dependent_variable)\n",
    "        regression_df = regression_df.assign(vignette=scenario)\n",
    "        all_regression_df_act_responsible = pd.concat(\n",
    "            [all_regression_df_act_responsible, regression_df]\n",
    "        )"
   ]
  },
  {
   "cell_type": "code",
   "execution_count": null,
   "metadata": {},
   "outputs": [],
   "source": [
    "all_regression_df_perceived_risk = pd.DataFrame()\n",
    "for scenario in range(1, 5):\n",
    "    for dependent_variable in [\"PR\"]:\n",
    "        regression_df = get_regression_df(scenario, dependent_variable)\n",
    "        regression_df = regression_df.assign(vignette=scenario)\n",
    "        all_regression_df_perceived_risk = pd.concat(\n",
    "            [all_regression_df_perceived_risk, regression_df]\n",
    "        )"
   ]
  },
  {
   "cell_type": "code",
   "execution_count": null,
   "metadata": {},
   "outputs": [],
   "source": [
    "all_regression_df_feel_responsible.to_csv(\n",
    "    \"regressions_df_feel_responsible.csv\", index=False\n",
    ")\n",
    "all_regression_df_act_responsible.to_csv(\"regression_df_act_responsible.csv\", index=False)\n",
    "all_regression_df_perceived_risk.to_csv(\"regression_df_perceived_risk.csv\", index=False)"
   ]
  },
  {
   "cell_type": "code",
   "execution_count": null,
   "metadata": {},
   "outputs": [],
   "source": [
    "all_regression_df_feel_responsible.assign(\n",
    "    AR=all_regression_df_act_responsible.AR, PR=all_regression_df_perceived_risk.PR\n",
    ").loc[\n",
    "    :,\n",
    "    [\n",
    "        \"AR\",\n",
    "        \"FR\",\n",
    "        \"PR\",\n",
    "        \"outcome_positive\",\n",
    "        \"pa_available\",\n",
    "        \"active_teamlead\",\n",
    "        \"participant\",\n",
    "        \"algo_aversion\",\n",
    "        \"origin_usa\",\n",
    "        \"number_of_subordinates\",\n",
    "        \"age\",\n",
    "        \"sex\",\n",
    "        \"vignette\",\n",
    "    ],\n",
    "].to_csv(\"regression_df_all_dependent_variables.csv\", index=False)"
   ]
  },
  {
   "cell_type": "markdown",
   "metadata": {},
   "source": [
    "## Demographics"
   ]
  },
  {
   "cell_type": "code",
   "execution_count": null,
   "metadata": {},
   "outputs": [
    {
     "data": {
      "text/html": [
       "<div>\n",
       "<style scoped>\n",
       "    .dataframe tbody tr th:only-of-type {\n",
       "        vertical-align: middle;\n",
       "    }\n",
       "\n",
       "    .dataframe tbody tr th {\n",
       "        vertical-align: top;\n",
       "    }\n",
       "\n",
       "    .dataframe thead th {\n",
       "        text-align: right;\n",
       "    }\n",
       "</style>\n",
       "<table border=\"1\" class=\"dataframe\">\n",
       "  <thead>\n",
       "    <tr style=\"text-align: right;\">\n",
       "      <th></th>\n",
       "      <th>age</th>\n",
       "      <th>sex</th>\n",
       "      <th>algo_aversion</th>\n",
       "      <th>risk_propensity</th>\n",
       "    </tr>\n",
       "  </thead>\n",
       "  <tbody>\n",
       "    <tr>\n",
       "      <th>count</th>\n",
       "      <td>90.00</td>\n",
       "      <td>90.00</td>\n",
       "      <td>90.00</td>\n",
       "      <td>90.00</td>\n",
       "    </tr>\n",
       "    <tr>\n",
       "      <th>mean</th>\n",
       "      <td>38.41</td>\n",
       "      <td>0.27</td>\n",
       "      <td>5.13</td>\n",
       "      <td>6.13</td>\n",
       "    </tr>\n",
       "    <tr>\n",
       "      <th>std</th>\n",
       "      <td>11.55</td>\n",
       "      <td>0.44</td>\n",
       "      <td>1.23</td>\n",
       "      <td>2.06</td>\n",
       "    </tr>\n",
       "    <tr>\n",
       "      <th>min</th>\n",
       "      <td>22.00</td>\n",
       "      <td>0.00</td>\n",
       "      <td>2.00</td>\n",
       "      <td>1.00</td>\n",
       "    </tr>\n",
       "    <tr>\n",
       "      <th>25%</th>\n",
       "      <td>29.25</td>\n",
       "      <td>0.00</td>\n",
       "      <td>4.00</td>\n",
       "      <td>5.00</td>\n",
       "    </tr>\n",
       "    <tr>\n",
       "      <th>50%</th>\n",
       "      <td>34.00</td>\n",
       "      <td>0.00</td>\n",
       "      <td>5.00</td>\n",
       "      <td>6.00</td>\n",
       "    </tr>\n",
       "    <tr>\n",
       "      <th>75%</th>\n",
       "      <td>46.75</td>\n",
       "      <td>1.00</td>\n",
       "      <td>6.00</td>\n",
       "      <td>7.00</td>\n",
       "    </tr>\n",
       "    <tr>\n",
       "      <th>max</th>\n",
       "      <td>78.00</td>\n",
       "      <td>1.00</td>\n",
       "      <td>7.00</td>\n",
       "      <td>10.00</td>\n",
       "    </tr>\n",
       "  </tbody>\n",
       "</table>\n",
       "</div>"
      ],
      "text/plain": [
       "         age    sex  algo_aversion  risk_propensity\n",
       "count  90.00  90.00          90.00            90.00\n",
       "mean   38.41   0.27           5.13             6.13\n",
       "std    11.55   0.44           1.23             2.06\n",
       "min    22.00   0.00           2.00             1.00\n",
       "25%    29.25   0.00           4.00             5.00\n",
       "50%    34.00   0.00           5.00             6.00\n",
       "75%    46.75   1.00           6.00             7.00\n",
       "max    78.00   1.00           7.00            10.00"
      ]
     },
     "execution_count": 229,
     "metadata": {},
     "output_type": "execute_result"
    }
   ],
   "source": [
    "data_all[[\"age\", \"sex\", \"algo_aversion\", \"risk_propensity\"]].describe().round(2)"
   ]
  },
  {
   "cell_type": "code",
   "execution_count": null,
   "metadata": {},
   "outputs": [
    {
     "data": {
      "text/plain": [
       "origin\n",
       "USA    53.3\n",
       "DEU    46.7\n",
       "Name: proportion, dtype: float64"
      ]
     },
     "execution_count": 201,
     "metadata": {},
     "output_type": "execute_result"
    }
   ],
   "source": [
    "data_all.origin.value_counts(normalize=True).mul(100).round(1)"
   ]
  },
  {
   "cell_type": "code",
   "execution_count": null,
   "metadata": {},
   "outputs": [
    {
     "data": {
      "text/plain": [
       "count    90.000000\n",
       "mean      7.155926\n",
       "std       1.654941\n",
       "min       4.666667\n",
       "25%       5.841667\n",
       "50%       6.700000\n",
       "75%       8.562500\n",
       "max      10.533333\n",
       "Name: overall_time, dtype: float64"
      ]
     },
     "execution_count": 195,
     "metadata": {},
     "output_type": "execute_result"
    }
   ],
   "source": [
    "data_all.overall_time.div(60).describe()"
   ]
  },
  {
   "cell_type": "code",
   "execution_count": null,
   "metadata": {},
   "outputs": [
    {
     "data": {
      "text/plain": [
       "213"
      ]
     },
     "execution_count": 207,
     "metadata": {},
     "output_type": "execute_result"
    }
   ],
   "source": [
    "# how many started the survey?\n",
    "pd.concat(\n",
    "    [\n",
    "        data_usa_raw.assign(origin=\"USA\"),\n",
    "        data_deu_1_raw.assign(origin=\"DEU\"),\n",
    "        data_deu_2_raw.assign(origin=\"DEU\"),\n",
    "    ],\n",
    "    axis=0,\n",
    ")[\"participant._current_page_name\"].value_counts().sum()"
   ]
  }
 ],
 "metadata": {
  "kernelspec": {
   "display_name": "pa-leadership-survey-1DBoniK8",
   "language": "python",
   "name": "python3"
  },
  "language_info": {
   "codemirror_mode": {
    "name": "ipython",
    "version": 3
   },
   "file_extension": ".py",
   "mimetype": "text/x-python",
   "name": "python",
   "nbconvert_exporter": "python",
   "pygments_lexer": "ipython3",
   "version": "3.11.6"
  }
 },
 "nbformat": 4,
 "nbformat_minor": 2
}
