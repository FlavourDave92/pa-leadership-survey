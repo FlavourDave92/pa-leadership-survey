{
 "cells": [
  {
   "cell_type": "code",
   "execution_count": 1,
   "metadata": {},
   "outputs": [],
   "source": [
    "import pandas as pd\n",
    "\n",
    "pd.options.plotting.backend = \"plotly\"\n",
    "import plotly\n",
    "import plotly.graph_objects as go\n",
    "from plotly.subplots import make_subplots\n",
    "\n",
    "\n",
    "import plotly.io as pio\n",
    "import plotly.express as px\n",
    "\n",
    "pio.templates.default = \"simple_white\""
   ]
  },
  {
   "cell_type": "code",
   "execution_count": 2,
   "metadata": {},
   "outputs": [],
   "source": [
    "time_taken = pd.Series([1174.0,\n",
    "573.0,\n",
    "358.0,\n",
    "983.0,\n",
    "455.0,\n",
    "242.0,\n",
    "255.0,\n",
    "389.0,\n",
    "323.0,\n",
    "465.0,\n",
    "436.0,\n",
    "1094.0,\n",
    "283.0,\n",
    "947.0,\n",
    "291.0,\n",
    "719.0,\n",
    "364.0,\n",
    "343.0,\n",
    "185.0,\n",
    "271.0,\n",
    "685.0,\n",
    "342.0,\n",
    "1752.0,\n",
    "215.0,\n",
    "2324.0,\n",
    "747.0,\n",
    "571.0,\n",
    "477.0,\n",
    "654.0,\n",
    "288.0,\n",
    "419.0,\n",
    "235.0,\n",
    "347.0,\n",
    "785.0,\n",
    "678.0,\n",
    "716.0,\n",
    "474.0,\n",
    "334.0,\n",
    "891.0,\n",
    "268.0,\n",
    "271.0,\n",
    "652.0,\n",
    "344.0,\n",
    "170.0,\n",
    "249.0,\n",
    "225.0,\n",
    "349.0,\n",
    "231.0,\n",
    "376.0,\n",
    "486.0,\n",
    "875.0,\n",
    "298.0,\n",
    "269.0,\n",
    "801.0,\n",
    "295.0,\n",
    "635.0,\n",
    "370.0,\n",
    "145.0,\n",
    "698.0,\n",
    "409.0,\n",
    "678.0,\n",
    "282.0,\n",
    "305.0,\n",
    "372.0,\n",
    "465.0,\n",
    "639.0,\n",
    "202.0,\n",
    "285.0,\n",
    "627.0,\n",
    "364.0,\n",
    "792.0,\n",
    "616.0,\n",
    "398.0,\n",
    "473.0,\n",
    "647.0,\n",
    "332.0,\n",
    "1656.0,\n",
    "202.0,\n",
    "279.0,\n",
    "835.0,\n",
    "678.0,\n",
    "157.0,\n",
    "216.0,\n",
    "693.0,\n",
    "261.0,\n",
    "241.0,\n",
    "275.0,\n",
    "542.0,\n",
    "456.0,\n",
    "383.0,\n",
    "446.0,\n",
    "377.0,\n",
    "332.0,\n",
    "399.0,\n",
    "309.0,\n",
    "585.0,\n",
    "670.0,\n",
    "420.0]\n",
    ")"
   ]
  },
  {
   "cell_type": "code",
   "execution_count": 3,
   "metadata": {},
   "outputs": [
    {
     "data": {
      "application/vnd.plotly.v1+json": {
       "config": {
        "plotlyServerURL": "https://plot.ly"
       },
       "data": [
        {
         "alignmentgroup": "True",
         "bingroup": "x",
         "hovertemplate": "variable=0<br>value=%{x}<br>count=%{y}<extra></extra>",
         "legendgroup": "0",
         "marker": {
          "color": "#1F77B4",
          "pattern": {
           "shape": ""
          }
         },
         "name": "0",
         "offsetgroup": "0",
         "orientation": "v",
         "showlegend": true,
         "type": "histogram",
         "x": [
          1174,
          573,
          358,
          983,
          455,
          242,
          255,
          389,
          323,
          465,
          436,
          1094,
          283,
          947,
          291,
          719,
          364,
          343,
          185,
          271,
          685,
          342,
          1752,
          215,
          2324,
          747,
          571,
          477,
          654,
          288,
          419,
          235,
          347,
          785,
          678,
          716,
          474,
          334,
          891,
          268,
          271,
          652,
          344,
          170,
          249,
          225,
          349,
          231,
          376,
          486,
          875,
          298,
          269,
          801,
          295,
          635,
          370,
          145,
          698,
          409,
          678,
          282,
          305,
          372,
          465,
          639,
          202,
          285,
          627,
          364,
          792,
          616,
          398,
          473,
          647,
          332,
          1656,
          202,
          279,
          835,
          678,
          157,
          216,
          693,
          261,
          241,
          275,
          542,
          456,
          383,
          446,
          377,
          332,
          399,
          309,
          585,
          670,
          420
         ],
         "xaxis": "x",
         "yaxis": "y"
        }
       ],
       "layout": {
        "barmode": "relative",
        "legend": {
         "title": {
          "text": "variable"
         },
         "tracegroupgap": 0
        },
        "margin": {
         "t": 60
        },
        "template": {
         "data": {
          "bar": [
           {
            "error_x": {
             "color": "rgb(36,36,36)"
            },
            "error_y": {
             "color": "rgb(36,36,36)"
            },
            "marker": {
             "line": {
              "color": "white",
              "width": 0.5
             },
             "pattern": {
              "fillmode": "overlay",
              "size": 10,
              "solidity": 0.2
             }
            },
            "type": "bar"
           }
          ],
          "barpolar": [
           {
            "marker": {
             "line": {
              "color": "white",
              "width": 0.5
             },
             "pattern": {
              "fillmode": "overlay",
              "size": 10,
              "solidity": 0.2
             }
            },
            "type": "barpolar"
           }
          ],
          "carpet": [
           {
            "aaxis": {
             "endlinecolor": "rgb(36,36,36)",
             "gridcolor": "white",
             "linecolor": "white",
             "minorgridcolor": "white",
             "startlinecolor": "rgb(36,36,36)"
            },
            "baxis": {
             "endlinecolor": "rgb(36,36,36)",
             "gridcolor": "white",
             "linecolor": "white",
             "minorgridcolor": "white",
             "startlinecolor": "rgb(36,36,36)"
            },
            "type": "carpet"
           }
          ],
          "choropleth": [
           {
            "colorbar": {
             "outlinewidth": 1,
             "tickcolor": "rgb(36,36,36)",
             "ticks": "outside"
            },
            "type": "choropleth"
           }
          ],
          "contour": [
           {
            "colorbar": {
             "outlinewidth": 1,
             "tickcolor": "rgb(36,36,36)",
             "ticks": "outside"
            },
            "colorscale": [
             [
              0,
              "#440154"
             ],
             [
              0.1111111111111111,
              "#482878"
             ],
             [
              0.2222222222222222,
              "#3e4989"
             ],
             [
              0.3333333333333333,
              "#31688e"
             ],
             [
              0.4444444444444444,
              "#26828e"
             ],
             [
              0.5555555555555556,
              "#1f9e89"
             ],
             [
              0.6666666666666666,
              "#35b779"
             ],
             [
              0.7777777777777778,
              "#6ece58"
             ],
             [
              0.8888888888888888,
              "#b5de2b"
             ],
             [
              1,
              "#fde725"
             ]
            ],
            "type": "contour"
           }
          ],
          "contourcarpet": [
           {
            "colorbar": {
             "outlinewidth": 1,
             "tickcolor": "rgb(36,36,36)",
             "ticks": "outside"
            },
            "type": "contourcarpet"
           }
          ],
          "heatmap": [
           {
            "colorbar": {
             "outlinewidth": 1,
             "tickcolor": "rgb(36,36,36)",
             "ticks": "outside"
            },
            "colorscale": [
             [
              0,
              "#440154"
             ],
             [
              0.1111111111111111,
              "#482878"
             ],
             [
              0.2222222222222222,
              "#3e4989"
             ],
             [
              0.3333333333333333,
              "#31688e"
             ],
             [
              0.4444444444444444,
              "#26828e"
             ],
             [
              0.5555555555555556,
              "#1f9e89"
             ],
             [
              0.6666666666666666,
              "#35b779"
             ],
             [
              0.7777777777777778,
              "#6ece58"
             ],
             [
              0.8888888888888888,
              "#b5de2b"
             ],
             [
              1,
              "#fde725"
             ]
            ],
            "type": "heatmap"
           }
          ],
          "heatmapgl": [
           {
            "colorbar": {
             "outlinewidth": 1,
             "tickcolor": "rgb(36,36,36)",
             "ticks": "outside"
            },
            "colorscale": [
             [
              0,
              "#440154"
             ],
             [
              0.1111111111111111,
              "#482878"
             ],
             [
              0.2222222222222222,
              "#3e4989"
             ],
             [
              0.3333333333333333,
              "#31688e"
             ],
             [
              0.4444444444444444,
              "#26828e"
             ],
             [
              0.5555555555555556,
              "#1f9e89"
             ],
             [
              0.6666666666666666,
              "#35b779"
             ],
             [
              0.7777777777777778,
              "#6ece58"
             ],
             [
              0.8888888888888888,
              "#b5de2b"
             ],
             [
              1,
              "#fde725"
             ]
            ],
            "type": "heatmapgl"
           }
          ],
          "histogram": [
           {
            "marker": {
             "line": {
              "color": "white",
              "width": 0.6
             }
            },
            "type": "histogram"
           }
          ],
          "histogram2d": [
           {
            "colorbar": {
             "outlinewidth": 1,
             "tickcolor": "rgb(36,36,36)",
             "ticks": "outside"
            },
            "colorscale": [
             [
              0,
              "#440154"
             ],
             [
              0.1111111111111111,
              "#482878"
             ],
             [
              0.2222222222222222,
              "#3e4989"
             ],
             [
              0.3333333333333333,
              "#31688e"
             ],
             [
              0.4444444444444444,
              "#26828e"
             ],
             [
              0.5555555555555556,
              "#1f9e89"
             ],
             [
              0.6666666666666666,
              "#35b779"
             ],
             [
              0.7777777777777778,
              "#6ece58"
             ],
             [
              0.8888888888888888,
              "#b5de2b"
             ],
             [
              1,
              "#fde725"
             ]
            ],
            "type": "histogram2d"
           }
          ],
          "histogram2dcontour": [
           {
            "colorbar": {
             "outlinewidth": 1,
             "tickcolor": "rgb(36,36,36)",
             "ticks": "outside"
            },
            "colorscale": [
             [
              0,
              "#440154"
             ],
             [
              0.1111111111111111,
              "#482878"
             ],
             [
              0.2222222222222222,
              "#3e4989"
             ],
             [
              0.3333333333333333,
              "#31688e"
             ],
             [
              0.4444444444444444,
              "#26828e"
             ],
             [
              0.5555555555555556,
              "#1f9e89"
             ],
             [
              0.6666666666666666,
              "#35b779"
             ],
             [
              0.7777777777777778,
              "#6ece58"
             ],
             [
              0.8888888888888888,
              "#b5de2b"
             ],
             [
              1,
              "#fde725"
             ]
            ],
            "type": "histogram2dcontour"
           }
          ],
          "mesh3d": [
           {
            "colorbar": {
             "outlinewidth": 1,
             "tickcolor": "rgb(36,36,36)",
             "ticks": "outside"
            },
            "type": "mesh3d"
           }
          ],
          "parcoords": [
           {
            "line": {
             "colorbar": {
              "outlinewidth": 1,
              "tickcolor": "rgb(36,36,36)",
              "ticks": "outside"
             }
            },
            "type": "parcoords"
           }
          ],
          "pie": [
           {
            "automargin": true,
            "type": "pie"
           }
          ],
          "scatter": [
           {
            "fillpattern": {
             "fillmode": "overlay",
             "size": 10,
             "solidity": 0.2
            },
            "type": "scatter"
           }
          ],
          "scatter3d": [
           {
            "line": {
             "colorbar": {
              "outlinewidth": 1,
              "tickcolor": "rgb(36,36,36)",
              "ticks": "outside"
             }
            },
            "marker": {
             "colorbar": {
              "outlinewidth": 1,
              "tickcolor": "rgb(36,36,36)",
              "ticks": "outside"
             }
            },
            "type": "scatter3d"
           }
          ],
          "scattercarpet": [
           {
            "marker": {
             "colorbar": {
              "outlinewidth": 1,
              "tickcolor": "rgb(36,36,36)",
              "ticks": "outside"
             }
            },
            "type": "scattercarpet"
           }
          ],
          "scattergeo": [
           {
            "marker": {
             "colorbar": {
              "outlinewidth": 1,
              "tickcolor": "rgb(36,36,36)",
              "ticks": "outside"
             }
            },
            "type": "scattergeo"
           }
          ],
          "scattergl": [
           {
            "marker": {
             "colorbar": {
              "outlinewidth": 1,
              "tickcolor": "rgb(36,36,36)",
              "ticks": "outside"
             }
            },
            "type": "scattergl"
           }
          ],
          "scattermapbox": [
           {
            "marker": {
             "colorbar": {
              "outlinewidth": 1,
              "tickcolor": "rgb(36,36,36)",
              "ticks": "outside"
             }
            },
            "type": "scattermapbox"
           }
          ],
          "scatterpolar": [
           {
            "marker": {
             "colorbar": {
              "outlinewidth": 1,
              "tickcolor": "rgb(36,36,36)",
              "ticks": "outside"
             }
            },
            "type": "scatterpolar"
           }
          ],
          "scatterpolargl": [
           {
            "marker": {
             "colorbar": {
              "outlinewidth": 1,
              "tickcolor": "rgb(36,36,36)",
              "ticks": "outside"
             }
            },
            "type": "scatterpolargl"
           }
          ],
          "scatterternary": [
           {
            "marker": {
             "colorbar": {
              "outlinewidth": 1,
              "tickcolor": "rgb(36,36,36)",
              "ticks": "outside"
             }
            },
            "type": "scatterternary"
           }
          ],
          "surface": [
           {
            "colorbar": {
             "outlinewidth": 1,
             "tickcolor": "rgb(36,36,36)",
             "ticks": "outside"
            },
            "colorscale": [
             [
              0,
              "#440154"
             ],
             [
              0.1111111111111111,
              "#482878"
             ],
             [
              0.2222222222222222,
              "#3e4989"
             ],
             [
              0.3333333333333333,
              "#31688e"
             ],
             [
              0.4444444444444444,
              "#26828e"
             ],
             [
              0.5555555555555556,
              "#1f9e89"
             ],
             [
              0.6666666666666666,
              "#35b779"
             ],
             [
              0.7777777777777778,
              "#6ece58"
             ],
             [
              0.8888888888888888,
              "#b5de2b"
             ],
             [
              1,
              "#fde725"
             ]
            ],
            "type": "surface"
           }
          ],
          "table": [
           {
            "cells": {
             "fill": {
              "color": "rgb(237,237,237)"
             },
             "line": {
              "color": "white"
             }
            },
            "header": {
             "fill": {
              "color": "rgb(217,217,217)"
             },
             "line": {
              "color": "white"
             }
            },
            "type": "table"
           }
          ]
         },
         "layout": {
          "annotationdefaults": {
           "arrowhead": 0,
           "arrowwidth": 1
          },
          "autotypenumbers": "strict",
          "coloraxis": {
           "colorbar": {
            "outlinewidth": 1,
            "tickcolor": "rgb(36,36,36)",
            "ticks": "outside"
           }
          },
          "colorscale": {
           "diverging": [
            [
             0,
             "rgb(103,0,31)"
            ],
            [
             0.1,
             "rgb(178,24,43)"
            ],
            [
             0.2,
             "rgb(214,96,77)"
            ],
            [
             0.3,
             "rgb(244,165,130)"
            ],
            [
             0.4,
             "rgb(253,219,199)"
            ],
            [
             0.5,
             "rgb(247,247,247)"
            ],
            [
             0.6,
             "rgb(209,229,240)"
            ],
            [
             0.7,
             "rgb(146,197,222)"
            ],
            [
             0.8,
             "rgb(67,147,195)"
            ],
            [
             0.9,
             "rgb(33,102,172)"
            ],
            [
             1,
             "rgb(5,48,97)"
            ]
           ],
           "sequential": [
            [
             0,
             "#440154"
            ],
            [
             0.1111111111111111,
             "#482878"
            ],
            [
             0.2222222222222222,
             "#3e4989"
            ],
            [
             0.3333333333333333,
             "#31688e"
            ],
            [
             0.4444444444444444,
             "#26828e"
            ],
            [
             0.5555555555555556,
             "#1f9e89"
            ],
            [
             0.6666666666666666,
             "#35b779"
            ],
            [
             0.7777777777777778,
             "#6ece58"
            ],
            [
             0.8888888888888888,
             "#b5de2b"
            ],
            [
             1,
             "#fde725"
            ]
           ],
           "sequentialminus": [
            [
             0,
             "#440154"
            ],
            [
             0.1111111111111111,
             "#482878"
            ],
            [
             0.2222222222222222,
             "#3e4989"
            ],
            [
             0.3333333333333333,
             "#31688e"
            ],
            [
             0.4444444444444444,
             "#26828e"
            ],
            [
             0.5555555555555556,
             "#1f9e89"
            ],
            [
             0.6666666666666666,
             "#35b779"
            ],
            [
             0.7777777777777778,
             "#6ece58"
            ],
            [
             0.8888888888888888,
             "#b5de2b"
            ],
            [
             1,
             "#fde725"
            ]
           ]
          },
          "colorway": [
           "#1F77B4",
           "#FF7F0E",
           "#2CA02C",
           "#D62728",
           "#9467BD",
           "#8C564B",
           "#E377C2",
           "#7F7F7F",
           "#BCBD22",
           "#17BECF"
          ],
          "font": {
           "color": "rgb(36,36,36)"
          },
          "geo": {
           "bgcolor": "white",
           "lakecolor": "white",
           "landcolor": "white",
           "showlakes": true,
           "showland": true,
           "subunitcolor": "white"
          },
          "hoverlabel": {
           "align": "left"
          },
          "hovermode": "closest",
          "mapbox": {
           "style": "light"
          },
          "paper_bgcolor": "white",
          "plot_bgcolor": "white",
          "polar": {
           "angularaxis": {
            "gridcolor": "rgb(232,232,232)",
            "linecolor": "rgb(36,36,36)",
            "showgrid": false,
            "showline": true,
            "ticks": "outside"
           },
           "bgcolor": "white",
           "radialaxis": {
            "gridcolor": "rgb(232,232,232)",
            "linecolor": "rgb(36,36,36)",
            "showgrid": false,
            "showline": true,
            "ticks": "outside"
           }
          },
          "scene": {
           "xaxis": {
            "backgroundcolor": "white",
            "gridcolor": "rgb(232,232,232)",
            "gridwidth": 2,
            "linecolor": "rgb(36,36,36)",
            "showbackground": true,
            "showgrid": false,
            "showline": true,
            "ticks": "outside",
            "zeroline": false,
            "zerolinecolor": "rgb(36,36,36)"
           },
           "yaxis": {
            "backgroundcolor": "white",
            "gridcolor": "rgb(232,232,232)",
            "gridwidth": 2,
            "linecolor": "rgb(36,36,36)",
            "showbackground": true,
            "showgrid": false,
            "showline": true,
            "ticks": "outside",
            "zeroline": false,
            "zerolinecolor": "rgb(36,36,36)"
           },
           "zaxis": {
            "backgroundcolor": "white",
            "gridcolor": "rgb(232,232,232)",
            "gridwidth": 2,
            "linecolor": "rgb(36,36,36)",
            "showbackground": true,
            "showgrid": false,
            "showline": true,
            "ticks": "outside",
            "zeroline": false,
            "zerolinecolor": "rgb(36,36,36)"
           }
          },
          "shapedefaults": {
           "fillcolor": "black",
           "line": {
            "width": 0
           },
           "opacity": 0.3
          },
          "ternary": {
           "aaxis": {
            "gridcolor": "rgb(232,232,232)",
            "linecolor": "rgb(36,36,36)",
            "showgrid": false,
            "showline": true,
            "ticks": "outside"
           },
           "baxis": {
            "gridcolor": "rgb(232,232,232)",
            "linecolor": "rgb(36,36,36)",
            "showgrid": false,
            "showline": true,
            "ticks": "outside"
           },
           "bgcolor": "white",
           "caxis": {
            "gridcolor": "rgb(232,232,232)",
            "linecolor": "rgb(36,36,36)",
            "showgrid": false,
            "showline": true,
            "ticks": "outside"
           }
          },
          "title": {
           "x": 0.05
          },
          "xaxis": {
           "automargin": true,
           "gridcolor": "rgb(232,232,232)",
           "linecolor": "rgb(36,36,36)",
           "showgrid": false,
           "showline": true,
           "ticks": "outside",
           "title": {
            "standoff": 15
           },
           "zeroline": false,
           "zerolinecolor": "rgb(36,36,36)"
          },
          "yaxis": {
           "automargin": true,
           "gridcolor": "rgb(232,232,232)",
           "linecolor": "rgb(36,36,36)",
           "showgrid": false,
           "showline": true,
           "ticks": "outside",
           "title": {
            "standoff": 15
           },
           "zeroline": false,
           "zerolinecolor": "rgb(36,36,36)"
          }
         }
        },
        "xaxis": {
         "anchor": "y",
         "domain": [
          0,
          1
         ],
         "title": {
          "text": "value"
         }
        },
        "yaxis": {
         "anchor": "x",
         "domain": [
          0,
          1
         ],
         "title": {
          "text": "count"
         }
        }
       }
      }
     },
     "metadata": {},
     "output_type": "display_data"
    }
   ],
   "source": [
    "time_taken.plot.hist()"
   ]
  },
  {
   "cell_type": "code",
   "execution_count": 4,
   "metadata": {},
   "outputs": [
    {
     "data": {
      "text/plain": [
       "Series([], dtype: float64)"
      ]
     },
     "execution_count": 4,
     "metadata": {},
     "output_type": "execute_result"
    }
   ],
   "source": [
    "mean_std_series = pd.Series(\n",
    "    [(x - time_taken.mean()) / time_taken.std() for x in time_taken.to_list()]\n",
    ")\n",
    "mean_std_series.loc[\n",
    "    mean_std_series < mean_std_series.mean() - 3 * mean_std_series.std()\n",
    "]"
   ]
  },
  {
   "cell_type": "code",
   "execution_count": 5,
   "metadata": {},
   "outputs": [
    {
     "data": {
      "application/vnd.plotly.v1+json": {
       "config": {
        "plotlyServerURL": "https://plot.ly"
       },
       "data": [
        {
         "alignmentgroup": "True",
         "bingroup": "x",
         "hovertemplate": "variable=0<br>value=%{x}<br>count=%{y}<extra></extra>",
         "legendgroup": "0",
         "marker": {
          "color": "#1F77B4",
          "pattern": {
           "shape": ""
          }
         },
         "name": "0",
         "offsetgroup": "0",
         "orientation": "v",
         "showlegend": true,
         "type": "histogram",
         "x": [
          1.9772357091535533,
          0.2037067994521083,
          -0.43075029802844195,
          1.413601729531297,
          -0.14450686335117044,
          -0.7730620343435295,
          -0.734699512170287,
          -0.3392704374614789,
          -0.5340340115717873,
          -0.1149972309102146,
          -0.2005751649889865,
          1.7411586496259068,
          -0.6520725413356107,
          1.3073670527438561,
          -0.6284648353828459,
          0.6345474330900633,
          -0.4130445185638684,
          -0.47501474668987564,
          -0.9412669392569777,
          -0.6874841002647576,
          0.5342146827908135,
          -0.47796570993397125,
          3.6828924642407994,
          -0.8527380419341102,
          5.370843439863473,
          0.7171744039247396,
          0.19780487296391713,
          -0.07958567198106761,
          0.44273482222385047,
          -0.6373177251151327,
          -0.2507415401386114,
          -0.7937187770521985,
          -0.46321089371349333,
          0.8293110072003718,
          0.5135579400821445,
          0.6256945433577766,
          -0.08843856171335436,
          -0.5015734158867359,
          1.1421131110745035,
          -0.6963369899970443,
          -0.6874841002647576,
          0.4368328957356593,
          -0.4720637834457801,
          -0.9855313879184114,
          -0.7524052916348604,
          -0.8232284094931543,
          -0.4573089672253022,
          -0.8055226300285809,
          -0.37763295963472143,
          -0.053027002784207376,
          1.0948976991689743,
          -0.6078080926741769,
          -0.6933860267529488,
          0.8765264191059011,
          -0.6166609824064636,
          0.3866665205860344,
          -0.39533873909929496,
          -1.059305469020801,
          0.5725772049640561,
          -0.2802511725795672,
          0.5135579400821445,
          -0.6550235045797062,
          -0.5871513499655078,
          -0.38943681261110374,
          -0.1149972309102146,
          0.3984703735624167,
          -0.8911005641073528,
          -0.6461706148474194,
          0.3630588146332697,
          -0.4130445185638684,
          0.8499677499090409,
          0.33059821894821834,
          -0.3127117682646186,
          -0.09138952495744995,
          0.4220780795151814,
          -0.5074753423749271,
          3.399599992807624,
          -0.8911005641073528,
          -0.663876394311993,
          0.9768591694051509,
          0.5135579400821445,
          -1.023893910091654,
          -0.8497870786900146,
          0.5578223887435781,
          -0.7169937327057134,
          -0.7760129975876251,
          -0.6756802472883753,
          0.11222693888514525,
          -0.14155590010707483,
          -0.35697621692605236,
          -0.17106553254803067,
          -0.3746819963906259,
          -0.5074753423749271,
          -0.30976080502052306,
          -0.5753474969891255,
          0.23911835838125528,
          0.48995023412937977,
          -0.2477905768945158
         ],
         "xaxis": "x",
         "yaxis": "y"
        }
       ],
       "layout": {
        "barmode": "relative",
        "legend": {
         "title": {
          "text": "variable"
         },
         "tracegroupgap": 0
        },
        "margin": {
         "t": 60
        },
        "template": {
         "data": {
          "bar": [
           {
            "error_x": {
             "color": "rgb(36,36,36)"
            },
            "error_y": {
             "color": "rgb(36,36,36)"
            },
            "marker": {
             "line": {
              "color": "white",
              "width": 0.5
             },
             "pattern": {
              "fillmode": "overlay",
              "size": 10,
              "solidity": 0.2
             }
            },
            "type": "bar"
           }
          ],
          "barpolar": [
           {
            "marker": {
             "line": {
              "color": "white",
              "width": 0.5
             },
             "pattern": {
              "fillmode": "overlay",
              "size": 10,
              "solidity": 0.2
             }
            },
            "type": "barpolar"
           }
          ],
          "carpet": [
           {
            "aaxis": {
             "endlinecolor": "rgb(36,36,36)",
             "gridcolor": "white",
             "linecolor": "white",
             "minorgridcolor": "white",
             "startlinecolor": "rgb(36,36,36)"
            },
            "baxis": {
             "endlinecolor": "rgb(36,36,36)",
             "gridcolor": "white",
             "linecolor": "white",
             "minorgridcolor": "white",
             "startlinecolor": "rgb(36,36,36)"
            },
            "type": "carpet"
           }
          ],
          "choropleth": [
           {
            "colorbar": {
             "outlinewidth": 1,
             "tickcolor": "rgb(36,36,36)",
             "ticks": "outside"
            },
            "type": "choropleth"
           }
          ],
          "contour": [
           {
            "colorbar": {
             "outlinewidth": 1,
             "tickcolor": "rgb(36,36,36)",
             "ticks": "outside"
            },
            "colorscale": [
             [
              0,
              "#440154"
             ],
             [
              0.1111111111111111,
              "#482878"
             ],
             [
              0.2222222222222222,
              "#3e4989"
             ],
             [
              0.3333333333333333,
              "#31688e"
             ],
             [
              0.4444444444444444,
              "#26828e"
             ],
             [
              0.5555555555555556,
              "#1f9e89"
             ],
             [
              0.6666666666666666,
              "#35b779"
             ],
             [
              0.7777777777777778,
              "#6ece58"
             ],
             [
              0.8888888888888888,
              "#b5de2b"
             ],
             [
              1,
              "#fde725"
             ]
            ],
            "type": "contour"
           }
          ],
          "contourcarpet": [
           {
            "colorbar": {
             "outlinewidth": 1,
             "tickcolor": "rgb(36,36,36)",
             "ticks": "outside"
            },
            "type": "contourcarpet"
           }
          ],
          "heatmap": [
           {
            "colorbar": {
             "outlinewidth": 1,
             "tickcolor": "rgb(36,36,36)",
             "ticks": "outside"
            },
            "colorscale": [
             [
              0,
              "#440154"
             ],
             [
              0.1111111111111111,
              "#482878"
             ],
             [
              0.2222222222222222,
              "#3e4989"
             ],
             [
              0.3333333333333333,
              "#31688e"
             ],
             [
              0.4444444444444444,
              "#26828e"
             ],
             [
              0.5555555555555556,
              "#1f9e89"
             ],
             [
              0.6666666666666666,
              "#35b779"
             ],
             [
              0.7777777777777778,
              "#6ece58"
             ],
             [
              0.8888888888888888,
              "#b5de2b"
             ],
             [
              1,
              "#fde725"
             ]
            ],
            "type": "heatmap"
           }
          ],
          "heatmapgl": [
           {
            "colorbar": {
             "outlinewidth": 1,
             "tickcolor": "rgb(36,36,36)",
             "ticks": "outside"
            },
            "colorscale": [
             [
              0,
              "#440154"
             ],
             [
              0.1111111111111111,
              "#482878"
             ],
             [
              0.2222222222222222,
              "#3e4989"
             ],
             [
              0.3333333333333333,
              "#31688e"
             ],
             [
              0.4444444444444444,
              "#26828e"
             ],
             [
              0.5555555555555556,
              "#1f9e89"
             ],
             [
              0.6666666666666666,
              "#35b779"
             ],
             [
              0.7777777777777778,
              "#6ece58"
             ],
             [
              0.8888888888888888,
              "#b5de2b"
             ],
             [
              1,
              "#fde725"
             ]
            ],
            "type": "heatmapgl"
           }
          ],
          "histogram": [
           {
            "marker": {
             "line": {
              "color": "white",
              "width": 0.6
             }
            },
            "type": "histogram"
           }
          ],
          "histogram2d": [
           {
            "colorbar": {
             "outlinewidth": 1,
             "tickcolor": "rgb(36,36,36)",
             "ticks": "outside"
            },
            "colorscale": [
             [
              0,
              "#440154"
             ],
             [
              0.1111111111111111,
              "#482878"
             ],
             [
              0.2222222222222222,
              "#3e4989"
             ],
             [
              0.3333333333333333,
              "#31688e"
             ],
             [
              0.4444444444444444,
              "#26828e"
             ],
             [
              0.5555555555555556,
              "#1f9e89"
             ],
             [
              0.6666666666666666,
              "#35b779"
             ],
             [
              0.7777777777777778,
              "#6ece58"
             ],
             [
              0.8888888888888888,
              "#b5de2b"
             ],
             [
              1,
              "#fde725"
             ]
            ],
            "type": "histogram2d"
           }
          ],
          "histogram2dcontour": [
           {
            "colorbar": {
             "outlinewidth": 1,
             "tickcolor": "rgb(36,36,36)",
             "ticks": "outside"
            },
            "colorscale": [
             [
              0,
              "#440154"
             ],
             [
              0.1111111111111111,
              "#482878"
             ],
             [
              0.2222222222222222,
              "#3e4989"
             ],
             [
              0.3333333333333333,
              "#31688e"
             ],
             [
              0.4444444444444444,
              "#26828e"
             ],
             [
              0.5555555555555556,
              "#1f9e89"
             ],
             [
              0.6666666666666666,
              "#35b779"
             ],
             [
              0.7777777777777778,
              "#6ece58"
             ],
             [
              0.8888888888888888,
              "#b5de2b"
             ],
             [
              1,
              "#fde725"
             ]
            ],
            "type": "histogram2dcontour"
           }
          ],
          "mesh3d": [
           {
            "colorbar": {
             "outlinewidth": 1,
             "tickcolor": "rgb(36,36,36)",
             "ticks": "outside"
            },
            "type": "mesh3d"
           }
          ],
          "parcoords": [
           {
            "line": {
             "colorbar": {
              "outlinewidth": 1,
              "tickcolor": "rgb(36,36,36)",
              "ticks": "outside"
             }
            },
            "type": "parcoords"
           }
          ],
          "pie": [
           {
            "automargin": true,
            "type": "pie"
           }
          ],
          "scatter": [
           {
            "fillpattern": {
             "fillmode": "overlay",
             "size": 10,
             "solidity": 0.2
            },
            "type": "scatter"
           }
          ],
          "scatter3d": [
           {
            "line": {
             "colorbar": {
              "outlinewidth": 1,
              "tickcolor": "rgb(36,36,36)",
              "ticks": "outside"
             }
            },
            "marker": {
             "colorbar": {
              "outlinewidth": 1,
              "tickcolor": "rgb(36,36,36)",
              "ticks": "outside"
             }
            },
            "type": "scatter3d"
           }
          ],
          "scattercarpet": [
           {
            "marker": {
             "colorbar": {
              "outlinewidth": 1,
              "tickcolor": "rgb(36,36,36)",
              "ticks": "outside"
             }
            },
            "type": "scattercarpet"
           }
          ],
          "scattergeo": [
           {
            "marker": {
             "colorbar": {
              "outlinewidth": 1,
              "tickcolor": "rgb(36,36,36)",
              "ticks": "outside"
             }
            },
            "type": "scattergeo"
           }
          ],
          "scattergl": [
           {
            "marker": {
             "colorbar": {
              "outlinewidth": 1,
              "tickcolor": "rgb(36,36,36)",
              "ticks": "outside"
             }
            },
            "type": "scattergl"
           }
          ],
          "scattermapbox": [
           {
            "marker": {
             "colorbar": {
              "outlinewidth": 1,
              "tickcolor": "rgb(36,36,36)",
              "ticks": "outside"
             }
            },
            "type": "scattermapbox"
           }
          ],
          "scatterpolar": [
           {
            "marker": {
             "colorbar": {
              "outlinewidth": 1,
              "tickcolor": "rgb(36,36,36)",
              "ticks": "outside"
             }
            },
            "type": "scatterpolar"
           }
          ],
          "scatterpolargl": [
           {
            "marker": {
             "colorbar": {
              "outlinewidth": 1,
              "tickcolor": "rgb(36,36,36)",
              "ticks": "outside"
             }
            },
            "type": "scatterpolargl"
           }
          ],
          "scatterternary": [
           {
            "marker": {
             "colorbar": {
              "outlinewidth": 1,
              "tickcolor": "rgb(36,36,36)",
              "ticks": "outside"
             }
            },
            "type": "scatterternary"
           }
          ],
          "surface": [
           {
            "colorbar": {
             "outlinewidth": 1,
             "tickcolor": "rgb(36,36,36)",
             "ticks": "outside"
            },
            "colorscale": [
             [
              0,
              "#440154"
             ],
             [
              0.1111111111111111,
              "#482878"
             ],
             [
              0.2222222222222222,
              "#3e4989"
             ],
             [
              0.3333333333333333,
              "#31688e"
             ],
             [
              0.4444444444444444,
              "#26828e"
             ],
             [
              0.5555555555555556,
              "#1f9e89"
             ],
             [
              0.6666666666666666,
              "#35b779"
             ],
             [
              0.7777777777777778,
              "#6ece58"
             ],
             [
              0.8888888888888888,
              "#b5de2b"
             ],
             [
              1,
              "#fde725"
             ]
            ],
            "type": "surface"
           }
          ],
          "table": [
           {
            "cells": {
             "fill": {
              "color": "rgb(237,237,237)"
             },
             "line": {
              "color": "white"
             }
            },
            "header": {
             "fill": {
              "color": "rgb(217,217,217)"
             },
             "line": {
              "color": "white"
             }
            },
            "type": "table"
           }
          ]
         },
         "layout": {
          "annotationdefaults": {
           "arrowhead": 0,
           "arrowwidth": 1
          },
          "autotypenumbers": "strict",
          "coloraxis": {
           "colorbar": {
            "outlinewidth": 1,
            "tickcolor": "rgb(36,36,36)",
            "ticks": "outside"
           }
          },
          "colorscale": {
           "diverging": [
            [
             0,
             "rgb(103,0,31)"
            ],
            [
             0.1,
             "rgb(178,24,43)"
            ],
            [
             0.2,
             "rgb(214,96,77)"
            ],
            [
             0.3,
             "rgb(244,165,130)"
            ],
            [
             0.4,
             "rgb(253,219,199)"
            ],
            [
             0.5,
             "rgb(247,247,247)"
            ],
            [
             0.6,
             "rgb(209,229,240)"
            ],
            [
             0.7,
             "rgb(146,197,222)"
            ],
            [
             0.8,
             "rgb(67,147,195)"
            ],
            [
             0.9,
             "rgb(33,102,172)"
            ],
            [
             1,
             "rgb(5,48,97)"
            ]
           ],
           "sequential": [
            [
             0,
             "#440154"
            ],
            [
             0.1111111111111111,
             "#482878"
            ],
            [
             0.2222222222222222,
             "#3e4989"
            ],
            [
             0.3333333333333333,
             "#31688e"
            ],
            [
             0.4444444444444444,
             "#26828e"
            ],
            [
             0.5555555555555556,
             "#1f9e89"
            ],
            [
             0.6666666666666666,
             "#35b779"
            ],
            [
             0.7777777777777778,
             "#6ece58"
            ],
            [
             0.8888888888888888,
             "#b5de2b"
            ],
            [
             1,
             "#fde725"
            ]
           ],
           "sequentialminus": [
            [
             0,
             "#440154"
            ],
            [
             0.1111111111111111,
             "#482878"
            ],
            [
             0.2222222222222222,
             "#3e4989"
            ],
            [
             0.3333333333333333,
             "#31688e"
            ],
            [
             0.4444444444444444,
             "#26828e"
            ],
            [
             0.5555555555555556,
             "#1f9e89"
            ],
            [
             0.6666666666666666,
             "#35b779"
            ],
            [
             0.7777777777777778,
             "#6ece58"
            ],
            [
             0.8888888888888888,
             "#b5de2b"
            ],
            [
             1,
             "#fde725"
            ]
           ]
          },
          "colorway": [
           "#1F77B4",
           "#FF7F0E",
           "#2CA02C",
           "#D62728",
           "#9467BD",
           "#8C564B",
           "#E377C2",
           "#7F7F7F",
           "#BCBD22",
           "#17BECF"
          ],
          "font": {
           "color": "rgb(36,36,36)"
          },
          "geo": {
           "bgcolor": "white",
           "lakecolor": "white",
           "landcolor": "white",
           "showlakes": true,
           "showland": true,
           "subunitcolor": "white"
          },
          "hoverlabel": {
           "align": "left"
          },
          "hovermode": "closest",
          "mapbox": {
           "style": "light"
          },
          "paper_bgcolor": "white",
          "plot_bgcolor": "white",
          "polar": {
           "angularaxis": {
            "gridcolor": "rgb(232,232,232)",
            "linecolor": "rgb(36,36,36)",
            "showgrid": false,
            "showline": true,
            "ticks": "outside"
           },
           "bgcolor": "white",
           "radialaxis": {
            "gridcolor": "rgb(232,232,232)",
            "linecolor": "rgb(36,36,36)",
            "showgrid": false,
            "showline": true,
            "ticks": "outside"
           }
          },
          "scene": {
           "xaxis": {
            "backgroundcolor": "white",
            "gridcolor": "rgb(232,232,232)",
            "gridwidth": 2,
            "linecolor": "rgb(36,36,36)",
            "showbackground": true,
            "showgrid": false,
            "showline": true,
            "ticks": "outside",
            "zeroline": false,
            "zerolinecolor": "rgb(36,36,36)"
           },
           "yaxis": {
            "backgroundcolor": "white",
            "gridcolor": "rgb(232,232,232)",
            "gridwidth": 2,
            "linecolor": "rgb(36,36,36)",
            "showbackground": true,
            "showgrid": false,
            "showline": true,
            "ticks": "outside",
            "zeroline": false,
            "zerolinecolor": "rgb(36,36,36)"
           },
           "zaxis": {
            "backgroundcolor": "white",
            "gridcolor": "rgb(232,232,232)",
            "gridwidth": 2,
            "linecolor": "rgb(36,36,36)",
            "showbackground": true,
            "showgrid": false,
            "showline": true,
            "ticks": "outside",
            "zeroline": false,
            "zerolinecolor": "rgb(36,36,36)"
           }
          },
          "shapedefaults": {
           "fillcolor": "black",
           "line": {
            "width": 0
           },
           "opacity": 0.3
          },
          "ternary": {
           "aaxis": {
            "gridcolor": "rgb(232,232,232)",
            "linecolor": "rgb(36,36,36)",
            "showgrid": false,
            "showline": true,
            "ticks": "outside"
           },
           "baxis": {
            "gridcolor": "rgb(232,232,232)",
            "linecolor": "rgb(36,36,36)",
            "showgrid": false,
            "showline": true,
            "ticks": "outside"
           },
           "bgcolor": "white",
           "caxis": {
            "gridcolor": "rgb(232,232,232)",
            "linecolor": "rgb(36,36,36)",
            "showgrid": false,
            "showline": true,
            "ticks": "outside"
           }
          },
          "title": {
           "x": 0.05
          },
          "xaxis": {
           "automargin": true,
           "gridcolor": "rgb(232,232,232)",
           "linecolor": "rgb(36,36,36)",
           "showgrid": false,
           "showline": true,
           "ticks": "outside",
           "title": {
            "standoff": 15
           },
           "zeroline": false,
           "zerolinecolor": "rgb(36,36,36)"
          },
          "yaxis": {
           "automargin": true,
           "gridcolor": "rgb(232,232,232)",
           "linecolor": "rgb(36,36,36)",
           "showgrid": false,
           "showline": true,
           "ticks": "outside",
           "title": {
            "standoff": 15
           },
           "zeroline": false,
           "zerolinecolor": "rgb(36,36,36)"
          }
         }
        },
        "xaxis": {
         "anchor": "y",
         "domain": [
          0,
          1
         ],
         "title": {
          "text": "value"
         }
        },
        "yaxis": {
         "anchor": "x",
         "domain": [
          0,
          1
         ],
         "title": {
          "text": "count"
         }
        }
       }
      }
     },
     "metadata": {},
     "output_type": "display_data"
    }
   ],
   "source": [
    "mean_std_series.hist()"
   ]
  },
  {
   "cell_type": "code",
   "execution_count": 6,
   "metadata": {},
   "outputs": [],
   "source": [
    "data_usa_raw = pd.read_csv(\"../data/raw/usa/all_apps_wide_2023-11-14_USA.csv\")\n",
    "data_deu_1_raw = pd.read_csv(\"../data/raw/deutsch/all_apps_wide_2023-11-14_DEU.csv\")\n",
    "data_deu_2_raw = pd.read_csv(\n",
    "    \"../data/raw/deutsch runde 2/all_apps_wide_2023-11-15_DEU.csv\"\n",
    ")"
   ]
  },
  {
   "cell_type": "code",
   "execution_count": 7,
   "metadata": {},
   "outputs": [],
   "source": [
    "relevant_columns = [\n",
    "    \"survey.1.player.positive_szenarios\",\n",
    "    \"survey.1.player.treatment_pa\",\n",
    "    \"survey.1.player.PRS1T1\",\n",
    "    \"survey.1.player.PRS1T2\",\n",
    "    \"survey.1.player.PRS2T1\",\n",
    "    \"survey.1.player.PRS2T2\",\n",
    "    \"survey.1.player.PRS3T1\",\n",
    "    \"survey.1.player.PRS3T2\",\n",
    "    \"survey.1.player.PRS4T1\",\n",
    "    \"survey.1.player.PRS4T2\",\n",
    "    \"survey.1.player.FRS1T1\",\n",
    "    \"survey.1.player.FRS1T2\",\n",
    "    \"survey.1.player.FRS2T1\",\n",
    "    \"survey.1.player.FRS2T2\",\n",
    "    \"survey.1.player.FRS3T1\",\n",
    "    \"survey.1.player.FRS3T2\",\n",
    "    \"survey.1.player.FRS4T1\",\n",
    "    \"survey.1.player.FRS4T2\",\n",
    "    \"survey.1.player.ARS1T1\",\n",
    "    \"survey.1.player.ARS1T2\",\n",
    "    \"survey.1.player.ARS2T1\",\n",
    "    \"survey.1.player.ARS2T2\",\n",
    "    \"survey.1.player.ARS3T1\",\n",
    "    \"survey.1.player.ARS3T2\",\n",
    "    \"survey.1.player.ARS4T1\",\n",
    "    \"survey.1.player.ARS4T2\",\n",
    "    \"survey.1.player.ETHS1T1\",\n",
    "    \"survey.1.player.ETHS1T2\",\n",
    "    \"survey.1.player.ETHS2T1\",\n",
    "    \"survey.1.player.ETHS2T2\",\n",
    "    \"survey.1.player.ETHS3T1\",\n",
    "    \"survey.1.player.ETHS3T2\",\n",
    "    \"survey.1.player.ETHS4T1\",\n",
    "    \"survey.1.player.ETHS4T2\",\n",
    "    \"survey.1.player.PROS1T1\",\n",
    "    \"survey.1.player.PROS1T2\",\n",
    "    \"survey.1.player.PROS2T1\",\n",
    "    \"survey.1.player.PROS2T2\",\n",
    "    \"survey.1.player.PROS3T1\",\n",
    "    \"survey.1.player.PROS3T2\",\n",
    "    \"survey.1.player.PROS4T1\",\n",
    "    \"survey.1.player.PROS4T2\",\n",
    "    \"origin\"\n",
    "]"
   ]
  },
  {
   "cell_type": "code",
   "execution_count": 8,
   "metadata": {},
   "outputs": [],
   "source": [
    "data_all = (\n",
    "    pd.concat(\n",
    "        [\n",
    "            data_usa_raw.assign(origin=\"USA\"),\n",
    "            data_deu_1_raw.assign(origin=\"DEU\"),\n",
    "            data_deu_2_raw.assign(origin=\"DEU\"),\n",
    "        ],\n",
    "        axis=0,\n",
    "    )\n",
    "    .loc[lambda df_: df_[\"participant._current_page_name\"] == \"End\"]\n",
    "    .loc[:, relevant_columns]\n",
    "    .rename(\n",
    "        columns=dict(\n",
    "            zip(\n",
    "                relevant_columns,\n",
    "                [x.replace(\"survey.1.player.\", \"\") for x in relevant_columns],\n",
    "            )\n",
    "        )\n",
    "    )\n",
    ")\n",
    "\n",
    "data_usa = data_all.loc[data_all.origin == \"USA\"]\n",
    "data_deu = data_all.loc[data_all.origin == \"DEU\"]"
   ]
  },
  {
   "cell_type": "markdown",
   "metadata": {},
   "source": [
    "Scale explanation:\n",
    "- FRS1T1 -->  feel responsible senario 1, team lead 1 (familiar solution)\n",
    "- ARS1T1 -->  act responsible senario 1, team lead 1 (familiar solution)\n",
    "- FRS1T2 -->  feel responsible senario 1, team lead 2 (new solution)\n",
    "- ARS1T2 -->  act responsible senario 1, team lead 2 (new solution)"
   ]
  },
  {
   "cell_type": "code",
   "execution_count": 9,
   "metadata": {},
   "outputs": [],
   "source": [
    "scenario_dict_outcome = {\n",
    "    \"1\": {\"positive\": \"1_and_4\", \"negative\": \"2_and_3\"},\n",
    "    \"2\": {\"positive\": \"2_and_3\", \"negative\": \"1_and_4\"},\n",
    "    \"3\": {\"positive\": \"2_and_3\", \"negative\": \"1_and_4\"},\n",
    "    \"4\": {\"positive\": \"1_and_4\", \"negative\": \"2_and_3\"},\n",
    "}\n",
    "\n",
    "scenario_dict_pa = {\n",
    "    \"1\": {\"yes\": \"1_and_4\", \"no\": \"2_and_3\"},\n",
    "    \"2\": {\"yes\": \"2_and_3\", \"no\": \"1_and_4\"},\n",
    "    \"3\": {\"yes\": \"2_and_3\", \"no\": \"1_and_4\"},\n",
    "    \"4\": {\"yes\": \"1_and_4\", \"no\": \"2_and_3\"},\n",
    "}\n",
    "\n",
    "\n",
    "def get_mean_scales(data, responsibility_scale, scenario_nr, solution_type, outcome, pa):\n",
    "    scale_string = \"\"\n",
    "    if responsibility_scale == \"feel\":\n",
    "        scale_string += \"FR\"\n",
    "    else:\n",
    "        scale_string += \"AR\"\n",
    "\n",
    "    scale_string += f\"S{scenario_nr}\"\n",
    "\n",
    "    if solution_type == \"familiar\":\n",
    "        scale_string += \"T1\"\n",
    "    else:\n",
    "        scale_string += \"T2\"\n",
    "\n",
    "    outcome_filter = scenario_dict_outcome[str(scenario_nr)][outcome]\n",
    "    pa_filter = scenario_dict_pa[str(scenario_nr)][pa]\n",
    "\n",
    "    return data.loc[\n",
    "        (data.positive_szenarios == outcome_filter)\n",
    "        & (data.treatment_pa == pa_filter),\n",
    "        scale_string,\n",
    "    ].mean()"
   ]
  },
  {
   "cell_type": "code",
   "execution_count": 10,
   "metadata": {},
   "outputs": [],
   "source": [
    "x_axis_values_list = [\n",
    "    [\"Familiar solution\", \"New solution\"],\n",
    "    [\"Follow advise\", \"Not follow advise\"],\n",
    "    [\"Hold on\", \"Change decision\"],\n",
    "    [\"Wait and see\", \"Take action\"],\n",
    "]\n",
    "\n",
    "d3_colors = px.colors.qualitative.D3\n",
    "colors_dict = {\n",
    "    \"feel responsible + positive outcome + PA yes\": d3_colors[0],\n",
    "    \"feel responsible + positive outcome + PA no\": d3_colors[1],\n",
    "    \"feel responsible + negative outcome + PA yes\": d3_colors[2],\n",
    "    \"feel responsible + negative outcome + PA no\": d3_colors[3],\n",
    "    \"act responsible + positive outcome + PA yes\": d3_colors[4],\n",
    "    \"act responsible + positive outcome + PA no\": d3_colors[5],\n",
    "    \"act responsible + negative outcome + PA yes\": d3_colors[6],\n",
    "    \"act responsible + negative outcome + PA no\": d3_colors[7],\n",
    "}\n",
    "\n",
    "\n",
    "def create_line_subplot(data, output_file_name, show_fig, fig_title):\n",
    "    fig = make_subplots(rows=2, cols=2)\n",
    "\n",
    "    for scenario, x_axis_values in zip(range(1, 5), x_axis_values_list):\n",
    "        for responsibility_scale in [\"feel\", \"act\"]:\n",
    "            for outcome in [\"positive\", \"negative\"]:\n",
    "                for pa_available in [\"yes\", \"no\"]:\n",
    "                    fig.add_trace(\n",
    "                        go.Scatter(\n",
    "                            x=x_axis_values,\n",
    "                            y=[\n",
    "                                get_mean_scales(\n",
    "                                    data=data,\n",
    "                                    responsibility_scale=responsibility_scale,\n",
    "                                    scenario_nr=scenario,\n",
    "                                    solution_type=\"familiar\",\n",
    "                                    outcome=outcome,\n",
    "                                    pa=pa_available,\n",
    "                                ),\n",
    "                                get_mean_scales(\n",
    "                                    data=data,\n",
    "                                    responsibility_scale=responsibility_scale,\n",
    "                                    scenario_nr=scenario,\n",
    "                                    solution_type=\"new\",\n",
    "                                    outcome=outcome,\n",
    "                                    pa=pa_available,\n",
    "                                ),\n",
    "                            ],\n",
    "                            mode=\"lines+markers\",\n",
    "                            name=f\"{responsibility_scale} responsible + {outcome} outcome + PA {pa_available}\",\n",
    "                            legendgroup=f\"{responsibility_scale} responsible + {outcome} outcome + PA {pa_available}\",\n",
    "                            marker_color=colors_dict[\n",
    "                                f\"{responsibility_scale} responsible + {outcome} outcome + PA {pa_available}\"\n",
    "                            ],\n",
    "                            showlegend=True if scenario == 1 else False,\n",
    "                        ),\n",
    "                        row=1 if scenario in [1, 2] else 2,\n",
    "                        col=1 if scenario in [1, 3] else 2,\n",
    "                    )\n",
    "    fig.update_yaxes(range=[1, 7], dtick=1)\n",
    "    fig.update_layout(width=900 + 200, height=600 + 200, title=fig_title)\n",
    "    fig.write_html(f\"{output_file_name}.html\")\n",
    "    if show_fig:\n",
    "        fig.show()"
   ]
  },
  {
   "cell_type": "code",
   "execution_count": 11,
   "metadata": {},
   "outputs": [
    {
     "data": {
      "application/vnd.plotly.v1+json": {
       "config": {
        "plotlyServerURL": "https://plot.ly"
       },
       "data": [
        {
         "legendgroup": "feel responsible + positive outcome + PA yes",
         "marker": {
          "color": "#1F77B4"
         },
         "mode": "lines+markers",
         "name": "feel responsible + positive outcome + PA yes",
         "showlegend": true,
         "type": "scatter",
         "x": [
          "Familiar solution",
          "New solution"
         ],
         "xaxis": "x",
         "y": [
          4.9361702127659575,
          6.25531914893617
         ],
         "yaxis": "y"
        },
        {
         "legendgroup": "feel responsible + positive outcome + PA no",
         "marker": {
          "color": "#FF7F0E"
         },
         "mode": "lines+markers",
         "name": "feel responsible + positive outcome + PA no",
         "showlegend": true,
         "type": "scatter",
         "x": [
          "Familiar solution",
          "New solution"
         ],
         "xaxis": "x",
         "y": [
          5.177777777777778,
          6.2
         ],
         "yaxis": "y"
        },
        {
         "legendgroup": "feel responsible + negative outcome + PA yes",
         "marker": {
          "color": "#2CA02C"
         },
         "mode": "lines+markers",
         "name": "feel responsible + negative outcome + PA yes",
         "showlegend": true,
         "type": "scatter",
         "x": [
          "Familiar solution",
          "New solution"
         ],
         "xaxis": "x",
         "y": [
          4.394736842105263,
          6.052631578947368
         ],
         "yaxis": "y"
        },
        {
         "legendgroup": "feel responsible + negative outcome + PA no",
         "marker": {
          "color": "#D62728"
         },
         "mode": "lines+markers",
         "name": "feel responsible + negative outcome + PA no",
         "showlegend": true,
         "type": "scatter",
         "x": [
          "Familiar solution",
          "New solution"
         ],
         "xaxis": "x",
         "y": [
          4.475,
          5.8
         ],
         "yaxis": "y"
        },
        {
         "legendgroup": "act responsible + positive outcome + PA yes",
         "marker": {
          "color": "#9467BD"
         },
         "mode": "lines+markers",
         "name": "act responsible + positive outcome + PA yes",
         "showlegend": true,
         "type": "scatter",
         "x": [
          "Familiar solution",
          "New solution"
         ],
         "xaxis": "x",
         "y": [
          6.085106382978723,
          5.148936170212766
         ],
         "yaxis": "y"
        },
        {
         "legendgroup": "act responsible + positive outcome + PA no",
         "marker": {
          "color": "#8C564B"
         },
         "mode": "lines+markers",
         "name": "act responsible + positive outcome + PA no",
         "showlegend": true,
         "type": "scatter",
         "x": [
          "Familiar solution",
          "New solution"
         ],
         "xaxis": "x",
         "y": [
          5.711111111111111,
          5.288888888888889
         ],
         "yaxis": "y"
        },
        {
         "legendgroup": "act responsible + negative outcome + PA yes",
         "marker": {
          "color": "#E377C2"
         },
         "mode": "lines+markers",
         "name": "act responsible + negative outcome + PA yes",
         "showlegend": true,
         "type": "scatter",
         "x": [
          "Familiar solution",
          "New solution"
         ],
         "xaxis": "x",
         "y": [
          5.368421052631579,
          4.7631578947368425
         ],
         "yaxis": "y"
        },
        {
         "legendgroup": "act responsible + negative outcome + PA no",
         "marker": {
          "color": "#7F7F7F"
         },
         "mode": "lines+markers",
         "name": "act responsible + negative outcome + PA no",
         "showlegend": true,
         "type": "scatter",
         "x": [
          "Familiar solution",
          "New solution"
         ],
         "xaxis": "x",
         "y": [
          5.55,
          4.775
         ],
         "yaxis": "y"
        },
        {
         "legendgroup": "feel responsible + positive outcome + PA yes",
         "marker": {
          "color": "#1F77B4"
         },
         "mode": "lines+markers",
         "name": "feel responsible + positive outcome + PA yes",
         "showlegend": false,
         "type": "scatter",
         "x": [
          "Follow advise",
          "Not follow advise"
         ],
         "xaxis": "x2",
         "y": [
          4.475,
          6.45
         ],
         "yaxis": "y2"
        },
        {
         "legendgroup": "feel responsible + positive outcome + PA no",
         "marker": {
          "color": "#FF7F0E"
         },
         "mode": "lines+markers",
         "name": "feel responsible + positive outcome + PA no",
         "showlegend": false,
         "type": "scatter",
         "x": [
          "Follow advise",
          "Not follow advise"
         ],
         "xaxis": "x2",
         "y": [
          4.657894736842105,
          6.2105263157894735
         ],
         "yaxis": "y2"
        },
        {
         "legendgroup": "feel responsible + negative outcome + PA yes",
         "marker": {
          "color": "#2CA02C"
         },
         "mode": "lines+markers",
         "name": "feel responsible + negative outcome + PA yes",
         "showlegend": false,
         "type": "scatter",
         "x": [
          "Follow advise",
          "Not follow advise"
         ],
         "xaxis": "x2",
         "y": [
          3.2888888888888888,
          5.644444444444445
         ],
         "yaxis": "y2"
        },
        {
         "legendgroup": "feel responsible + negative outcome + PA no",
         "marker": {
          "color": "#D62728"
         },
         "mode": "lines+markers",
         "name": "feel responsible + negative outcome + PA no",
         "showlegend": false,
         "type": "scatter",
         "x": [
          "Follow advise",
          "Not follow advise"
         ],
         "xaxis": "x2",
         "y": [
          3.021276595744681,
          6.212765957446808
         ],
         "yaxis": "y2"
        },
        {
         "legendgroup": "act responsible + positive outcome + PA yes",
         "marker": {
          "color": "#9467BD"
         },
         "mode": "lines+markers",
         "name": "act responsible + positive outcome + PA yes",
         "showlegend": false,
         "type": "scatter",
         "x": [
          "Follow advise",
          "Not follow advise"
         ],
         "xaxis": "x2",
         "y": [
          5.95,
          4.55
         ],
         "yaxis": "y2"
        },
        {
         "legendgroup": "act responsible + positive outcome + PA no",
         "marker": {
          "color": "#8C564B"
         },
         "mode": "lines+markers",
         "name": "act responsible + positive outcome + PA no",
         "showlegend": false,
         "type": "scatter",
         "x": [
          "Follow advise",
          "Not follow advise"
         ],
         "xaxis": "x2",
         "y": [
          5.921052631578948,
          4.342105263157895
         ],
         "yaxis": "y2"
        },
        {
         "legendgroup": "act responsible + negative outcome + PA yes",
         "marker": {
          "color": "#E377C2"
         },
         "mode": "lines+markers",
         "name": "act responsible + negative outcome + PA yes",
         "showlegend": false,
         "type": "scatter",
         "x": [
          "Follow advise",
          "Not follow advise"
         ],
         "xaxis": "x2",
         "y": [
          5.2,
          3.6666666666666665
         ],
         "yaxis": "y2"
        },
        {
         "legendgroup": "act responsible + negative outcome + PA no",
         "marker": {
          "color": "#7F7F7F"
         },
         "mode": "lines+markers",
         "name": "act responsible + negative outcome + PA no",
         "showlegend": false,
         "type": "scatter",
         "x": [
          "Follow advise",
          "Not follow advise"
         ],
         "xaxis": "x2",
         "y": [
          4.9787234042553195,
          3.382978723404255
         ],
         "yaxis": "y2"
        },
        {
         "legendgroup": "feel responsible + positive outcome + PA yes",
         "marker": {
          "color": "#1F77B4"
         },
         "mode": "lines+markers",
         "name": "feel responsible + positive outcome + PA yes",
         "showlegend": false,
         "type": "scatter",
         "x": [
          "Hold on",
          "Change decision"
         ],
         "xaxis": "x3",
         "y": [
          6.075,
          6.225
         ],
         "yaxis": "y3"
        },
        {
         "legendgroup": "feel responsible + positive outcome + PA no",
         "marker": {
          "color": "#FF7F0E"
         },
         "mode": "lines+markers",
         "name": "feel responsible + positive outcome + PA no",
         "showlegend": false,
         "type": "scatter",
         "x": [
          "Hold on",
          "Change decision"
         ],
         "xaxis": "x3",
         "y": [
          5.394736842105263,
          6.2368421052631575
         ],
         "yaxis": "y3"
        },
        {
         "legendgroup": "feel responsible + negative outcome + PA yes",
         "marker": {
          "color": "#2CA02C"
         },
         "mode": "lines+markers",
         "name": "feel responsible + negative outcome + PA yes",
         "showlegend": false,
         "type": "scatter",
         "x": [
          "Hold on",
          "Change decision"
         ],
         "xaxis": "x3",
         "y": [
          4.466666666666667,
          5.866666666666666
         ],
         "yaxis": "y3"
        },
        {
         "legendgroup": "feel responsible + negative outcome + PA no",
         "marker": {
          "color": "#D62728"
         },
         "mode": "lines+markers",
         "name": "feel responsible + negative outcome + PA no",
         "showlegend": false,
         "type": "scatter",
         "x": [
          "Hold on",
          "Change decision"
         ],
         "xaxis": "x3",
         "y": [
          5.042553191489362,
          5.8936170212765955
         ],
         "yaxis": "y3"
        },
        {
         "legendgroup": "act responsible + positive outcome + PA yes",
         "marker": {
          "color": "#9467BD"
         },
         "mode": "lines+markers",
         "name": "act responsible + positive outcome + PA yes",
         "showlegend": false,
         "type": "scatter",
         "x": [
          "Hold on",
          "Change decision"
         ],
         "xaxis": "x3",
         "y": [
          5.75,
          5.175
         ],
         "yaxis": "y3"
        },
        {
         "legendgroup": "act responsible + positive outcome + PA no",
         "marker": {
          "color": "#8C564B"
         },
         "mode": "lines+markers",
         "name": "act responsible + positive outcome + PA no",
         "showlegend": false,
         "type": "scatter",
         "x": [
          "Hold on",
          "Change decision"
         ],
         "xaxis": "x3",
         "y": [
          5.7105263157894735,
          5.026315789473684
         ],
         "yaxis": "y3"
        },
        {
         "legendgroup": "act responsible + negative outcome + PA yes",
         "marker": {
          "color": "#E377C2"
         },
         "mode": "lines+markers",
         "name": "act responsible + negative outcome + PA yes",
         "showlegend": false,
         "type": "scatter",
         "x": [
          "Hold on",
          "Change decision"
         ],
         "xaxis": "x3",
         "y": [
          5.222222222222222,
          4.511111111111111
         ],
         "yaxis": "y3"
        },
        {
         "legendgroup": "act responsible + negative outcome + PA no",
         "marker": {
          "color": "#7F7F7F"
         },
         "mode": "lines+markers",
         "name": "act responsible + negative outcome + PA no",
         "showlegend": false,
         "type": "scatter",
         "x": [
          "Hold on",
          "Change decision"
         ],
         "xaxis": "x3",
         "y": [
          5.085106382978723,
          4.808510638297872
         ],
         "yaxis": "y3"
        },
        {
         "legendgroup": "feel responsible + positive outcome + PA yes",
         "marker": {
          "color": "#1F77B4"
         },
         "mode": "lines+markers",
         "name": "feel responsible + positive outcome + PA yes",
         "showlegend": false,
         "type": "scatter",
         "x": [
          "Wait and see",
          "Take action"
         ],
         "xaxis": "x4",
         "y": [
          5,
          5.723404255319149
         ],
         "yaxis": "y4"
        },
        {
         "legendgroup": "feel responsible + positive outcome + PA no",
         "marker": {
          "color": "#FF7F0E"
         },
         "mode": "lines+markers",
         "name": "feel responsible + positive outcome + PA no",
         "showlegend": false,
         "type": "scatter",
         "x": [
          "Wait and see",
          "Take action"
         ],
         "xaxis": "x4",
         "y": [
          5.6,
          5.6
         ],
         "yaxis": "y4"
        },
        {
         "legendgroup": "feel responsible + negative outcome + PA yes",
         "marker": {
          "color": "#2CA02C"
         },
         "mode": "lines+markers",
         "name": "feel responsible + negative outcome + PA yes",
         "showlegend": false,
         "type": "scatter",
         "x": [
          "Wait and see",
          "Take action"
         ],
         "xaxis": "x4",
         "y": [
          5.5,
          5.078947368421052
         ],
         "yaxis": "y4"
        },
        {
         "legendgroup": "feel responsible + negative outcome + PA no",
         "marker": {
          "color": "#D62728"
         },
         "mode": "lines+markers",
         "name": "feel responsible + negative outcome + PA no",
         "showlegend": false,
         "type": "scatter",
         "x": [
          "Wait and see",
          "Take action"
         ],
         "xaxis": "x4",
         "y": [
          5.4,
          5.725
         ],
         "yaxis": "y4"
        },
        {
         "legendgroup": "act responsible + positive outcome + PA yes",
         "marker": {
          "color": "#9467BD"
         },
         "mode": "lines+markers",
         "name": "act responsible + positive outcome + PA yes",
         "showlegend": false,
         "type": "scatter",
         "x": [
          "Wait and see",
          "Take action"
         ],
         "xaxis": "x4",
         "y": [
          4.48936170212766,
          5.191489361702128
         ],
         "yaxis": "y4"
        },
        {
         "legendgroup": "act responsible + positive outcome + PA no",
         "marker": {
          "color": "#8C564B"
         },
         "mode": "lines+markers",
         "name": "act responsible + positive outcome + PA no",
         "showlegend": false,
         "type": "scatter",
         "x": [
          "Wait and see",
          "Take action"
         ],
         "xaxis": "x4",
         "y": [
          4.377777777777778,
          4.866666666666666
         ],
         "yaxis": "y4"
        },
        {
         "legendgroup": "act responsible + negative outcome + PA yes",
         "marker": {
          "color": "#E377C2"
         },
         "mode": "lines+markers",
         "name": "act responsible + negative outcome + PA yes",
         "showlegend": false,
         "type": "scatter",
         "x": [
          "Wait and see",
          "Take action"
         ],
         "xaxis": "x4",
         "y": [
          4,
          4.7894736842105265
         ],
         "yaxis": "y4"
        },
        {
         "legendgroup": "act responsible + negative outcome + PA no",
         "marker": {
          "color": "#7F7F7F"
         },
         "mode": "lines+markers",
         "name": "act responsible + negative outcome + PA no",
         "showlegend": false,
         "type": "scatter",
         "x": [
          "Wait and see",
          "Take action"
         ],
         "xaxis": "x4",
         "y": [
          4.1,
          4.775
         ],
         "yaxis": "y4"
        }
       ],
       "layout": {
        "height": 800,
        "template": {
         "data": {
          "bar": [
           {
            "error_x": {
             "color": "rgb(36,36,36)"
            },
            "error_y": {
             "color": "rgb(36,36,36)"
            },
            "marker": {
             "line": {
              "color": "white",
              "width": 0.5
             },
             "pattern": {
              "fillmode": "overlay",
              "size": 10,
              "solidity": 0.2
             }
            },
            "type": "bar"
           }
          ],
          "barpolar": [
           {
            "marker": {
             "line": {
              "color": "white",
              "width": 0.5
             },
             "pattern": {
              "fillmode": "overlay",
              "size": 10,
              "solidity": 0.2
             }
            },
            "type": "barpolar"
           }
          ],
          "carpet": [
           {
            "aaxis": {
             "endlinecolor": "rgb(36,36,36)",
             "gridcolor": "white",
             "linecolor": "white",
             "minorgridcolor": "white",
             "startlinecolor": "rgb(36,36,36)"
            },
            "baxis": {
             "endlinecolor": "rgb(36,36,36)",
             "gridcolor": "white",
             "linecolor": "white",
             "minorgridcolor": "white",
             "startlinecolor": "rgb(36,36,36)"
            },
            "type": "carpet"
           }
          ],
          "choropleth": [
           {
            "colorbar": {
             "outlinewidth": 1,
             "tickcolor": "rgb(36,36,36)",
             "ticks": "outside"
            },
            "type": "choropleth"
           }
          ],
          "contour": [
           {
            "colorbar": {
             "outlinewidth": 1,
             "tickcolor": "rgb(36,36,36)",
             "ticks": "outside"
            },
            "colorscale": [
             [
              0,
              "#440154"
             ],
             [
              0.1111111111111111,
              "#482878"
             ],
             [
              0.2222222222222222,
              "#3e4989"
             ],
             [
              0.3333333333333333,
              "#31688e"
             ],
             [
              0.4444444444444444,
              "#26828e"
             ],
             [
              0.5555555555555556,
              "#1f9e89"
             ],
             [
              0.6666666666666666,
              "#35b779"
             ],
             [
              0.7777777777777778,
              "#6ece58"
             ],
             [
              0.8888888888888888,
              "#b5de2b"
             ],
             [
              1,
              "#fde725"
             ]
            ],
            "type": "contour"
           }
          ],
          "contourcarpet": [
           {
            "colorbar": {
             "outlinewidth": 1,
             "tickcolor": "rgb(36,36,36)",
             "ticks": "outside"
            },
            "type": "contourcarpet"
           }
          ],
          "heatmap": [
           {
            "colorbar": {
             "outlinewidth": 1,
             "tickcolor": "rgb(36,36,36)",
             "ticks": "outside"
            },
            "colorscale": [
             [
              0,
              "#440154"
             ],
             [
              0.1111111111111111,
              "#482878"
             ],
             [
              0.2222222222222222,
              "#3e4989"
             ],
             [
              0.3333333333333333,
              "#31688e"
             ],
             [
              0.4444444444444444,
              "#26828e"
             ],
             [
              0.5555555555555556,
              "#1f9e89"
             ],
             [
              0.6666666666666666,
              "#35b779"
             ],
             [
              0.7777777777777778,
              "#6ece58"
             ],
             [
              0.8888888888888888,
              "#b5de2b"
             ],
             [
              1,
              "#fde725"
             ]
            ],
            "type": "heatmap"
           }
          ],
          "heatmapgl": [
           {
            "colorbar": {
             "outlinewidth": 1,
             "tickcolor": "rgb(36,36,36)",
             "ticks": "outside"
            },
            "colorscale": [
             [
              0,
              "#440154"
             ],
             [
              0.1111111111111111,
              "#482878"
             ],
             [
              0.2222222222222222,
              "#3e4989"
             ],
             [
              0.3333333333333333,
              "#31688e"
             ],
             [
              0.4444444444444444,
              "#26828e"
             ],
             [
              0.5555555555555556,
              "#1f9e89"
             ],
             [
              0.6666666666666666,
              "#35b779"
             ],
             [
              0.7777777777777778,
              "#6ece58"
             ],
             [
              0.8888888888888888,
              "#b5de2b"
             ],
             [
              1,
              "#fde725"
             ]
            ],
            "type": "heatmapgl"
           }
          ],
          "histogram": [
           {
            "marker": {
             "line": {
              "color": "white",
              "width": 0.6
             }
            },
            "type": "histogram"
           }
          ],
          "histogram2d": [
           {
            "colorbar": {
             "outlinewidth": 1,
             "tickcolor": "rgb(36,36,36)",
             "ticks": "outside"
            },
            "colorscale": [
             [
              0,
              "#440154"
             ],
             [
              0.1111111111111111,
              "#482878"
             ],
             [
              0.2222222222222222,
              "#3e4989"
             ],
             [
              0.3333333333333333,
              "#31688e"
             ],
             [
              0.4444444444444444,
              "#26828e"
             ],
             [
              0.5555555555555556,
              "#1f9e89"
             ],
             [
              0.6666666666666666,
              "#35b779"
             ],
             [
              0.7777777777777778,
              "#6ece58"
             ],
             [
              0.8888888888888888,
              "#b5de2b"
             ],
             [
              1,
              "#fde725"
             ]
            ],
            "type": "histogram2d"
           }
          ],
          "histogram2dcontour": [
           {
            "colorbar": {
             "outlinewidth": 1,
             "tickcolor": "rgb(36,36,36)",
             "ticks": "outside"
            },
            "colorscale": [
             [
              0,
              "#440154"
             ],
             [
              0.1111111111111111,
              "#482878"
             ],
             [
              0.2222222222222222,
              "#3e4989"
             ],
             [
              0.3333333333333333,
              "#31688e"
             ],
             [
              0.4444444444444444,
              "#26828e"
             ],
             [
              0.5555555555555556,
              "#1f9e89"
             ],
             [
              0.6666666666666666,
              "#35b779"
             ],
             [
              0.7777777777777778,
              "#6ece58"
             ],
             [
              0.8888888888888888,
              "#b5de2b"
             ],
             [
              1,
              "#fde725"
             ]
            ],
            "type": "histogram2dcontour"
           }
          ],
          "mesh3d": [
           {
            "colorbar": {
             "outlinewidth": 1,
             "tickcolor": "rgb(36,36,36)",
             "ticks": "outside"
            },
            "type": "mesh3d"
           }
          ],
          "parcoords": [
           {
            "line": {
             "colorbar": {
              "outlinewidth": 1,
              "tickcolor": "rgb(36,36,36)",
              "ticks": "outside"
             }
            },
            "type": "parcoords"
           }
          ],
          "pie": [
           {
            "automargin": true,
            "type": "pie"
           }
          ],
          "scatter": [
           {
            "fillpattern": {
             "fillmode": "overlay",
             "size": 10,
             "solidity": 0.2
            },
            "type": "scatter"
           }
          ],
          "scatter3d": [
           {
            "line": {
             "colorbar": {
              "outlinewidth": 1,
              "tickcolor": "rgb(36,36,36)",
              "ticks": "outside"
             }
            },
            "marker": {
             "colorbar": {
              "outlinewidth": 1,
              "tickcolor": "rgb(36,36,36)",
              "ticks": "outside"
             }
            },
            "type": "scatter3d"
           }
          ],
          "scattercarpet": [
           {
            "marker": {
             "colorbar": {
              "outlinewidth": 1,
              "tickcolor": "rgb(36,36,36)",
              "ticks": "outside"
             }
            },
            "type": "scattercarpet"
           }
          ],
          "scattergeo": [
           {
            "marker": {
             "colorbar": {
              "outlinewidth": 1,
              "tickcolor": "rgb(36,36,36)",
              "ticks": "outside"
             }
            },
            "type": "scattergeo"
           }
          ],
          "scattergl": [
           {
            "marker": {
             "colorbar": {
              "outlinewidth": 1,
              "tickcolor": "rgb(36,36,36)",
              "ticks": "outside"
             }
            },
            "type": "scattergl"
           }
          ],
          "scattermapbox": [
           {
            "marker": {
             "colorbar": {
              "outlinewidth": 1,
              "tickcolor": "rgb(36,36,36)",
              "ticks": "outside"
             }
            },
            "type": "scattermapbox"
           }
          ],
          "scatterpolar": [
           {
            "marker": {
             "colorbar": {
              "outlinewidth": 1,
              "tickcolor": "rgb(36,36,36)",
              "ticks": "outside"
             }
            },
            "type": "scatterpolar"
           }
          ],
          "scatterpolargl": [
           {
            "marker": {
             "colorbar": {
              "outlinewidth": 1,
              "tickcolor": "rgb(36,36,36)",
              "ticks": "outside"
             }
            },
            "type": "scatterpolargl"
           }
          ],
          "scatterternary": [
           {
            "marker": {
             "colorbar": {
              "outlinewidth": 1,
              "tickcolor": "rgb(36,36,36)",
              "ticks": "outside"
             }
            },
            "type": "scatterternary"
           }
          ],
          "surface": [
           {
            "colorbar": {
             "outlinewidth": 1,
             "tickcolor": "rgb(36,36,36)",
             "ticks": "outside"
            },
            "colorscale": [
             [
              0,
              "#440154"
             ],
             [
              0.1111111111111111,
              "#482878"
             ],
             [
              0.2222222222222222,
              "#3e4989"
             ],
             [
              0.3333333333333333,
              "#31688e"
             ],
             [
              0.4444444444444444,
              "#26828e"
             ],
             [
              0.5555555555555556,
              "#1f9e89"
             ],
             [
              0.6666666666666666,
              "#35b779"
             ],
             [
              0.7777777777777778,
              "#6ece58"
             ],
             [
              0.8888888888888888,
              "#b5de2b"
             ],
             [
              1,
              "#fde725"
             ]
            ],
            "type": "surface"
           }
          ],
          "table": [
           {
            "cells": {
             "fill": {
              "color": "rgb(237,237,237)"
             },
             "line": {
              "color": "white"
             }
            },
            "header": {
             "fill": {
              "color": "rgb(217,217,217)"
             },
             "line": {
              "color": "white"
             }
            },
            "type": "table"
           }
          ]
         },
         "layout": {
          "annotationdefaults": {
           "arrowhead": 0,
           "arrowwidth": 1
          },
          "autotypenumbers": "strict",
          "coloraxis": {
           "colorbar": {
            "outlinewidth": 1,
            "tickcolor": "rgb(36,36,36)",
            "ticks": "outside"
           }
          },
          "colorscale": {
           "diverging": [
            [
             0,
             "rgb(103,0,31)"
            ],
            [
             0.1,
             "rgb(178,24,43)"
            ],
            [
             0.2,
             "rgb(214,96,77)"
            ],
            [
             0.3,
             "rgb(244,165,130)"
            ],
            [
             0.4,
             "rgb(253,219,199)"
            ],
            [
             0.5,
             "rgb(247,247,247)"
            ],
            [
             0.6,
             "rgb(209,229,240)"
            ],
            [
             0.7,
             "rgb(146,197,222)"
            ],
            [
             0.8,
             "rgb(67,147,195)"
            ],
            [
             0.9,
             "rgb(33,102,172)"
            ],
            [
             1,
             "rgb(5,48,97)"
            ]
           ],
           "sequential": [
            [
             0,
             "#440154"
            ],
            [
             0.1111111111111111,
             "#482878"
            ],
            [
             0.2222222222222222,
             "#3e4989"
            ],
            [
             0.3333333333333333,
             "#31688e"
            ],
            [
             0.4444444444444444,
             "#26828e"
            ],
            [
             0.5555555555555556,
             "#1f9e89"
            ],
            [
             0.6666666666666666,
             "#35b779"
            ],
            [
             0.7777777777777778,
             "#6ece58"
            ],
            [
             0.8888888888888888,
             "#b5de2b"
            ],
            [
             1,
             "#fde725"
            ]
           ],
           "sequentialminus": [
            [
             0,
             "#440154"
            ],
            [
             0.1111111111111111,
             "#482878"
            ],
            [
             0.2222222222222222,
             "#3e4989"
            ],
            [
             0.3333333333333333,
             "#31688e"
            ],
            [
             0.4444444444444444,
             "#26828e"
            ],
            [
             0.5555555555555556,
             "#1f9e89"
            ],
            [
             0.6666666666666666,
             "#35b779"
            ],
            [
             0.7777777777777778,
             "#6ece58"
            ],
            [
             0.8888888888888888,
             "#b5de2b"
            ],
            [
             1,
             "#fde725"
            ]
           ]
          },
          "colorway": [
           "#1F77B4",
           "#FF7F0E",
           "#2CA02C",
           "#D62728",
           "#9467BD",
           "#8C564B",
           "#E377C2",
           "#7F7F7F",
           "#BCBD22",
           "#17BECF"
          ],
          "font": {
           "color": "rgb(36,36,36)"
          },
          "geo": {
           "bgcolor": "white",
           "lakecolor": "white",
           "landcolor": "white",
           "showlakes": true,
           "showland": true,
           "subunitcolor": "white"
          },
          "hoverlabel": {
           "align": "left"
          },
          "hovermode": "closest",
          "mapbox": {
           "style": "light"
          },
          "paper_bgcolor": "white",
          "plot_bgcolor": "white",
          "polar": {
           "angularaxis": {
            "gridcolor": "rgb(232,232,232)",
            "linecolor": "rgb(36,36,36)",
            "showgrid": false,
            "showline": true,
            "ticks": "outside"
           },
           "bgcolor": "white",
           "radialaxis": {
            "gridcolor": "rgb(232,232,232)",
            "linecolor": "rgb(36,36,36)",
            "showgrid": false,
            "showline": true,
            "ticks": "outside"
           }
          },
          "scene": {
           "xaxis": {
            "backgroundcolor": "white",
            "gridcolor": "rgb(232,232,232)",
            "gridwidth": 2,
            "linecolor": "rgb(36,36,36)",
            "showbackground": true,
            "showgrid": false,
            "showline": true,
            "ticks": "outside",
            "zeroline": false,
            "zerolinecolor": "rgb(36,36,36)"
           },
           "yaxis": {
            "backgroundcolor": "white",
            "gridcolor": "rgb(232,232,232)",
            "gridwidth": 2,
            "linecolor": "rgb(36,36,36)",
            "showbackground": true,
            "showgrid": false,
            "showline": true,
            "ticks": "outside",
            "zeroline": false,
            "zerolinecolor": "rgb(36,36,36)"
           },
           "zaxis": {
            "backgroundcolor": "white",
            "gridcolor": "rgb(232,232,232)",
            "gridwidth": 2,
            "linecolor": "rgb(36,36,36)",
            "showbackground": true,
            "showgrid": false,
            "showline": true,
            "ticks": "outside",
            "zeroline": false,
            "zerolinecolor": "rgb(36,36,36)"
           }
          },
          "shapedefaults": {
           "fillcolor": "black",
           "line": {
            "width": 0
           },
           "opacity": 0.3
          },
          "ternary": {
           "aaxis": {
            "gridcolor": "rgb(232,232,232)",
            "linecolor": "rgb(36,36,36)",
            "showgrid": false,
            "showline": true,
            "ticks": "outside"
           },
           "baxis": {
            "gridcolor": "rgb(232,232,232)",
            "linecolor": "rgb(36,36,36)",
            "showgrid": false,
            "showline": true,
            "ticks": "outside"
           },
           "bgcolor": "white",
           "caxis": {
            "gridcolor": "rgb(232,232,232)",
            "linecolor": "rgb(36,36,36)",
            "showgrid": false,
            "showline": true,
            "ticks": "outside"
           }
          },
          "title": {
           "x": 0.05
          },
          "xaxis": {
           "automargin": true,
           "gridcolor": "rgb(232,232,232)",
           "linecolor": "rgb(36,36,36)",
           "showgrid": false,
           "showline": true,
           "ticks": "outside",
           "title": {
            "standoff": 15
           },
           "zeroline": false,
           "zerolinecolor": "rgb(36,36,36)"
          },
          "yaxis": {
           "automargin": true,
           "gridcolor": "rgb(232,232,232)",
           "linecolor": "rgb(36,36,36)",
           "showgrid": false,
           "showline": true,
           "ticks": "outside",
           "title": {
            "standoff": 15
           },
           "zeroline": false,
           "zerolinecolor": "rgb(36,36,36)"
          }
         }
        },
        "title": {
         "text": "All"
        },
        "width": 1100,
        "xaxis": {
         "anchor": "y",
         "domain": [
          0,
          0.45
         ]
        },
        "xaxis2": {
         "anchor": "y2",
         "domain": [
          0.55,
          1
         ]
        },
        "xaxis3": {
         "anchor": "y3",
         "domain": [
          0,
          0.45
         ]
        },
        "xaxis4": {
         "anchor": "y4",
         "domain": [
          0.55,
          1
         ]
        },
        "yaxis": {
         "anchor": "x",
         "domain": [
          0.575,
          1
         ],
         "dtick": 1,
         "range": [
          1,
          7
         ]
        },
        "yaxis2": {
         "anchor": "x2",
         "domain": [
          0.575,
          1
         ],
         "dtick": 1,
         "range": [
          1,
          7
         ]
        },
        "yaxis3": {
         "anchor": "x3",
         "domain": [
          0,
          0.425
         ],
         "dtick": 1,
         "range": [
          1,
          7
         ]
        },
        "yaxis4": {
         "anchor": "x4",
         "domain": [
          0,
          0.425
         ],
         "dtick": 1,
         "range": [
          1,
          7
         ]
        }
       }
      }
     },
     "metadata": {},
     "output_type": "display_data"
    }
   ],
   "source": [
    "create_line_subplot(data=data_all, output_file_name=\"scenarios_all\", show_fig=True, fig_title=\"All\")"
   ]
  },
  {
   "cell_type": "code",
   "execution_count": 12,
   "metadata": {},
   "outputs": [
    {
     "data": {
      "application/vnd.plotly.v1+json": {
       "config": {
        "plotlyServerURL": "https://plot.ly"
       },
       "data": [
        {
         "legendgroup": "feel responsible + positive outcome + PA yes",
         "marker": {
          "color": "#1F77B4"
         },
         "mode": "lines+markers",
         "name": "feel responsible + positive outcome + PA yes",
         "showlegend": true,
         "type": "scatter",
         "x": [
          "Familiar solution",
          "New solution"
         ],
         "xaxis": "x",
         "y": [
          4.4,
          5.9
         ],
         "yaxis": "y"
        },
        {
         "legendgroup": "feel responsible + positive outcome + PA no",
         "marker": {
          "color": "#FF7F0E"
         },
         "mode": "lines+markers",
         "name": "feel responsible + positive outcome + PA no",
         "showlegend": true,
         "type": "scatter",
         "x": [
          "Familiar solution",
          "New solution"
         ],
         "xaxis": "x",
         "y": [
          5.055555555555555,
          6.277777777777778
         ],
         "yaxis": "y"
        },
        {
         "legendgroup": "feel responsible + negative outcome + PA yes",
         "marker": {
          "color": "#2CA02C"
         },
         "mode": "lines+markers",
         "name": "feel responsible + negative outcome + PA yes",
         "showlegend": true,
         "type": "scatter",
         "x": [
          "Familiar solution",
          "New solution"
         ],
         "xaxis": "x",
         "y": [
          4.0588235294117645,
          6.0588235294117645
         ],
         "yaxis": "y"
        },
        {
         "legendgroup": "feel responsible + negative outcome + PA no",
         "marker": {
          "color": "#D62728"
         },
         "mode": "lines+markers",
         "name": "feel responsible + negative outcome + PA no",
         "showlegend": true,
         "type": "scatter",
         "x": [
          "Familiar solution",
          "New solution"
         ],
         "xaxis": "x",
         "y": [
          4.333333333333333,
          5.6
         ],
         "yaxis": "y"
        },
        {
         "legendgroup": "act responsible + positive outcome + PA yes",
         "marker": {
          "color": "#9467BD"
         },
         "mode": "lines+markers",
         "name": "act responsible + positive outcome + PA yes",
         "showlegend": true,
         "type": "scatter",
         "x": [
          "Familiar solution",
          "New solution"
         ],
         "xaxis": "x",
         "y": [
          6.1,
          4.9
         ],
         "yaxis": "y"
        },
        {
         "legendgroup": "act responsible + positive outcome + PA no",
         "marker": {
          "color": "#8C564B"
         },
         "mode": "lines+markers",
         "name": "act responsible + positive outcome + PA no",
         "showlegend": true,
         "type": "scatter",
         "x": [
          "Familiar solution",
          "New solution"
         ],
         "xaxis": "x",
         "y": [
          5.444444444444445,
          5.444444444444445
         ],
         "yaxis": "y"
        },
        {
         "legendgroup": "act responsible + negative outcome + PA yes",
         "marker": {
          "color": "#E377C2"
         },
         "mode": "lines+markers",
         "name": "act responsible + negative outcome + PA yes",
         "showlegend": true,
         "type": "scatter",
         "x": [
          "Familiar solution",
          "New solution"
         ],
         "xaxis": "x",
         "y": [
          5.0588235294117645,
          5.0588235294117645
         ],
         "yaxis": "y"
        },
        {
         "legendgroup": "act responsible + negative outcome + PA no",
         "marker": {
          "color": "#7F7F7F"
         },
         "mode": "lines+markers",
         "name": "act responsible + negative outcome + PA no",
         "showlegend": true,
         "type": "scatter",
         "x": [
          "Familiar solution",
          "New solution"
         ],
         "xaxis": "x",
         "y": [
          5.533333333333333,
          4.8
         ],
         "yaxis": "y"
        },
        {
         "legendgroup": "feel responsible + positive outcome + PA yes",
         "marker": {
          "color": "#1F77B4"
         },
         "mode": "lines+markers",
         "name": "feel responsible + positive outcome + PA yes",
         "showlegend": false,
         "type": "scatter",
         "x": [
          "Follow advise",
          "Not follow advise"
         ],
         "xaxis": "x2",
         "y": [
          4.2,
          6.4
         ],
         "yaxis": "y2"
        },
        {
         "legendgroup": "feel responsible + positive outcome + PA no",
         "marker": {
          "color": "#FF7F0E"
         },
         "mode": "lines+markers",
         "name": "feel responsible + positive outcome + PA no",
         "showlegend": false,
         "type": "scatter",
         "x": [
          "Follow advise",
          "Not follow advise"
         ],
         "xaxis": "x2",
         "y": [
          4.588235294117647,
          5.882352941176471
         ],
         "yaxis": "y2"
        },
        {
         "legendgroup": "feel responsible + negative outcome + PA yes",
         "marker": {
          "color": "#2CA02C"
         },
         "mode": "lines+markers",
         "name": "feel responsible + negative outcome + PA yes",
         "showlegend": false,
         "type": "scatter",
         "x": [
          "Follow advise",
          "Not follow advise"
         ],
         "xaxis": "x2",
         "y": [
          3.2777777777777777,
          5.888888888888889
         ],
         "yaxis": "y2"
        },
        {
         "legendgroup": "feel responsible + negative outcome + PA no",
         "marker": {
          "color": "#D62728"
         },
         "mode": "lines+markers",
         "name": "feel responsible + negative outcome + PA no",
         "showlegend": false,
         "type": "scatter",
         "x": [
          "Follow advise",
          "Not follow advise"
         ],
         "xaxis": "x2",
         "y": [
          2.8,
          5.95
         ],
         "yaxis": "y2"
        },
        {
         "legendgroup": "act responsible + positive outcome + PA yes",
         "marker": {
          "color": "#9467BD"
         },
         "mode": "lines+markers",
         "name": "act responsible + positive outcome + PA yes",
         "showlegend": false,
         "type": "scatter",
         "x": [
          "Follow advise",
          "Not follow advise"
         ],
         "xaxis": "x2",
         "y": [
          5.533333333333333,
          4.666666666666667
         ],
         "yaxis": "y2"
        },
        {
         "legendgroup": "act responsible + positive outcome + PA no",
         "marker": {
          "color": "#8C564B"
         },
         "mode": "lines+markers",
         "name": "act responsible + positive outcome + PA no",
         "showlegend": false,
         "type": "scatter",
         "x": [
          "Follow advise",
          "Not follow advise"
         ],
         "xaxis": "x2",
         "y": [
          5.588235294117647,
          3.9411764705882355
         ],
         "yaxis": "y2"
        },
        {
         "legendgroup": "act responsible + negative outcome + PA yes",
         "marker": {
          "color": "#E377C2"
         },
         "mode": "lines+markers",
         "name": "act responsible + negative outcome + PA yes",
         "showlegend": false,
         "type": "scatter",
         "x": [
          "Follow advise",
          "Not follow advise"
         ],
         "xaxis": "x2",
         "y": [
          5.444444444444445,
          4.111111111111111
         ],
         "yaxis": "y2"
        },
        {
         "legendgroup": "act responsible + negative outcome + PA no",
         "marker": {
          "color": "#7F7F7F"
         },
         "mode": "lines+markers",
         "name": "act responsible + negative outcome + PA no",
         "showlegend": false,
         "type": "scatter",
         "x": [
          "Follow advise",
          "Not follow advise"
         ],
         "xaxis": "x2",
         "y": [
          4.4,
          3.5
         ],
         "yaxis": "y2"
        },
        {
         "legendgroup": "feel responsible + positive outcome + PA yes",
         "marker": {
          "color": "#1F77B4"
         },
         "mode": "lines+markers",
         "name": "feel responsible + positive outcome + PA yes",
         "showlegend": false,
         "type": "scatter",
         "x": [
          "Hold on",
          "Change decision"
         ],
         "xaxis": "x3",
         "y": [
          6.266666666666667,
          6.333333333333333
         ],
         "yaxis": "y3"
        },
        {
         "legendgroup": "feel responsible + positive outcome + PA no",
         "marker": {
          "color": "#FF7F0E"
         },
         "mode": "lines+markers",
         "name": "feel responsible + positive outcome + PA no",
         "showlegend": false,
         "type": "scatter",
         "x": [
          "Hold on",
          "Change decision"
         ],
         "xaxis": "x3",
         "y": [
          5.352941176470588,
          5.882352941176471
         ],
         "yaxis": "y3"
        },
        {
         "legendgroup": "feel responsible + negative outcome + PA yes",
         "marker": {
          "color": "#2CA02C"
         },
         "mode": "lines+markers",
         "name": "feel responsible + negative outcome + PA yes",
         "showlegend": false,
         "type": "scatter",
         "x": [
          "Hold on",
          "Change decision"
         ],
         "xaxis": "x3",
         "y": [
          4.388888888888889,
          6
         ],
         "yaxis": "y3"
        },
        {
         "legendgroup": "feel responsible + negative outcome + PA no",
         "marker": {
          "color": "#D62728"
         },
         "mode": "lines+markers",
         "name": "feel responsible + negative outcome + PA no",
         "showlegend": false,
         "type": "scatter",
         "x": [
          "Hold on",
          "Change decision"
         ],
         "xaxis": "x3",
         "y": [
          4.5,
          5.8
         ],
         "yaxis": "y3"
        },
        {
         "legendgroup": "act responsible + positive outcome + PA yes",
         "marker": {
          "color": "#9467BD"
         },
         "mode": "lines+markers",
         "name": "act responsible + positive outcome + PA yes",
         "showlegend": false,
         "type": "scatter",
         "x": [
          "Hold on",
          "Change decision"
         ],
         "xaxis": "x3",
         "y": [
          5.666666666666667,
          5.133333333333334
         ],
         "yaxis": "y3"
        },
        {
         "legendgroup": "act responsible + positive outcome + PA no",
         "marker": {
          "color": "#8C564B"
         },
         "mode": "lines+markers",
         "name": "act responsible + positive outcome + PA no",
         "showlegend": false,
         "type": "scatter",
         "x": [
          "Hold on",
          "Change decision"
         ],
         "xaxis": "x3",
         "y": [
          5.529411764705882,
          4.764705882352941
         ],
         "yaxis": "y3"
        },
        {
         "legendgroup": "act responsible + negative outcome + PA yes",
         "marker": {
          "color": "#E377C2"
         },
         "mode": "lines+markers",
         "name": "act responsible + negative outcome + PA yes",
         "showlegend": false,
         "type": "scatter",
         "x": [
          "Hold on",
          "Change decision"
         ],
         "xaxis": "x3",
         "y": [
          5.388888888888889,
          4.444444444444445
         ],
         "yaxis": "y3"
        },
        {
         "legendgroup": "act responsible + negative outcome + PA no",
         "marker": {
          "color": "#7F7F7F"
         },
         "mode": "lines+markers",
         "name": "act responsible + negative outcome + PA no",
         "showlegend": false,
         "type": "scatter",
         "x": [
          "Hold on",
          "Change decision"
         ],
         "xaxis": "x3",
         "y": [
          4.85,
          4.6
         ],
         "yaxis": "y3"
        },
        {
         "legendgroup": "feel responsible + positive outcome + PA yes",
         "marker": {
          "color": "#1F77B4"
         },
         "mode": "lines+markers",
         "name": "feel responsible + positive outcome + PA yes",
         "showlegend": false,
         "type": "scatter",
         "x": [
          "Wait and see",
          "Take action"
         ],
         "xaxis": "x4",
         "y": [
          4.15,
          5.6
         ],
         "yaxis": "y4"
        },
        {
         "legendgroup": "feel responsible + positive outcome + PA no",
         "marker": {
          "color": "#FF7F0E"
         },
         "mode": "lines+markers",
         "name": "feel responsible + positive outcome + PA no",
         "showlegend": false,
         "type": "scatter",
         "x": [
          "Wait and see",
          "Take action"
         ],
         "xaxis": "x4",
         "y": [
          5.833333333333333,
          6.055555555555555
         ],
         "yaxis": "y4"
        },
        {
         "legendgroup": "feel responsible + negative outcome + PA yes",
         "marker": {
          "color": "#2CA02C"
         },
         "mode": "lines+markers",
         "name": "feel responsible + negative outcome + PA yes",
         "showlegend": false,
         "type": "scatter",
         "x": [
          "Wait and see",
          "Take action"
         ],
         "xaxis": "x4",
         "y": [
          5.352941176470588,
          4.882352941176471
         ],
         "yaxis": "y4"
        },
        {
         "legendgroup": "feel responsible + negative outcome + PA no",
         "marker": {
          "color": "#D62728"
         },
         "mode": "lines+markers",
         "name": "feel responsible + negative outcome + PA no",
         "showlegend": false,
         "type": "scatter",
         "x": [
          "Wait and see",
          "Take action"
         ],
         "xaxis": "x4",
         "y": [
          5.2,
          5.666666666666667
         ],
         "yaxis": "y4"
        },
        {
         "legendgroup": "act responsible + positive outcome + PA yes",
         "marker": {
          "color": "#9467BD"
         },
         "mode": "lines+markers",
         "name": "act responsible + positive outcome + PA yes",
         "showlegend": false,
         "type": "scatter",
         "x": [
          "Wait and see",
          "Take action"
         ],
         "xaxis": "x4",
         "y": [
          4,
          5.25
         ],
         "yaxis": "y4"
        },
        {
         "legendgroup": "act responsible + positive outcome + PA no",
         "marker": {
          "color": "#8C564B"
         },
         "mode": "lines+markers",
         "name": "act responsible + positive outcome + PA no",
         "showlegend": false,
         "type": "scatter",
         "x": [
          "Wait and see",
          "Take action"
         ],
         "xaxis": "x4",
         "y": [
          4.111111111111111,
          5.055555555555555
         ],
         "yaxis": "y4"
        },
        {
         "legendgroup": "act responsible + negative outcome + PA yes",
         "marker": {
          "color": "#E377C2"
         },
         "mode": "lines+markers",
         "name": "act responsible + negative outcome + PA yes",
         "showlegend": false,
         "type": "scatter",
         "x": [
          "Wait and see",
          "Take action"
         ],
         "xaxis": "x4",
         "y": [
          3.4705882352941178,
          5.176470588235294
         ],
         "yaxis": "y4"
        },
        {
         "legendgroup": "act responsible + negative outcome + PA no",
         "marker": {
          "color": "#7F7F7F"
         },
         "mode": "lines+markers",
         "name": "act responsible + negative outcome + PA no",
         "showlegend": false,
         "type": "scatter",
         "x": [
          "Wait and see",
          "Take action"
         ],
         "xaxis": "x4",
         "y": [
          3.7333333333333334,
          5.266666666666667
         ],
         "yaxis": "y4"
        }
       ],
       "layout": {
        "height": 800,
        "template": {
         "data": {
          "bar": [
           {
            "error_x": {
             "color": "rgb(36,36,36)"
            },
            "error_y": {
             "color": "rgb(36,36,36)"
            },
            "marker": {
             "line": {
              "color": "white",
              "width": 0.5
             },
             "pattern": {
              "fillmode": "overlay",
              "size": 10,
              "solidity": 0.2
             }
            },
            "type": "bar"
           }
          ],
          "barpolar": [
           {
            "marker": {
             "line": {
              "color": "white",
              "width": 0.5
             },
             "pattern": {
              "fillmode": "overlay",
              "size": 10,
              "solidity": 0.2
             }
            },
            "type": "barpolar"
           }
          ],
          "carpet": [
           {
            "aaxis": {
             "endlinecolor": "rgb(36,36,36)",
             "gridcolor": "white",
             "linecolor": "white",
             "minorgridcolor": "white",
             "startlinecolor": "rgb(36,36,36)"
            },
            "baxis": {
             "endlinecolor": "rgb(36,36,36)",
             "gridcolor": "white",
             "linecolor": "white",
             "minorgridcolor": "white",
             "startlinecolor": "rgb(36,36,36)"
            },
            "type": "carpet"
           }
          ],
          "choropleth": [
           {
            "colorbar": {
             "outlinewidth": 1,
             "tickcolor": "rgb(36,36,36)",
             "ticks": "outside"
            },
            "type": "choropleth"
           }
          ],
          "contour": [
           {
            "colorbar": {
             "outlinewidth": 1,
             "tickcolor": "rgb(36,36,36)",
             "ticks": "outside"
            },
            "colorscale": [
             [
              0,
              "#440154"
             ],
             [
              0.1111111111111111,
              "#482878"
             ],
             [
              0.2222222222222222,
              "#3e4989"
             ],
             [
              0.3333333333333333,
              "#31688e"
             ],
             [
              0.4444444444444444,
              "#26828e"
             ],
             [
              0.5555555555555556,
              "#1f9e89"
             ],
             [
              0.6666666666666666,
              "#35b779"
             ],
             [
              0.7777777777777778,
              "#6ece58"
             ],
             [
              0.8888888888888888,
              "#b5de2b"
             ],
             [
              1,
              "#fde725"
             ]
            ],
            "type": "contour"
           }
          ],
          "contourcarpet": [
           {
            "colorbar": {
             "outlinewidth": 1,
             "tickcolor": "rgb(36,36,36)",
             "ticks": "outside"
            },
            "type": "contourcarpet"
           }
          ],
          "heatmap": [
           {
            "colorbar": {
             "outlinewidth": 1,
             "tickcolor": "rgb(36,36,36)",
             "ticks": "outside"
            },
            "colorscale": [
             [
              0,
              "#440154"
             ],
             [
              0.1111111111111111,
              "#482878"
             ],
             [
              0.2222222222222222,
              "#3e4989"
             ],
             [
              0.3333333333333333,
              "#31688e"
             ],
             [
              0.4444444444444444,
              "#26828e"
             ],
             [
              0.5555555555555556,
              "#1f9e89"
             ],
             [
              0.6666666666666666,
              "#35b779"
             ],
             [
              0.7777777777777778,
              "#6ece58"
             ],
             [
              0.8888888888888888,
              "#b5de2b"
             ],
             [
              1,
              "#fde725"
             ]
            ],
            "type": "heatmap"
           }
          ],
          "heatmapgl": [
           {
            "colorbar": {
             "outlinewidth": 1,
             "tickcolor": "rgb(36,36,36)",
             "ticks": "outside"
            },
            "colorscale": [
             [
              0,
              "#440154"
             ],
             [
              0.1111111111111111,
              "#482878"
             ],
             [
              0.2222222222222222,
              "#3e4989"
             ],
             [
              0.3333333333333333,
              "#31688e"
             ],
             [
              0.4444444444444444,
              "#26828e"
             ],
             [
              0.5555555555555556,
              "#1f9e89"
             ],
             [
              0.6666666666666666,
              "#35b779"
             ],
             [
              0.7777777777777778,
              "#6ece58"
             ],
             [
              0.8888888888888888,
              "#b5de2b"
             ],
             [
              1,
              "#fde725"
             ]
            ],
            "type": "heatmapgl"
           }
          ],
          "histogram": [
           {
            "marker": {
             "line": {
              "color": "white",
              "width": 0.6
             }
            },
            "type": "histogram"
           }
          ],
          "histogram2d": [
           {
            "colorbar": {
             "outlinewidth": 1,
             "tickcolor": "rgb(36,36,36)",
             "ticks": "outside"
            },
            "colorscale": [
             [
              0,
              "#440154"
             ],
             [
              0.1111111111111111,
              "#482878"
             ],
             [
              0.2222222222222222,
              "#3e4989"
             ],
             [
              0.3333333333333333,
              "#31688e"
             ],
             [
              0.4444444444444444,
              "#26828e"
             ],
             [
              0.5555555555555556,
              "#1f9e89"
             ],
             [
              0.6666666666666666,
              "#35b779"
             ],
             [
              0.7777777777777778,
              "#6ece58"
             ],
             [
              0.8888888888888888,
              "#b5de2b"
             ],
             [
              1,
              "#fde725"
             ]
            ],
            "type": "histogram2d"
           }
          ],
          "histogram2dcontour": [
           {
            "colorbar": {
             "outlinewidth": 1,
             "tickcolor": "rgb(36,36,36)",
             "ticks": "outside"
            },
            "colorscale": [
             [
              0,
              "#440154"
             ],
             [
              0.1111111111111111,
              "#482878"
             ],
             [
              0.2222222222222222,
              "#3e4989"
             ],
             [
              0.3333333333333333,
              "#31688e"
             ],
             [
              0.4444444444444444,
              "#26828e"
             ],
             [
              0.5555555555555556,
              "#1f9e89"
             ],
             [
              0.6666666666666666,
              "#35b779"
             ],
             [
              0.7777777777777778,
              "#6ece58"
             ],
             [
              0.8888888888888888,
              "#b5de2b"
             ],
             [
              1,
              "#fde725"
             ]
            ],
            "type": "histogram2dcontour"
           }
          ],
          "mesh3d": [
           {
            "colorbar": {
             "outlinewidth": 1,
             "tickcolor": "rgb(36,36,36)",
             "ticks": "outside"
            },
            "type": "mesh3d"
           }
          ],
          "parcoords": [
           {
            "line": {
             "colorbar": {
              "outlinewidth": 1,
              "tickcolor": "rgb(36,36,36)",
              "ticks": "outside"
             }
            },
            "type": "parcoords"
           }
          ],
          "pie": [
           {
            "automargin": true,
            "type": "pie"
           }
          ],
          "scatter": [
           {
            "fillpattern": {
             "fillmode": "overlay",
             "size": 10,
             "solidity": 0.2
            },
            "type": "scatter"
           }
          ],
          "scatter3d": [
           {
            "line": {
             "colorbar": {
              "outlinewidth": 1,
              "tickcolor": "rgb(36,36,36)",
              "ticks": "outside"
             }
            },
            "marker": {
             "colorbar": {
              "outlinewidth": 1,
              "tickcolor": "rgb(36,36,36)",
              "ticks": "outside"
             }
            },
            "type": "scatter3d"
           }
          ],
          "scattercarpet": [
           {
            "marker": {
             "colorbar": {
              "outlinewidth": 1,
              "tickcolor": "rgb(36,36,36)",
              "ticks": "outside"
             }
            },
            "type": "scattercarpet"
           }
          ],
          "scattergeo": [
           {
            "marker": {
             "colorbar": {
              "outlinewidth": 1,
              "tickcolor": "rgb(36,36,36)",
              "ticks": "outside"
             }
            },
            "type": "scattergeo"
           }
          ],
          "scattergl": [
           {
            "marker": {
             "colorbar": {
              "outlinewidth": 1,
              "tickcolor": "rgb(36,36,36)",
              "ticks": "outside"
             }
            },
            "type": "scattergl"
           }
          ],
          "scattermapbox": [
           {
            "marker": {
             "colorbar": {
              "outlinewidth": 1,
              "tickcolor": "rgb(36,36,36)",
              "ticks": "outside"
             }
            },
            "type": "scattermapbox"
           }
          ],
          "scatterpolar": [
           {
            "marker": {
             "colorbar": {
              "outlinewidth": 1,
              "tickcolor": "rgb(36,36,36)",
              "ticks": "outside"
             }
            },
            "type": "scatterpolar"
           }
          ],
          "scatterpolargl": [
           {
            "marker": {
             "colorbar": {
              "outlinewidth": 1,
              "tickcolor": "rgb(36,36,36)",
              "ticks": "outside"
             }
            },
            "type": "scatterpolargl"
           }
          ],
          "scatterternary": [
           {
            "marker": {
             "colorbar": {
              "outlinewidth": 1,
              "tickcolor": "rgb(36,36,36)",
              "ticks": "outside"
             }
            },
            "type": "scatterternary"
           }
          ],
          "surface": [
           {
            "colorbar": {
             "outlinewidth": 1,
             "tickcolor": "rgb(36,36,36)",
             "ticks": "outside"
            },
            "colorscale": [
             [
              0,
              "#440154"
             ],
             [
              0.1111111111111111,
              "#482878"
             ],
             [
              0.2222222222222222,
              "#3e4989"
             ],
             [
              0.3333333333333333,
              "#31688e"
             ],
             [
              0.4444444444444444,
              "#26828e"
             ],
             [
              0.5555555555555556,
              "#1f9e89"
             ],
             [
              0.6666666666666666,
              "#35b779"
             ],
             [
              0.7777777777777778,
              "#6ece58"
             ],
             [
              0.8888888888888888,
              "#b5de2b"
             ],
             [
              1,
              "#fde725"
             ]
            ],
            "type": "surface"
           }
          ],
          "table": [
           {
            "cells": {
             "fill": {
              "color": "rgb(237,237,237)"
             },
             "line": {
              "color": "white"
             }
            },
            "header": {
             "fill": {
              "color": "rgb(217,217,217)"
             },
             "line": {
              "color": "white"
             }
            },
            "type": "table"
           }
          ]
         },
         "layout": {
          "annotationdefaults": {
           "arrowhead": 0,
           "arrowwidth": 1
          },
          "autotypenumbers": "strict",
          "coloraxis": {
           "colorbar": {
            "outlinewidth": 1,
            "tickcolor": "rgb(36,36,36)",
            "ticks": "outside"
           }
          },
          "colorscale": {
           "diverging": [
            [
             0,
             "rgb(103,0,31)"
            ],
            [
             0.1,
             "rgb(178,24,43)"
            ],
            [
             0.2,
             "rgb(214,96,77)"
            ],
            [
             0.3,
             "rgb(244,165,130)"
            ],
            [
             0.4,
             "rgb(253,219,199)"
            ],
            [
             0.5,
             "rgb(247,247,247)"
            ],
            [
             0.6,
             "rgb(209,229,240)"
            ],
            [
             0.7,
             "rgb(146,197,222)"
            ],
            [
             0.8,
             "rgb(67,147,195)"
            ],
            [
             0.9,
             "rgb(33,102,172)"
            ],
            [
             1,
             "rgb(5,48,97)"
            ]
           ],
           "sequential": [
            [
             0,
             "#440154"
            ],
            [
             0.1111111111111111,
             "#482878"
            ],
            [
             0.2222222222222222,
             "#3e4989"
            ],
            [
             0.3333333333333333,
             "#31688e"
            ],
            [
             0.4444444444444444,
             "#26828e"
            ],
            [
             0.5555555555555556,
             "#1f9e89"
            ],
            [
             0.6666666666666666,
             "#35b779"
            ],
            [
             0.7777777777777778,
             "#6ece58"
            ],
            [
             0.8888888888888888,
             "#b5de2b"
            ],
            [
             1,
             "#fde725"
            ]
           ],
           "sequentialminus": [
            [
             0,
             "#440154"
            ],
            [
             0.1111111111111111,
             "#482878"
            ],
            [
             0.2222222222222222,
             "#3e4989"
            ],
            [
             0.3333333333333333,
             "#31688e"
            ],
            [
             0.4444444444444444,
             "#26828e"
            ],
            [
             0.5555555555555556,
             "#1f9e89"
            ],
            [
             0.6666666666666666,
             "#35b779"
            ],
            [
             0.7777777777777778,
             "#6ece58"
            ],
            [
             0.8888888888888888,
             "#b5de2b"
            ],
            [
             1,
             "#fde725"
            ]
           ]
          },
          "colorway": [
           "#1F77B4",
           "#FF7F0E",
           "#2CA02C",
           "#D62728",
           "#9467BD",
           "#8C564B",
           "#E377C2",
           "#7F7F7F",
           "#BCBD22",
           "#17BECF"
          ],
          "font": {
           "color": "rgb(36,36,36)"
          },
          "geo": {
           "bgcolor": "white",
           "lakecolor": "white",
           "landcolor": "white",
           "showlakes": true,
           "showland": true,
           "subunitcolor": "white"
          },
          "hoverlabel": {
           "align": "left"
          },
          "hovermode": "closest",
          "mapbox": {
           "style": "light"
          },
          "paper_bgcolor": "white",
          "plot_bgcolor": "white",
          "polar": {
           "angularaxis": {
            "gridcolor": "rgb(232,232,232)",
            "linecolor": "rgb(36,36,36)",
            "showgrid": false,
            "showline": true,
            "ticks": "outside"
           },
           "bgcolor": "white",
           "radialaxis": {
            "gridcolor": "rgb(232,232,232)",
            "linecolor": "rgb(36,36,36)",
            "showgrid": false,
            "showline": true,
            "ticks": "outside"
           }
          },
          "scene": {
           "xaxis": {
            "backgroundcolor": "white",
            "gridcolor": "rgb(232,232,232)",
            "gridwidth": 2,
            "linecolor": "rgb(36,36,36)",
            "showbackground": true,
            "showgrid": false,
            "showline": true,
            "ticks": "outside",
            "zeroline": false,
            "zerolinecolor": "rgb(36,36,36)"
           },
           "yaxis": {
            "backgroundcolor": "white",
            "gridcolor": "rgb(232,232,232)",
            "gridwidth": 2,
            "linecolor": "rgb(36,36,36)",
            "showbackground": true,
            "showgrid": false,
            "showline": true,
            "ticks": "outside",
            "zeroline": false,
            "zerolinecolor": "rgb(36,36,36)"
           },
           "zaxis": {
            "backgroundcolor": "white",
            "gridcolor": "rgb(232,232,232)",
            "gridwidth": 2,
            "linecolor": "rgb(36,36,36)",
            "showbackground": true,
            "showgrid": false,
            "showline": true,
            "ticks": "outside",
            "zeroline": false,
            "zerolinecolor": "rgb(36,36,36)"
           }
          },
          "shapedefaults": {
           "fillcolor": "black",
           "line": {
            "width": 0
           },
           "opacity": 0.3
          },
          "ternary": {
           "aaxis": {
            "gridcolor": "rgb(232,232,232)",
            "linecolor": "rgb(36,36,36)",
            "showgrid": false,
            "showline": true,
            "ticks": "outside"
           },
           "baxis": {
            "gridcolor": "rgb(232,232,232)",
            "linecolor": "rgb(36,36,36)",
            "showgrid": false,
            "showline": true,
            "ticks": "outside"
           },
           "bgcolor": "white",
           "caxis": {
            "gridcolor": "rgb(232,232,232)",
            "linecolor": "rgb(36,36,36)",
            "showgrid": false,
            "showline": true,
            "ticks": "outside"
           }
          },
          "title": {
           "x": 0.05
          },
          "xaxis": {
           "automargin": true,
           "gridcolor": "rgb(232,232,232)",
           "linecolor": "rgb(36,36,36)",
           "showgrid": false,
           "showline": true,
           "ticks": "outside",
           "title": {
            "standoff": 15
           },
           "zeroline": false,
           "zerolinecolor": "rgb(36,36,36)"
          },
          "yaxis": {
           "automargin": true,
           "gridcolor": "rgb(232,232,232)",
           "linecolor": "rgb(36,36,36)",
           "showgrid": false,
           "showline": true,
           "ticks": "outside",
           "title": {
            "standoff": 15
           },
           "zeroline": false,
           "zerolinecolor": "rgb(36,36,36)"
          }
         }
        },
        "title": {
         "text": "DEU"
        },
        "width": 1100,
        "xaxis": {
         "anchor": "y",
         "domain": [
          0,
          0.45
         ]
        },
        "xaxis2": {
         "anchor": "y2",
         "domain": [
          0.55,
          1
         ]
        },
        "xaxis3": {
         "anchor": "y3",
         "domain": [
          0,
          0.45
         ]
        },
        "xaxis4": {
         "anchor": "y4",
         "domain": [
          0.55,
          1
         ]
        },
        "yaxis": {
         "anchor": "x",
         "domain": [
          0.575,
          1
         ],
         "dtick": 1,
         "range": [
          1,
          7
         ]
        },
        "yaxis2": {
         "anchor": "x2",
         "domain": [
          0.575,
          1
         ],
         "dtick": 1,
         "range": [
          1,
          7
         ]
        },
        "yaxis3": {
         "anchor": "x3",
         "domain": [
          0,
          0.425
         ],
         "dtick": 1,
         "range": [
          1,
          7
         ]
        },
        "yaxis4": {
         "anchor": "x4",
         "domain": [
          0,
          0.425
         ],
         "dtick": 1,
         "range": [
          1,
          7
         ]
        }
       }
      }
     },
     "metadata": {},
     "output_type": "display_data"
    }
   ],
   "source": [
    "create_line_subplot(\n",
    "    data=data_deu, output_file_name=\"scenarios_deu\", show_fig=True, fig_title=\"DEU\"\n",
    ")"
   ]
  },
  {
   "cell_type": "code",
   "execution_count": 13,
   "metadata": {},
   "outputs": [
    {
     "data": {
      "application/vnd.plotly.v1+json": {
       "config": {
        "plotlyServerURL": "https://plot.ly"
       },
       "data": [
        {
         "legendgroup": "feel responsible + positive outcome + PA yes",
         "marker": {
          "color": "#1F77B4"
         },
         "mode": "lines+markers",
         "name": "feel responsible + positive outcome + PA yes",
         "showlegend": true,
         "type": "scatter",
         "x": [
          "Familiar solution",
          "New solution"
         ],
         "xaxis": "x",
         "y": [
          5.333333333333333,
          6.518518518518518
         ],
         "yaxis": "y"
        },
        {
         "legendgroup": "feel responsible + positive outcome + PA no",
         "marker": {
          "color": "#FF7F0E"
         },
         "mode": "lines+markers",
         "name": "feel responsible + positive outcome + PA no",
         "showlegend": true,
         "type": "scatter",
         "x": [
          "Familiar solution",
          "New solution"
         ],
         "xaxis": "x",
         "y": [
          5.2592592592592595,
          6.148148148148148
         ],
         "yaxis": "y"
        },
        {
         "legendgroup": "feel responsible + negative outcome + PA yes",
         "marker": {
          "color": "#2CA02C"
         },
         "mode": "lines+markers",
         "name": "feel responsible + negative outcome + PA yes",
         "showlegend": true,
         "type": "scatter",
         "x": [
          "Familiar solution",
          "New solution"
         ],
         "xaxis": "x",
         "y": [
          4.666666666666667,
          6.0476190476190474
         ],
         "yaxis": "y"
        },
        {
         "legendgroup": "feel responsible + negative outcome + PA no",
         "marker": {
          "color": "#D62728"
         },
         "mode": "lines+markers",
         "name": "feel responsible + negative outcome + PA no",
         "showlegend": true,
         "type": "scatter",
         "x": [
          "Familiar solution",
          "New solution"
         ],
         "xaxis": "x",
         "y": [
          4.56,
          5.92
         ],
         "yaxis": "y"
        },
        {
         "legendgroup": "act responsible + positive outcome + PA yes",
         "marker": {
          "color": "#9467BD"
         },
         "mode": "lines+markers",
         "name": "act responsible + positive outcome + PA yes",
         "showlegend": true,
         "type": "scatter",
         "x": [
          "Familiar solution",
          "New solution"
         ],
         "xaxis": "x",
         "y": [
          6.074074074074074,
          5.333333333333333
         ],
         "yaxis": "y"
        },
        {
         "legendgroup": "act responsible + positive outcome + PA no",
         "marker": {
          "color": "#8C564B"
         },
         "mode": "lines+markers",
         "name": "act responsible + positive outcome + PA no",
         "showlegend": true,
         "type": "scatter",
         "x": [
          "Familiar solution",
          "New solution"
         ],
         "xaxis": "x",
         "y": [
          5.888888888888889,
          5.185185185185185
         ],
         "yaxis": "y"
        },
        {
         "legendgroup": "act responsible + negative outcome + PA yes",
         "marker": {
          "color": "#E377C2"
         },
         "mode": "lines+markers",
         "name": "act responsible + negative outcome + PA yes",
         "showlegend": true,
         "type": "scatter",
         "x": [
          "Familiar solution",
          "New solution"
         ],
         "xaxis": "x",
         "y": [
          5.619047619047619,
          4.523809523809524
         ],
         "yaxis": "y"
        },
        {
         "legendgroup": "act responsible + negative outcome + PA no",
         "marker": {
          "color": "#7F7F7F"
         },
         "mode": "lines+markers",
         "name": "act responsible + negative outcome + PA no",
         "showlegend": true,
         "type": "scatter",
         "x": [
          "Familiar solution",
          "New solution"
         ],
         "xaxis": "x",
         "y": [
          5.56,
          4.76
         ],
         "yaxis": "y"
        },
        {
         "legendgroup": "feel responsible + positive outcome + PA yes",
         "marker": {
          "color": "#1F77B4"
         },
         "mode": "lines+markers",
         "name": "feel responsible + positive outcome + PA yes",
         "showlegend": false,
         "type": "scatter",
         "x": [
          "Follow advise",
          "Not follow advise"
         ],
         "xaxis": "x2",
         "y": [
          4.64,
          6.48
         ],
         "yaxis": "y2"
        },
        {
         "legendgroup": "feel responsible + positive outcome + PA no",
         "marker": {
          "color": "#FF7F0E"
         },
         "mode": "lines+markers",
         "name": "feel responsible + positive outcome + PA no",
         "showlegend": false,
         "type": "scatter",
         "x": [
          "Follow advise",
          "Not follow advise"
         ],
         "xaxis": "x2",
         "y": [
          4.714285714285714,
          6.476190476190476
         ],
         "yaxis": "y2"
        },
        {
         "legendgroup": "feel responsible + negative outcome + PA yes",
         "marker": {
          "color": "#2CA02C"
         },
         "mode": "lines+markers",
         "name": "feel responsible + negative outcome + PA yes",
         "showlegend": false,
         "type": "scatter",
         "x": [
          "Follow advise",
          "Not follow advise"
         ],
         "xaxis": "x2",
         "y": [
          3.2962962962962963,
          5.481481481481482
         ],
         "yaxis": "y2"
        },
        {
         "legendgroup": "feel responsible + negative outcome + PA no",
         "marker": {
          "color": "#D62728"
         },
         "mode": "lines+markers",
         "name": "feel responsible + negative outcome + PA no",
         "showlegend": false,
         "type": "scatter",
         "x": [
          "Follow advise",
          "Not follow advise"
         ],
         "xaxis": "x2",
         "y": [
          3.185185185185185,
          6.407407407407407
         ],
         "yaxis": "y2"
        },
        {
         "legendgroup": "act responsible + positive outcome + PA yes",
         "marker": {
          "color": "#9467BD"
         },
         "mode": "lines+markers",
         "name": "act responsible + positive outcome + PA yes",
         "showlegend": false,
         "type": "scatter",
         "x": [
          "Follow advise",
          "Not follow advise"
         ],
         "xaxis": "x2",
         "y": [
          6.2,
          4.48
         ],
         "yaxis": "y2"
        },
        {
         "legendgroup": "act responsible + positive outcome + PA no",
         "marker": {
          "color": "#8C564B"
         },
         "mode": "lines+markers",
         "name": "act responsible + positive outcome + PA no",
         "showlegend": false,
         "type": "scatter",
         "x": [
          "Follow advise",
          "Not follow advise"
         ],
         "xaxis": "x2",
         "y": [
          6.190476190476191,
          4.666666666666667
         ],
         "yaxis": "y2"
        },
        {
         "legendgroup": "act responsible + negative outcome + PA yes",
         "marker": {
          "color": "#E377C2"
         },
         "mode": "lines+markers",
         "name": "act responsible + negative outcome + PA yes",
         "showlegend": false,
         "type": "scatter",
         "x": [
          "Follow advise",
          "Not follow advise"
         ],
         "xaxis": "x2",
         "y": [
          5.037037037037037,
          3.3703703703703702
         ],
         "yaxis": "y2"
        },
        {
         "legendgroup": "act responsible + negative outcome + PA no",
         "marker": {
          "color": "#7F7F7F"
         },
         "mode": "lines+markers",
         "name": "act responsible + negative outcome + PA no",
         "showlegend": false,
         "type": "scatter",
         "x": [
          "Follow advise",
          "Not follow advise"
         ],
         "xaxis": "x2",
         "y": [
          5.407407407407407,
          3.2962962962962963
         ],
         "yaxis": "y2"
        },
        {
         "legendgroup": "feel responsible + positive outcome + PA yes",
         "marker": {
          "color": "#1F77B4"
         },
         "mode": "lines+markers",
         "name": "feel responsible + positive outcome + PA yes",
         "showlegend": false,
         "type": "scatter",
         "x": [
          "Hold on",
          "Change decision"
         ],
         "xaxis": "x3",
         "y": [
          5.96,
          6.16
         ],
         "yaxis": "y3"
        },
        {
         "legendgroup": "feel responsible + positive outcome + PA no",
         "marker": {
          "color": "#FF7F0E"
         },
         "mode": "lines+markers",
         "name": "feel responsible + positive outcome + PA no",
         "showlegend": false,
         "type": "scatter",
         "x": [
          "Hold on",
          "Change decision"
         ],
         "xaxis": "x3",
         "y": [
          5.428571428571429,
          6.523809523809524
         ],
         "yaxis": "y3"
        },
        {
         "legendgroup": "feel responsible + negative outcome + PA yes",
         "marker": {
          "color": "#2CA02C"
         },
         "mode": "lines+markers",
         "name": "feel responsible + negative outcome + PA yes",
         "showlegend": false,
         "type": "scatter",
         "x": [
          "Hold on",
          "Change decision"
         ],
         "xaxis": "x3",
         "y": [
          4.518518518518518,
          5.777777777777778
         ],
         "yaxis": "y3"
        },
        {
         "legendgroup": "feel responsible + negative outcome + PA no",
         "marker": {
          "color": "#D62728"
         },
         "mode": "lines+markers",
         "name": "feel responsible + negative outcome + PA no",
         "showlegend": false,
         "type": "scatter",
         "x": [
          "Hold on",
          "Change decision"
         ],
         "xaxis": "x3",
         "y": [
          5.444444444444445,
          5.962962962962963
         ],
         "yaxis": "y3"
        },
        {
         "legendgroup": "act responsible + positive outcome + PA yes",
         "marker": {
          "color": "#9467BD"
         },
         "mode": "lines+markers",
         "name": "act responsible + positive outcome + PA yes",
         "showlegend": false,
         "type": "scatter",
         "x": [
          "Hold on",
          "Change decision"
         ],
         "xaxis": "x3",
         "y": [
          5.8,
          5.2
         ],
         "yaxis": "y3"
        },
        {
         "legendgroup": "act responsible + positive outcome + PA no",
         "marker": {
          "color": "#8C564B"
         },
         "mode": "lines+markers",
         "name": "act responsible + positive outcome + PA no",
         "showlegend": false,
         "type": "scatter",
         "x": [
          "Hold on",
          "Change decision"
         ],
         "xaxis": "x3",
         "y": [
          5.857142857142857,
          5.238095238095238
         ],
         "yaxis": "y3"
        },
        {
         "legendgroup": "act responsible + negative outcome + PA yes",
         "marker": {
          "color": "#E377C2"
         },
         "mode": "lines+markers",
         "name": "act responsible + negative outcome + PA yes",
         "showlegend": false,
         "type": "scatter",
         "x": [
          "Hold on",
          "Change decision"
         ],
         "xaxis": "x3",
         "y": [
          5.111111111111111,
          4.555555555555555
         ],
         "yaxis": "y3"
        },
        {
         "legendgroup": "act responsible + negative outcome + PA no",
         "marker": {
          "color": "#7F7F7F"
         },
         "mode": "lines+markers",
         "name": "act responsible + negative outcome + PA no",
         "showlegend": false,
         "type": "scatter",
         "x": [
          "Hold on",
          "Change decision"
         ],
         "xaxis": "x3",
         "y": [
          5.2592592592592595,
          4.962962962962963
         ],
         "yaxis": "y3"
        },
        {
         "legendgroup": "feel responsible + positive outcome + PA yes",
         "marker": {
          "color": "#1F77B4"
         },
         "mode": "lines+markers",
         "name": "feel responsible + positive outcome + PA yes",
         "showlegend": false,
         "type": "scatter",
         "x": [
          "Wait and see",
          "Take action"
         ],
         "xaxis": "x4",
         "y": [
          5.62962962962963,
          5.814814814814815
         ],
         "yaxis": "y4"
        },
        {
         "legendgroup": "feel responsible + positive outcome + PA no",
         "marker": {
          "color": "#FF7F0E"
         },
         "mode": "lines+markers",
         "name": "feel responsible + positive outcome + PA no",
         "showlegend": false,
         "type": "scatter",
         "x": [
          "Wait and see",
          "Take action"
         ],
         "xaxis": "x4",
         "y": [
          5.444444444444445,
          5.296296296296297
         ],
         "yaxis": "y4"
        },
        {
         "legendgroup": "feel responsible + negative outcome + PA yes",
         "marker": {
          "color": "#2CA02C"
         },
         "mode": "lines+markers",
         "name": "feel responsible + negative outcome + PA yes",
         "showlegend": false,
         "type": "scatter",
         "x": [
          "Wait and see",
          "Take action"
         ],
         "xaxis": "x4",
         "y": [
          5.619047619047619,
          5.238095238095238
         ],
         "yaxis": "y4"
        },
        {
         "legendgroup": "feel responsible + negative outcome + PA no",
         "marker": {
          "color": "#D62728"
         },
         "mode": "lines+markers",
         "name": "feel responsible + negative outcome + PA no",
         "showlegend": false,
         "type": "scatter",
         "x": [
          "Wait and see",
          "Take action"
         ],
         "xaxis": "x4",
         "y": [
          5.52,
          5.76
         ],
         "yaxis": "y4"
        },
        {
         "legendgroup": "act responsible + positive outcome + PA yes",
         "marker": {
          "color": "#9467BD"
         },
         "mode": "lines+markers",
         "name": "act responsible + positive outcome + PA yes",
         "showlegend": false,
         "type": "scatter",
         "x": [
          "Wait and see",
          "Take action"
         ],
         "xaxis": "x4",
         "y": [
          4.851851851851852,
          5.148148148148148
         ],
         "yaxis": "y4"
        },
        {
         "legendgroup": "act responsible + positive outcome + PA no",
         "marker": {
          "color": "#8C564B"
         },
         "mode": "lines+markers",
         "name": "act responsible + positive outcome + PA no",
         "showlegend": false,
         "type": "scatter",
         "x": [
          "Wait and see",
          "Take action"
         ],
         "xaxis": "x4",
         "y": [
          4.555555555555555,
          4.7407407407407405
         ],
         "yaxis": "y4"
        },
        {
         "legendgroup": "act responsible + negative outcome + PA yes",
         "marker": {
          "color": "#E377C2"
         },
         "mode": "lines+markers",
         "name": "act responsible + negative outcome + PA yes",
         "showlegend": false,
         "type": "scatter",
         "x": [
          "Wait and see",
          "Take action"
         ],
         "xaxis": "x4",
         "y": [
          4.428571428571429,
          4.476190476190476
         ],
         "yaxis": "y4"
        },
        {
         "legendgroup": "act responsible + negative outcome + PA no",
         "marker": {
          "color": "#7F7F7F"
         },
         "mode": "lines+markers",
         "name": "act responsible + negative outcome + PA no",
         "showlegend": false,
         "type": "scatter",
         "x": [
          "Wait and see",
          "Take action"
         ],
         "xaxis": "x4",
         "y": [
          4.32,
          4.48
         ],
         "yaxis": "y4"
        }
       ],
       "layout": {
        "height": 800,
        "template": {
         "data": {
          "bar": [
           {
            "error_x": {
             "color": "rgb(36,36,36)"
            },
            "error_y": {
             "color": "rgb(36,36,36)"
            },
            "marker": {
             "line": {
              "color": "white",
              "width": 0.5
             },
             "pattern": {
              "fillmode": "overlay",
              "size": 10,
              "solidity": 0.2
             }
            },
            "type": "bar"
           }
          ],
          "barpolar": [
           {
            "marker": {
             "line": {
              "color": "white",
              "width": 0.5
             },
             "pattern": {
              "fillmode": "overlay",
              "size": 10,
              "solidity": 0.2
             }
            },
            "type": "barpolar"
           }
          ],
          "carpet": [
           {
            "aaxis": {
             "endlinecolor": "rgb(36,36,36)",
             "gridcolor": "white",
             "linecolor": "white",
             "minorgridcolor": "white",
             "startlinecolor": "rgb(36,36,36)"
            },
            "baxis": {
             "endlinecolor": "rgb(36,36,36)",
             "gridcolor": "white",
             "linecolor": "white",
             "minorgridcolor": "white",
             "startlinecolor": "rgb(36,36,36)"
            },
            "type": "carpet"
           }
          ],
          "choropleth": [
           {
            "colorbar": {
             "outlinewidth": 1,
             "tickcolor": "rgb(36,36,36)",
             "ticks": "outside"
            },
            "type": "choropleth"
           }
          ],
          "contour": [
           {
            "colorbar": {
             "outlinewidth": 1,
             "tickcolor": "rgb(36,36,36)",
             "ticks": "outside"
            },
            "colorscale": [
             [
              0,
              "#440154"
             ],
             [
              0.1111111111111111,
              "#482878"
             ],
             [
              0.2222222222222222,
              "#3e4989"
             ],
             [
              0.3333333333333333,
              "#31688e"
             ],
             [
              0.4444444444444444,
              "#26828e"
             ],
             [
              0.5555555555555556,
              "#1f9e89"
             ],
             [
              0.6666666666666666,
              "#35b779"
             ],
             [
              0.7777777777777778,
              "#6ece58"
             ],
             [
              0.8888888888888888,
              "#b5de2b"
             ],
             [
              1,
              "#fde725"
             ]
            ],
            "type": "contour"
           }
          ],
          "contourcarpet": [
           {
            "colorbar": {
             "outlinewidth": 1,
             "tickcolor": "rgb(36,36,36)",
             "ticks": "outside"
            },
            "type": "contourcarpet"
           }
          ],
          "heatmap": [
           {
            "colorbar": {
             "outlinewidth": 1,
             "tickcolor": "rgb(36,36,36)",
             "ticks": "outside"
            },
            "colorscale": [
             [
              0,
              "#440154"
             ],
             [
              0.1111111111111111,
              "#482878"
             ],
             [
              0.2222222222222222,
              "#3e4989"
             ],
             [
              0.3333333333333333,
              "#31688e"
             ],
             [
              0.4444444444444444,
              "#26828e"
             ],
             [
              0.5555555555555556,
              "#1f9e89"
             ],
             [
              0.6666666666666666,
              "#35b779"
             ],
             [
              0.7777777777777778,
              "#6ece58"
             ],
             [
              0.8888888888888888,
              "#b5de2b"
             ],
             [
              1,
              "#fde725"
             ]
            ],
            "type": "heatmap"
           }
          ],
          "heatmapgl": [
           {
            "colorbar": {
             "outlinewidth": 1,
             "tickcolor": "rgb(36,36,36)",
             "ticks": "outside"
            },
            "colorscale": [
             [
              0,
              "#440154"
             ],
             [
              0.1111111111111111,
              "#482878"
             ],
             [
              0.2222222222222222,
              "#3e4989"
             ],
             [
              0.3333333333333333,
              "#31688e"
             ],
             [
              0.4444444444444444,
              "#26828e"
             ],
             [
              0.5555555555555556,
              "#1f9e89"
             ],
             [
              0.6666666666666666,
              "#35b779"
             ],
             [
              0.7777777777777778,
              "#6ece58"
             ],
             [
              0.8888888888888888,
              "#b5de2b"
             ],
             [
              1,
              "#fde725"
             ]
            ],
            "type": "heatmapgl"
           }
          ],
          "histogram": [
           {
            "marker": {
             "line": {
              "color": "white",
              "width": 0.6
             }
            },
            "type": "histogram"
           }
          ],
          "histogram2d": [
           {
            "colorbar": {
             "outlinewidth": 1,
             "tickcolor": "rgb(36,36,36)",
             "ticks": "outside"
            },
            "colorscale": [
             [
              0,
              "#440154"
             ],
             [
              0.1111111111111111,
              "#482878"
             ],
             [
              0.2222222222222222,
              "#3e4989"
             ],
             [
              0.3333333333333333,
              "#31688e"
             ],
             [
              0.4444444444444444,
              "#26828e"
             ],
             [
              0.5555555555555556,
              "#1f9e89"
             ],
             [
              0.6666666666666666,
              "#35b779"
             ],
             [
              0.7777777777777778,
              "#6ece58"
             ],
             [
              0.8888888888888888,
              "#b5de2b"
             ],
             [
              1,
              "#fde725"
             ]
            ],
            "type": "histogram2d"
           }
          ],
          "histogram2dcontour": [
           {
            "colorbar": {
             "outlinewidth": 1,
             "tickcolor": "rgb(36,36,36)",
             "ticks": "outside"
            },
            "colorscale": [
             [
              0,
              "#440154"
             ],
             [
              0.1111111111111111,
              "#482878"
             ],
             [
              0.2222222222222222,
              "#3e4989"
             ],
             [
              0.3333333333333333,
              "#31688e"
             ],
             [
              0.4444444444444444,
              "#26828e"
             ],
             [
              0.5555555555555556,
              "#1f9e89"
             ],
             [
              0.6666666666666666,
              "#35b779"
             ],
             [
              0.7777777777777778,
              "#6ece58"
             ],
             [
              0.8888888888888888,
              "#b5de2b"
             ],
             [
              1,
              "#fde725"
             ]
            ],
            "type": "histogram2dcontour"
           }
          ],
          "mesh3d": [
           {
            "colorbar": {
             "outlinewidth": 1,
             "tickcolor": "rgb(36,36,36)",
             "ticks": "outside"
            },
            "type": "mesh3d"
           }
          ],
          "parcoords": [
           {
            "line": {
             "colorbar": {
              "outlinewidth": 1,
              "tickcolor": "rgb(36,36,36)",
              "ticks": "outside"
             }
            },
            "type": "parcoords"
           }
          ],
          "pie": [
           {
            "automargin": true,
            "type": "pie"
           }
          ],
          "scatter": [
           {
            "fillpattern": {
             "fillmode": "overlay",
             "size": 10,
             "solidity": 0.2
            },
            "type": "scatter"
           }
          ],
          "scatter3d": [
           {
            "line": {
             "colorbar": {
              "outlinewidth": 1,
              "tickcolor": "rgb(36,36,36)",
              "ticks": "outside"
             }
            },
            "marker": {
             "colorbar": {
              "outlinewidth": 1,
              "tickcolor": "rgb(36,36,36)",
              "ticks": "outside"
             }
            },
            "type": "scatter3d"
           }
          ],
          "scattercarpet": [
           {
            "marker": {
             "colorbar": {
              "outlinewidth": 1,
              "tickcolor": "rgb(36,36,36)",
              "ticks": "outside"
             }
            },
            "type": "scattercarpet"
           }
          ],
          "scattergeo": [
           {
            "marker": {
             "colorbar": {
              "outlinewidth": 1,
              "tickcolor": "rgb(36,36,36)",
              "ticks": "outside"
             }
            },
            "type": "scattergeo"
           }
          ],
          "scattergl": [
           {
            "marker": {
             "colorbar": {
              "outlinewidth": 1,
              "tickcolor": "rgb(36,36,36)",
              "ticks": "outside"
             }
            },
            "type": "scattergl"
           }
          ],
          "scattermapbox": [
           {
            "marker": {
             "colorbar": {
              "outlinewidth": 1,
              "tickcolor": "rgb(36,36,36)",
              "ticks": "outside"
             }
            },
            "type": "scattermapbox"
           }
          ],
          "scatterpolar": [
           {
            "marker": {
             "colorbar": {
              "outlinewidth": 1,
              "tickcolor": "rgb(36,36,36)",
              "ticks": "outside"
             }
            },
            "type": "scatterpolar"
           }
          ],
          "scatterpolargl": [
           {
            "marker": {
             "colorbar": {
              "outlinewidth": 1,
              "tickcolor": "rgb(36,36,36)",
              "ticks": "outside"
             }
            },
            "type": "scatterpolargl"
           }
          ],
          "scatterternary": [
           {
            "marker": {
             "colorbar": {
              "outlinewidth": 1,
              "tickcolor": "rgb(36,36,36)",
              "ticks": "outside"
             }
            },
            "type": "scatterternary"
           }
          ],
          "surface": [
           {
            "colorbar": {
             "outlinewidth": 1,
             "tickcolor": "rgb(36,36,36)",
             "ticks": "outside"
            },
            "colorscale": [
             [
              0,
              "#440154"
             ],
             [
              0.1111111111111111,
              "#482878"
             ],
             [
              0.2222222222222222,
              "#3e4989"
             ],
             [
              0.3333333333333333,
              "#31688e"
             ],
             [
              0.4444444444444444,
              "#26828e"
             ],
             [
              0.5555555555555556,
              "#1f9e89"
             ],
             [
              0.6666666666666666,
              "#35b779"
             ],
             [
              0.7777777777777778,
              "#6ece58"
             ],
             [
              0.8888888888888888,
              "#b5de2b"
             ],
             [
              1,
              "#fde725"
             ]
            ],
            "type": "surface"
           }
          ],
          "table": [
           {
            "cells": {
             "fill": {
              "color": "rgb(237,237,237)"
             },
             "line": {
              "color": "white"
             }
            },
            "header": {
             "fill": {
              "color": "rgb(217,217,217)"
             },
             "line": {
              "color": "white"
             }
            },
            "type": "table"
           }
          ]
         },
         "layout": {
          "annotationdefaults": {
           "arrowhead": 0,
           "arrowwidth": 1
          },
          "autotypenumbers": "strict",
          "coloraxis": {
           "colorbar": {
            "outlinewidth": 1,
            "tickcolor": "rgb(36,36,36)",
            "ticks": "outside"
           }
          },
          "colorscale": {
           "diverging": [
            [
             0,
             "rgb(103,0,31)"
            ],
            [
             0.1,
             "rgb(178,24,43)"
            ],
            [
             0.2,
             "rgb(214,96,77)"
            ],
            [
             0.3,
             "rgb(244,165,130)"
            ],
            [
             0.4,
             "rgb(253,219,199)"
            ],
            [
             0.5,
             "rgb(247,247,247)"
            ],
            [
             0.6,
             "rgb(209,229,240)"
            ],
            [
             0.7,
             "rgb(146,197,222)"
            ],
            [
             0.8,
             "rgb(67,147,195)"
            ],
            [
             0.9,
             "rgb(33,102,172)"
            ],
            [
             1,
             "rgb(5,48,97)"
            ]
           ],
           "sequential": [
            [
             0,
             "#440154"
            ],
            [
             0.1111111111111111,
             "#482878"
            ],
            [
             0.2222222222222222,
             "#3e4989"
            ],
            [
             0.3333333333333333,
             "#31688e"
            ],
            [
             0.4444444444444444,
             "#26828e"
            ],
            [
             0.5555555555555556,
             "#1f9e89"
            ],
            [
             0.6666666666666666,
             "#35b779"
            ],
            [
             0.7777777777777778,
             "#6ece58"
            ],
            [
             0.8888888888888888,
             "#b5de2b"
            ],
            [
             1,
             "#fde725"
            ]
           ],
           "sequentialminus": [
            [
             0,
             "#440154"
            ],
            [
             0.1111111111111111,
             "#482878"
            ],
            [
             0.2222222222222222,
             "#3e4989"
            ],
            [
             0.3333333333333333,
             "#31688e"
            ],
            [
             0.4444444444444444,
             "#26828e"
            ],
            [
             0.5555555555555556,
             "#1f9e89"
            ],
            [
             0.6666666666666666,
             "#35b779"
            ],
            [
             0.7777777777777778,
             "#6ece58"
            ],
            [
             0.8888888888888888,
             "#b5de2b"
            ],
            [
             1,
             "#fde725"
            ]
           ]
          },
          "colorway": [
           "#1F77B4",
           "#FF7F0E",
           "#2CA02C",
           "#D62728",
           "#9467BD",
           "#8C564B",
           "#E377C2",
           "#7F7F7F",
           "#BCBD22",
           "#17BECF"
          ],
          "font": {
           "color": "rgb(36,36,36)"
          },
          "geo": {
           "bgcolor": "white",
           "lakecolor": "white",
           "landcolor": "white",
           "showlakes": true,
           "showland": true,
           "subunitcolor": "white"
          },
          "hoverlabel": {
           "align": "left"
          },
          "hovermode": "closest",
          "mapbox": {
           "style": "light"
          },
          "paper_bgcolor": "white",
          "plot_bgcolor": "white",
          "polar": {
           "angularaxis": {
            "gridcolor": "rgb(232,232,232)",
            "linecolor": "rgb(36,36,36)",
            "showgrid": false,
            "showline": true,
            "ticks": "outside"
           },
           "bgcolor": "white",
           "radialaxis": {
            "gridcolor": "rgb(232,232,232)",
            "linecolor": "rgb(36,36,36)",
            "showgrid": false,
            "showline": true,
            "ticks": "outside"
           }
          },
          "scene": {
           "xaxis": {
            "backgroundcolor": "white",
            "gridcolor": "rgb(232,232,232)",
            "gridwidth": 2,
            "linecolor": "rgb(36,36,36)",
            "showbackground": true,
            "showgrid": false,
            "showline": true,
            "ticks": "outside",
            "zeroline": false,
            "zerolinecolor": "rgb(36,36,36)"
           },
           "yaxis": {
            "backgroundcolor": "white",
            "gridcolor": "rgb(232,232,232)",
            "gridwidth": 2,
            "linecolor": "rgb(36,36,36)",
            "showbackground": true,
            "showgrid": false,
            "showline": true,
            "ticks": "outside",
            "zeroline": false,
            "zerolinecolor": "rgb(36,36,36)"
           },
           "zaxis": {
            "backgroundcolor": "white",
            "gridcolor": "rgb(232,232,232)",
            "gridwidth": 2,
            "linecolor": "rgb(36,36,36)",
            "showbackground": true,
            "showgrid": false,
            "showline": true,
            "ticks": "outside",
            "zeroline": false,
            "zerolinecolor": "rgb(36,36,36)"
           }
          },
          "shapedefaults": {
           "fillcolor": "black",
           "line": {
            "width": 0
           },
           "opacity": 0.3
          },
          "ternary": {
           "aaxis": {
            "gridcolor": "rgb(232,232,232)",
            "linecolor": "rgb(36,36,36)",
            "showgrid": false,
            "showline": true,
            "ticks": "outside"
           },
           "baxis": {
            "gridcolor": "rgb(232,232,232)",
            "linecolor": "rgb(36,36,36)",
            "showgrid": false,
            "showline": true,
            "ticks": "outside"
           },
           "bgcolor": "white",
           "caxis": {
            "gridcolor": "rgb(232,232,232)",
            "linecolor": "rgb(36,36,36)",
            "showgrid": false,
            "showline": true,
            "ticks": "outside"
           }
          },
          "title": {
           "x": 0.05
          },
          "xaxis": {
           "automargin": true,
           "gridcolor": "rgb(232,232,232)",
           "linecolor": "rgb(36,36,36)",
           "showgrid": false,
           "showline": true,
           "ticks": "outside",
           "title": {
            "standoff": 15
           },
           "zeroline": false,
           "zerolinecolor": "rgb(36,36,36)"
          },
          "yaxis": {
           "automargin": true,
           "gridcolor": "rgb(232,232,232)",
           "linecolor": "rgb(36,36,36)",
           "showgrid": false,
           "showline": true,
           "ticks": "outside",
           "title": {
            "standoff": 15
           },
           "zeroline": false,
           "zerolinecolor": "rgb(36,36,36)"
          }
         }
        },
        "title": {
         "text": "USA"
        },
        "width": 1100,
        "xaxis": {
         "anchor": "y",
         "domain": [
          0,
          0.45
         ]
        },
        "xaxis2": {
         "anchor": "y2",
         "domain": [
          0.55,
          1
         ]
        },
        "xaxis3": {
         "anchor": "y3",
         "domain": [
          0,
          0.45
         ]
        },
        "xaxis4": {
         "anchor": "y4",
         "domain": [
          0.55,
          1
         ]
        },
        "yaxis": {
         "anchor": "x",
         "domain": [
          0.575,
          1
         ],
         "dtick": 1,
         "range": [
          1,
          7
         ]
        },
        "yaxis2": {
         "anchor": "x2",
         "domain": [
          0.575,
          1
         ],
         "dtick": 1,
         "range": [
          1,
          7
         ]
        },
        "yaxis3": {
         "anchor": "x3",
         "domain": [
          0,
          0.425
         ],
         "dtick": 1,
         "range": [
          1,
          7
         ]
        },
        "yaxis4": {
         "anchor": "x4",
         "domain": [
          0,
          0.425
         ],
         "dtick": 1,
         "range": [
          1,
          7
         ]
        }
       }
      }
     },
     "metadata": {},
     "output_type": "display_data"
    }
   ],
   "source": [
    "create_line_subplot(\n",
    "    data=data_usa, output_file_name=\"scenarios_usa\", show_fig=True, fig_title=\"USA\"\n",
    ")"
   ]
  }
 ],
 "metadata": {
  "kernelspec": {
   "display_name": "pa-leadership-survey-1DBoniK8",
   "language": "python",
   "name": "python3"
  },
  "language_info": {
   "codemirror_mode": {
    "name": "ipython",
    "version": 3
   },
   "file_extension": ".py",
   "mimetype": "text/x-python",
   "name": "python",
   "nbconvert_exporter": "python",
   "pygments_lexer": "ipython3",
   "version": "3.11.6"
  }
 },
 "nbformat": 4,
 "nbformat_minor": 2
}
