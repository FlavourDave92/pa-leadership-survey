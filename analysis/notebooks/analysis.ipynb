{
 "cells": [
  {
   "cell_type": "code",
   "execution_count": 1,
   "metadata": {},
   "outputs": [],
   "source": [
    "import pandas as pd"
   ]
  },
  {
   "cell_type": "code",
   "execution_count": 5,
   "metadata": {},
   "outputs": [],
   "source": [
    "time_taken = pd.Series([1174.0,\n",
    "573.0,\n",
    "358.0,\n",
    "983.0,\n",
    "455.0,\n",
    "242.0,\n",
    "255.0,\n",
    "389.0,\n",
    "323.0,\n",
    "465.0,\n",
    "436.0,\n",
    "1094.0,\n",
    "283.0,\n",
    "947.0,\n",
    "291.0,\n",
    "719.0,\n",
    "364.0,\n",
    "343.0,\n",
    "185.0,\n",
    "271.0,\n",
    "685.0,\n",
    "342.0,\n",
    "1752.0,\n",
    "215.0,\n",
    "2324.0,\n",
    "747.0,\n",
    "571.0,\n",
    "477.0,\n",
    "654.0,\n",
    "288.0,\n",
    "419.0,\n",
    "235.0,\n",
    "347.0,\n",
    "785.0,\n",
    "678.0,\n",
    "716.0,\n",
    "474.0,\n",
    "334.0,\n",
    "891.0,\n",
    "268.0,\n",
    "271.0,\n",
    "652.0,\n",
    "344.0,\n",
    "170.0,\n",
    "249.0,\n",
    "225.0,\n",
    "349.0,\n",
    "231.0,\n",
    "376.0,\n",
    "486.0,\n",
    "875.0,\n",
    "298.0,\n",
    "269.0,\n",
    "801.0,\n",
    "295.0,\n",
    "635.0,\n",
    "370.0,\n",
    "145.0,\n",
    "698.0,\n",
    "409.0,\n",
    "678.0,\n",
    "282.0,\n",
    "305.0,\n",
    "372.0,\n",
    "465.0,\n",
    "639.0,\n",
    "202.0,\n",
    "285.0,\n",
    "627.0,\n",
    "364.0,\n",
    "792.0,\n",
    "616.0,\n",
    "398.0,\n",
    "473.0,\n",
    "647.0,\n",
    "332.0,\n",
    "1656.0,\n",
    "202.0,\n",
    "279.0,\n",
    "835.0,\n",
    "678.0,\n",
    "157.0,\n",
    "216.0,\n",
    "693.0,\n",
    "261.0,\n",
    "241.0,\n",
    "275.0,\n",
    "542.0,\n",
    "456.0,\n",
    "383.0,\n",
    "446.0,\n",
    "377.0,\n",
    "332.0,\n",
    "399.0,\n",
    "309.0,\n",
    "585.0,\n",
    "670.0,\n",
    "420.0]\n",
    ")"
   ]
  },
  {
   "cell_type": "code",
   "execution_count": 6,
   "metadata": {},
   "outputs": [
    {
     "data": {
      "text/plain": [
       "<AxesSubplot: ylabel='Frequency'>"
      ]
     },
     "execution_count": 6,
     "metadata": {},
     "output_type": "execute_result"
    },
    {
     "data": {
      "image/png": "[encoded data removed]",
      "text/plain": [
       "<Figure size 432x288 with 1 Axes>"
      ]
     },
     "metadata": {
      "needs_background": "light"
     },
     "output_type": "display_data"
    }
   ],
   "source": [
    "time_taken.plot.hist()"
   ]
  },
  {
   "cell_type": "code",
   "execution_count": 20,
   "metadata": {},
   "outputs": [
    {
     "data": {
      "text/plain": [
       "Series([], dtype: float64)"
      ]
     },
     "execution_count": 20,
     "metadata": {},
     "output_type": "execute_result"
    }
   ],
   "source": [
    "mean_std_series = pd.Series(\n",
    "    [(x - time_taken.mean()) / time_taken.std() for x in time_taken.to_list()]\n",
    ")\n",
    "mean_std_series.loc[\n",
    "    mean_std_series < mean_std_series.mean() - 3 * mean_std_series.std()\n",
    "]"
   ]
  },
  {
   "cell_type": "code",
   "execution_count": 21,
   "metadata": {},
   "outputs": [
    {
     "data": {
      "text/plain": [
       "<AxesSubplot: >"
      ]
     },
     "execution_count": 21,
     "metadata": {},
     "output_type": "execute_result"
    },
    {
     "data": {
      "image/png": "[encoded data removed]",
      "text/plain": [
       "<Figure size 432x288 with 1 Axes>"
      ]
     },
     "metadata": {
      "needs_background": "light"
     },
     "output_type": "display_data"
    }
   ],
   "source": [
    "mean_std_series.hist()"
   ]
  }
 ],
 "metadata": {
  "kernelspec": {
   "display_name": "pa-leadership-survey-1DBoniK8",
   "language": "python",
   "name": "python3"
  },
  "language_info": {
   "codemirror_mode": {
    "name": "ipython",
    "version": 3
   },
   "file_extension": ".py",
   "mimetype": "text/x-python",
   "name": "python",
   "nbconvert_exporter": "python",
   "pygments_lexer": "ipython3",
   "version": "3.9.17"
  }
 },
 "nbformat": 4,
 "nbformat_minor": 2
}
