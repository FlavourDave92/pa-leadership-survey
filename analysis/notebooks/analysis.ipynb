{
 "cells": [
  {
   "cell_type": "code",
   "execution_count": 162,
   "metadata": {},
   "outputs": [],
   "source": [
    "import pandas as pd\n",
    "import numpy as np\n",
    "\n",
    "pd.options.plotting.backend = \"plotly\"\n",
    "import plotly\n",
    "import plotly.graph_objects as go\n",
    "from plotly.subplots import make_subplots\n",
    "\n",
    "\n",
    "\n",
    "import plotly.io as pio\n",
    "import plotly.express as px\n",
    "\n",
    "pio.templates.default = \"simple_white\""
   ]
  },
  {
   "cell_type": "code",
   "execution_count": 163,
   "metadata": {},
   "outputs": [],
   "source": [
    "control_columns = [\n",
    "    \"Participant id\",\n",
    "    \"Number of subordinates\",\n",
    "    \"Age\",\n",
    "    \"Sex\",\n",
    "]\n",
    "\n",
    "data_usa_raw = (\n",
    "    pd.read_csv(\"../data/raw/usa/all_apps_wide_2023-11-14_USA.csv\")\n",
    "    .merge(\n",
    "        pd.read_csv(\"../data/raw/usa/prolific_demographics.csv\")[control_columns],\n",
    "        left_on=\"participant.label\",\n",
    "        right_on=\"Participant id\",\n",
    "        how=\"left\",\n",
    "    )\n",
    ")\n",
    "data_deu_1_raw = (\n",
    "    pd.read_csv(\"../data/raw/deutsch/all_apps_wide_2023-11-14_DEU.csv\")\n",
    "    .merge(\n",
    "        pd.read_csv(\"../data/raw/deutsch/prolific_demographics.csv\")[control_columns],\n",
    "        left_on=\"participant.label\",\n",
    "        right_on=\"Participant id\",\n",
    "        how=\"left\",\n",
    "    )\n",
    ")\n",
    "data_deu_2_raw = (\n",
    "    pd.read_csv(\"../data/raw/deutsch runde 2/all_apps_wide_2023-11-16_DEU.csv\")\n",
    "    .merge(\n",
    "        pd.read_csv(\"../data/raw/deutsch runde 2/prolific_demographics.csv\")[\n",
    "            control_columns\n",
    "        ],\n",
    "        left_on=\"participant.label\",\n",
    "        right_on=\"Participant id\",\n",
    "        how=\"left\",\n",
    "    )\n",
    ")"
   ]
  },
  {
   "cell_type": "code",
   "execution_count": 164,
   "metadata": {},
   "outputs": [],
   "source": [
    "# page times\n",
    "\n",
    "page_times_usa_raw = pd.read_csv(\"../data/raw/usa/PageTimes-2023-11-14_USA.csv\")\n",
    "page_times_deu_1_raw = pd.read_csv(\"../data/raw/deutsch/PageTimes-2023-11-14_DEU.csv\")\n",
    "page_times_deu_2_raw = pd.read_csv(\n",
    "    \"../data/raw/deutsch runde 2/PageTimes-2023-11-16_DEU.csv\"\n",
    ")"
   ]
  },
  {
   "cell_type": "code",
   "execution_count": 165,
   "metadata": {},
   "outputs": [],
   "source": [
    "merged_times = pd.concat(\n",
    "    [page_times_usa_raw, page_times_deu_1_raw, page_times_deu_2_raw], axis=0\n",
    ")\n",
    "\n",
    "time_delta = (\n",
    "    (\n",
    "        merged_times.groupby(\"participant_code\")[\"epoch_time_completed\"].max()\n",
    "        - merged_times.groupby(\"participant_code\")[\"epoch_time_completed\"].min()\n",
    "    )\n",
    "    .to_frame()\n",
    "    .reset_index()\n",
    ")"
   ]
  },
  {
   "cell_type": "code",
   "execution_count": 166,
   "metadata": {},
   "outputs": [],
   "source": [
    "relevant_columns = [\n",
    "    \"survey.1.player.positive_szenarios\",\n",
    "    \"survey.1.player.treatment_pa\",\n",
    "    \"survey.1.player.PRS1T1\",\n",
    "    \"survey.1.player.PRS1T2\",\n",
    "    \"survey.1.player.PRS2T1\",\n",
    "    \"survey.1.player.PRS2T2\",\n",
    "    \"survey.1.player.PRS3T1\",\n",
    "    \"survey.1.player.PRS3T2\",\n",
    "    \"survey.1.player.PRS4T1\",\n",
    "    \"survey.1.player.PRS4T2\",\n",
    "    \"survey.1.player.FRS1T1\",\n",
    "    \"survey.1.player.FRS1T2\",\n",
    "    \"survey.1.player.FRS2T1\",\n",
    "    \"survey.1.player.FRS2T2\",\n",
    "    \"survey.1.player.FRS3T1\",\n",
    "    \"survey.1.player.FRS3T2\",\n",
    "    \"survey.1.player.FRS4T1\",\n",
    "    \"survey.1.player.FRS4T2\",\n",
    "    \"survey.1.player.ARS1T1\",\n",
    "    \"survey.1.player.ARS1T2\",\n",
    "    \"survey.1.player.ARS2T1\",\n",
    "    \"survey.1.player.ARS2T2\",\n",
    "    \"survey.1.player.ARS3T1\",\n",
    "    \"survey.1.player.ARS3T2\",\n",
    "    \"survey.1.player.ARS4T1\",\n",
    "    \"survey.1.player.ARS4T2\",\n",
    "    \"survey.1.player.ETHS1T1\",\n",
    "    \"survey.1.player.ETHS1T2\",\n",
    "    \"survey.1.player.ETHS2T1\",\n",
    "    \"survey.1.player.ETHS2T2\",\n",
    "    \"survey.1.player.ETHS3T1\",\n",
    "    \"survey.1.player.ETHS3T2\",\n",
    "    \"survey.1.player.ETHS4T1\",\n",
    "    \"survey.1.player.ETHS4T2\",\n",
    "    \"survey.1.player.PROS1T1\",\n",
    "    \"survey.1.player.PROS1T2\",\n",
    "    \"survey.1.player.PROS2T1\",\n",
    "    \"survey.1.player.PROS2T2\",\n",
    "    \"survey.1.player.PROS3T1\",\n",
    "    \"survey.1.player.PROS3T2\",\n",
    "    \"survey.1.player.PROS4T1\",\n",
    "    \"survey.1.player.PROS4T2\",\n",
    "    \"survey.1.player.algo_aversion\",\n",
    "    \"origin\",\n",
    "    \"overall_time\",\n",
    "    \"Number of subordinates\",\n",
    "    \"Age\",\n",
    "    \"Sex\",\n",
    "]"
   ]
  },
  {
   "cell_type": "code",
   "execution_count": 171,
   "metadata": {},
   "outputs": [],
   "source": [
    "data_all = (\n",
    "    pd.concat(\n",
    "        [\n",
    "            data_usa_raw.assign(origin=\"USA\"),\n",
    "            data_deu_1_raw.assign(origin=\"DEU\"),\n",
    "            data_deu_2_raw.assign(origin=\"DEU\"),\n",
    "        ],\n",
    "        axis=0,\n",
    "    )\n",
    "    .merge(time_delta, left_on=\"participant.code\", right_on=\"participant_code\")\n",
    "    .rename(columns={\"epoch_time_completed\": \"overall_time\"})\n",
    "    .loc[lambda df_: df_[\"participant._current_page_name\"] == \"End\"]\n",
    "    # .loc[:, relevant_columns]\n",
    "    .rename(\n",
    "        columns=dict(\n",
    "            zip(\n",
    "                relevant_columns,\n",
    "                [x.replace(\"survey.1.player.\", \"\") for x in relevant_columns],\n",
    "            )\n",
    "        )\n",
    "    )\n",
    "    .rename(\n",
    "        columns={\n",
    "            \"Number of subordinates\": \"number_of_subordinates\",\n",
    "            \"Age\": \"age\",\n",
    "            \"Sex\": \"sex\",\n",
    "        }\n",
    "    )\n",
    ")\n",
    "MIN_TIME = data_all.overall_time.quantile(0.25)  # 5 min also worked ok\n",
    "MAX_TIME = data_all.overall_time.quantile(0.75)  # 15 also min worked ok\n",
    "data_all = data_all.loc[\n",
    "    data_all.overall_time.between(left=MIN_TIME, right=MAX_TIME, inclusive=\"both\")\n",
    "]\n",
    "data_usa = data_all.loc[data_all.origin == \"USA\"]\n",
    "data_deu = data_all.loc[data_all.origin == \"DEU\"]"
   ]
  },
  {
   "cell_type": "markdown",
   "metadata": {},
   "source": [
    "Scale explanation:\n",
    "- FRS1T1 -->  feel responsible senario 1, team lead 1 (familiar solution)\n",
    "- ARS1T1 -->  act responsible senario 1, team lead 1 (familiar solution)\n",
    "- FRS1T2 -->  feel responsible senario 1, team lead 2 (new solution)\n",
    "- ARS1T2 -->  act responsible senario 1, team lead 2 (new solution)"
   ]
  },
  {
   "cell_type": "code",
   "execution_count": 172,
   "metadata": {},
   "outputs": [],
   "source": [
    "scenario_dict_outcome = {\n",
    "    \"1\": {\"positive\": \"1_and_4\", \"negative\": \"2_and_3\"},\n",
    "    \"2\": {\"positive\": \"2_and_3\", \"negative\": \"1_and_4\"},\n",
    "    \"3\": {\"positive\": \"2_and_3\", \"negative\": \"1_and_4\"},\n",
    "    \"4\": {\"positive\": \"1_and_4\", \"negative\": \"2_and_3\"},\n",
    "}\n",
    "\n",
    "scenario_dict_pa = {\n",
    "    \"1\": {\"yes\": \"1_and_4\", \"no\": \"2_and_3\"},\n",
    "    \"2\": {\"yes\": \"2_and_3\", \"no\": \"1_and_4\"},\n",
    "    \"3\": {\"yes\": \"2_and_3\", \"no\": \"1_and_4\"},\n",
    "    \"4\": {\"yes\": \"1_and_4\", \"no\": \"2_and_3\"},\n",
    "}\n",
    "\n",
    "\n",
    "def get_mean_scales(data, scale, scenario_nr, solution_type, outcome, pa):\n",
    "    scale_string = \"\"\n",
    "    if scale == \"feel\":\n",
    "        scale_string += \"FR\"\n",
    "    elif scale == \"act\":\n",
    "        scale_string += \"AR\"\n",
    "    elif scale == \"risk\":\n",
    "        scale_string += \"PR\"\n",
    "\n",
    "    scale_string += f\"S{scenario_nr}\"\n",
    "\n",
    "    if solution_type == \"familiar\":\n",
    "        scale_string += \"T1\"\n",
    "    else:\n",
    "        scale_string += \"T2\"\n",
    "\n",
    "    outcome_filter = scenario_dict_outcome[str(scenario_nr)][outcome]\n",
    "    pa_filter = scenario_dict_pa[str(scenario_nr)][pa]\n",
    "\n",
    "    return data.loc[\n",
    "        (data.positive_szenarios == outcome_filter)\n",
    "        & (data.treatment_pa == pa_filter),\n",
    "        scale_string,\n",
    "    ].mean()"
   ]
  },
  {
   "cell_type": "markdown",
   "metadata": {},
   "source": [
    "## Plot Fig 1 from Nordbye"
   ]
  },
  {
   "cell_type": "code",
   "execution_count": 173,
   "metadata": {},
   "outputs": [],
   "source": [
    "x_axis_values_list = [\n",
    "    [\"Familiar solution\", \"New solution\"],\n",
    "    [\"Follow advise\", \"Not follow advise\"],\n",
    "    [\"Hold on\", \"Change decision\"],\n",
    "    [\"Wait and see\", \"Take action\"],\n",
    "]\n",
    "\n",
    "d3_colors = px.colors.qualitative.D3\n",
    "colors_dict = {\n",
    "    \"feel responsible + positive outcome + PA yes\": d3_colors[0],\n",
    "    \"feel responsible + positive outcome + PA no\": d3_colors[1],\n",
    "    \"feel responsible + negative outcome + PA yes\": d3_colors[2],\n",
    "    \"feel responsible + negative outcome + PA no\": d3_colors[3],\n",
    "    \"act responsible + positive outcome + PA yes\": d3_colors[4],\n",
    "    \"act responsible + positive outcome + PA no\": d3_colors[5],\n",
    "    \"act responsible + negative outcome + PA yes\": d3_colors[6],\n",
    "    \"act responsible + negative outcome + PA no\": d3_colors[7],\n",
    "}\n",
    "\n",
    "\n",
    "def create_line_subplot(data, output_file_name, show_fig, fig_title):\n",
    "    fig = make_subplots(rows=2, cols=2)\n",
    "\n",
    "    for scenario, x_axis_values in zip(range(1, 5), x_axis_values_list):\n",
    "        for responsibility_scale in [\"feel\", \"act\"]:\n",
    "            for outcome in [\"positive\", \"negative\"]:\n",
    "                for pa_available in [\"yes\", \"no\"]:\n",
    "                    fig.add_trace(\n",
    "                        go.Scatter(\n",
    "                            x=x_axis_values,\n",
    "                            y=[\n",
    "                                get_mean_scales(\n",
    "                                    data=data,\n",
    "                                    scale=responsibility_scale,\n",
    "                                    scenario_nr=scenario,\n",
    "                                    solution_type=\"familiar\",\n",
    "                                    outcome=outcome,\n",
    "                                    pa=pa_available,\n",
    "                                ),\n",
    "                                get_mean_scales(\n",
    "                                    data=data,\n",
    "                                    scale=responsibility_scale,\n",
    "                                    scenario_nr=scenario,\n",
    "                                    solution_type=\"new\",\n",
    "                                    outcome=outcome,\n",
    "                                    pa=pa_available,\n",
    "                                ),\n",
    "                            ],\n",
    "                            mode=\"lines+markers\",\n",
    "                            name=f\"{responsibility_scale} responsible + {outcome} outcome + PA {pa_available}\",\n",
    "                            legendgroup=f\"{responsibility_scale} responsible + {outcome} outcome + PA {pa_available}\",\n",
    "                            marker_color=colors_dict[\n",
    "                                f\"{responsibility_scale} responsible + {outcome} outcome + PA {pa_available}\"\n",
    "                            ],\n",
    "                            showlegend=True if scenario == 1 else False,\n",
    "                        ),\n",
    "                        row=1 if scenario in [1, 2] else 2,\n",
    "                        col=1 if scenario in [1, 3] else 2,\n",
    "                    )\n",
    "    fig.update_yaxes(range=[1, 7], dtick=1)\n",
    "    fig.update_layout(width=900 + 200, height=600 + 200, title=fig_title)\n",
    "    fig.write_html(f\"{output_file_name}.html\")\n",
    "    if show_fig:\n",
    "        fig.show()"
   ]
  },
  {
   "cell_type": "code",
   "execution_count": 174,
   "metadata": {},
   "outputs": [
    {
     "data": {
      "application/vnd.plotly.v1+json": {
       "config": {
        "plotlyServerURL": "https://plot.ly"
       },
       "data": [
        {
         "legendgroup": "feel responsible + positive outcome + PA yes",
         "marker": {
          "color": "#1F77B4"
         },
         "mode": "lines+markers",
         "name": "feel responsible + positive outcome + PA yes",
         "showlegend": true,
         "type": "scatter",
         "x": [
          "Familiar solution",
          "New solution"
         ],
         "xaxis": "x",
         "y": [
          5.04,
          6.4
         ],
         "yaxis": "y"
        },
        {
         "legendgroup": "feel responsible + positive outcome + PA no",
         "marker": {
          "color": "#FF7F0E"
         },
         "mode": "lines+markers",
         "name": "feel responsible + positive outcome + PA no",
         "showlegend": true,
         "type": "scatter",
         "x": [
          "Familiar solution",
          "New solution"
         ],
         "xaxis": "x",
         "y": [
          5.473684210526316,
          6.315789473684211
         ],
         "yaxis": "y"
        },
        {
         "legendgroup": "feel responsible + negative outcome + PA yes",
         "marker": {
          "color": "#2CA02C"
         },
         "mode": "lines+markers",
         "name": "feel responsible + negative outcome + PA yes",
         "showlegend": true,
         "type": "scatter",
         "x": [
          "Familiar solution",
          "New solution"
         ],
         "xaxis": "x",
         "y": [
          4.346153846153846,
          5.961538461538462
         ],
         "yaxis": "y"
        },
        {
         "legendgroup": "feel responsible + negative outcome + PA no",
         "marker": {
          "color": "#D62728"
         },
         "mode": "lines+markers",
         "name": "feel responsible + negative outcome + PA no",
         "showlegend": true,
         "type": "scatter",
         "x": [
          "Familiar solution",
          "New solution"
         ],
         "xaxis": "x",
         "y": [
          4.05,
          5.95
         ],
         "yaxis": "y"
        },
        {
         "legendgroup": "act responsible + positive outcome + PA yes",
         "marker": {
          "color": "#9467BD"
         },
         "mode": "lines+markers",
         "name": "act responsible + positive outcome + PA yes",
         "showlegend": true,
         "type": "scatter",
         "x": [
          "Familiar solution",
          "New solution"
         ],
         "xaxis": "x",
         "y": [
          6.2,
          4.96
         ],
         "yaxis": "y"
        },
        {
         "legendgroup": "act responsible + positive outcome + PA no",
         "marker": {
          "color": "#8C564B"
         },
         "mode": "lines+markers",
         "name": "act responsible + positive outcome + PA no",
         "showlegend": true,
         "type": "scatter",
         "x": [
          "Familiar solution",
          "New solution"
         ],
         "xaxis": "x",
         "y": [
          5.894736842105263,
          5.2105263157894735
         ],
         "yaxis": "y"
        },
        {
         "legendgroup": "act responsible + negative outcome + PA yes",
         "marker": {
          "color": "#E377C2"
         },
         "mode": "lines+markers",
         "name": "act responsible + negative outcome + PA yes",
         "showlegend": true,
         "type": "scatter",
         "x": [
          "Familiar solution",
          "New solution"
         ],
         "xaxis": "x",
         "y": [
          5.346153846153846,
          4.730769230769231
         ],
         "yaxis": "y"
        },
        {
         "legendgroup": "act responsible + negative outcome + PA no",
         "marker": {
          "color": "#7F7F7F"
         },
         "mode": "lines+markers",
         "name": "act responsible + negative outcome + PA no",
         "showlegend": true,
         "type": "scatter",
         "x": [
          "Familiar solution",
          "New solution"
         ],
         "xaxis": "x",
         "y": [
          5.35,
          4.5
         ],
         "yaxis": "y"
        },
        {
         "legendgroup": "feel responsible + positive outcome + PA yes",
         "marker": {
          "color": "#1F77B4"
         },
         "mode": "lines+markers",
         "name": "feel responsible + positive outcome + PA yes",
         "showlegend": false,
         "type": "scatter",
         "x": [
          "Follow advise",
          "Not follow advise"
         ],
         "xaxis": "x2",
         "y": [
          4.35,
          6.35
         ],
         "yaxis": "y2"
        },
        {
         "legendgroup": "feel responsible + positive outcome + PA no",
         "marker": {
          "color": "#FF7F0E"
         },
         "mode": "lines+markers",
         "name": "feel responsible + positive outcome + PA no",
         "showlegend": false,
         "type": "scatter",
         "x": [
          "Follow advise",
          "Not follow advise"
         ],
         "xaxis": "x2",
         "y": [
          4.8076923076923075,
          6.230769230769231
         ],
         "yaxis": "y2"
        },
        {
         "legendgroup": "feel responsible + negative outcome + PA yes",
         "marker": {
          "color": "#2CA02C"
         },
         "mode": "lines+markers",
         "name": "feel responsible + negative outcome + PA yes",
         "showlegend": false,
         "type": "scatter",
         "x": [
          "Follow advise",
          "Not follow advise"
         ],
         "xaxis": "x2",
         "y": [
          2.8947368421052633,
          5.526315789473684
         ],
         "yaxis": "y2"
        },
        {
         "legendgroup": "feel responsible + negative outcome + PA no",
         "marker": {
          "color": "#D62728"
         },
         "mode": "lines+markers",
         "name": "feel responsible + negative outcome + PA no",
         "showlegend": false,
         "type": "scatter",
         "x": [
          "Follow advise",
          "Not follow advise"
         ],
         "xaxis": "x2",
         "y": [
          3.04,
          6.36
         ],
         "yaxis": "y2"
        },
        {
         "legendgroup": "act responsible + positive outcome + PA yes",
         "marker": {
          "color": "#9467BD"
         },
         "mode": "lines+markers",
         "name": "act responsible + positive outcome + PA yes",
         "showlegend": false,
         "type": "scatter",
         "x": [
          "Follow advise",
          "Not follow advise"
         ],
         "xaxis": "x2",
         "y": [
          5.85,
          4.75
         ],
         "yaxis": "y2"
        },
        {
         "legendgroup": "act responsible + positive outcome + PA no",
         "marker": {
          "color": "#8C564B"
         },
         "mode": "lines+markers",
         "name": "act responsible + positive outcome + PA no",
         "showlegend": false,
         "type": "scatter",
         "x": [
          "Follow advise",
          "Not follow advise"
         ],
         "xaxis": "x2",
         "y": [
          5.923076923076923,
          4.3076923076923075
         ],
         "yaxis": "y2"
        },
        {
         "legendgroup": "act responsible + negative outcome + PA yes",
         "marker": {
          "color": "#E377C2"
         },
         "mode": "lines+markers",
         "name": "act responsible + negative outcome + PA yes",
         "showlegend": false,
         "type": "scatter",
         "x": [
          "Follow advise",
          "Not follow advise"
         ],
         "xaxis": "x2",
         "y": [
          5.2631578947368425,
          3.473684210526316
         ],
         "yaxis": "y2"
        },
        {
         "legendgroup": "act responsible + negative outcome + PA no",
         "marker": {
          "color": "#7F7F7F"
         },
         "mode": "lines+markers",
         "name": "act responsible + negative outcome + PA no",
         "showlegend": false,
         "type": "scatter",
         "x": [
          "Follow advise",
          "Not follow advise"
         ],
         "xaxis": "x2",
         "y": [
          5.12,
          3.68
         ],
         "yaxis": "y2"
        },
        {
         "legendgroup": "feel responsible + positive outcome + PA yes",
         "marker": {
          "color": "#1F77B4"
         },
         "mode": "lines+markers",
         "name": "feel responsible + positive outcome + PA yes",
         "showlegend": false,
         "type": "scatter",
         "x": [
          "Hold on",
          "Change decision"
         ],
         "xaxis": "x3",
         "y": [
          5.7,
          6.1
         ],
         "yaxis": "y3"
        },
        {
         "legendgroup": "feel responsible + positive outcome + PA no",
         "marker": {
          "color": "#FF7F0E"
         },
         "mode": "lines+markers",
         "name": "feel responsible + positive outcome + PA no",
         "showlegend": false,
         "type": "scatter",
         "x": [
          "Hold on",
          "Change decision"
         ],
         "xaxis": "x3",
         "y": [
          5.423076923076923,
          6.230769230769231
         ],
         "yaxis": "y3"
        },
        {
         "legendgroup": "feel responsible + negative outcome + PA yes",
         "marker": {
          "color": "#2CA02C"
         },
         "mode": "lines+markers",
         "name": "feel responsible + negative outcome + PA yes",
         "showlegend": false,
         "type": "scatter",
         "x": [
          "Hold on",
          "Change decision"
         ],
         "xaxis": "x3",
         "y": [
          4.526315789473684,
          6
         ],
         "yaxis": "y3"
        },
        {
         "legendgroup": "feel responsible + negative outcome + PA no",
         "marker": {
          "color": "#D62728"
         },
         "mode": "lines+markers",
         "name": "feel responsible + negative outcome + PA no",
         "showlegend": false,
         "type": "scatter",
         "x": [
          "Hold on",
          "Change decision"
         ],
         "xaxis": "x3",
         "y": [
          5.08,
          6.08
         ],
         "yaxis": "y3"
        },
        {
         "legendgroup": "act responsible + positive outcome + PA yes",
         "marker": {
          "color": "#9467BD"
         },
         "mode": "lines+markers",
         "name": "act responsible + positive outcome + PA yes",
         "showlegend": false,
         "type": "scatter",
         "x": [
          "Hold on",
          "Change decision"
         ],
         "xaxis": "x3",
         "y": [
          5.5,
          5.2
         ],
         "yaxis": "y3"
        },
        {
         "legendgroup": "act responsible + positive outcome + PA no",
         "marker": {
          "color": "#8C564B"
         },
         "mode": "lines+markers",
         "name": "act responsible + positive outcome + PA no",
         "showlegend": false,
         "type": "scatter",
         "x": [
          "Hold on",
          "Change decision"
         ],
         "xaxis": "x3",
         "y": [
          5.653846153846154,
          5.076923076923077
         ],
         "yaxis": "y3"
        },
        {
         "legendgroup": "act responsible + negative outcome + PA yes",
         "marker": {
          "color": "#E377C2"
         },
         "mode": "lines+markers",
         "name": "act responsible + negative outcome + PA yes",
         "showlegend": false,
         "type": "scatter",
         "x": [
          "Hold on",
          "Change decision"
         ],
         "xaxis": "x3",
         "y": [
          5.2105263157894735,
          4.052631578947368
         ],
         "yaxis": "y3"
        },
        {
         "legendgroup": "act responsible + negative outcome + PA no",
         "marker": {
          "color": "#7F7F7F"
         },
         "mode": "lines+markers",
         "name": "act responsible + negative outcome + PA no",
         "showlegend": false,
         "type": "scatter",
         "x": [
          "Hold on",
          "Change decision"
         ],
         "xaxis": "x3",
         "y": [
          5.2,
          4.84
         ],
         "yaxis": "y3"
        },
        {
         "legendgroup": "feel responsible + positive outcome + PA yes",
         "marker": {
          "color": "#1F77B4"
         },
         "mode": "lines+markers",
         "name": "feel responsible + positive outcome + PA yes",
         "showlegend": false,
         "type": "scatter",
         "x": [
          "Wait and see",
          "Take action"
         ],
         "xaxis": "x4",
         "y": [
          4.48,
          6
         ],
         "yaxis": "y4"
        },
        {
         "legendgroup": "feel responsible + positive outcome + PA no",
         "marker": {
          "color": "#FF7F0E"
         },
         "mode": "lines+markers",
         "name": "feel responsible + positive outcome + PA no",
         "showlegend": false,
         "type": "scatter",
         "x": [
          "Wait and see",
          "Take action"
         ],
         "xaxis": "x4",
         "y": [
          5.684210526315789,
          5.368421052631579
         ],
         "yaxis": "y4"
        },
        {
         "legendgroup": "feel responsible + negative outcome + PA yes",
         "marker": {
          "color": "#2CA02C"
         },
         "mode": "lines+markers",
         "name": "feel responsible + negative outcome + PA yes",
         "showlegend": false,
         "type": "scatter",
         "x": [
          "Wait and see",
          "Take action"
         ],
         "xaxis": "x4",
         "y": [
          5.653846153846154,
          5.230769230769231
         ],
         "yaxis": "y4"
        },
        {
         "legendgroup": "feel responsible + negative outcome + PA no",
         "marker": {
          "color": "#D62728"
         },
         "mode": "lines+markers",
         "name": "feel responsible + negative outcome + PA no",
         "showlegend": false,
         "type": "scatter",
         "x": [
          "Wait and see",
          "Take action"
         ],
         "xaxis": "x4",
         "y": [
          4.75,
          5.55
         ],
         "yaxis": "y4"
        },
        {
         "legendgroup": "act responsible + positive outcome + PA yes",
         "marker": {
          "color": "#9467BD"
         },
         "mode": "lines+markers",
         "name": "act responsible + positive outcome + PA yes",
         "showlegend": false,
         "type": "scatter",
         "x": [
          "Wait and see",
          "Take action"
         ],
         "xaxis": "x4",
         "y": [
          3.84,
          5.64
         ],
         "yaxis": "y4"
        },
        {
         "legendgroup": "act responsible + positive outcome + PA no",
         "marker": {
          "color": "#8C564B"
         },
         "mode": "lines+markers",
         "name": "act responsible + positive outcome + PA no",
         "showlegend": false,
         "type": "scatter",
         "x": [
          "Wait and see",
          "Take action"
         ],
         "xaxis": "x4",
         "y": [
          4.2631578947368425,
          4.947368421052632
         ],
         "yaxis": "y4"
        },
        {
         "legendgroup": "act responsible + negative outcome + PA yes",
         "marker": {
          "color": "#E377C2"
         },
         "mode": "lines+markers",
         "name": "act responsible + negative outcome + PA yes",
         "showlegend": false,
         "type": "scatter",
         "x": [
          "Wait and see",
          "Take action"
         ],
         "xaxis": "x4",
         "y": [
          4.115384615384615,
          4.653846153846154
         ],
         "yaxis": "y4"
        },
        {
         "legendgroup": "act responsible + negative outcome + PA no",
         "marker": {
          "color": "#7F7F7F"
         },
         "mode": "lines+markers",
         "name": "act responsible + negative outcome + PA no",
         "showlegend": false,
         "type": "scatter",
         "x": [
          "Wait and see",
          "Take action"
         ],
         "xaxis": "x4",
         "y": [
          3.25,
          5.2
         ],
         "yaxis": "y4"
        }
       ],
       "layout": {
        "height": 800,
        "template": {
         "data": {
          "bar": [
           {
            "error_x": {
             "color": "rgb(36,36,36)"
            },
            "error_y": {
             "color": "rgb(36,36,36)"
            },
            "marker": {
             "line": {
              "color": "white",
              "width": 0.5
             },
             "pattern": {
              "fillmode": "overlay",
              "size": 10,
              "solidity": 0.2
             }
            },
            "type": "bar"
           }
          ],
          "barpolar": [
           {
            "marker": {
             "line": {
              "color": "white",
              "width": 0.5
             },
             "pattern": {
              "fillmode": "overlay",
              "size": 10,
              "solidity": 0.2
             }
            },
            "type": "barpolar"
           }
          ],
          "carpet": [
           {
            "aaxis": {
             "endlinecolor": "rgb(36,36,36)",
             "gridcolor": "white",
             "linecolor": "white",
             "minorgridcolor": "white",
             "startlinecolor": "rgb(36,36,36)"
            },
            "baxis": {
             "endlinecolor": "rgb(36,36,36)",
             "gridcolor": "white",
             "linecolor": "white",
             "minorgridcolor": "white",
             "startlinecolor": "rgb(36,36,36)"
            },
            "type": "carpet"
           }
          ],
          "choropleth": [
           {
            "colorbar": {
             "outlinewidth": 1,
             "tickcolor": "rgb(36,36,36)",
             "ticks": "outside"
            },
            "type": "choropleth"
           }
          ],
          "contour": [
           {
            "colorbar": {
             "outlinewidth": 1,
             "tickcolor": "rgb(36,36,36)",
             "ticks": "outside"
            },
            "colorscale": [
             [
              0,
              "#440154"
             ],
             [
              0.1111111111111111,
              "#482878"
             ],
             [
              0.2222222222222222,
              "#3e4989"
             ],
             [
              0.3333333333333333,
              "#31688e"
             ],
             [
              0.4444444444444444,
              "#26828e"
             ],
             [
              0.5555555555555556,
              "#1f9e89"
             ],
             [
              0.6666666666666666,
              "#35b779"
             ],
             [
              0.7777777777777778,
              "#6ece58"
             ],
             [
              0.8888888888888888,
              "#b5de2b"
             ],
             [
              1,
              "#fde725"
             ]
            ],
            "type": "contour"
           }
          ],
          "contourcarpet": [
           {
            "colorbar": {
             "outlinewidth": 1,
             "tickcolor": "rgb(36,36,36)",
             "ticks": "outside"
            },
            "type": "contourcarpet"
           }
          ],
          "heatmap": [
           {
            "colorbar": {
             "outlinewidth": 1,
             "tickcolor": "rgb(36,36,36)",
             "ticks": "outside"
            },
            "colorscale": [
             [
              0,
              "#440154"
             ],
             [
              0.1111111111111111,
              "#482878"
             ],
             [
              0.2222222222222222,
              "#3e4989"
             ],
             [
              0.3333333333333333,
              "#31688e"
             ],
             [
              0.4444444444444444,
              "#26828e"
             ],
             [
              0.5555555555555556,
              "#1f9e89"
             ],
             [
              0.6666666666666666,
              "#35b779"
             ],
             [
              0.7777777777777778,
              "#6ece58"
             ],
             [
              0.8888888888888888,
              "#b5de2b"
             ],
             [
              1,
              "#fde725"
             ]
            ],
            "type": "heatmap"
           }
          ],
          "heatmapgl": [
           {
            "colorbar": {
             "outlinewidth": 1,
             "tickcolor": "rgb(36,36,36)",
             "ticks": "outside"
            },
            "colorscale": [
             [
              0,
              "#440154"
             ],
             [
              0.1111111111111111,
              "#482878"
             ],
             [
              0.2222222222222222,
              "#3e4989"
             ],
             [
              0.3333333333333333,
              "#31688e"
             ],
             [
              0.4444444444444444,
              "#26828e"
             ],
             [
              0.5555555555555556,
              "#1f9e89"
             ],
             [
              0.6666666666666666,
              "#35b779"
             ],
             [
              0.7777777777777778,
              "#6ece58"
             ],
             [
              0.8888888888888888,
              "#b5de2b"
             ],
             [
              1,
              "#fde725"
             ]
            ],
            "type": "heatmapgl"
           }
          ],
          "histogram": [
           {
            "marker": {
             "line": {
              "color": "white",
              "width": 0.6
             }
            },
            "type": "histogram"
           }
          ],
          "histogram2d": [
           {
            "colorbar": {
             "outlinewidth": 1,
             "tickcolor": "rgb(36,36,36)",
             "ticks": "outside"
            },
            "colorscale": [
             [
              0,
              "#440154"
             ],
             [
              0.1111111111111111,
              "#482878"
             ],
             [
              0.2222222222222222,
              "#3e4989"
             ],
             [
              0.3333333333333333,
              "#31688e"
             ],
             [
              0.4444444444444444,
              "#26828e"
             ],
             [
              0.5555555555555556,
              "#1f9e89"
             ],
             [
              0.6666666666666666,
              "#35b779"
             ],
             [
              0.7777777777777778,
              "#6ece58"
             ],
             [
              0.8888888888888888,
              "#b5de2b"
             ],
             [
              1,
              "#fde725"
             ]
            ],
            "type": "histogram2d"
           }
          ],
          "histogram2dcontour": [
           {
            "colorbar": {
             "outlinewidth": 1,
             "tickcolor": "rgb(36,36,36)",
             "ticks": "outside"
            },
            "colorscale": [
             [
              0,
              "#440154"
             ],
             [
              0.1111111111111111,
              "#482878"
             ],
             [
              0.2222222222222222,
              "#3e4989"
             ],
             [
              0.3333333333333333,
              "#31688e"
             ],
             [
              0.4444444444444444,
              "#26828e"
             ],
             [
              0.5555555555555556,
              "#1f9e89"
             ],
             [
              0.6666666666666666,
              "#35b779"
             ],
             [
              0.7777777777777778,
              "#6ece58"
             ],
             [
              0.8888888888888888,
              "#b5de2b"
             ],
             [
              1,
              "#fde725"
             ]
            ],
            "type": "histogram2dcontour"
           }
          ],
          "mesh3d": [
           {
            "colorbar": {
             "outlinewidth": 1,
             "tickcolor": "rgb(36,36,36)",
             "ticks": "outside"
            },
            "type": "mesh3d"
           }
          ],
          "parcoords": [
           {
            "line": {
             "colorbar": {
              "outlinewidth": 1,
              "tickcolor": "rgb(36,36,36)",
              "ticks": "outside"
             }
            },
            "type": "parcoords"
           }
          ],
          "pie": [
           {
            "automargin": true,
            "type": "pie"
           }
          ],
          "scatter": [
           {
            "fillpattern": {
             "fillmode": "overlay",
             "size": 10,
             "solidity": 0.2
            },
            "type": "scatter"
           }
          ],
          "scatter3d": [
           {
            "line": {
             "colorbar": {
              "outlinewidth": 1,
              "tickcolor": "rgb(36,36,36)",
              "ticks": "outside"
             }
            },
            "marker": {
             "colorbar": {
              "outlinewidth": 1,
              "tickcolor": "rgb(36,36,36)",
              "ticks": "outside"
             }
            },
            "type": "scatter3d"
           }
          ],
          "scattercarpet": [
           {
            "marker": {
             "colorbar": {
              "outlinewidth": 1,
              "tickcolor": "rgb(36,36,36)",
              "ticks": "outside"
             }
            },
            "type": "scattercarpet"
           }
          ],
          "scattergeo": [
           {
            "marker": {
             "colorbar": {
              "outlinewidth": 1,
              "tickcolor": "rgb(36,36,36)",
              "ticks": "outside"
             }
            },
            "type": "scattergeo"
           }
          ],
          "scattergl": [
           {
            "marker": {
             "colorbar": {
              "outlinewidth": 1,
              "tickcolor": "rgb(36,36,36)",
              "ticks": "outside"
             }
            },
            "type": "scattergl"
           }
          ],
          "scattermapbox": [
           {
            "marker": {
             "colorbar": {
              "outlinewidth": 1,
              "tickcolor": "rgb(36,36,36)",
              "ticks": "outside"
             }
            },
            "type": "scattermapbox"
           }
          ],
          "scatterpolar": [
           {
            "marker": {
             "colorbar": {
              "outlinewidth": 1,
              "tickcolor": "rgb(36,36,36)",
              "ticks": "outside"
             }
            },
            "type": "scatterpolar"
           }
          ],
          "scatterpolargl": [
           {
            "marker": {
             "colorbar": {
              "outlinewidth": 1,
              "tickcolor": "rgb(36,36,36)",
              "ticks": "outside"
             }
            },
            "type": "scatterpolargl"
           }
          ],
          "scatterternary": [
           {
            "marker": {
             "colorbar": {
              "outlinewidth": 1,
              "tickcolor": "rgb(36,36,36)",
              "ticks": "outside"
             }
            },
            "type": "scatterternary"
           }
          ],
          "surface": [
           {
            "colorbar": {
             "outlinewidth": 1,
             "tickcolor": "rgb(36,36,36)",
             "ticks": "outside"
            },
            "colorscale": [
             [
              0,
              "#440154"
             ],
             [
              0.1111111111111111,
              "#482878"
             ],
             [
              0.2222222222222222,
              "#3e4989"
             ],
             [
              0.3333333333333333,
              "#31688e"
             ],
             [
              0.4444444444444444,
              "#26828e"
             ],
             [
              0.5555555555555556,
              "#1f9e89"
             ],
             [
              0.6666666666666666,
              "#35b779"
             ],
             [
              0.7777777777777778,
              "#6ece58"
             ],
             [
              0.8888888888888888,
              "#b5de2b"
             ],
             [
              1,
              "#fde725"
             ]
            ],
            "type": "surface"
           }
          ],
          "table": [
           {
            "cells": {
             "fill": {
              "color": "rgb(237,237,237)"
             },
             "line": {
              "color": "white"
             }
            },
            "header": {
             "fill": {
              "color": "rgb(217,217,217)"
             },
             "line": {
              "color": "white"
             }
            },
            "type": "table"
           }
          ]
         },
         "layout": {
          "annotationdefaults": {
           "arrowhead": 0,
           "arrowwidth": 1
          },
          "autotypenumbers": "strict",
          "coloraxis": {
           "colorbar": {
            "outlinewidth": 1,
            "tickcolor": "rgb(36,36,36)",
            "ticks": "outside"
           }
          },
          "colorscale": {
           "diverging": [
            [
             0,
             "rgb(103,0,31)"
            ],
            [
             0.1,
             "rgb(178,24,43)"
            ],
            [
             0.2,
             "rgb(214,96,77)"
            ],
            [
             0.3,
             "rgb(244,165,130)"
            ],
            [
             0.4,
             "rgb(253,219,199)"
            ],
            [
             0.5,
             "rgb(247,247,247)"
            ],
            [
             0.6,
             "rgb(209,229,240)"
            ],
            [
             0.7,
             "rgb(146,197,222)"
            ],
            [
             0.8,
             "rgb(67,147,195)"
            ],
            [
             0.9,
             "rgb(33,102,172)"
            ],
            [
             1,
             "rgb(5,48,97)"
            ]
           ],
           "sequential": [
            [
             0,
             "#440154"
            ],
            [
             0.1111111111111111,
             "#482878"
            ],
            [
             0.2222222222222222,
             "#3e4989"
            ],
            [
             0.3333333333333333,
             "#31688e"
            ],
            [
             0.4444444444444444,
             "#26828e"
            ],
            [
             0.5555555555555556,
             "#1f9e89"
            ],
            [
             0.6666666666666666,
             "#35b779"
            ],
            [
             0.7777777777777778,
             "#6ece58"
            ],
            [
             0.8888888888888888,
             "#b5de2b"
            ],
            [
             1,
             "#fde725"
            ]
           ],
           "sequentialminus": [
            [
             0,
             "#440154"
            ],
            [
             0.1111111111111111,
             "#482878"
            ],
            [
             0.2222222222222222,
             "#3e4989"
            ],
            [
             0.3333333333333333,
             "#31688e"
            ],
            [
             0.4444444444444444,
             "#26828e"
            ],
            [
             0.5555555555555556,
             "#1f9e89"
            ],
            [
             0.6666666666666666,
             "#35b779"
            ],
            [
             0.7777777777777778,
             "#6ece58"
            ],
            [
             0.8888888888888888,
             "#b5de2b"
            ],
            [
             1,
             "#fde725"
            ]
           ]
          },
          "colorway": [
           "#1F77B4",
           "#FF7F0E",
           "#2CA02C",
           "#D62728",
           "#9467BD",
           "#8C564B",
           "#E377C2",
           "#7F7F7F",
           "#BCBD22",
           "#17BECF"
          ],
          "font": {
           "color": "rgb(36,36,36)"
          },
          "geo": {
           "bgcolor": "white",
           "lakecolor": "white",
           "landcolor": "white",
           "showlakes": true,
           "showland": true,
           "subunitcolor": "white"
          },
          "hoverlabel": {
           "align": "left"
          },
          "hovermode": "closest",
          "mapbox": {
           "style": "light"
          },
          "paper_bgcolor": "white",
          "plot_bgcolor": "white",
          "polar": {
           "angularaxis": {
            "gridcolor": "rgb(232,232,232)",
            "linecolor": "rgb(36,36,36)",
            "showgrid": false,
            "showline": true,
            "ticks": "outside"
           },
           "bgcolor": "white",
           "radialaxis": {
            "gridcolor": "rgb(232,232,232)",
            "linecolor": "rgb(36,36,36)",
            "showgrid": false,
            "showline": true,
            "ticks": "outside"
           }
          },
          "scene": {
           "xaxis": {
            "backgroundcolor": "white",
            "gridcolor": "rgb(232,232,232)",
            "gridwidth": 2,
            "linecolor": "rgb(36,36,36)",
            "showbackground": true,
            "showgrid": false,
            "showline": true,
            "ticks": "outside",
            "zeroline": false,
            "zerolinecolor": "rgb(36,36,36)"
           },
           "yaxis": {
            "backgroundcolor": "white",
            "gridcolor": "rgb(232,232,232)",
            "gridwidth": 2,
            "linecolor": "rgb(36,36,36)",
            "showbackground": true,
            "showgrid": false,
            "showline": true,
            "ticks": "outside",
            "zeroline": false,
            "zerolinecolor": "rgb(36,36,36)"
           },
           "zaxis": {
            "backgroundcolor": "white",
            "gridcolor": "rgb(232,232,232)",
            "gridwidth": 2,
            "linecolor": "rgb(36,36,36)",
            "showbackground": true,
            "showgrid": false,
            "showline": true,
            "ticks": "outside",
            "zeroline": false,
            "zerolinecolor": "rgb(36,36,36)"
           }
          },
          "shapedefaults": {
           "fillcolor": "black",
           "line": {
            "width": 0
           },
           "opacity": 0.3
          },
          "ternary": {
           "aaxis": {
            "gridcolor": "rgb(232,232,232)",
            "linecolor": "rgb(36,36,36)",
            "showgrid": false,
            "showline": true,
            "ticks": "outside"
           },
           "baxis": {
            "gridcolor": "rgb(232,232,232)",
            "linecolor": "rgb(36,36,36)",
            "showgrid": false,
            "showline": true,
            "ticks": "outside"
           },
           "bgcolor": "white",
           "caxis": {
            "gridcolor": "rgb(232,232,232)",
            "linecolor": "rgb(36,36,36)",
            "showgrid": false,
            "showline": true,
            "ticks": "outside"
           }
          },
          "title": {
           "x": 0.05
          },
          "xaxis": {
           "automargin": true,
           "gridcolor": "rgb(232,232,232)",
           "linecolor": "rgb(36,36,36)",
           "showgrid": false,
           "showline": true,
           "ticks": "outside",
           "title": {
            "standoff": 15
           },
           "zeroline": false,
           "zerolinecolor": "rgb(36,36,36)"
          },
          "yaxis": {
           "automargin": true,
           "gridcolor": "rgb(232,232,232)",
           "linecolor": "rgb(36,36,36)",
           "showgrid": false,
           "showline": true,
           "ticks": "outside",
           "title": {
            "standoff": 15
           },
           "zeroline": false,
           "zerolinecolor": "rgb(36,36,36)"
          }
         }
        },
        "title": {
         "text": "All"
        },
        "width": 1100,
        "xaxis": {
         "anchor": "y",
         "domain": [
          0,
          0.45
         ]
        },
        "xaxis2": {
         "anchor": "y2",
         "domain": [
          0.55,
          1
         ]
        },
        "xaxis3": {
         "anchor": "y3",
         "domain": [
          0,
          0.45
         ]
        },
        "xaxis4": {
         "anchor": "y4",
         "domain": [
          0.55,
          1
         ]
        },
        "yaxis": {
         "anchor": "x",
         "domain": [
          0.575,
          1
         ],
         "dtick": 1,
         "range": [
          1,
          7
         ]
        },
        "yaxis2": {
         "anchor": "x2",
         "domain": [
          0.575,
          1
         ],
         "dtick": 1,
         "range": [
          1,
          7
         ]
        },
        "yaxis3": {
         "anchor": "x3",
         "domain": [
          0,
          0.425
         ],
         "dtick": 1,
         "range": [
          1,
          7
         ]
        },
        "yaxis4": {
         "anchor": "x4",
         "domain": [
          0,
          0.425
         ],
         "dtick": 1,
         "range": [
          1,
          7
         ]
        }
       }
      }
     },
     "metadata": {},
     "output_type": "display_data"
    }
   ],
   "source": [
    "create_line_subplot(data=data_all, output_file_name=\"scenarios_all\", show_fig=True, fig_title=\"All\")"
   ]
  },
  {
   "cell_type": "code",
   "execution_count": 175,
   "metadata": {},
   "outputs": [
    {
     "data": {
      "application/vnd.plotly.v1+json": {
       "config": {
        "plotlyServerURL": "https://plot.ly"
       },
       "data": [
        {
         "legendgroup": "feel responsible + positive outcome + PA yes",
         "marker": {
          "color": "#1F77B4"
         },
         "mode": "lines+markers",
         "name": "feel responsible + positive outcome + PA yes",
         "showlegend": true,
         "type": "scatter",
         "x": [
          "Familiar solution",
          "New solution"
         ],
         "xaxis": "x",
         "y": [
          4.428571428571429,
          6.214285714285714
         ],
         "yaxis": "y"
        },
        {
         "legendgroup": "feel responsible + positive outcome + PA no",
         "marker": {
          "color": "#FF7F0E"
         },
         "mode": "lines+markers",
         "name": "feel responsible + positive outcome + PA no",
         "showlegend": true,
         "type": "scatter",
         "x": [
          "Familiar solution",
          "New solution"
         ],
         "xaxis": "x",
         "y": [
          5.333333333333333,
          6.444444444444445
         ],
         "yaxis": "y"
        },
        {
         "legendgroup": "feel responsible + negative outcome + PA yes",
         "marker": {
          "color": "#2CA02C"
         },
         "mode": "lines+markers",
         "name": "feel responsible + negative outcome + PA yes",
         "showlegend": true,
         "type": "scatter",
         "x": [
          "Familiar solution",
          "New solution"
         ],
         "xaxis": "x",
         "y": [
          3.6363636363636362,
          6
         ],
         "yaxis": "y"
        },
        {
         "legendgroup": "feel responsible + negative outcome + PA no",
         "marker": {
          "color": "#D62728"
         },
         "mode": "lines+markers",
         "name": "feel responsible + negative outcome + PA no",
         "showlegend": true,
         "type": "scatter",
         "x": [
          "Familiar solution",
          "New solution"
         ],
         "xaxis": "x",
         "y": [
          4,
          6.375
         ],
         "yaxis": "y"
        },
        {
         "legendgroup": "act responsible + positive outcome + PA yes",
         "marker": {
          "color": "#9467BD"
         },
         "mode": "lines+markers",
         "name": "act responsible + positive outcome + PA yes",
         "showlegend": true,
         "type": "scatter",
         "x": [
          "Familiar solution",
          "New solution"
         ],
         "xaxis": "x",
         "y": [
          6.142857142857143,
          4.642857142857143
         ],
         "yaxis": "y"
        },
        {
         "legendgroup": "act responsible + positive outcome + PA no",
         "marker": {
          "color": "#8C564B"
         },
         "mode": "lines+markers",
         "name": "act responsible + positive outcome + PA no",
         "showlegend": true,
         "type": "scatter",
         "x": [
          "Familiar solution",
          "New solution"
         ],
         "xaxis": "x",
         "y": [
          5.888888888888889,
          5.333333333333333
         ],
         "yaxis": "y"
        },
        {
         "legendgroup": "act responsible + negative outcome + PA yes",
         "marker": {
          "color": "#E377C2"
         },
         "mode": "lines+markers",
         "name": "act responsible + negative outcome + PA yes",
         "showlegend": true,
         "type": "scatter",
         "x": [
          "Familiar solution",
          "New solution"
         ],
         "xaxis": "x",
         "y": [
          5.181818181818182,
          5
         ],
         "yaxis": "y"
        },
        {
         "legendgroup": "act responsible + negative outcome + PA no",
         "marker": {
          "color": "#7F7F7F"
         },
         "mode": "lines+markers",
         "name": "act responsible + negative outcome + PA no",
         "showlegend": true,
         "type": "scatter",
         "x": [
          "Familiar solution",
          "New solution"
         ],
         "xaxis": "x",
         "y": [
          6.125,
          4.625
         ],
         "yaxis": "y"
        },
        {
         "legendgroup": "feel responsible + positive outcome + PA yes",
         "marker": {
          "color": "#1F77B4"
         },
         "mode": "lines+markers",
         "name": "feel responsible + positive outcome + PA yes",
         "showlegend": false,
         "type": "scatter",
         "x": [
          "Follow advise",
          "Not follow advise"
         ],
         "xaxis": "x2",
         "y": [
          4.625,
          6.375
         ],
         "yaxis": "y2"
        },
        {
         "legendgroup": "feel responsible + positive outcome + PA no",
         "marker": {
          "color": "#FF7F0E"
         },
         "mode": "lines+markers",
         "name": "feel responsible + positive outcome + PA no",
         "showlegend": false,
         "type": "scatter",
         "x": [
          "Follow advise",
          "Not follow advise"
         ],
         "xaxis": "x2",
         "y": [
          4.545454545454546,
          6
         ],
         "yaxis": "y2"
        },
        {
         "legendgroup": "feel responsible + negative outcome + PA yes",
         "marker": {
          "color": "#2CA02C"
         },
         "mode": "lines+markers",
         "name": "feel responsible + negative outcome + PA yes",
         "showlegend": false,
         "type": "scatter",
         "x": [
          "Follow advise",
          "Not follow advise"
         ],
         "xaxis": "x2",
         "y": [
          2.7777777777777777,
          5.888888888888889
         ],
         "yaxis": "y2"
        },
        {
         "legendgroup": "feel responsible + negative outcome + PA no",
         "marker": {
          "color": "#D62728"
         },
         "mode": "lines+markers",
         "name": "feel responsible + negative outcome + PA no",
         "showlegend": false,
         "type": "scatter",
         "x": [
          "Follow advise",
          "Not follow advise"
         ],
         "xaxis": "x2",
         "y": [
          2.5714285714285716,
          6.071428571428571
         ],
         "yaxis": "y2"
        },
        {
         "legendgroup": "act responsible + positive outcome + PA yes",
         "marker": {
          "color": "#9467BD"
         },
         "mode": "lines+markers",
         "name": "act responsible + positive outcome + PA yes",
         "showlegend": false,
         "type": "scatter",
         "x": [
          "Follow advise",
          "Not follow advise"
         ],
         "xaxis": "x2",
         "y": [
          5.5,
          4.5
         ],
         "yaxis": "y2"
        },
        {
         "legendgroup": "act responsible + positive outcome + PA no",
         "marker": {
          "color": "#8C564B"
         },
         "mode": "lines+markers",
         "name": "act responsible + positive outcome + PA no",
         "showlegend": false,
         "type": "scatter",
         "x": [
          "Follow advise",
          "Not follow advise"
         ],
         "xaxis": "x2",
         "y": [
          5.545454545454546,
          3.727272727272727
         ],
         "yaxis": "y2"
        },
        {
         "legendgroup": "act responsible + negative outcome + PA yes",
         "marker": {
          "color": "#E377C2"
         },
         "mode": "lines+markers",
         "name": "act responsible + negative outcome + PA yes",
         "showlegend": false,
         "type": "scatter",
         "x": [
          "Follow advise",
          "Not follow advise"
         ],
         "xaxis": "x2",
         "y": [
          5.444444444444445,
          3.4444444444444446
         ],
         "yaxis": "y2"
        },
        {
         "legendgroup": "act responsible + negative outcome + PA no",
         "marker": {
          "color": "#7F7F7F"
         },
         "mode": "lines+markers",
         "name": "act responsible + negative outcome + PA no",
         "showlegend": false,
         "type": "scatter",
         "x": [
          "Follow advise",
          "Not follow advise"
         ],
         "xaxis": "x2",
         "y": [
          4.5,
          3.642857142857143
         ],
         "yaxis": "y2"
        },
        {
         "legendgroup": "feel responsible + positive outcome + PA yes",
         "marker": {
          "color": "#1F77B4"
         },
         "mode": "lines+markers",
         "name": "feel responsible + positive outcome + PA yes",
         "showlegend": false,
         "type": "scatter",
         "x": [
          "Hold on",
          "Change decision"
         ],
         "xaxis": "x3",
         "y": [
          6,
          6.375
         ],
         "yaxis": "y3"
        },
        {
         "legendgroup": "feel responsible + positive outcome + PA no",
         "marker": {
          "color": "#FF7F0E"
         },
         "mode": "lines+markers",
         "name": "feel responsible + positive outcome + PA no",
         "showlegend": false,
         "type": "scatter",
         "x": [
          "Hold on",
          "Change decision"
         ],
         "xaxis": "x3",
         "y": [
          5.181818181818182,
          5.909090909090909
         ],
         "yaxis": "y3"
        },
        {
         "legendgroup": "feel responsible + negative outcome + PA yes",
         "marker": {
          "color": "#2CA02C"
         },
         "mode": "lines+markers",
         "name": "feel responsible + negative outcome + PA yes",
         "showlegend": false,
         "type": "scatter",
         "x": [
          "Hold on",
          "Change decision"
         ],
         "xaxis": "x3",
         "y": [
          4.777777777777778,
          6.222222222222222
         ],
         "yaxis": "y3"
        },
        {
         "legendgroup": "feel responsible + negative outcome + PA no",
         "marker": {
          "color": "#D62728"
         },
         "mode": "lines+markers",
         "name": "feel responsible + negative outcome + PA no",
         "showlegend": false,
         "type": "scatter",
         "x": [
          "Hold on",
          "Change decision"
         ],
         "xaxis": "x3",
         "y": [
          4.642857142857143,
          5.857142857142857
         ],
         "yaxis": "y3"
        },
        {
         "legendgroup": "act responsible + positive outcome + PA yes",
         "marker": {
          "color": "#9467BD"
         },
         "mode": "lines+markers",
         "name": "act responsible + positive outcome + PA yes",
         "showlegend": false,
         "type": "scatter",
         "x": [
          "Hold on",
          "Change decision"
         ],
         "xaxis": "x3",
         "y": [
          5.5,
          5.25
         ],
         "yaxis": "y3"
        },
        {
         "legendgroup": "act responsible + positive outcome + PA no",
         "marker": {
          "color": "#8C564B"
         },
         "mode": "lines+markers",
         "name": "act responsible + positive outcome + PA no",
         "showlegend": false,
         "type": "scatter",
         "x": [
          "Hold on",
          "Change decision"
         ],
         "xaxis": "x3",
         "y": [
          5.454545454545454,
          4.818181818181818
         ],
         "yaxis": "y3"
        },
        {
         "legendgroup": "act responsible + negative outcome + PA yes",
         "marker": {
          "color": "#E377C2"
         },
         "mode": "lines+markers",
         "name": "act responsible + negative outcome + PA yes",
         "showlegend": false,
         "type": "scatter",
         "x": [
          "Hold on",
          "Change decision"
         ],
         "xaxis": "x3",
         "y": [
          5.222222222222222,
          3.888888888888889
         ],
         "yaxis": "y3"
        },
        {
         "legendgroup": "act responsible + negative outcome + PA no",
         "marker": {
          "color": "#7F7F7F"
         },
         "mode": "lines+markers",
         "name": "act responsible + negative outcome + PA no",
         "showlegend": false,
         "type": "scatter",
         "x": [
          "Hold on",
          "Change decision"
         ],
         "xaxis": "x3",
         "y": [
          5,
          4.285714285714286
         ],
         "yaxis": "y3"
        },
        {
         "legendgroup": "feel responsible + positive outcome + PA yes",
         "marker": {
          "color": "#1F77B4"
         },
         "mode": "lines+markers",
         "name": "feel responsible + positive outcome + PA yes",
         "showlegend": false,
         "type": "scatter",
         "x": [
          "Wait and see",
          "Take action"
         ],
         "xaxis": "x4",
         "y": [
          4,
          5.928571428571429
         ],
         "yaxis": "y4"
        },
        {
         "legendgroup": "feel responsible + positive outcome + PA no",
         "marker": {
          "color": "#FF7F0E"
         },
         "mode": "lines+markers",
         "name": "feel responsible + positive outcome + PA no",
         "showlegend": false,
         "type": "scatter",
         "x": [
          "Wait and see",
          "Take action"
         ],
         "xaxis": "x4",
         "y": [
          5.555555555555555,
          5.888888888888889
         ],
         "yaxis": "y4"
        },
        {
         "legendgroup": "feel responsible + negative outcome + PA yes",
         "marker": {
          "color": "#2CA02C"
         },
         "mode": "lines+markers",
         "name": "feel responsible + negative outcome + PA yes",
         "showlegend": false,
         "type": "scatter",
         "x": [
          "Wait and see",
          "Take action"
         ],
         "xaxis": "x4",
         "y": [
          5.636363636363637,
          4.909090909090909
         ],
         "yaxis": "y4"
        },
        {
         "legendgroup": "feel responsible + negative outcome + PA no",
         "marker": {
          "color": "#D62728"
         },
         "mode": "lines+markers",
         "name": "feel responsible + negative outcome + PA no",
         "showlegend": false,
         "type": "scatter",
         "x": [
          "Wait and see",
          "Take action"
         ],
         "xaxis": "x4",
         "y": [
          4.75,
          5.625
         ],
         "yaxis": "y4"
        },
        {
         "legendgroup": "act responsible + positive outcome + PA yes",
         "marker": {
          "color": "#9467BD"
         },
         "mode": "lines+markers",
         "name": "act responsible + positive outcome + PA yes",
         "showlegend": false,
         "type": "scatter",
         "x": [
          "Wait and see",
          "Take action"
         ],
         "xaxis": "x4",
         "y": [
          3.2142857142857144,
          5.928571428571429
         ],
         "yaxis": "y4"
        },
        {
         "legendgroup": "act responsible + positive outcome + PA no",
         "marker": {
          "color": "#8C564B"
         },
         "mode": "lines+markers",
         "name": "act responsible + positive outcome + PA no",
         "showlegend": false,
         "type": "scatter",
         "x": [
          "Wait and see",
          "Take action"
         ],
         "xaxis": "x4",
         "y": [
          3.7777777777777777,
          5.333333333333333
         ],
         "yaxis": "y4"
        },
        {
         "legendgroup": "act responsible + negative outcome + PA yes",
         "marker": {
          "color": "#E377C2"
         },
         "mode": "lines+markers",
         "name": "act responsible + negative outcome + PA yes",
         "showlegend": false,
         "type": "scatter",
         "x": [
          "Wait and see",
          "Take action"
         ],
         "xaxis": "x4",
         "y": [
          3.272727272727273,
          5.363636363636363
         ],
         "yaxis": "y4"
        },
        {
         "legendgroup": "act responsible + negative outcome + PA no",
         "marker": {
          "color": "#7F7F7F"
         },
         "mode": "lines+markers",
         "name": "act responsible + negative outcome + PA no",
         "showlegend": false,
         "type": "scatter",
         "x": [
          "Wait and see",
          "Take action"
         ],
         "xaxis": "x4",
         "y": [
          3,
          5.625
         ],
         "yaxis": "y4"
        }
       ],
       "layout": {
        "height": 800,
        "template": {
         "data": {
          "bar": [
           {
            "error_x": {
             "color": "rgb(36,36,36)"
            },
            "error_y": {
             "color": "rgb(36,36,36)"
            },
            "marker": {
             "line": {
              "color": "white",
              "width": 0.5
             },
             "pattern": {
              "fillmode": "overlay",
              "size": 10,
              "solidity": 0.2
             }
            },
            "type": "bar"
           }
          ],
          "barpolar": [
           {
            "marker": {
             "line": {
              "color": "white",
              "width": 0.5
             },
             "pattern": {
              "fillmode": "overlay",
              "size": 10,
              "solidity": 0.2
             }
            },
            "type": "barpolar"
           }
          ],
          "carpet": [
           {
            "aaxis": {
             "endlinecolor": "rgb(36,36,36)",
             "gridcolor": "white",
             "linecolor": "white",
             "minorgridcolor": "white",
             "startlinecolor": "rgb(36,36,36)"
            },
            "baxis": {
             "endlinecolor": "rgb(36,36,36)",
             "gridcolor": "white",
             "linecolor": "white",
             "minorgridcolor": "white",
             "startlinecolor": "rgb(36,36,36)"
            },
            "type": "carpet"
           }
          ],
          "choropleth": [
           {
            "colorbar": {
             "outlinewidth": 1,
             "tickcolor": "rgb(36,36,36)",
             "ticks": "outside"
            },
            "type": "choropleth"
           }
          ],
          "contour": [
           {
            "colorbar": {
             "outlinewidth": 1,
             "tickcolor": "rgb(36,36,36)",
             "ticks": "outside"
            },
            "colorscale": [
             [
              0,
              "#440154"
             ],
             [
              0.1111111111111111,
              "#482878"
             ],
             [
              0.2222222222222222,
              "#3e4989"
             ],
             [
              0.3333333333333333,
              "#31688e"
             ],
             [
              0.4444444444444444,
              "#26828e"
             ],
             [
              0.5555555555555556,
              "#1f9e89"
             ],
             [
              0.6666666666666666,
              "#35b779"
             ],
             [
              0.7777777777777778,
              "#6ece58"
             ],
             [
              0.8888888888888888,
              "#b5de2b"
             ],
             [
              1,
              "#fde725"
             ]
            ],
            "type": "contour"
           }
          ],
          "contourcarpet": [
           {
            "colorbar": {
             "outlinewidth": 1,
             "tickcolor": "rgb(36,36,36)",
             "ticks": "outside"
            },
            "type": "contourcarpet"
           }
          ],
          "heatmap": [
           {
            "colorbar": {
             "outlinewidth": 1,
             "tickcolor": "rgb(36,36,36)",
             "ticks": "outside"
            },
            "colorscale": [
             [
              0,
              "#440154"
             ],
             [
              0.1111111111111111,
              "#482878"
             ],
             [
              0.2222222222222222,
              "#3e4989"
             ],
             [
              0.3333333333333333,
              "#31688e"
             ],
             [
              0.4444444444444444,
              "#26828e"
             ],
             [
              0.5555555555555556,
              "#1f9e89"
             ],
             [
              0.6666666666666666,
              "#35b779"
             ],
             [
              0.7777777777777778,
              "#6ece58"
             ],
             [
              0.8888888888888888,
              "#b5de2b"
             ],
             [
              1,
              "#fde725"
             ]
            ],
            "type": "heatmap"
           }
          ],
          "heatmapgl": [
           {
            "colorbar": {
             "outlinewidth": 1,
             "tickcolor": "rgb(36,36,36)",
             "ticks": "outside"
            },
            "colorscale": [
             [
              0,
              "#440154"
             ],
             [
              0.1111111111111111,
              "#482878"
             ],
             [
              0.2222222222222222,
              "#3e4989"
             ],
             [
              0.3333333333333333,
              "#31688e"
             ],
             [
              0.4444444444444444,
              "#26828e"
             ],
             [
              0.5555555555555556,
              "#1f9e89"
             ],
             [
              0.6666666666666666,
              "#35b779"
             ],
             [
              0.7777777777777778,
              "#6ece58"
             ],
             [
              0.8888888888888888,
              "#b5de2b"
             ],
             [
              1,
              "#fde725"
             ]
            ],
            "type": "heatmapgl"
           }
          ],
          "histogram": [
           {
            "marker": {
             "line": {
              "color": "white",
              "width": 0.6
             }
            },
            "type": "histogram"
           }
          ],
          "histogram2d": [
           {
            "colorbar": {
             "outlinewidth": 1,
             "tickcolor": "rgb(36,36,36)",
             "ticks": "outside"
            },
            "colorscale": [
             [
              0,
              "#440154"
             ],
             [
              0.1111111111111111,
              "#482878"
             ],
             [
              0.2222222222222222,
              "#3e4989"
             ],
             [
              0.3333333333333333,
              "#31688e"
             ],
             [
              0.4444444444444444,
              "#26828e"
             ],
             [
              0.5555555555555556,
              "#1f9e89"
             ],
             [
              0.6666666666666666,
              "#35b779"
             ],
             [
              0.7777777777777778,
              "#6ece58"
             ],
             [
              0.8888888888888888,
              "#b5de2b"
             ],
             [
              1,
              "#fde725"
             ]
            ],
            "type": "histogram2d"
           }
          ],
          "histogram2dcontour": [
           {
            "colorbar": {
             "outlinewidth": 1,
             "tickcolor": "rgb(36,36,36)",
             "ticks": "outside"
            },
            "colorscale": [
             [
              0,
              "#440154"
             ],
             [
              0.1111111111111111,
              "#482878"
             ],
             [
              0.2222222222222222,
              "#3e4989"
             ],
             [
              0.3333333333333333,
              "#31688e"
             ],
             [
              0.4444444444444444,
              "#26828e"
             ],
             [
              0.5555555555555556,
              "#1f9e89"
             ],
             [
              0.6666666666666666,
              "#35b779"
             ],
             [
              0.7777777777777778,
              "#6ece58"
             ],
             [
              0.8888888888888888,
              "#b5de2b"
             ],
             [
              1,
              "#fde725"
             ]
            ],
            "type": "histogram2dcontour"
           }
          ],
          "mesh3d": [
           {
            "colorbar": {
             "outlinewidth": 1,
             "tickcolor": "rgb(36,36,36)",
             "ticks": "outside"
            },
            "type": "mesh3d"
           }
          ],
          "parcoords": [
           {
            "line": {
             "colorbar": {
              "outlinewidth": 1,
              "tickcolor": "rgb(36,36,36)",
              "ticks": "outside"
             }
            },
            "type": "parcoords"
           }
          ],
          "pie": [
           {
            "automargin": true,
            "type": "pie"
           }
          ],
          "scatter": [
           {
            "fillpattern": {
             "fillmode": "overlay",
             "size": 10,
             "solidity": 0.2
            },
            "type": "scatter"
           }
          ],
          "scatter3d": [
           {
            "line": {
             "colorbar": {
              "outlinewidth": 1,
              "tickcolor": "rgb(36,36,36)",
              "ticks": "outside"
             }
            },
            "marker": {
             "colorbar": {
              "outlinewidth": 1,
              "tickcolor": "rgb(36,36,36)",
              "ticks": "outside"
             }
            },
            "type": "scatter3d"
           }
          ],
          "scattercarpet": [
           {
            "marker": {
             "colorbar": {
              "outlinewidth": 1,
              "tickcolor": "rgb(36,36,36)",
              "ticks": "outside"
             }
            },
            "type": "scattercarpet"
           }
          ],
          "scattergeo": [
           {
            "marker": {
             "colorbar": {
              "outlinewidth": 1,
              "tickcolor": "rgb(36,36,36)",
              "ticks": "outside"
             }
            },
            "type": "scattergeo"
           }
          ],
          "scattergl": [
           {
            "marker": {
             "colorbar": {
              "outlinewidth": 1,
              "tickcolor": "rgb(36,36,36)",
              "ticks": "outside"
             }
            },
            "type": "scattergl"
           }
          ],
          "scattermapbox": [
           {
            "marker": {
             "colorbar": {
              "outlinewidth": 1,
              "tickcolor": "rgb(36,36,36)",
              "ticks": "outside"
             }
            },
            "type": "scattermapbox"
           }
          ],
          "scatterpolar": [
           {
            "marker": {
             "colorbar": {
              "outlinewidth": 1,
              "tickcolor": "rgb(36,36,36)",
              "ticks": "outside"
             }
            },
            "type": "scatterpolar"
           }
          ],
          "scatterpolargl": [
           {
            "marker": {
             "colorbar": {
              "outlinewidth": 1,
              "tickcolor": "rgb(36,36,36)",
              "ticks": "outside"
             }
            },
            "type": "scatterpolargl"
           }
          ],
          "scatterternary": [
           {
            "marker": {
             "colorbar": {
              "outlinewidth": 1,
              "tickcolor": "rgb(36,36,36)",
              "ticks": "outside"
             }
            },
            "type": "scatterternary"
           }
          ],
          "surface": [
           {
            "colorbar": {
             "outlinewidth": 1,
             "tickcolor": "rgb(36,36,36)",
             "ticks": "outside"
            },
            "colorscale": [
             [
              0,
              "#440154"
             ],
             [
              0.1111111111111111,
              "#482878"
             ],
             [
              0.2222222222222222,
              "#3e4989"
             ],
             [
              0.3333333333333333,
              "#31688e"
             ],
             [
              0.4444444444444444,
              "#26828e"
             ],
             [
              0.5555555555555556,
              "#1f9e89"
             ],
             [
              0.6666666666666666,
              "#35b779"
             ],
             [
              0.7777777777777778,
              "#6ece58"
             ],
             [
              0.8888888888888888,
              "#b5de2b"
             ],
             [
              1,
              "#fde725"
             ]
            ],
            "type": "surface"
           }
          ],
          "table": [
           {
            "cells": {
             "fill": {
              "color": "rgb(237,237,237)"
             },
             "line": {
              "color": "white"
             }
            },
            "header": {
             "fill": {
              "color": "rgb(217,217,217)"
             },
             "line": {
              "color": "white"
             }
            },
            "type": "table"
           }
          ]
         },
         "layout": {
          "annotationdefaults": {
           "arrowhead": 0,
           "arrowwidth": 1
          },
          "autotypenumbers": "strict",
          "coloraxis": {
           "colorbar": {
            "outlinewidth": 1,
            "tickcolor": "rgb(36,36,36)",
            "ticks": "outside"
           }
          },
          "colorscale": {
           "diverging": [
            [
             0,
             "rgb(103,0,31)"
            ],
            [
             0.1,
             "rgb(178,24,43)"
            ],
            [
             0.2,
             "rgb(214,96,77)"
            ],
            [
             0.3,
             "rgb(244,165,130)"
            ],
            [
             0.4,
             "rgb(253,219,199)"
            ],
            [
             0.5,
             "rgb(247,247,247)"
            ],
            [
             0.6,
             "rgb(209,229,240)"
            ],
            [
             0.7,
             "rgb(146,197,222)"
            ],
            [
             0.8,
             "rgb(67,147,195)"
            ],
            [
             0.9,
             "rgb(33,102,172)"
            ],
            [
             1,
             "rgb(5,48,97)"
            ]
           ],
           "sequential": [
            [
             0,
             "#440154"
            ],
            [
             0.1111111111111111,
             "#482878"
            ],
            [
             0.2222222222222222,
             "#3e4989"
            ],
            [
             0.3333333333333333,
             "#31688e"
            ],
            [
             0.4444444444444444,
             "#26828e"
            ],
            [
             0.5555555555555556,
             "#1f9e89"
            ],
            [
             0.6666666666666666,
             "#35b779"
            ],
            [
             0.7777777777777778,
             "#6ece58"
            ],
            [
             0.8888888888888888,
             "#b5de2b"
            ],
            [
             1,
             "#fde725"
            ]
           ],
           "sequentialminus": [
            [
             0,
             "#440154"
            ],
            [
             0.1111111111111111,
             "#482878"
            ],
            [
             0.2222222222222222,
             "#3e4989"
            ],
            [
             0.3333333333333333,
             "#31688e"
            ],
            [
             0.4444444444444444,
             "#26828e"
            ],
            [
             0.5555555555555556,
             "#1f9e89"
            ],
            [
             0.6666666666666666,
             "#35b779"
            ],
            [
             0.7777777777777778,
             "#6ece58"
            ],
            [
             0.8888888888888888,
             "#b5de2b"
            ],
            [
             1,
             "#fde725"
            ]
           ]
          },
          "colorway": [
           "#1F77B4",
           "#FF7F0E",
           "#2CA02C",
           "#D62728",
           "#9467BD",
           "#8C564B",
           "#E377C2",
           "#7F7F7F",
           "#BCBD22",
           "#17BECF"
          ],
          "font": {
           "color": "rgb(36,36,36)"
          },
          "geo": {
           "bgcolor": "white",
           "lakecolor": "white",
           "landcolor": "white",
           "showlakes": true,
           "showland": true,
           "subunitcolor": "white"
          },
          "hoverlabel": {
           "align": "left"
          },
          "hovermode": "closest",
          "mapbox": {
           "style": "light"
          },
          "paper_bgcolor": "white",
          "plot_bgcolor": "white",
          "polar": {
           "angularaxis": {
            "gridcolor": "rgb(232,232,232)",
            "linecolor": "rgb(36,36,36)",
            "showgrid": false,
            "showline": true,
            "ticks": "outside"
           },
           "bgcolor": "white",
           "radialaxis": {
            "gridcolor": "rgb(232,232,232)",
            "linecolor": "rgb(36,36,36)",
            "showgrid": false,
            "showline": true,
            "ticks": "outside"
           }
          },
          "scene": {
           "xaxis": {
            "backgroundcolor": "white",
            "gridcolor": "rgb(232,232,232)",
            "gridwidth": 2,
            "linecolor": "rgb(36,36,36)",
            "showbackground": true,
            "showgrid": false,
            "showline": true,
            "ticks": "outside",
            "zeroline": false,
            "zerolinecolor": "rgb(36,36,36)"
           },
           "yaxis": {
            "backgroundcolor": "white",
            "gridcolor": "rgb(232,232,232)",
            "gridwidth": 2,
            "linecolor": "rgb(36,36,36)",
            "showbackground": true,
            "showgrid": false,
            "showline": true,
            "ticks": "outside",
            "zeroline": false,
            "zerolinecolor": "rgb(36,36,36)"
           },
           "zaxis": {
            "backgroundcolor": "white",
            "gridcolor": "rgb(232,232,232)",
            "gridwidth": 2,
            "linecolor": "rgb(36,36,36)",
            "showbackground": true,
            "showgrid": false,
            "showline": true,
            "ticks": "outside",
            "zeroline": false,
            "zerolinecolor": "rgb(36,36,36)"
           }
          },
          "shapedefaults": {
           "fillcolor": "black",
           "line": {
            "width": 0
           },
           "opacity": 0.3
          },
          "ternary": {
           "aaxis": {
            "gridcolor": "rgb(232,232,232)",
            "linecolor": "rgb(36,36,36)",
            "showgrid": false,
            "showline": true,
            "ticks": "outside"
           },
           "baxis": {
            "gridcolor": "rgb(232,232,232)",
            "linecolor": "rgb(36,36,36)",
            "showgrid": false,
            "showline": true,
            "ticks": "outside"
           },
           "bgcolor": "white",
           "caxis": {
            "gridcolor": "rgb(232,232,232)",
            "linecolor": "rgb(36,36,36)",
            "showgrid": false,
            "showline": true,
            "ticks": "outside"
           }
          },
          "title": {
           "x": 0.05
          },
          "xaxis": {
           "automargin": true,
           "gridcolor": "rgb(232,232,232)",
           "linecolor": "rgb(36,36,36)",
           "showgrid": false,
           "showline": true,
           "ticks": "outside",
           "title": {
            "standoff": 15
           },
           "zeroline": false,
           "zerolinecolor": "rgb(36,36,36)"
          },
          "yaxis": {
           "automargin": true,
           "gridcolor": "rgb(232,232,232)",
           "linecolor": "rgb(36,36,36)",
           "showgrid": false,
           "showline": true,
           "ticks": "outside",
           "title": {
            "standoff": 15
           },
           "zeroline": false,
           "zerolinecolor": "rgb(36,36,36)"
          }
         }
        },
        "title": {
         "text": "DEU"
        },
        "width": 1100,
        "xaxis": {
         "anchor": "y",
         "domain": [
          0,
          0.45
         ]
        },
        "xaxis2": {
         "anchor": "y2",
         "domain": [
          0.55,
          1
         ]
        },
        "xaxis3": {
         "anchor": "y3",
         "domain": [
          0,
          0.45
         ]
        },
        "xaxis4": {
         "anchor": "y4",
         "domain": [
          0.55,
          1
         ]
        },
        "yaxis": {
         "anchor": "x",
         "domain": [
          0.575,
          1
         ],
         "dtick": 1,
         "range": [
          1,
          7
         ]
        },
        "yaxis2": {
         "anchor": "x2",
         "domain": [
          0.575,
          1
         ],
         "dtick": 1,
         "range": [
          1,
          7
         ]
        },
        "yaxis3": {
         "anchor": "x3",
         "domain": [
          0,
          0.425
         ],
         "dtick": 1,
         "range": [
          1,
          7
         ]
        },
        "yaxis4": {
         "anchor": "x4",
         "domain": [
          0,
          0.425
         ],
         "dtick": 1,
         "range": [
          1,
          7
         ]
        }
       }
      }
     },
     "metadata": {},
     "output_type": "display_data"
    }
   ],
   "source": [
    "create_line_subplot(\n",
    "    data=data_deu, output_file_name=\"scenarios_deu\", show_fig=True, fig_title=\"DEU\"\n",
    ")"
   ]
  },
  {
   "cell_type": "code",
   "execution_count": 176,
   "metadata": {},
   "outputs": [
    {
     "data": {
      "application/vnd.plotly.v1+json": {
       "config": {
        "plotlyServerURL": "https://plot.ly"
       },
       "data": [
        {
         "legendgroup": "feel responsible + positive outcome + PA yes",
         "marker": {
          "color": "#1F77B4"
         },
         "mode": "lines+markers",
         "name": "feel responsible + positive outcome + PA yes",
         "showlegend": true,
         "type": "scatter",
         "x": [
          "Familiar solution",
          "New solution"
         ],
         "xaxis": "x",
         "y": [
          5.818181818181818,
          6.636363636363637
         ],
         "yaxis": "y"
        },
        {
         "legendgroup": "feel responsible + positive outcome + PA no",
         "marker": {
          "color": "#FF7F0E"
         },
         "mode": "lines+markers",
         "name": "feel responsible + positive outcome + PA no",
         "showlegend": true,
         "type": "scatter",
         "x": [
          "Familiar solution",
          "New solution"
         ],
         "xaxis": "x",
         "y": [
          5.6,
          6.2
         ],
         "yaxis": "y"
        },
        {
         "legendgroup": "feel responsible + negative outcome + PA yes",
         "marker": {
          "color": "#2CA02C"
         },
         "mode": "lines+markers",
         "name": "feel responsible + negative outcome + PA yes",
         "showlegend": true,
         "type": "scatter",
         "x": [
          "Familiar solution",
          "New solution"
         ],
         "xaxis": "x",
         "y": [
          4.866666666666666,
          5.933333333333334
         ],
         "yaxis": "y"
        },
        {
         "legendgroup": "feel responsible + negative outcome + PA no",
         "marker": {
          "color": "#D62728"
         },
         "mode": "lines+markers",
         "name": "feel responsible + negative outcome + PA no",
         "showlegend": true,
         "type": "scatter",
         "x": [
          "Familiar solution",
          "New solution"
         ],
         "xaxis": "x",
         "y": [
          4.083333333333333,
          5.666666666666667
         ],
         "yaxis": "y"
        },
        {
         "legendgroup": "act responsible + positive outcome + PA yes",
         "marker": {
          "color": "#9467BD"
         },
         "mode": "lines+markers",
         "name": "act responsible + positive outcome + PA yes",
         "showlegend": true,
         "type": "scatter",
         "x": [
          "Familiar solution",
          "New solution"
         ],
         "xaxis": "x",
         "y": [
          6.2727272727272725,
          5.363636363636363
         ],
         "yaxis": "y"
        },
        {
         "legendgroup": "act responsible + positive outcome + PA no",
         "marker": {
          "color": "#8C564B"
         },
         "mode": "lines+markers",
         "name": "act responsible + positive outcome + PA no",
         "showlegend": true,
         "type": "scatter",
         "x": [
          "Familiar solution",
          "New solution"
         ],
         "xaxis": "x",
         "y": [
          5.9,
          5.1
         ],
         "yaxis": "y"
        },
        {
         "legendgroup": "act responsible + negative outcome + PA yes",
         "marker": {
          "color": "#E377C2"
         },
         "mode": "lines+markers",
         "name": "act responsible + negative outcome + PA yes",
         "showlegend": true,
         "type": "scatter",
         "x": [
          "Familiar solution",
          "New solution"
         ],
         "xaxis": "x",
         "y": [
          5.466666666666667,
          4.533333333333333
         ],
         "yaxis": "y"
        },
        {
         "legendgroup": "act responsible + negative outcome + PA no",
         "marker": {
          "color": "#7F7F7F"
         },
         "mode": "lines+markers",
         "name": "act responsible + negative outcome + PA no",
         "showlegend": true,
         "type": "scatter",
         "x": [
          "Familiar solution",
          "New solution"
         ],
         "xaxis": "x",
         "y": [
          4.833333333333333,
          4.416666666666667
         ],
         "yaxis": "y"
        },
        {
         "legendgroup": "feel responsible + positive outcome + PA yes",
         "marker": {
          "color": "#1F77B4"
         },
         "mode": "lines+markers",
         "name": "feel responsible + positive outcome + PA yes",
         "showlegend": false,
         "type": "scatter",
         "x": [
          "Follow advise",
          "Not follow advise"
         ],
         "xaxis": "x2",
         "y": [
          4.166666666666667,
          6.333333333333333
         ],
         "yaxis": "y2"
        },
        {
         "legendgroup": "feel responsible + positive outcome + PA no",
         "marker": {
          "color": "#FF7F0E"
         },
         "mode": "lines+markers",
         "name": "feel responsible + positive outcome + PA no",
         "showlegend": false,
         "type": "scatter",
         "x": [
          "Follow advise",
          "Not follow advise"
         ],
         "xaxis": "x2",
         "y": [
          5,
          6.4
         ],
         "yaxis": "y2"
        },
        {
         "legendgroup": "feel responsible + negative outcome + PA yes",
         "marker": {
          "color": "#2CA02C"
         },
         "mode": "lines+markers",
         "name": "feel responsible + negative outcome + PA yes",
         "showlegend": false,
         "type": "scatter",
         "x": [
          "Follow advise",
          "Not follow advise"
         ],
         "xaxis": "x2",
         "y": [
          3,
          5.2
         ],
         "yaxis": "y2"
        },
        {
         "legendgroup": "feel responsible + negative outcome + PA no",
         "marker": {
          "color": "#D62728"
         },
         "mode": "lines+markers",
         "name": "feel responsible + negative outcome + PA no",
         "showlegend": false,
         "type": "scatter",
         "x": [
          "Follow advise",
          "Not follow advise"
         ],
         "xaxis": "x2",
         "y": [
          3.6363636363636362,
          6.7272727272727275
         ],
         "yaxis": "y2"
        },
        {
         "legendgroup": "act responsible + positive outcome + PA yes",
         "marker": {
          "color": "#9467BD"
         },
         "mode": "lines+markers",
         "name": "act responsible + positive outcome + PA yes",
         "showlegend": false,
         "type": "scatter",
         "x": [
          "Follow advise",
          "Not follow advise"
         ],
         "xaxis": "x2",
         "y": [
          6.083333333333333,
          4.916666666666667
         ],
         "yaxis": "y2"
        },
        {
         "legendgroup": "act responsible + positive outcome + PA no",
         "marker": {
          "color": "#8C564B"
         },
         "mode": "lines+markers",
         "name": "act responsible + positive outcome + PA no",
         "showlegend": false,
         "type": "scatter",
         "x": [
          "Follow advise",
          "Not follow advise"
         ],
         "xaxis": "x2",
         "y": [
          6.2,
          4.733333333333333
         ],
         "yaxis": "y2"
        },
        {
         "legendgroup": "act responsible + negative outcome + PA yes",
         "marker": {
          "color": "#E377C2"
         },
         "mode": "lines+markers",
         "name": "act responsible + negative outcome + PA yes",
         "showlegend": false,
         "type": "scatter",
         "x": [
          "Follow advise",
          "Not follow advise"
         ],
         "xaxis": "x2",
         "y": [
          5.1,
          3.5
         ],
         "yaxis": "y2"
        },
        {
         "legendgroup": "act responsible + negative outcome + PA no",
         "marker": {
          "color": "#7F7F7F"
         },
         "mode": "lines+markers",
         "name": "act responsible + negative outcome + PA no",
         "showlegend": false,
         "type": "scatter",
         "x": [
          "Follow advise",
          "Not follow advise"
         ],
         "xaxis": "x2",
         "y": [
          5.909090909090909,
          3.727272727272727
         ],
         "yaxis": "y2"
        },
        {
         "legendgroup": "feel responsible + positive outcome + PA yes",
         "marker": {
          "color": "#1F77B4"
         },
         "mode": "lines+markers",
         "name": "feel responsible + positive outcome + PA yes",
         "showlegend": false,
         "type": "scatter",
         "x": [
          "Hold on",
          "Change decision"
         ],
         "xaxis": "x3",
         "y": [
          5.5,
          5.916666666666667
         ],
         "yaxis": "y3"
        },
        {
         "legendgroup": "feel responsible + positive outcome + PA no",
         "marker": {
          "color": "#FF7F0E"
         },
         "mode": "lines+markers",
         "name": "feel responsible + positive outcome + PA no",
         "showlegend": false,
         "type": "scatter",
         "x": [
          "Hold on",
          "Change decision"
         ],
         "xaxis": "x3",
         "y": [
          5.6,
          6.466666666666667
         ],
         "yaxis": "y3"
        },
        {
         "legendgroup": "feel responsible + negative outcome + PA yes",
         "marker": {
          "color": "#2CA02C"
         },
         "mode": "lines+markers",
         "name": "feel responsible + negative outcome + PA yes",
         "showlegend": false,
         "type": "scatter",
         "x": [
          "Hold on",
          "Change decision"
         ],
         "xaxis": "x3",
         "y": [
          4.3,
          5.8
         ],
         "yaxis": "y3"
        },
        {
         "legendgroup": "feel responsible + negative outcome + PA no",
         "marker": {
          "color": "#D62728"
         },
         "mode": "lines+markers",
         "name": "feel responsible + negative outcome + PA no",
         "showlegend": false,
         "type": "scatter",
         "x": [
          "Hold on",
          "Change decision"
         ],
         "xaxis": "x3",
         "y": [
          5.636363636363637,
          6.363636363636363
         ],
         "yaxis": "y3"
        },
        {
         "legendgroup": "act responsible + positive outcome + PA yes",
         "marker": {
          "color": "#9467BD"
         },
         "mode": "lines+markers",
         "name": "act responsible + positive outcome + PA yes",
         "showlegend": false,
         "type": "scatter",
         "x": [
          "Hold on",
          "Change decision"
         ],
         "xaxis": "x3",
         "y": [
          5.5,
          5.166666666666667
         ],
         "yaxis": "y3"
        },
        {
         "legendgroup": "act responsible + positive outcome + PA no",
         "marker": {
          "color": "#8C564B"
         },
         "mode": "lines+markers",
         "name": "act responsible + positive outcome + PA no",
         "showlegend": false,
         "type": "scatter",
         "x": [
          "Hold on",
          "Change decision"
         ],
         "xaxis": "x3",
         "y": [
          5.8,
          5.266666666666667
         ],
         "yaxis": "y3"
        },
        {
         "legendgroup": "act responsible + negative outcome + PA yes",
         "marker": {
          "color": "#E377C2"
         },
         "mode": "lines+markers",
         "name": "act responsible + negative outcome + PA yes",
         "showlegend": false,
         "type": "scatter",
         "x": [
          "Hold on",
          "Change decision"
         ],
         "xaxis": "x3",
         "y": [
          5.2,
          4.2
         ],
         "yaxis": "y3"
        },
        {
         "legendgroup": "act responsible + negative outcome + PA no",
         "marker": {
          "color": "#7F7F7F"
         },
         "mode": "lines+markers",
         "name": "act responsible + negative outcome + PA no",
         "showlegend": false,
         "type": "scatter",
         "x": [
          "Hold on",
          "Change decision"
         ],
         "xaxis": "x3",
         "y": [
          5.454545454545454,
          5.545454545454546
         ],
         "yaxis": "y3"
        },
        {
         "legendgroup": "feel responsible + positive outcome + PA yes",
         "marker": {
          "color": "#1F77B4"
         },
         "mode": "lines+markers",
         "name": "feel responsible + positive outcome + PA yes",
         "showlegend": false,
         "type": "scatter",
         "x": [
          "Wait and see",
          "Take action"
         ],
         "xaxis": "x4",
         "y": [
          5.090909090909091,
          6.090909090909091
         ],
         "yaxis": "y4"
        },
        {
         "legendgroup": "feel responsible + positive outcome + PA no",
         "marker": {
          "color": "#FF7F0E"
         },
         "mode": "lines+markers",
         "name": "feel responsible + positive outcome + PA no",
         "showlegend": false,
         "type": "scatter",
         "x": [
          "Wait and see",
          "Take action"
         ],
         "xaxis": "x4",
         "y": [
          5.8,
          4.9
         ],
         "yaxis": "y4"
        },
        {
         "legendgroup": "feel responsible + negative outcome + PA yes",
         "marker": {
          "color": "#2CA02C"
         },
         "mode": "lines+markers",
         "name": "feel responsible + negative outcome + PA yes",
         "showlegend": false,
         "type": "scatter",
         "x": [
          "Wait and see",
          "Take action"
         ],
         "xaxis": "x4",
         "y": [
          5.666666666666667,
          5.466666666666667
         ],
         "yaxis": "y4"
        },
        {
         "legendgroup": "feel responsible + negative outcome + PA no",
         "marker": {
          "color": "#D62728"
         },
         "mode": "lines+markers",
         "name": "feel responsible + negative outcome + PA no",
         "showlegend": false,
         "type": "scatter",
         "x": [
          "Wait and see",
          "Take action"
         ],
         "xaxis": "x4",
         "y": [
          4.75,
          5.5
         ],
         "yaxis": "y4"
        },
        {
         "legendgroup": "act responsible + positive outcome + PA yes",
         "marker": {
          "color": "#9467BD"
         },
         "mode": "lines+markers",
         "name": "act responsible + positive outcome + PA yes",
         "showlegend": false,
         "type": "scatter",
         "x": [
          "Wait and see",
          "Take action"
         ],
         "xaxis": "x4",
         "y": [
          4.636363636363637,
          5.2727272727272725
         ],
         "yaxis": "y4"
        },
        {
         "legendgroup": "act responsible + positive outcome + PA no",
         "marker": {
          "color": "#8C564B"
         },
         "mode": "lines+markers",
         "name": "act responsible + positive outcome + PA no",
         "showlegend": false,
         "type": "scatter",
         "x": [
          "Wait and see",
          "Take action"
         ],
         "xaxis": "x4",
         "y": [
          4.7,
          4.6
         ],
         "yaxis": "y4"
        },
        {
         "legendgroup": "act responsible + negative outcome + PA yes",
         "marker": {
          "color": "#E377C2"
         },
         "mode": "lines+markers",
         "name": "act responsible + negative outcome + PA yes",
         "showlegend": false,
         "type": "scatter",
         "x": [
          "Wait and see",
          "Take action"
         ],
         "xaxis": "x4",
         "y": [
          4.733333333333333,
          4.133333333333334
         ],
         "yaxis": "y4"
        },
        {
         "legendgroup": "act responsible + negative outcome + PA no",
         "marker": {
          "color": "#7F7F7F"
         },
         "mode": "lines+markers",
         "name": "act responsible + negative outcome + PA no",
         "showlegend": false,
         "type": "scatter",
         "x": [
          "Wait and see",
          "Take action"
         ],
         "xaxis": "x4",
         "y": [
          3.4166666666666665,
          4.916666666666667
         ],
         "yaxis": "y4"
        }
       ],
       "layout": {
        "height": 800,
        "template": {
         "data": {
          "bar": [
           {
            "error_x": {
             "color": "rgb(36,36,36)"
            },
            "error_y": {
             "color": "rgb(36,36,36)"
            },
            "marker": {
             "line": {
              "color": "white",
              "width": 0.5
             },
             "pattern": {
              "fillmode": "overlay",
              "size": 10,
              "solidity": 0.2
             }
            },
            "type": "bar"
           }
          ],
          "barpolar": [
           {
            "marker": {
             "line": {
              "color": "white",
              "width": 0.5
             },
             "pattern": {
              "fillmode": "overlay",
              "size": 10,
              "solidity": 0.2
             }
            },
            "type": "barpolar"
           }
          ],
          "carpet": [
           {
            "aaxis": {
             "endlinecolor": "rgb(36,36,36)",
             "gridcolor": "white",
             "linecolor": "white",
             "minorgridcolor": "white",
             "startlinecolor": "rgb(36,36,36)"
            },
            "baxis": {
             "endlinecolor": "rgb(36,36,36)",
             "gridcolor": "white",
             "linecolor": "white",
             "minorgridcolor": "white",
             "startlinecolor": "rgb(36,36,36)"
            },
            "type": "carpet"
           }
          ],
          "choropleth": [
           {
            "colorbar": {
             "outlinewidth": 1,
             "tickcolor": "rgb(36,36,36)",
             "ticks": "outside"
            },
            "type": "choropleth"
           }
          ],
          "contour": [
           {
            "colorbar": {
             "outlinewidth": 1,
             "tickcolor": "rgb(36,36,36)",
             "ticks": "outside"
            },
            "colorscale": [
             [
              0,
              "#440154"
             ],
             [
              0.1111111111111111,
              "#482878"
             ],
             [
              0.2222222222222222,
              "#3e4989"
             ],
             [
              0.3333333333333333,
              "#31688e"
             ],
             [
              0.4444444444444444,
              "#26828e"
             ],
             [
              0.5555555555555556,
              "#1f9e89"
             ],
             [
              0.6666666666666666,
              "#35b779"
             ],
             [
              0.7777777777777778,
              "#6ece58"
             ],
             [
              0.8888888888888888,
              "#b5de2b"
             ],
             [
              1,
              "#fde725"
             ]
            ],
            "type": "contour"
           }
          ],
          "contourcarpet": [
           {
            "colorbar": {
             "outlinewidth": 1,
             "tickcolor": "rgb(36,36,36)",
             "ticks": "outside"
            },
            "type": "contourcarpet"
           }
          ],
          "heatmap": [
           {
            "colorbar": {
             "outlinewidth": 1,
             "tickcolor": "rgb(36,36,36)",
             "ticks": "outside"
            },
            "colorscale": [
             [
              0,
              "#440154"
             ],
             [
              0.1111111111111111,
              "#482878"
             ],
             [
              0.2222222222222222,
              "#3e4989"
             ],
             [
              0.3333333333333333,
              "#31688e"
             ],
             [
              0.4444444444444444,
              "#26828e"
             ],
             [
              0.5555555555555556,
              "#1f9e89"
             ],
             [
              0.6666666666666666,
              "#35b779"
             ],
             [
              0.7777777777777778,
              "#6ece58"
             ],
             [
              0.8888888888888888,
              "#b5de2b"
             ],
             [
              1,
              "#fde725"
             ]
            ],
            "type": "heatmap"
           }
          ],
          "heatmapgl": [
           {
            "colorbar": {
             "outlinewidth": 1,
             "tickcolor": "rgb(36,36,36)",
             "ticks": "outside"
            },
            "colorscale": [
             [
              0,
              "#440154"
             ],
             [
              0.1111111111111111,
              "#482878"
             ],
             [
              0.2222222222222222,
              "#3e4989"
             ],
             [
              0.3333333333333333,
              "#31688e"
             ],
             [
              0.4444444444444444,
              "#26828e"
             ],
             [
              0.5555555555555556,
              "#1f9e89"
             ],
             [
              0.6666666666666666,
              "#35b779"
             ],
             [
              0.7777777777777778,
              "#6ece58"
             ],
             [
              0.8888888888888888,
              "#b5de2b"
             ],
             [
              1,
              "#fde725"
             ]
            ],
            "type": "heatmapgl"
           }
          ],
          "histogram": [
           {
            "marker": {
             "line": {
              "color": "white",
              "width": 0.6
             }
            },
            "type": "histogram"
           }
          ],
          "histogram2d": [
           {
            "colorbar": {
             "outlinewidth": 1,
             "tickcolor": "rgb(36,36,36)",
             "ticks": "outside"
            },
            "colorscale": [
             [
              0,
              "#440154"
             ],
             [
              0.1111111111111111,
              "#482878"
             ],
             [
              0.2222222222222222,
              "#3e4989"
             ],
             [
              0.3333333333333333,
              "#31688e"
             ],
             [
              0.4444444444444444,
              "#26828e"
             ],
             [
              0.5555555555555556,
              "#1f9e89"
             ],
             [
              0.6666666666666666,
              "#35b779"
             ],
             [
              0.7777777777777778,
              "#6ece58"
             ],
             [
              0.8888888888888888,
              "#b5de2b"
             ],
             [
              1,
              "#fde725"
             ]
            ],
            "type": "histogram2d"
           }
          ],
          "histogram2dcontour": [
           {
            "colorbar": {
             "outlinewidth": 1,
             "tickcolor": "rgb(36,36,36)",
             "ticks": "outside"
            },
            "colorscale": [
             [
              0,
              "#440154"
             ],
             [
              0.1111111111111111,
              "#482878"
             ],
             [
              0.2222222222222222,
              "#3e4989"
             ],
             [
              0.3333333333333333,
              "#31688e"
             ],
             [
              0.4444444444444444,
              "#26828e"
             ],
             [
              0.5555555555555556,
              "#1f9e89"
             ],
             [
              0.6666666666666666,
              "#35b779"
             ],
             [
              0.7777777777777778,
              "#6ece58"
             ],
             [
              0.8888888888888888,
              "#b5de2b"
             ],
             [
              1,
              "#fde725"
             ]
            ],
            "type": "histogram2dcontour"
           }
          ],
          "mesh3d": [
           {
            "colorbar": {
             "outlinewidth": 1,
             "tickcolor": "rgb(36,36,36)",
             "ticks": "outside"
            },
            "type": "mesh3d"
           }
          ],
          "parcoords": [
           {
            "line": {
             "colorbar": {
              "outlinewidth": 1,
              "tickcolor": "rgb(36,36,36)",
              "ticks": "outside"
             }
            },
            "type": "parcoords"
           }
          ],
          "pie": [
           {
            "automargin": true,
            "type": "pie"
           }
          ],
          "scatter": [
           {
            "fillpattern": {
             "fillmode": "overlay",
             "size": 10,
             "solidity": 0.2
            },
            "type": "scatter"
           }
          ],
          "scatter3d": [
           {
            "line": {
             "colorbar": {
              "outlinewidth": 1,
              "tickcolor": "rgb(36,36,36)",
              "ticks": "outside"
             }
            },
            "marker": {
             "colorbar": {
              "outlinewidth": 1,
              "tickcolor": "rgb(36,36,36)",
              "ticks": "outside"
             }
            },
            "type": "scatter3d"
           }
          ],
          "scattercarpet": [
           {
            "marker": {
             "colorbar": {
              "outlinewidth": 1,
              "tickcolor": "rgb(36,36,36)",
              "ticks": "outside"
             }
            },
            "type": "scattercarpet"
           }
          ],
          "scattergeo": [
           {
            "marker": {
             "colorbar": {
              "outlinewidth": 1,
              "tickcolor": "rgb(36,36,36)",
              "ticks": "outside"
             }
            },
            "type": "scattergeo"
           }
          ],
          "scattergl": [
           {
            "marker": {
             "colorbar": {
              "outlinewidth": 1,
              "tickcolor": "rgb(36,36,36)",
              "ticks": "outside"
             }
            },
            "type": "scattergl"
           }
          ],
          "scattermapbox": [
           {
            "marker": {
             "colorbar": {
              "outlinewidth": 1,
              "tickcolor": "rgb(36,36,36)",
              "ticks": "outside"
             }
            },
            "type": "scattermapbox"
           }
          ],
          "scatterpolar": [
           {
            "marker": {
             "colorbar": {
              "outlinewidth": 1,
              "tickcolor": "rgb(36,36,36)",
              "ticks": "outside"
             }
            },
            "type": "scatterpolar"
           }
          ],
          "scatterpolargl": [
           {
            "marker": {
             "colorbar": {
              "outlinewidth": 1,
              "tickcolor": "rgb(36,36,36)",
              "ticks": "outside"
             }
            },
            "type": "scatterpolargl"
           }
          ],
          "scatterternary": [
           {
            "marker": {
             "colorbar": {
              "outlinewidth": 1,
              "tickcolor": "rgb(36,36,36)",
              "ticks": "outside"
             }
            },
            "type": "scatterternary"
           }
          ],
          "surface": [
           {
            "colorbar": {
             "outlinewidth": 1,
             "tickcolor": "rgb(36,36,36)",
             "ticks": "outside"
            },
            "colorscale": [
             [
              0,
              "#440154"
             ],
             [
              0.1111111111111111,
              "#482878"
             ],
             [
              0.2222222222222222,
              "#3e4989"
             ],
             [
              0.3333333333333333,
              "#31688e"
             ],
             [
              0.4444444444444444,
              "#26828e"
             ],
             [
              0.5555555555555556,
              "#1f9e89"
             ],
             [
              0.6666666666666666,
              "#35b779"
             ],
             [
              0.7777777777777778,
              "#6ece58"
             ],
             [
              0.8888888888888888,
              "#b5de2b"
             ],
             [
              1,
              "#fde725"
             ]
            ],
            "type": "surface"
           }
          ],
          "table": [
           {
            "cells": {
             "fill": {
              "color": "rgb(237,237,237)"
             },
             "line": {
              "color": "white"
             }
            },
            "header": {
             "fill": {
              "color": "rgb(217,217,217)"
             },
             "line": {
              "color": "white"
             }
            },
            "type": "table"
           }
          ]
         },
         "layout": {
          "annotationdefaults": {
           "arrowhead": 0,
           "arrowwidth": 1
          },
          "autotypenumbers": "strict",
          "coloraxis": {
           "colorbar": {
            "outlinewidth": 1,
            "tickcolor": "rgb(36,36,36)",
            "ticks": "outside"
           }
          },
          "colorscale": {
           "diverging": [
            [
             0,
             "rgb(103,0,31)"
            ],
            [
             0.1,
             "rgb(178,24,43)"
            ],
            [
             0.2,
             "rgb(214,96,77)"
            ],
            [
             0.3,
             "rgb(244,165,130)"
            ],
            [
             0.4,
             "rgb(253,219,199)"
            ],
            [
             0.5,
             "rgb(247,247,247)"
            ],
            [
             0.6,
             "rgb(209,229,240)"
            ],
            [
             0.7,
             "rgb(146,197,222)"
            ],
            [
             0.8,
             "rgb(67,147,195)"
            ],
            [
             0.9,
             "rgb(33,102,172)"
            ],
            [
             1,
             "rgb(5,48,97)"
            ]
           ],
           "sequential": [
            [
             0,
             "#440154"
            ],
            [
             0.1111111111111111,
             "#482878"
            ],
            [
             0.2222222222222222,
             "#3e4989"
            ],
            [
             0.3333333333333333,
             "#31688e"
            ],
            [
             0.4444444444444444,
             "#26828e"
            ],
            [
             0.5555555555555556,
             "#1f9e89"
            ],
            [
             0.6666666666666666,
             "#35b779"
            ],
            [
             0.7777777777777778,
             "#6ece58"
            ],
            [
             0.8888888888888888,
             "#b5de2b"
            ],
            [
             1,
             "#fde725"
            ]
           ],
           "sequentialminus": [
            [
             0,
             "#440154"
            ],
            [
             0.1111111111111111,
             "#482878"
            ],
            [
             0.2222222222222222,
             "#3e4989"
            ],
            [
             0.3333333333333333,
             "#31688e"
            ],
            [
             0.4444444444444444,
             "#26828e"
            ],
            [
             0.5555555555555556,
             "#1f9e89"
            ],
            [
             0.6666666666666666,
             "#35b779"
            ],
            [
             0.7777777777777778,
             "#6ece58"
            ],
            [
             0.8888888888888888,
             "#b5de2b"
            ],
            [
             1,
             "#fde725"
            ]
           ]
          },
          "colorway": [
           "#1F77B4",
           "#FF7F0E",
           "#2CA02C",
           "#D62728",
           "#9467BD",
           "#8C564B",
           "#E377C2",
           "#7F7F7F",
           "#BCBD22",
           "#17BECF"
          ],
          "font": {
           "color": "rgb(36,36,36)"
          },
          "geo": {
           "bgcolor": "white",
           "lakecolor": "white",
           "landcolor": "white",
           "showlakes": true,
           "showland": true,
           "subunitcolor": "white"
          },
          "hoverlabel": {
           "align": "left"
          },
          "hovermode": "closest",
          "mapbox": {
           "style": "light"
          },
          "paper_bgcolor": "white",
          "plot_bgcolor": "white",
          "polar": {
           "angularaxis": {
            "gridcolor": "rgb(232,232,232)",
            "linecolor": "rgb(36,36,36)",
            "showgrid": false,
            "showline": true,
            "ticks": "outside"
           },
           "bgcolor": "white",
           "radialaxis": {
            "gridcolor": "rgb(232,232,232)",
            "linecolor": "rgb(36,36,36)",
            "showgrid": false,
            "showline": true,
            "ticks": "outside"
           }
          },
          "scene": {
           "xaxis": {
            "backgroundcolor": "white",
            "gridcolor": "rgb(232,232,232)",
            "gridwidth": 2,
            "linecolor": "rgb(36,36,36)",
            "showbackground": true,
            "showgrid": false,
            "showline": true,
            "ticks": "outside",
            "zeroline": false,
            "zerolinecolor": "rgb(36,36,36)"
           },
           "yaxis": {
            "backgroundcolor": "white",
            "gridcolor": "rgb(232,232,232)",
            "gridwidth": 2,
            "linecolor": "rgb(36,36,36)",
            "showbackground": true,
            "showgrid": false,
            "showline": true,
            "ticks": "outside",
            "zeroline": false,
            "zerolinecolor": "rgb(36,36,36)"
           },
           "zaxis": {
            "backgroundcolor": "white",
            "gridcolor": "rgb(232,232,232)",
            "gridwidth": 2,
            "linecolor": "rgb(36,36,36)",
            "showbackground": true,
            "showgrid": false,
            "showline": true,
            "ticks": "outside",
            "zeroline": false,
            "zerolinecolor": "rgb(36,36,36)"
           }
          },
          "shapedefaults": {
           "fillcolor": "black",
           "line": {
            "width": 0
           },
           "opacity": 0.3
          },
          "ternary": {
           "aaxis": {
            "gridcolor": "rgb(232,232,232)",
            "linecolor": "rgb(36,36,36)",
            "showgrid": false,
            "showline": true,
            "ticks": "outside"
           },
           "baxis": {
            "gridcolor": "rgb(232,232,232)",
            "linecolor": "rgb(36,36,36)",
            "showgrid": false,
            "showline": true,
            "ticks": "outside"
           },
           "bgcolor": "white",
           "caxis": {
            "gridcolor": "rgb(232,232,232)",
            "linecolor": "rgb(36,36,36)",
            "showgrid": false,
            "showline": true,
            "ticks": "outside"
           }
          },
          "title": {
           "x": 0.05
          },
          "xaxis": {
           "automargin": true,
           "gridcolor": "rgb(232,232,232)",
           "linecolor": "rgb(36,36,36)",
           "showgrid": false,
           "showline": true,
           "ticks": "outside",
           "title": {
            "standoff": 15
           },
           "zeroline": false,
           "zerolinecolor": "rgb(36,36,36)"
          },
          "yaxis": {
           "automargin": true,
           "gridcolor": "rgb(232,232,232)",
           "linecolor": "rgb(36,36,36)",
           "showgrid": false,
           "showline": true,
           "ticks": "outside",
           "title": {
            "standoff": 15
           },
           "zeroline": false,
           "zerolinecolor": "rgb(36,36,36)"
          }
         }
        },
        "title": {
         "text": "USA"
        },
        "width": 1100,
        "xaxis": {
         "anchor": "y",
         "domain": [
          0,
          0.45
         ]
        },
        "xaxis2": {
         "anchor": "y2",
         "domain": [
          0.55,
          1
         ]
        },
        "xaxis3": {
         "anchor": "y3",
         "domain": [
          0,
          0.45
         ]
        },
        "xaxis4": {
         "anchor": "y4",
         "domain": [
          0.55,
          1
         ]
        },
        "yaxis": {
         "anchor": "x",
         "domain": [
          0.575,
          1
         ],
         "dtick": 1,
         "range": [
          1,
          7
         ]
        },
        "yaxis2": {
         "anchor": "x2",
         "domain": [
          0.575,
          1
         ],
         "dtick": 1,
         "range": [
          1,
          7
         ]
        },
        "yaxis3": {
         "anchor": "x3",
         "domain": [
          0,
          0.425
         ],
         "dtick": 1,
         "range": [
          1,
          7
         ]
        },
        "yaxis4": {
         "anchor": "x4",
         "domain": [
          0,
          0.425
         ],
         "dtick": 1,
         "range": [
          1,
          7
         ]
        }
       }
      }
     },
     "metadata": {},
     "output_type": "display_data"
    }
   ],
   "source": [
    "create_line_subplot(\n",
    "    data=data_usa, output_file_name=\"scenarios_usa\", show_fig=True, fig_title=\"USA\"\n",
    ")"
   ]
  },
  {
   "cell_type": "markdown",
   "metadata": {},
   "source": [
    "## who is perceied to feel / act more responsible?"
   ]
  },
  {
   "cell_type": "code",
   "execution_count": 177,
   "metadata": {},
   "outputs": [
    {
     "data": {
      "text/html": [
       "<div>\n",
       "<style scoped>\n",
       "    .dataframe tbody tr th:only-of-type {\n",
       "        vertical-align: middle;\n",
       "    }\n",
       "\n",
       "    .dataframe tbody tr th {\n",
       "        vertical-align: top;\n",
       "    }\n",
       "\n",
       "    .dataframe thead th {\n",
       "        text-align: right;\n",
       "    }\n",
       "</style>\n",
       "<table border=\"1\" class=\"dataframe\">\n",
       "  <thead>\n",
       "    <tr style=\"text-align: right;\">\n",
       "      <th></th>\n",
       "      <th>t1_feel</th>\n",
       "      <th>t2_feel</th>\n",
       "      <th>t1_act</th>\n",
       "      <th>t2_act</th>\n",
       "    </tr>\n",
       "  </thead>\n",
       "  <tbody>\n",
       "    <tr>\n",
       "      <th>count</th>\n",
       "      <td>360.000000</td>\n",
       "      <td>360.000000</td>\n",
       "      <td>360.000000</td>\n",
       "      <td>360.000000</td>\n",
       "    </tr>\n",
       "    <tr>\n",
       "      <th>mean</th>\n",
       "      <td>4.713889</td>\n",
       "      <td>5.988889</td>\n",
       "      <td>5.130556</td>\n",
       "      <td>4.708333</td>\n",
       "    </tr>\n",
       "    <tr>\n",
       "      <th>std</th>\n",
       "      <td>1.814159</td>\n",
       "      <td>1.242196</td>\n",
       "      <td>1.587612</td>\n",
       "      <td>1.567759</td>\n",
       "    </tr>\n",
       "    <tr>\n",
       "      <th>min</th>\n",
       "      <td>1.000000</td>\n",
       "      <td>1.000000</td>\n",
       "      <td>1.000000</td>\n",
       "      <td>1.000000</td>\n",
       "    </tr>\n",
       "    <tr>\n",
       "      <th>25%</th>\n",
       "      <td>3.000000</td>\n",
       "      <td>5.000000</td>\n",
       "      <td>4.000000</td>\n",
       "      <td>4.000000</td>\n",
       "    </tr>\n",
       "    <tr>\n",
       "      <th>50%</th>\n",
       "      <td>5.000000</td>\n",
       "      <td>6.000000</td>\n",
       "      <td>6.000000</td>\n",
       "      <td>5.000000</td>\n",
       "    </tr>\n",
       "    <tr>\n",
       "      <th>75%</th>\n",
       "      <td>6.000000</td>\n",
       "      <td>7.000000</td>\n",
       "      <td>6.000000</td>\n",
       "      <td>6.000000</td>\n",
       "    </tr>\n",
       "    <tr>\n",
       "      <th>max</th>\n",
       "      <td>7.000000</td>\n",
       "      <td>7.000000</td>\n",
       "      <td>7.000000</td>\n",
       "      <td>7.000000</td>\n",
       "    </tr>\n",
       "  </tbody>\n",
       "</table>\n",
       "</div>"
      ],
      "text/plain": [
       "          t1_feel     t2_feel      t1_act      t2_act\n",
       "count  360.000000  360.000000  360.000000  360.000000\n",
       "mean     4.713889    5.988889    5.130556    4.708333\n",
       "std      1.814159    1.242196    1.587612    1.567759\n",
       "min      1.000000    1.000000    1.000000    1.000000\n",
       "25%      3.000000    5.000000    4.000000    4.000000\n",
       "50%      5.000000    6.000000    6.000000    5.000000\n",
       "75%      6.000000    7.000000    6.000000    6.000000\n",
       "max      7.000000    7.000000    7.000000    7.000000"
      ]
     },
     "execution_count": 177,
     "metadata": {},
     "output_type": "execute_result"
    }
   ],
   "source": [
    "# who is perceied to feel more responsible?\n",
    "t1_columns_feel = [f\"FRS{x}T1\" for x in range(1, 5)]\n",
    "t2_columns_feel = [f\"FRS{x}T2\" for x in range(1, 5)]\n",
    "\n",
    "# who is perceied to act more responsible?\n",
    "t1_columns_act = [f\"ARS{x}T1\" for x in range(1, 5)]\n",
    "t2_columns_act = [f\"ARS{x}T2\" for x in range(1, 5)]\n",
    "\n",
    "pd.DataFrame(\n",
    "    {\n",
    "        \"t1_feel\": data_all[t1_columns_feel].to_numpy().reshape(-1),\n",
    "        \"t2_feel\": data_all[t2_columns_feel].to_numpy().reshape(-1),\n",
    "        \"t1_act\": data_all[t1_columns_act].to_numpy().reshape(-1),\n",
    "        \"t2_act\": data_all[t2_columns_act].to_numpy().reshape(-1),\n",
    "    }\n",
    ").describe()"
   ]
  },
  {
   "cell_type": "markdown",
   "metadata": {},
   "source": [
    "--> t2 (B) will feel more responsible and acted less responsible"
   ]
  },
  {
   "cell_type": "markdown",
   "metadata": {},
   "source": [
    "## Regression"
   ]
  },
  {
   "cell_type": "code",
   "execution_count": 178,
   "metadata": {},
   "outputs": [],
   "source": [
    "import statsmodels.api as sm\n",
    "import statsmodels.formula.api as smf"
   ]
  },
  {
   "cell_type": "code",
   "execution_count": 179,
   "metadata": {},
   "outputs": [
    {
     "data": {
      "text/plain": [
       "{'1': {'yes': '1_and_4', 'no': '2_and_3'},\n",
       " '2': {'yes': '2_and_3', 'no': '1_and_4'},\n",
       " '3': {'yes': '2_and_3', 'no': '1_and_4'},\n",
       " '4': {'yes': '1_and_4', 'no': '2_and_3'}}"
      ]
     },
     "execution_count": 179,
     "metadata": {},
     "output_type": "execute_result"
    }
   ],
   "source": [
    "scenario_dict_pa\n",
    "# scenario_dict_outcome"
   ]
  },
  {
   "cell_type": "code",
   "execution_count": 180,
   "metadata": {},
   "outputs": [],
   "source": [
    "def get_regression_df(szenario_nr, dependent_variable):\n",
    "    t1_df = (\n",
    "        data_all[\n",
    "            [\n",
    "                \"positive_szenarios\",\n",
    "                \"treatment_pa\",\n",
    "                \"algo_aversion\",\n",
    "                f\"{dependent_variable}S{szenario_nr}T1\",\n",
    "            ]\n",
    "        ]\n",
    "        .assign(\n",
    "            outcome_positive=data_all.positive_szenarios.replace(\n",
    "                scenario_dict_outcome[str(szenario_nr)][\"positive\"], 1\n",
    "            ).replace(scenario_dict_outcome[str(szenario_nr)][\"negative\"], 0),\n",
    "            pa_available=data_all.treatment_pa.replace(\n",
    "                scenario_dict_pa[str(szenario_nr)][\"yes\"], 1\n",
    "            ).replace(scenario_dict_pa[str(szenario_nr)][\"no\"], 0),\n",
    "            participant=range(data_all.shape[0]),\n",
    "            active_teamlead=1,\n",
    "            origin_usa=data_all.origin == \"USA\",\n",
    "        )\n",
    "        .rename(columns={f\"{dependent_variable}S{szenario_nr}T1\": dependent_variable})\n",
    "        .astype({\"origin_usa\": \"int\"})\n",
    "    )\n",
    "\n",
    "    t2_df = (\n",
    "        data_all[\n",
    "            [\n",
    "                \"positive_szenarios\",\n",
    "                \"treatment_pa\",\n",
    "                \"algo_aversion\",\n",
    "                f\"{dependent_variable}S{szenario_nr}T2\",\n",
    "            ]\n",
    "        ]\n",
    "        .assign(\n",
    "            outcome_positive=data_all.positive_szenarios.replace(\n",
    "                scenario_dict_outcome[str(szenario_nr)][\"positive\"], 1\n",
    "            ).replace(scenario_dict_outcome[str(szenario_nr)][\"negative\"], 0),\n",
    "            pa_available=data_all.treatment_pa.replace(\n",
    "                scenario_dict_pa[str(szenario_nr)][\"yes\"], 1\n",
    "            ).replace(scenario_dict_pa[str(szenario_nr)][\"no\"], 0),\n",
    "            participant=range(data_all.shape[0]),\n",
    "            active_teamlead=0,\n",
    "            origin_usa=data_all.origin == \"USA\",\n",
    "        )\n",
    "        .rename(columns={f\"{dependent_variable}S{szenario_nr}T2\": dependent_variable})\n",
    "        .astype({\"origin_usa\": \"int\"})\n",
    "    )\n",
    "\n",
    "    return pd.concat([t1_df, t2_df], axis=0).loc[\n",
    "        :,\n",
    "        [\n",
    "            dependent_variable,\n",
    "            \"outcome_positive\",\n",
    "            \"pa_available\",\n",
    "            \"active_teamlead\",\n",
    "            \"participant\",\n",
    "            \"algo_aversion\",\n",
    "            \"origin_usa\",\n",
    "        ],\n",
    "    ]"
   ]
  },
  {
   "cell_type": "code",
   "execution_count": 181,
   "metadata": {},
   "outputs": [
    {
     "name": "stdout",
     "output_type": "stream",
     "text": [
      "scenario=3, dependent_variable='AR'\n",
      "=================================================================================================================\n",
      "                                                    coef    std err          t      P>|t|      [0.025      0.975]\n",
      "-----------------------------------------------------------------------------------------------------------------\n",
      "Intercept                                         4.8425      0.699      6.930      0.000       3.463       6.222\n",
      "outcome_positive                                  0.1162      0.361      0.322      0.748      -0.596       0.829\n",
      "pa_available                                     -0.8881      0.391     -2.273      0.024      -1.660      -0.117\n",
      "outcome_positive:pa_available                     1.0654      0.548      1.945      0.053      -0.016       2.147\n",
      "active_teamlead                                   0.3600      0.362      0.995      0.321      -0.354       1.074\n",
      "outcome_positive:active_teamlead                  0.2169      0.507      0.428      0.669      -0.783       1.217\n",
      "pa_available:active_teamlead                      0.7979      0.551      1.449      0.149      -0.289       1.885\n",
      "outcome_positive:pa_available:active_teamlead    -1.0748      0.770     -1.396      0.164      -2.594       0.445\n",
      "algo_aversion                                     0.1357      0.080      1.699      0.091      -0.022       0.293\n",
      "origin_usa                                       -0.2041      0.385     -0.530      0.597      -0.965       0.556\n",
      "1 | participant                                  -0.0115      0.007     -1.560      0.121      -0.026       0.003\n",
      "=================================================================================================================\n",
      "--------------------\n",
      "scenario=4, dependent_variable='AR'\n",
      "=================================================================================================================\n",
      "                                                    coef    std err          t      P>|t|      [0.025      0.975]\n",
      "-----------------------------------------------------------------------------------------------------------------\n",
      "Intercept                                         4.7004      0.992      4.738      0.000       2.742       6.659\n",
      "outcome_positive                                 -0.2714      0.563     -0.482      0.630      -1.383       0.840\n",
      "pa_available                                     -0.5546      0.524     -1.058      0.291      -1.589       0.480\n",
      "outcome_positive:pa_available                     1.2983      0.751      1.729      0.086      -0.184       2.780\n",
      "active_teamlead                                  -1.9500      0.554     -3.518      0.001      -3.044      -0.856\n",
      "outcome_positive:active_teamlead                  1.2658      0.794      1.594      0.113      -0.302       2.833\n",
      "pa_available:active_teamlead                      1.4115      0.737      1.915      0.057      -0.044       2.867\n",
      "outcome_positive:pa_available:active_teamlead    -2.5273      1.055     -2.396      0.018      -4.609      -0.445\n",
      "algo_aversion                                     0.1137      0.109      1.039      0.300      -0.102       0.330\n",
      "origin_usa                                       -0.0065      0.528     -0.012      0.990      -1.049       1.035\n",
      "1 | participant                                  -0.0018      0.010     -0.182      0.856      -0.022       0.018\n",
      "=================================================================================================================\n",
      "--------------------\n",
      "scenario=4, dependent_variable='FR'\n",
      "=================================================================================================================\n",
      "                                                    coef    std err          t      P>|t|      [0.025      0.975]\n",
      "-----------------------------------------------------------------------------------------------------------------\n",
      "Intercept                                         4.3856      0.950      4.616      0.000       2.510       6.261\n",
      "outcome_positive                                 -0.1422      0.539     -0.264      0.792      -1.207       0.922\n",
      "pa_available                                     -0.2531      0.502     -0.504      0.615      -1.244       0.738\n",
      "outcome_positive:pa_available                     0.8867      0.719      1.233      0.219      -0.532       2.306\n",
      "active_teamlead                                  -0.8000      0.531     -1.507      0.134      -1.848       0.248\n",
      "outcome_positive:active_teamlead                  1.1158      0.760      1.467      0.144      -0.385       2.617\n",
      "pa_available:active_teamlead                      1.2231      0.706      1.733      0.085      -0.170       2.617\n",
      "outcome_positive:pa_available:active_teamlead    -3.0589      1.010     -3.029      0.003      -5.053      -1.065\n",
      "algo_aversion                                     0.0441      0.105      0.421      0.674      -0.163       0.251\n",
      "origin_usa                                        0.6801      0.505      1.346      0.180      -0.318       1.678\n",
      "1 | participant                                   0.0119      0.010      1.228      0.221      -0.007       0.031\n",
      "=================================================================================================================\n",
      "--------------------\n"
     ]
    }
   ],
   "source": [
    "# NEXT: CONTROLL FOR ALGORITHMIC AVERSION!!\n",
    "\n",
    "for scenario in range(1, 5):\n",
    "    for dependent_variable in [\"AR\", \"FR\"]:\n",
    "        regression_df = get_regression_df(scenario, dependent_variable)\n",
    "\n",
    "        mod = smf.ols(\n",
    "            formula=f\"{dependent_variable} ~ outcome_positive * pa_available * active_teamlead + algo_aversion + origin_usa + 1|participant\",\n",
    "            data=regression_df,\n",
    "        )\n",
    "        res = mod.fit()\n",
    "        # reg_table = res.summary().tables[1]\n",
    "        if (\n",
    "            min(\n",
    "                res.pvalues[\"pa_available\"],\n",
    "                res.pvalues[\"outcome_positive:pa_available\"],\n",
    "                res.pvalues[\"outcome_positive:pa_available:active_teamlead\"],\n",
    "            )\n",
    "            < 0.05\n",
    "        ):\n",
    "            print(f\"{scenario=}, {dependent_variable=}\")\n",
    "            print(res.summary().tables[1])\n",
    "            print(20 * \"-\")"
   ]
  },
  {
   "cell_type": "code",
   "execution_count": 182,
   "metadata": {},
   "outputs": [
    {
     "name": "stdout",
     "output_type": "stream",
     "text": [
      "scenario=4, dependent_variable='PR'\n",
      "================================================================================================\n",
      "                                   coef    std err          t      P>|t|      [0.025      0.975]\n",
      "------------------------------------------------------------------------------------------------\n",
      "Intercept                        3.9075      0.747      5.229      0.000       2.433       5.382\n",
      "pa_available                     0.7701      0.395      1.947      0.053      -0.010       1.551\n",
      "active_teamlead                  0.5385      0.421      1.281      0.202      -0.291       1.368\n",
      "pa_available:active_teamlead    -1.1659      0.559     -2.087      0.038      -2.268      -0.063\n",
      "algo_aversion                    0.0495      0.115      0.430      0.668      -0.178       0.277\n",
      "1 | participant                  0.0020      0.005      0.373      0.709      -0.009       0.013\n",
      "================================================================================================\n",
      "--------------------\n"
     ]
    }
   ],
   "source": [
    "for scenario in range(1, 5):\n",
    "    for dependent_variable in [\"PR\"]:\n",
    "        regression_df = get_regression_df(scenario, dependent_variable)\n",
    "\n",
    "        mod = smf.ols(\n",
    "            formula=f\"{dependent_variable} ~  pa_available * active_teamlead + algo_aversion + 1|participant\",\n",
    "            data=regression_df,\n",
    "        )\n",
    "        res = mod.fit()\n",
    "        if (\n",
    "            min(\n",
    "                res.pvalues[\"pa_available\"],\n",
    "                res.pvalues[\"pa_available:active_teamlead\"],\n",
    "            )\n",
    "            < 0.05\n",
    "        ):\n",
    "            print(f\"{scenario=}, {dependent_variable=}\")\n",
    "            print(res.summary().tables[1])\n",
    "            print(20 * \"-\")"
   ]
  },
  {
   "cell_type": "code",
   "execution_count": null,
   "metadata": {},
   "outputs": [],
   "source": []
  },
  {
   "cell_type": "code",
   "execution_count": null,
   "metadata": {},
   "outputs": [],
   "source": []
  },
  {
   "cell_type": "code",
   "execution_count": null,
   "metadata": {},
   "outputs": [],
   "source": []
  },
  {
   "cell_type": "markdown",
   "metadata": {},
   "source": [
    "## Vignette 1 -- Choosing a familiar or new solution"
   ]
  },
  {
   "cell_type": "code",
   "execution_count": 183,
   "metadata": {},
   "outputs": [
    {
     "ename": "NameError",
     "evalue": "name 'outcome' is not defined",
     "output_type": "error",
     "traceback": [
      "\u001b[0;31m---------------------------------------------------------------------------\u001b[0m",
      "\u001b[0;31mNameError\u001b[0m                                 Traceback (most recent call last)",
      "\u001b[1;32m/Users/david/Documents/CodeProjects/pa-leadership-survey/analysis/notebooks/analysis.ipynb Cell 27\u001b[0m line \u001b[0;36m8\n\u001b[1;32m      <a href='vscode-notebook-cell:/Users/david/Documents/CodeProjects/pa-leadership-survey/analysis/notebooks/analysis.ipynb#X63sZmlsZQ%3D%3D?line=0'>1</a>\u001b[0m \u001b[39m## what is perceived more risky?\u001b[39;00m\n\u001b[1;32m      <a href='vscode-notebook-cell:/Users/david/Documents/CodeProjects/pa-leadership-survey/analysis/notebooks/analysis.ipynb#X63sZmlsZQ%3D%3D?line=2'>3</a>\u001b[0m get_mean_scales(\n\u001b[1;32m      <a href='vscode-notebook-cell:/Users/david/Documents/CodeProjects/pa-leadership-survey/analysis/notebooks/analysis.ipynb#X63sZmlsZQ%3D%3D?line=3'>4</a>\u001b[0m     data\u001b[39m=\u001b[39mdata_all,\n\u001b[1;32m      <a href='vscode-notebook-cell:/Users/david/Documents/CodeProjects/pa-leadership-survey/analysis/notebooks/analysis.ipynb#X63sZmlsZQ%3D%3D?line=4'>5</a>\u001b[0m     responsibility_scale\u001b[39m=\u001b[39m\u001b[39m\"\u001b[39m\u001b[39mrisk\u001b[39m\u001b[39m\"\u001b[39m,\n\u001b[1;32m      <a href='vscode-notebook-cell:/Users/david/Documents/CodeProjects/pa-leadership-survey/analysis/notebooks/analysis.ipynb#X63sZmlsZQ%3D%3D?line=5'>6</a>\u001b[0m     scenario_nr\u001b[39m=\u001b[39m\u001b[39m1\u001b[39m,\n\u001b[1;32m      <a href='vscode-notebook-cell:/Users/david/Documents/CodeProjects/pa-leadership-survey/analysis/notebooks/analysis.ipynb#X63sZmlsZQ%3D%3D?line=6'>7</a>\u001b[0m     solution_type\u001b[39m=\u001b[39m\u001b[39m\"\u001b[39m\u001b[39mfamiliar\u001b[39m\u001b[39m\"\u001b[39m,\n\u001b[0;32m----> <a href='vscode-notebook-cell:/Users/david/Documents/CodeProjects/pa-leadership-survey/analysis/notebooks/analysis.ipynb#X63sZmlsZQ%3D%3D?line=7'>8</a>\u001b[0m     outcome\u001b[39m=\u001b[39moutcome,\n\u001b[1;32m      <a href='vscode-notebook-cell:/Users/david/Documents/CodeProjects/pa-leadership-survey/analysis/notebooks/analysis.ipynb#X63sZmlsZQ%3D%3D?line=8'>9</a>\u001b[0m     pa\u001b[39m=\u001b[39mpa_available,\n\u001b[1;32m     <a href='vscode-notebook-cell:/Users/david/Documents/CodeProjects/pa-leadership-survey/analysis/notebooks/analysis.ipynb#X63sZmlsZQ%3D%3D?line=9'>10</a>\u001b[0m )\n",
      "\u001b[0;31mNameError\u001b[0m: name 'outcome' is not defined"
     ]
    }
   ],
   "source": [
    "## what is perceived more risky?\n",
    "\n",
    "get_mean_scales(\n",
    "    data=data_all,\n",
    "    responsibility_scale=\"risk\",\n",
    "    scenario_nr=1,\n",
    "    solution_type=\"familiar\",\n",
    "    outcome=outcome,\n",
    "    pa=pa_available,\n",
    ")"
   ]
  }
 ],
 "metadata": {
  "kernelspec": {
   "display_name": "pa-leadership-survey-1DBoniK8",
   "language": "python",
   "name": "python3"
  },
  "language_info": {
   "codemirror_mode": {
    "name": "ipython",
    "version": 3
   },
   "file_extension": ".py",
   "mimetype": "text/x-python",
   "name": "python",
   "nbconvert_exporter": "python",
   "pygments_lexer": "ipython3",
   "version": "3.11.6"
  }
 },
 "nbformat": 4,
 "nbformat_minor": 2
}
